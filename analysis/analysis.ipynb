{
 "cells": [
  {
   "cell_type": "code",
   "execution_count": 1,
   "metadata": {},
   "outputs": [],
   "source": [
    "import json\n",
    "import os\n",
    "import numpy as np\n",
    "import pandas as pd\n",
    "import pytrec_eval\n",
    "import torch\n",
    "from tqdm import tqdm\n",
    "from collections import Counter, defaultdict\n",
    "from transformers import AutoTokenizer, AutoModel\n",
    "from beir.datasets.data_loader import GenericDataLoader\n",
    "from beir.retrieval.evaluation import EvaluateRetrieval\n",
    "from pyserini.analysis import Analyzer, get_lucene_analyzer"
   ]
  },
  {
   "cell_type": "code",
   "execution_count": 2,
   "metadata": {},
   "outputs": [],
   "source": [
    "root_dir = \"/home/gaia_data/iida.h/BEIR/datasets/\"\n",
    "dataset = \"dbpedia-entity\"\n",
    "model_path=\"/home/gaia_data/iida.h/BEIR/C-BM25/model/distil/dense/\"\n",
    "func_name=\"maxsim_bm25_qtf\""
   ]
  },
  {
   "cell_type": "code",
   "execution_count": 3,
   "metadata": {},
   "outputs": [
    {
     "data": {
      "application/json": {
       "ascii": false,
       "bar_format": null,
       "colour": null,
       "elapsed": 0.01149129867553711,
       "initial": 0,
       "n": 0,
       "ncols": null,
       "nrows": 38,
       "postfix": null,
       "prefix": "",
       "rate": null,
       "total": 4635922,
       "unit": "it",
       "unit_divisor": 1000,
       "unit_scale": false
      },
      "application/vnd.jupyter.widget-view+json": {
       "model_id": "a44ade3d506147afa6cfdab6216f8f7a",
       "version_major": 2,
       "version_minor": 0
      },
      "text/plain": [
       "  0%|          | 0/4635922 [00:00<?, ?it/s]"
      ]
     },
     "metadata": {},
     "output_type": "display_data"
    }
   ],
   "source": [
    "data_path = os.path.join(root_dir, dataset)\n",
    "corpus, queries, qrels = GenericDataLoader(data_path).load(split=\"test\")"
   ]
  },
  {
   "cell_type": "code",
   "execution_count": 4,
   "metadata": {},
   "outputs": [],
   "source": [
    "def get_info(corpus, tokenizer):\n",
    "    sep = \" \"\n",
    "    doc_lens = {}\n",
    "    df = Counter()\n",
    "    d_tf = {}\n",
    "\n",
    "    for cid in tqdm(corpus.keys()):\n",
    "        text = corpus[cid][\"title\"] + sep + corpus[cid][\"text\"]\n",
    "        input_ids = tokenizer(text)\n",
    "        doc_lens[cid] = (len(input_ids))\n",
    "        df.update(list(set(input_ids)))\n",
    "        tf_d = Counter(input_ids)\n",
    "        doc_lens[cid] =len(input_ids)\n",
    "        d_tf[cid] = tf_d\n",
    "        \n",
    "    idf = defaultdict(float)\n",
    "    N = len(corpus)\n",
    "    for w, v in df.items():\n",
    "        idf[w] = np.log(N / v)\n",
    "\n",
    "    doc_len_ave = np.mean(list(doc_lens.values()))\n",
    "    \n",
    "    del df\n",
    "        \n",
    "    return d_tf, idf, doc_lens, doc_len_ave"
   ]
  },
  {
   "cell_type": "code",
   "execution_count": 5,
   "metadata": {},
   "outputs": [],
   "source": [
    "def get_d_bm25(d_tf, idf, doc_lens, doc_len_ave, k1=0.9, b=0.6):\n",
    "    k1 = k1\n",
    "    b = b\n",
    "    token_bm25_score = {}\n",
    "\n",
    "    for cid, tfs in d_tf.items():\n",
    "        token_bm25_score[cid] = defaultdict(float)\n",
    "        for tid, tf in tfs.items():\n",
    "            token_bm25_score[cid][tid] = tf * (1 + k1) / (tf + k1 * (1 - b + b * doc_lens[cid] / doc_len_ave)) * idf[tid]\n",
    "            \n",
    "    return token_bm25_score"
   ]
  },
  {
   "cell_type": "code",
   "execution_count": 6,
   "metadata": {},
   "outputs": [],
   "source": [
    "# Check\n",
    "# with open(f\"./analysis_data/{dataset}/bm25_result.json\") as f:\n",
    "#     bm25_result = json.load(f)\n",
    "    \n",
    "with open(f\"./analysis_data/{dataset}/dense_result.json\") as f:\n",
    "    dense_result = json.load(f)\n",
    "    \n",
    "# with open(f\"./analysis_data/{dataset}/weighted_dense_result.json\") as f:\n",
    "#     weighted_dense_result = json.load(f)\n",
    "    \n",
    "# with open(f\"./analysis_data/{dataset}/cbm25_result.json\") as f:\n",
    "#     cbm25_result = json.load(f)\n",
    "\n",
    "with open(f\"/home/gaia_data/iida.h/BEIR/C-BM25/results/{dataset}/result/bm25/analysis.json\") as f:\n",
    "    bm25_result = json.load(f)\n",
    "\n",
    "# with open(f\"/home/gaia_data/iida.h/BEIR/C-BM25/results/{dataset}/result/cos_sim/mpnet-tod/analysis.json\") as f:\n",
    "#     dense_result = json.load(f)\n",
    "\n",
    "with open(f\"/home/gaia_data/iida.h/BEIR/C-BM25/results/{dataset}/result/dot/mpnet-v3-mse-beir-dot/analysis.json\") as f:\n",
    "    distil_dense_result = json.load(f)\n",
    "\n",
    "with open(f\"/home/gaia_data/iida.h/BEIR/C-BM25/results/{dataset}/result/lss/mpnet-tod/analysis.json\") as f:\n",
    "    cbm25_result = json.load(f)"
   ]
  },
  {
   "cell_type": "code",
   "execution_count": 7,
   "metadata": {},
   "outputs": [],
   "source": [
    "hf_model = AutoModel.from_pretrained(model_path)"
   ]
  },
  {
   "cell_type": "code",
   "execution_count": 8,
   "metadata": {},
   "outputs": [
    {
     "name": "stderr",
     "output_type": "stream",
     "text": [
      "  0%|▏                                                                                                        | 9550/4635922 [00:02<17:01, 4531.18it/s]Token indices sequence length is longer than the specified maximum sequence length for this model (617 > 512). Running this sequence through the model will result in indexing errors\n",
      "100%|██████████████████████████████████████████████████████████████████████████████████████████████████████| 4635922/4635922 [16:20<00:00, 4728.09it/s]\n"
     ]
    }
   ],
   "source": [
    "hf_tokenizer = AutoTokenizer.from_pretrained(model_path)\n",
    "hf_d_tf, hf_idf, hf_doc_lens, hf_doc_len_ave = get_info(corpus, hf_tokenizer.tokenize)\n",
    "hf_token_bm25_score = get_d_bm25(hf_d_tf, hf_idf, hf_doc_lens, hf_doc_len_ave, k1=0.82, b=0.65)"
   ]
  },
  {
   "cell_type": "code",
   "execution_count": 9,
   "metadata": {},
   "outputs": [],
   "source": [
    "# hf_tokenizer = AutoTokenizer.from_pretrained(model_path)\n",
    "\n",
    "# sep = \" \"\n",
    "# doc_lens = {}\n",
    "# df = Counter()\n",
    "# d_tf = {}\n",
    "\n",
    "# for cid in tqdm(corpus.keys()):\n",
    "#     text = corpus[cid][\"title\"] + sep + corpus[cid][\"text\"]\n",
    "#     input_ids = hf_tokenizer(text)[\"input_ids\"]\n",
    "#     doc_lens[cid] = (len(input_ids))\n",
    "#     df.update(list(set(input_ids)))\n",
    "#     tf_d = Counter(input_ids)\n",
    "#     doc_lens[cid] =len(input_ids)\n",
    "#     d_tf[cid] = tf_d\n",
    "    \n",
    "# idf = defaultdict(float)\n",
    "# N = len(corpus)\n",
    "# for w, v in df.items():\n",
    "#     idf[w] = np.log(N / v)\n",
    "\n",
    "# doc_len_ave = np.mean(list(doc_lens.values()))"
   ]
  },
  {
   "cell_type": "code",
   "execution_count": 10,
   "metadata": {
    "scrolled": true
   },
   "outputs": [],
   "source": [
    "# from lss_func.arguments import ModelArguments, DataArguments, LSSArguments\n",
    "# from lss_func.search.coil.exact_search import LSSSearcher\n",
    "# from lss_func.models import coil\n",
    "# from beir.retrieval.search.dense import DenseRetrievalExactSearch as DRES\n",
    "# from beir.retrieval.evaluation import EvaluateRetrieval\n",
    "\n",
    "# model_args = ModelArguments(model_name_or_path=model_path)\n",
    "\n",
    "# base_model = coil.Coil(model_args.model_name_or_path, model_args)\n",
    "# base_model.eval()\n",
    "\n",
    "# score_functions = [func_name]\n",
    "# qid = \"TREC_Entity-4\"\n",
    "# qid2 = \"INEX_LD-20120411\"\n",
    "# this_bm25_result = {}\n",
    "# this_bm25_result[qid] = bm25_result[qid]\n",
    "# this_bm25_result[qid2] = bm25_result[qid2]\n",
    "\n",
    "# searcher = LSSSearcher(base_model, bm25_result, score_functions, pooler=\"ave\", batch_size=128, idf=idf, doc_len_ave=doc_len_ave, doc_max_length=512, window_size=3, norm=True)\n",
    "# dense_retriever = EvaluateRetrieval(searcher, score_function=\"cos_sim\", k_values=[1, 3, 5, 10, 100])\n",
    "# all_rerank_results = dense_retriever.rerank(corpus, {qid: queries[qid], qid2: queries[qid2]}, this_bm25_result, top_k=100)\n",
    "\n"
   ]
  },
  {
   "cell_type": "code",
   "execution_count": 11,
   "metadata": {},
   "outputs": [],
   "source": [
    "# sorted(all_rerank_results[func_name][qid].items(), key= lambda x: -x[1])[:10]"
   ]
  },
  {
   "cell_type": "code",
   "execution_count": 12,
   "metadata": {},
   "outputs": [],
   "source": [
    "del hf_d_tf, hf_doc_lens, hf_doc_len_ave"
   ]
  },
  {
   "cell_type": "code",
   "execution_count": 13,
   "metadata": {},
   "outputs": [
    {
     "name": "stderr",
     "output_type": "stream",
     "text": [
      "100%|█████████████████████████████████████████████████████████████████████████████████████████████████████| 4635922/4635922 [06:30<00:00, 11882.63it/s]\n"
     ]
    }
   ],
   "source": [
    "lm_tokenizer = Analyzer(get_lucene_analyzer())\n",
    "lm_d_tf, lm_idf, lm_doc_lens, lm_doc_len_ave = get_info(corpus, lm_tokenizer.analyze)\n",
    "lm_token_bm25_score = get_d_bm25(lm_d_tf, lm_idf, lm_doc_lens, lm_doc_len_ave)"
   ]
  },
  {
   "cell_type": "code",
   "execution_count": 14,
   "metadata": {},
   "outputs": [],
   "source": [
    "del lm_d_tf, lm_doc_lens, lm_doc_len_ave"
   ]
  },
  {
   "cell_type": "code",
   "execution_count": 15,
   "metadata": {},
   "outputs": [],
   "source": [
    "evaluator = pytrec_eval.RelevanceEvaluator(qrels, {\"ndcg_cut.10\"})"
   ]
  },
  {
   "cell_type": "code",
   "execution_count": 16,
   "metadata": {},
   "outputs": [],
   "source": [
    "bm25_scores = evaluator.evaluate(bm25_result)\n",
    "dense_scores = evaluator.evaluate(dense_result)\n",
    "# wdense_scores = evaluator.evaluate(weighted_dense_result)\n",
    "distil_dense_scores = evaluator.evaluate(distil_dense_result)\n",
    "cbm25_scores = evaluator.evaluate(cbm25_result[func_name])"
   ]
  },
  {
   "cell_type": "code",
   "execution_count": 17,
   "metadata": {},
   "outputs": [
    {
     "name": "stdout",
     "output_type": "stream",
     "text": [
      "bm25:  0.2846362144861774\n",
      "dense:  0.29393880438765735\n",
      "distil_dense:  0.3553918660659802\n",
      "cbm25:  0.36305527785462854\n"
     ]
    }
   ],
   "source": [
    "print(\"bm25: \", np.average([i[\"ndcg_cut_10\"] for i in bm25_scores.values()]))\n",
    "print(\"dense: \", np.average([i[\"ndcg_cut_10\"] for i in dense_scores.values()]))\n",
    "# print(\"wdense: \", np.average([i[\"ndcg_cut_10\"] for i in wdense_scores.values()]))\n",
    "print(\"distil_dense: \", np.average([i[\"ndcg_cut_10\"] for i in distil_dense_scores.values()]))\n",
    "print(\"cbm25: \", np.average([i[\"ndcg_cut_10\"] for i in cbm25_scores.values()]))"
   ]
  },
  {
   "cell_type": "code",
   "execution_count": 18,
   "metadata": {},
   "outputs": [],
   "source": [
    "def create_diff_scores(source_scores, target_scores):\n",
    "    diff_scores = {}\n",
    "    for k in cbm25_scores:\n",
    "        diff_score = source_scores[k][\"ndcg_cut_10\"] - target_scores[k][\"ndcg_cut_10\"]\n",
    "        if abs(diff_score) > 0.0:\n",
    "            diff_scores[k] = diff_score\n",
    "            \n",
    "    return diff_scores"
   ]
  },
  {
   "cell_type": "code",
   "execution_count": 19,
   "metadata": {},
   "outputs": [],
   "source": [
    "diff_scores_bm25 = create_diff_scores(cbm25_scores, bm25_scores)\n",
    "diff_scores_dense = create_diff_scores(cbm25_scores, dense_scores)\n",
    "# diff_scores_wdense = create_diff_scores(cbm25_scores, wdense_scores)\n",
    "diff_scores_distil_dense = create_diff_scores(cbm25_scores, distil_dense_scores)"
   ]
  },
  {
   "cell_type": "code",
   "execution_count": 20,
   "metadata": {},
   "outputs": [],
   "source": [
    "# common_diff_query = set(diff_scores_bm25) & set(diff_scores_dense) & set(diff_scores_wdense)\n",
    "common_diff_query = set(diff_scores_bm25) & set(diff_scores_dense) & set(diff_scores_distil_dense)"
   ]
  },
  {
   "cell_type": "code",
   "execution_count": 21,
   "metadata": {},
   "outputs": [
    {
     "data": {
      "text/html": [
       "<div>\n",
       "<style scoped>\n",
       "    .dataframe tbody tr th:only-of-type {\n",
       "        vertical-align: middle;\n",
       "    }\n",
       "\n",
       "    .dataframe tbody tr th {\n",
       "        vertical-align: top;\n",
       "    }\n",
       "\n",
       "    .dataframe thead th {\n",
       "        text-align: right;\n",
       "    }\n",
       "</style>\n",
       "<table border=\"1\" class=\"dataframe\">\n",
       "  <thead>\n",
       "    <tr style=\"text-align: right;\">\n",
       "      <th></th>\n",
       "      <th>bm25</th>\n",
       "      <th>dense</th>\n",
       "      <th>distil_dense</th>\n",
       "    </tr>\n",
       "  </thead>\n",
       "  <tbody>\n",
       "    <tr>\n",
       "      <th>count</th>\n",
       "      <td>368.000000</td>\n",
       "      <td>368.000000</td>\n",
       "      <td>368.000000</td>\n",
       "    </tr>\n",
       "    <tr>\n",
       "      <th>mean</th>\n",
       "      <td>0.085238</td>\n",
       "      <td>0.075127</td>\n",
       "      <td>0.008330</td>\n",
       "    </tr>\n",
       "    <tr>\n",
       "      <th>std</th>\n",
       "      <td>0.187884</td>\n",
       "      <td>0.184559</td>\n",
       "      <td>0.227448</td>\n",
       "    </tr>\n",
       "    <tr>\n",
       "      <th>min</th>\n",
       "      <td>-0.451049</td>\n",
       "      <td>-0.413503</td>\n",
       "      <td>-1.000000</td>\n",
       "    </tr>\n",
       "    <tr>\n",
       "      <th>25%</th>\n",
       "      <td>-0.020364</td>\n",
       "      <td>-0.026576</td>\n",
       "      <td>-0.113689</td>\n",
       "    </tr>\n",
       "    <tr>\n",
       "      <th>50%</th>\n",
       "      <td>0.062059</td>\n",
       "      <td>0.037280</td>\n",
       "      <td>0.000000</td>\n",
       "    </tr>\n",
       "    <tr>\n",
       "      <th>75%</th>\n",
       "      <td>0.192284</td>\n",
       "      <td>0.168207</td>\n",
       "      <td>0.130685</td>\n",
       "    </tr>\n",
       "    <tr>\n",
       "      <th>max</th>\n",
       "      <td>0.840303</td>\n",
       "      <td>0.666667</td>\n",
       "      <td>0.613147</td>\n",
       "    </tr>\n",
       "  </tbody>\n",
       "</table>\n",
       "</div>"
      ],
      "text/plain": [
       "             bm25       dense  distil_dense\n",
       "count  368.000000  368.000000    368.000000\n",
       "mean     0.085238    0.075127      0.008330\n",
       "std      0.187884    0.184559      0.227448\n",
       "min     -0.451049   -0.413503     -1.000000\n",
       "25%     -0.020364   -0.026576     -0.113689\n",
       "50%      0.062059    0.037280      0.000000\n",
       "75%      0.192284    0.168207      0.130685\n",
       "max      0.840303    0.666667      0.613147"
      ]
     },
     "execution_count": 21,
     "metadata": {},
     "output_type": "execute_result"
    }
   ],
   "source": [
    "# all_diff = pd.concat([pd.Series(diff_scores_bm25), pd.Series(diff_scores_dense), pd.Series(diff_scores_wdense)], axis=1).fillna(0).sort_index()\n",
    "all_diff = pd.concat([pd.Series(diff_scores_bm25), pd.Series(diff_scores_dense), pd.Series(diff_scores_distil_dense)], axis=1).fillna(0).sort_index()\n",
    "# all_diff = all_diff.rename(columns={0: \"bm25\", 1: \"dense\", 2: \"wdense\"})\n",
    "all_diff = all_diff.rename(columns={0: \"bm25\", 1: \"dense\", 2: \"distil_dense\"})\n",
    "all_diff.describe()"
   ]
  },
  {
   "cell_type": "code",
   "execution_count": 22,
   "metadata": {},
   "outputs": [
    {
     "data": {
      "text/html": [
       "<div>\n",
       "<style scoped>\n",
       "    .dataframe tbody tr th:only-of-type {\n",
       "        vertical-align: middle;\n",
       "    }\n",
       "\n",
       "    .dataframe tbody tr th {\n",
       "        vertical-align: top;\n",
       "    }\n",
       "\n",
       "    .dataframe thead th {\n",
       "        text-align: right;\n",
       "    }\n",
       "</style>\n",
       "<table border=\"1\" class=\"dataframe\">\n",
       "  <thead>\n",
       "    <tr style=\"text-align: right;\">\n",
       "      <th></th>\n",
       "      <th>bm25</th>\n",
       "      <th>dense</th>\n",
       "      <th>distil_dense</th>\n",
       "    </tr>\n",
       "  </thead>\n",
       "  <tbody>\n",
       "    <tr>\n",
       "      <th>INEX_LD-2009074</th>\n",
       "      <td>0.241481</td>\n",
       "      <td>0.302276</td>\n",
       "      <td>0.450450</td>\n",
       "    </tr>\n",
       "    <tr>\n",
       "      <th>INEX_LD-2010014</th>\n",
       "      <td>0.205871</td>\n",
       "      <td>0.377732</td>\n",
       "      <td>0.388609</td>\n",
       "    </tr>\n",
       "    <tr>\n",
       "      <th>INEX_LD-20120411</th>\n",
       "      <td>0.218032</td>\n",
       "      <td>0.261394</td>\n",
       "      <td>0.239357</td>\n",
       "    </tr>\n",
       "    <tr>\n",
       "      <th>INEX_LD-2012329</th>\n",
       "      <td>0.234046</td>\n",
       "      <td>0.256363</td>\n",
       "      <td>0.391327</td>\n",
       "    </tr>\n",
       "    <tr>\n",
       "      <th>INEX_LD-2012349</th>\n",
       "      <td>0.322836</td>\n",
       "      <td>0.477066</td>\n",
       "      <td>0.284965</td>\n",
       "    </tr>\n",
       "    <tr>\n",
       "      <th>INEX_LD-2012383</th>\n",
       "      <td>0.386853</td>\n",
       "      <td>0.386853</td>\n",
       "      <td>0.386853</td>\n",
       "    </tr>\n",
       "    <tr>\n",
       "      <th>INEX_XER-106</th>\n",
       "      <td>0.438563</td>\n",
       "      <td>0.374942</td>\n",
       "      <td>0.354634</td>\n",
       "    </tr>\n",
       "    <tr>\n",
       "      <th>INEX_XER-95</th>\n",
       "      <td>0.225651</td>\n",
       "      <td>0.366480</td>\n",
       "      <td>0.262333</td>\n",
       "    </tr>\n",
       "    <tr>\n",
       "      <th>QALD2_te-13</th>\n",
       "      <td>0.229975</td>\n",
       "      <td>0.352983</td>\n",
       "      <td>0.362740</td>\n",
       "    </tr>\n",
       "    <tr>\n",
       "      <th>QALD2_te-28</th>\n",
       "      <td>0.394377</td>\n",
       "      <td>0.524397</td>\n",
       "      <td>0.453550</td>\n",
       "    </tr>\n",
       "    <tr>\n",
       "      <th>QALD2_te-3</th>\n",
       "      <td>0.240519</td>\n",
       "      <td>0.338295</td>\n",
       "      <td>0.349570</td>\n",
       "    </tr>\n",
       "    <tr>\n",
       "      <th>QALD2_tr-4</th>\n",
       "      <td>0.463876</td>\n",
       "      <td>0.463876</td>\n",
       "      <td>0.215449</td>\n",
       "    </tr>\n",
       "    <tr>\n",
       "      <th>QALD2_tr-64</th>\n",
       "      <td>0.362041</td>\n",
       "      <td>0.516615</td>\n",
       "      <td>0.516615</td>\n",
       "    </tr>\n",
       "    <tr>\n",
       "      <th>QALD2_tr-85</th>\n",
       "      <td>0.286283</td>\n",
       "      <td>0.539497</td>\n",
       "      <td>0.539497</td>\n",
       "    </tr>\n",
       "    <tr>\n",
       "      <th>SemSearch_ES-5</th>\n",
       "      <td>0.423501</td>\n",
       "      <td>0.371380</td>\n",
       "      <td>0.476296</td>\n",
       "    </tr>\n",
       "    <tr>\n",
       "      <th>SemSearch_ES-90</th>\n",
       "      <td>0.411751</td>\n",
       "      <td>0.250006</td>\n",
       "      <td>0.278662</td>\n",
       "    </tr>\n",
       "    <tr>\n",
       "      <th>TREC_Entity-19</th>\n",
       "      <td>0.234639</td>\n",
       "      <td>0.234639</td>\n",
       "      <td>0.234639</td>\n",
       "    </tr>\n",
       "  </tbody>\n",
       "</table>\n",
       "</div>"
      ],
      "text/plain": [
       "                      bm25     dense  distil_dense\n",
       "INEX_LD-2009074   0.241481  0.302276      0.450450\n",
       "INEX_LD-2010014   0.205871  0.377732      0.388609\n",
       "INEX_LD-20120411  0.218032  0.261394      0.239357\n",
       "INEX_LD-2012329   0.234046  0.256363      0.391327\n",
       "INEX_LD-2012349   0.322836  0.477066      0.284965\n",
       "INEX_LD-2012383   0.386853  0.386853      0.386853\n",
       "INEX_XER-106      0.438563  0.374942      0.354634\n",
       "INEX_XER-95       0.225651  0.366480      0.262333\n",
       "QALD2_te-13       0.229975  0.352983      0.362740\n",
       "QALD2_te-28       0.394377  0.524397      0.453550\n",
       "QALD2_te-3        0.240519  0.338295      0.349570\n",
       "QALD2_tr-4        0.463876  0.463876      0.215449\n",
       "QALD2_tr-64       0.362041  0.516615      0.516615\n",
       "QALD2_tr-85       0.286283  0.539497      0.539497\n",
       "SemSearch_ES-5    0.423501  0.371380      0.476296\n",
       "SemSearch_ES-90   0.411751  0.250006      0.278662\n",
       "TREC_Entity-19    0.234639  0.234639      0.234639"
      ]
     },
     "execution_count": 22,
     "metadata": {},
     "output_type": "execute_result"
    }
   ],
   "source": [
    "better_query = all_diff[(all_diff > 0.2).all(1)]\n",
    "better_query"
   ]
  },
  {
   "cell_type": "code",
   "execution_count": 23,
   "metadata": {},
   "outputs": [
    {
     "data": {
      "text/html": [
       "<div>\n",
       "<style scoped>\n",
       "    .dataframe tbody tr th:only-of-type {\n",
       "        vertical-align: middle;\n",
       "    }\n",
       "\n",
       "    .dataframe tbody tr th {\n",
       "        vertical-align: top;\n",
       "    }\n",
       "\n",
       "    .dataframe thead th {\n",
       "        text-align: right;\n",
       "    }\n",
       "</style>\n",
       "<table border=\"1\" class=\"dataframe\">\n",
       "  <thead>\n",
       "    <tr style=\"text-align: right;\">\n",
       "      <th></th>\n",
       "      <th>bm25</th>\n",
       "      <th>dense</th>\n",
       "      <th>distil_dense</th>\n",
       "    </tr>\n",
       "  </thead>\n",
       "  <tbody>\n",
       "    <tr>\n",
       "      <th>INEX_LD-20120121</th>\n",
       "      <td>-0.042368</td>\n",
       "      <td>-0.140743</td>\n",
       "      <td>-0.140743</td>\n",
       "    </tr>\n",
       "    <tr>\n",
       "      <th>INEX_LD-20120531</th>\n",
       "      <td>-0.092376</td>\n",
       "      <td>-0.159520</td>\n",
       "      <td>-0.048826</td>\n",
       "    </tr>\n",
       "    <tr>\n",
       "      <th>INEX_XER-141</th>\n",
       "      <td>-0.194254</td>\n",
       "      <td>-0.272553</td>\n",
       "      <td>-0.029472</td>\n",
       "    </tr>\n",
       "    <tr>\n",
       "      <th>INEX_XER-67</th>\n",
       "      <td>-0.172258</td>\n",
       "      <td>-0.067942</td>\n",
       "      <td>-0.143214</td>\n",
       "    </tr>\n",
       "    <tr>\n",
       "      <th>QALD2_te-60</th>\n",
       "      <td>-0.129898</td>\n",
       "      <td>-0.206872</td>\n",
       "      <td>-0.475622</td>\n",
       "    </tr>\n",
       "    <tr>\n",
       "      <th>QALD2_te-64</th>\n",
       "      <td>-0.174647</td>\n",
       "      <td>-0.296422</td>\n",
       "      <td>-0.098872</td>\n",
       "    </tr>\n",
       "    <tr>\n",
       "      <th>QALD2_tr-65</th>\n",
       "      <td>-0.168427</td>\n",
       "      <td>-0.314496</td>\n",
       "      <td>-0.266951</td>\n",
       "    </tr>\n",
       "    <tr>\n",
       "      <th>QALD2_tr-82</th>\n",
       "      <td>-0.075244</td>\n",
       "      <td>-0.242761</td>\n",
       "      <td>-0.221984</td>\n",
       "    </tr>\n",
       "    <tr>\n",
       "      <th>SemSearch_ES-25</th>\n",
       "      <td>-0.059890</td>\n",
       "      <td>-0.149015</td>\n",
       "      <td>-0.149015</td>\n",
       "    </tr>\n",
       "    <tr>\n",
       "      <th>SemSearch_ES-95</th>\n",
       "      <td>-0.050593</td>\n",
       "      <td>-0.185707</td>\n",
       "      <td>-0.259922</td>\n",
       "    </tr>\n",
       "    <tr>\n",
       "      <th>SemSearch_LS-1</th>\n",
       "      <td>-0.161456</td>\n",
       "      <td>-0.252227</td>\n",
       "      <td>-0.232376</td>\n",
       "    </tr>\n",
       "    <tr>\n",
       "      <th>SemSearch_LS-24</th>\n",
       "      <td>-0.250056</td>\n",
       "      <td>-0.013157</td>\n",
       "      <td>-0.094896</td>\n",
       "    </tr>\n",
       "    <tr>\n",
       "      <th>SemSearch_LS-3</th>\n",
       "      <td>-0.047621</td>\n",
       "      <td>-0.224341</td>\n",
       "      <td>-0.121212</td>\n",
       "    </tr>\n",
       "    <tr>\n",
       "      <th>TREC_Entity-1</th>\n",
       "      <td>-0.102560</td>\n",
       "      <td>-0.027648</td>\n",
       "      <td>-0.236442</td>\n",
       "    </tr>\n",
       "    <tr>\n",
       "      <th>TREC_Entity-14</th>\n",
       "      <td>-0.047625</td>\n",
       "      <td>-0.237668</td>\n",
       "      <td>-0.237668</td>\n",
       "    </tr>\n",
       "    <tr>\n",
       "      <th>TREC_Entity-4</th>\n",
       "      <td>-0.060624</td>\n",
       "      <td>-0.145731</td>\n",
       "      <td>-0.228601</td>\n",
       "    </tr>\n",
       "  </tbody>\n",
       "</table>\n",
       "</div>"
      ],
      "text/plain": [
       "                      bm25     dense  distil_dense\n",
       "INEX_LD-20120121 -0.042368 -0.140743     -0.140743\n",
       "INEX_LD-20120531 -0.092376 -0.159520     -0.048826\n",
       "INEX_XER-141     -0.194254 -0.272553     -0.029472\n",
       "INEX_XER-67      -0.172258 -0.067942     -0.143214\n",
       "QALD2_te-60      -0.129898 -0.206872     -0.475622\n",
       "QALD2_te-64      -0.174647 -0.296422     -0.098872\n",
       "QALD2_tr-65      -0.168427 -0.314496     -0.266951\n",
       "QALD2_tr-82      -0.075244 -0.242761     -0.221984\n",
       "SemSearch_ES-25  -0.059890 -0.149015     -0.149015\n",
       "SemSearch_ES-95  -0.050593 -0.185707     -0.259922\n",
       "SemSearch_LS-1   -0.161456 -0.252227     -0.232376\n",
       "SemSearch_LS-24  -0.250056 -0.013157     -0.094896\n",
       "SemSearch_LS-3   -0.047621 -0.224341     -0.121212\n",
       "TREC_Entity-1    -0.102560 -0.027648     -0.236442\n",
       "TREC_Entity-14   -0.047625 -0.237668     -0.237668\n",
       "TREC_Entity-4    -0.060624 -0.145731     -0.228601"
      ]
     },
     "execution_count": 23,
     "metadata": {},
     "output_type": "execute_result"
    }
   ],
   "source": [
    "worse_query = all_diff[(all_diff < -0.01).all(1)]\n",
    "worse_query"
   ]
  },
  {
   "cell_type": "code",
   "execution_count": 38,
   "metadata": {},
   "outputs": [],
   "source": [
    "def show_result_top1(qid, show_condition):\n",
    "    def extract_top1(result):\n",
    "        return sorted(result[qid].items(), key=lambda x: -x[1])[0]\n",
    "    \n",
    "    bm25_top1 = extract_top1(bm25_result)\n",
    "    dense_top1 = extract_top1(dense_result)\n",
    "    # wdense_top1 = extract_top1(weighted_dense_result)\n",
    "    distil_dense_top1 = extract_top1(distil_dense_result)\n",
    "    cbm25_top1 = extract_top1(cbm25_result[func_name])\n",
    "    \n",
    "    correct = qrels[qid]\n",
    "    if show_condition(cbm25_top1[0], bm25_top1[0], correct):\n",
    "        print(\"------\")\n",
    "        print(f\"qid: {qid}, query: {queries[qid]}\")\n",
    "        print(bm25_top1[0] in correct, f\"bm25: {corpus[bm25_top1[0]]}\")\n",
    "        print(dense_top1[0] in correct, f\"dense: {corpus[dense_top1[0]]}\")\n",
    "        # print(wdense_top1[0] in correct, f\"wdense: {corpus[wdense_top1[0]]}\")\n",
    "        print(distil_dense_top1[0] in correct, f\"distil_dense: {corpus[distil_dense_top1[0]]}\")\n",
    "        print(cbm25_top1[0] in correct, f\"cbm25: {corpus[cbm25_top1[0]]}\")\n",
    "    else:\n",
    "        print(\"------\")\n",
    "        print(f\"skip qid {qid}\")"
   ]
  },
  {
   "cell_type": "code",
   "execution_count": 39,
   "metadata": {},
   "outputs": [
    {
     "name": "stdout",
     "output_type": "stream",
     "text": [
      "------\n",
      "skip qid INEX_LD-2009074\n",
      "------\n",
      "skip qid INEX_LD-2010014\n",
      "------\n",
      "skip qid INEX_LD-20120411\n",
      "------\n",
      "skip qid INEX_LD-2012329\n",
      "------\n",
      "skip qid INEX_LD-2012349\n",
      "------\n",
      "skip qid INEX_LD-2012383\n",
      "------\n",
      "skip qid INEX_XER-106\n",
      "------\n",
      "skip qid INEX_XER-95\n",
      "------\n",
      "qid: QALD2_te-13, query: Who is the youngest player in the Premier League?\n",
      "False bm25: {'text': 'Scott Robinson (born 12 March 1992) is a Scottish professional footballer who plays for Kilmarnock in the Scottish Premiership, as a midfielder. He previously played for Heart of Midlothian, where he made his debut aged 16, becoming the youngest ever player to appear in the Scottish Premier League (SPL).', 'title': 'Scott Robinson (footballer)'}\n",
      "False dense: {'text': 'Reuben Courtney Noble-Lazarus (born 16 August 1993) is an English-born Grenadian professional footballer who plays as a striker or winger for Rochdale. On 30 September 2008, he became the youngest player to debut in the English Football League, at 15 years and 45 days old, breaking the record previously established by Albert Geldard in 1929.In 2013–2014, Noble-Lazarus spent time on loan at Scunthorpe United from Barnsley.', 'title': 'Reuben Noble-Lazarus'}\n",
      "False distil_dense: {'text': 'Reuben Courtney Noble-Lazarus (born 16 August 1993) is an English-born Grenadian professional footballer who plays as a striker or winger for Rochdale. On 30 September 2008, he became the youngest player to debut in the English Football League, at 15 years and 45 days old, breaking the record previously established by Albert Geldard in 1929.In 2013–2014, Noble-Lazarus spent time on loan at Scunthorpe United from Barnsley.', 'title': 'Reuben Noble-Lazarus'}\n",
      "True cbm25: {'text': \"Ben Mackey (born 27 October 1986) is an English professional football player who is currently at Leamington. Mackey started his career at Coventry City Football Club where he made three appearances. The first on 12 April 2003 against Ipswich meant that he was (and still is) the youngest player ever to take the pitch for the club's first team, aged 16 years and 167 days. At the start of the 2005/06 season Mackey had a trial with Linfield F.C. of the Irish Premier League.\", 'title': 'Ben Mackey'}\n",
      "------\n",
      "qid: QALD2_te-28, query: Give me all movies directed by Francis Ford Coppola.\n",
      "False bm25: {'text': '\"Don\\'t Box Me In\" is a collaboration between Stewart Copeland and Stan Ridgway. It was recorded as part of the soundtrack for the Francis Ford Coppola\\'s movie Rumble Fish and was subsequently released as a single. Copeland plays guitar, drums, bass and keyboards, and Ridgway sings and plays harmonica.', 'title': \"Don't Box Me In\"}\n",
      "False dense: {'text': 'All of Me is a 1984 fantasy comedy film directed by Carl Reiner and starring Steve Martin and Lily Tomlin. This film is based on the novel Me Two by Edwin Davis.', 'title': 'All of Me (1984 film)'}\n",
      "True distil_dense: {'text': 'Francis Ford Coppola (/ˈkoʊpələ/; born April 7, 1939) is an American film director, producer and screenwriter. He was part of the New Hollywood wave of filmmaking.After directing The Rain People in 1969, he won the Academy Award for Best Original Screenplay as co-writer, with Edmund H. North, of Patton in 1970.', 'title': 'Francis Ford Coppola'}\n",
      "True cbm25: {'text': 'The Godfather is a 1972 American crime film directed by Francis Ford Coppola and produced by Albert S. Ruddy from a screenplay by  Mario Puzo and Coppola.', 'title': 'The Godfather'}\n",
      "------\n",
      "skip qid QALD2_te-3\n",
      "------\n",
      "qid: QALD2_tr-4, query: Which river does the Brooklyn Bridge cross?\n",
      "False bm25: {'text': 'The Chain Bridge is a 225-foot, single-span suspension bridge, which crosses the right branch of the Merrimack River flowing around Deer Island. As the boundary between the city of Newburyport and the city of Amesbury, Massachusetts runs through Deer Island, Chain Bridge does connect the two communities. Crossing from the island to the left bank of the Merrimack requires traversing the Derek S.', 'title': 'Chain Bridge (Massachusetts)'}\n",
      "True dense: {'text': 'The I-694 Bridge is a pair of girder bridges that spans the Mississippi River between the cities of Brooklyn Center and Fridley in Minnesota. The westbound bridge was built in 1963 by the Minnesota Department of Transportation, and widened in 1987 with a new structure above the piers.', 'title': 'I-694 Bridge'}\n",
      "True distil_dense: {'text': 'The Brooklyn and North River Line, operated by the Brooklyn and North River Railroad, was a trolley line in Manhattan and Brooklyn, New York City, United States. Its route ran from the Desbrosses Street Ferry across Lower Manhattan via the Canal Street Crosstown Line, over a pair of tracks on the east side of the Manhattan Bridge, and to the intersection of Flatbush Avenue and Fulton Street in Downtown Brooklyn.', 'title': 'Brooklyn and North River Line'}\n",
      "True cbm25: {'text': 'The Brooklyn Bridge is a hybrid cable-stayed/suspension bridge in New York City and is one of the oldest bridges of either type in the United States. Completed in 1883, it connects the boroughs of Manhattan and Brooklyn by spanning the East River. It has a main span of 1,595.5 feet (486.3 m), and was the first steel-wire suspension bridge constructed.', 'title': 'Brooklyn Bridge'}\n",
      "------\n",
      "qid: QALD2_tr-64, query: Which software has been developed by organizations founded in California?\n",
      "False bm25: {'text': \"NovaLogic is a software developer and publisher established in 1985 and based in Calabasas, California. The company was founded by current CEO John A. Garcia.Garcia's background in computer software started in Southern California in the early 1980s, when he worked at DataSoft.The company has grown from a small arcade conversions developer to a publisher of its own popular game titles. The company has always been privately owned. However, Electronic Arts is a minority shareholder.\", 'title': 'NovaLogic'}\n",
      "False dense: {'text': 'Newton Software is a company that designs and develops a software as a service (SaaS) applicant tracking system targeted towards small and medium-sized employers.Newton Software was founded in San Francisco, California in 2009 by former recruiting professionals, Joel Passen and Steve Hazelton.', 'title': 'Newton Software'}\n",
      "False distil_dense: {'text': \"Green Hills Software is a privately owned company that builds operating systems and development tools for embedded systems. The company was founded in 1982 by Dan O'Dowd and Carl Rosenberg.  Its headquarters are in Santa Barbara, California.\", 'title': 'Green Hills Software'}\n",
      "True cbm25: {'text': 'X2Engine (also known as X2CRM) is a web application developed by software company X2Engine located in Santa Cruz, California and founded by software entrepreneur John Roberts. X2Engine is Customer Relationship Management application designed for Sales, Marketing and Customer Service use. It also includes a custom module developer studio and a workflow engine. As of January 2015, X2Engine has been installed on more the 14,000 servers across 160 countries.', 'title': 'X2Engine'}\n",
      "------\n",
      "skip qid QALD2_tr-85\n",
      "------\n",
      "skip qid SemSearch_ES-5\n",
      "------\n",
      "skip qid SemSearch_ES-90\n",
      "------\n",
      "skip qid TREC_Entity-19\n"
     ]
    }
   ],
   "source": [
    "def correct_condition(target, compare, correct):\n",
    "    return target in correct and not compare in correct\n",
    "\n",
    "for qid in better_query.index:\n",
    "    show_result_top1(qid, correct_condition)"
   ]
  },
  {
   "cell_type": "code",
   "execution_count": 27,
   "metadata": {},
   "outputs": [],
   "source": [
    "def preproc_rep(reps: np.ndarray, att_mask: np.ndarray, input_tok: np.ndarray):\n",
    "    reps = rep_lave(reps, att_mask)\n",
    "    reps /= np.linalg.norm(reps, axis=2)[:, :, np.newaxis]\n",
    "    reps[np.isnan(reps)] = 0.0\n",
    "    return reps, att_mask[:, 1:], input_tok[:, 1:]\n",
    "\n",
    "def rep_lave(reps, att_masks, window_size=3):\n",
    "    tg_reps = np.zeros_like(reps[:, 1:])  # 3D\n",
    "    for b, (rep, att_mask) in enumerate(zip(reps, att_masks)):\n",
    "        og_rep = rep[att_mask == 1, :]  # 2D\n",
    "        og_rep = og_rep[1:-1, :]  # remove special token\n",
    "        rep_len = og_rep.shape[0]\n",
    "        for i in range(rep_len):\n",
    "            start = i - window_size if i - window_size > 0 else 0\n",
    "            end = i + window_size\n",
    "            tg_reps[b, i, :] += np.mean(og_rep[start:end, :], axis=0)\n",
    "\n",
    "    return tg_reps\n",
    "\n",
    "def max_cos_sims(query, doc, model, tokenizer):\n",
    "    special_tokens = {\n",
    "        tokenizer.pad_token_id,\n",
    "        tokenizer.bos_token_id,\n",
    "        tokenizer.eos_token_id,\n",
    "        tokenizer.sep_token_id,\n",
    "        tokenizer.cls_token_id,\n",
    "    }\n",
    "    def tok2rep_indexing(inputs_ids, batch_reps, att_masks):\n",
    "        tok2rep = defaultdict(list)\n",
    "        for qi, (input_ids, reps, att_mask) in enumerate(zip(inputs_ids, batch_reps, att_masks)):\n",
    "            for i, (qt, rep, am) in enumerate(zip(input_ids, reps, att_mask)):\n",
    "                if qt in special_tokens:\n",
    "                    continue\n",
    "                if am == 0:\n",
    "                    continue\n",
    "                tok2rep[qt].append(rep)\n",
    "            \n",
    "        for tid in tok2rep:\n",
    "            tok2rep[tid] = np.vstack(tok2rep[tid])\n",
    "            \n",
    "        return tok2rep\n",
    "        \n",
    "    doc = doc[\"title\"] + \" \" + doc[\"text\"]\n",
    "    t_query = tokenizer(query, return_tensors=\"pt\")\n",
    "    with torch.no_grad():\n",
    "        e_query = model(**t_query).last_hidden_state\n",
    "    e_queries, q_att_masks, q_inputs_ids = preproc_rep(e_query.numpy(), t_query[\"attention_mask\"].numpy(), t_query[\"input_ids\"].numpy())\n",
    "    q_tok2rep = tok2rep_indexing(q_inputs_ids, e_queries, q_att_masks)\n",
    "    t_doc = tokenizer(doc, return_tensors=\"pt\")\n",
    "    with torch.no_grad():\n",
    "        e_doc = model(**t_doc).last_hidden_state\n",
    "    e_docs, d_att_masks, d_inputs_ids = preproc_rep(e_doc.numpy(), t_doc[\"attention_mask\"].numpy(), t_doc[\"input_ids\"].numpy())\n",
    "    # print(e_docs.shape, d_att_masks.shape, d_inputs_ids.shape, tokenizer.convert_ids_to_tokens(list(d_inputs_ids[0])))\n",
    "    d_tok2rep = tok2rep_indexing(d_inputs_ids, e_docs, d_att_masks)\n",
    "    result = []\n",
    "    for qt, q_reps in q_tok2rep.items():\n",
    "        q_token = tokenizer.convert_ids_to_tokens(int(qt))\n",
    "        if qt not in d_tok2rep:\n",
    "            result.append(f\"{q_token}: 0.0\")\n",
    "            continue\n",
    "            \n",
    "        score=np.max(np.dot(q_reps, d_tok2rep[qt].T))\n",
    "        result.append(f\"{q_token}: {round(float(score), 2)}\")\n",
    "        \n",
    "    return \", \".join(result)"
   ]
  },
  {
   "cell_type": "code",
   "execution_count": 33,
   "metadata": {},
   "outputs": [],
   "source": [
    "def tokenizer_doc(target, tokenizer):\n",
    "    text = corpus[target][\"title\"] + \" \" + corpus[target][\"text\"]\n",
    "    return tokenizer(text)\n",
    "    \n",
    "def get_bm25_val(cid, query, token_bm25_score, tokenizer):\n",
    "    this_q_tok_bm25 = []\n",
    "    t_query = tokenizer(query)\n",
    "    for tok in t_query:\n",
    "        this_q_tok_bm25.append(f\"{tok}: {round(token_bm25_score[cid][(tok)], 2)}\")\n",
    "    return \", \".join(this_q_tok_bm25)\n",
    "\n",
    "def get_idf_val(query, idf, tokenizer):\n",
    "    this_q_tok_idf = []\n",
    "    t_query = tokenizer(query)\n",
    "    for tok in t_query:\n",
    "        this_q_tok_idf.append(f\"{tok}: {round(idf[tok], 2)}\")\n",
    "    return \", \".join(this_q_tok_idf)\n",
    "        \n",
    "\n",
    "def show_result_top1_analysis(qid, show_condition):\n",
    "    def extract_top1(result):\n",
    "        return sorted(result[qid].items(), key=lambda x: -x[1])[0]\n",
    "    \n",
    "    bm25_top1 = extract_top1(bm25_result)\n",
    "    dense_top1 = extract_top1(dense_result)\n",
    "    # wdense_top1 = extract_top1(weighted_dense_result)\n",
    "    distil_dense_top1 = extract_top1(distil_dense_result)\n",
    "    cbm25_top1 = extract_top1(cbm25_result[func_name])\n",
    "    correct = qrels[qid]\n",
    "    query = queries[qid]\n",
    "    if show_condition(cbm25_top1[0], bm25_top1[0], correct):\n",
    "        print(\"------\")\n",
    "        print(f\"qid: {qid}, query: {query}\")\n",
    "        print(f\"lm_idf: {get_idf_val(query, lm_idf, lm_tokenizer.analyze)}\")\n",
    "        print(f\"hf_idf: {get_idf_val(query, hf_idf, hf_tokenizer.tokenize)}\")\n",
    "        print(\"---\")\n",
    "        cid_bm25_top1 = bm25_top1[0]\n",
    "        cid_bm25_tok_score_lm = get_bm25_val(cid_bm25_top1, query, lm_token_bm25_score, lm_tokenizer.analyze)\n",
    "        cid_bm25_tok_score_hf = get_bm25_val(cid_bm25_top1, query, hf_token_bm25_score, hf_tokenizer.tokenize)\n",
    "        t_cos_sims = max_cos_sims(query, corpus[cid_bm25_top1], hf_model, hf_tokenizer)\n",
    "        t_doc = tokenizer_doc(cid_bm25_top1, lm_tokenizer.analyze)\n",
    "        print(f\"bm25: {cid_bm25_top1 in correct} q-bm25: {cid_bm25_tok_score_lm}\")\n",
    "        print(f\"bm25: {cid_bm25_top1 in correct} q-bm25_hf: {cid_bm25_tok_score_hf}\")\n",
    "        print(f\"cos-sims: {t_cos_sims}\")\n",
    "        print(f\"t_doc: {t_doc}\")\n",
    "        cid_dense_top1 = dense_top1[0]\n",
    "        cid_dense_tok_score = get_bm25_val(cid_dense_top1, query, hf_token_bm25_score, hf_tokenizer.tokenize)\n",
    "        t_doc = tokenizer_doc(cid_dense_top1, hf_tokenizer.tokenize)\n",
    "        print(f\"dense: {cid_bm25_top1 in correct} q-bm25: {cid_dense_tok_score}\")\n",
    "        print(f\"t_doc: {t_doc}\")  \n",
    "        # cid_wdense_top1 = wdense_top1[0]\n",
    "        # cid_wdense_tok_score = get_bm25_val(cid_wdense_top1, query, hf_token_bm25_score, hf_tokenizer.tokenize)\n",
    "        # t_doc = tokenizer_doc(cid_wdense_top1, hf_tokenizer.tokenize)\n",
    "        # print(f\"wdense: {cid_bm25_top1 in correct}, q-bm25: {cid_wdense_tok_score}\")\n",
    "        cid_distil_dense_top1 = distil_dense_top1[0]\n",
    "        cid_distil_dense_tok_score = get_bm25_val(cid_distil_dense_top1, query, hf_token_bm25_score, hf_tokenizer.tokenize)\n",
    "        t_doc = tokenizer_doc(cid_distil_dense_top1, hf_tokenizer.tokenize)\n",
    "        print(f\"wdense: {cid_bm25_top1 in correct}, q-bm25: {cid_distil_dense_tok_score}\")\n",
    "        print(f\"t_doc: {t_doc}\")  \n",
    "        cid_cbm25_top1 = cbm25_top1[0]\n",
    "        cid_cbm25_tok_score = get_bm25_val(cid_cbm25_top1, query, hf_token_bm25_score, hf_tokenizer.tokenize)\n",
    "        t_doc = tokenizer_doc(cid_cbm25_top1, hf_tokenizer.tokenize)\n",
    "        t_cos_sims = max_cos_sims(query, corpus[cid_cbm25_top1], hf_model, hf_tokenizer)\n",
    "        print(f\"cbm25: {cid_cbm25_top1 in correct} q-bm25: {cid_cbm25_tok_score}\")\n",
    "        print(f\"cos-sims: {t_cos_sims}\")\n",
    "        print(f\"t_doc: {t_doc}\")\n",
    "    else:\n",
    "        print(\"------\")\n",
    "        print(f\"skip qid {qid}\")"
   ]
  },
  {
   "cell_type": "code",
   "execution_count": 34,
   "metadata": {},
   "outputs": [
    {
     "name": "stdout",
     "output_type": "stream",
     "text": [
      "------\n",
      "skip qid INEX_LD-2009074\n",
      "------\n",
      "skip qid INEX_LD-2010014\n",
      "------\n",
      "skip qid INEX_LD-20120411\n",
      "------\n",
      "skip qid INEX_LD-2012329\n",
      "------\n",
      "skip qid INEX_LD-2012349\n",
      "------\n",
      "skip qid INEX_LD-2012383\n",
      "------\n",
      "skip qid INEX_XER-106\n",
      "------\n",
      "skip qid INEX_XER-95\n",
      "------\n",
      "qid: QALD2_te-13, query: Who is the youngest player in the Premier League?\n",
      "lm_idf: who: 2.24, youngest: 6.58, player: 3.49, premier: 4.71, leagu: 3.28\n",
      "hf_idf: who: 2.24, is: 0.29, the: 0.12, youngest: 6.58, player: 3.58, in: 0.23, the: 0.12, premier: 5.28, league: 3.28, ?: 5.51\n",
      "---\n",
      "bm25: False q-bm25: who: 2.18, youngest: 6.4, player: 3.39, premier: 4.58, leagu: 3.19\n",
      "bm25: False q-bm25_hf: who: 2.25, is: 0.29, the: 0.18, youngest: 6.63, player: 3.61, in: 0.3, the: 0.18, premier: 5.33, league: 3.3, ?: 0.0\n",
      "cos-sims: who: 0.64, is: 0.62, the: 0.68, youngest: 0.69, player: 0.69, in: 0.64, premier: 0.65, league: 0.63, ?: 0.0\n",
      "t_doc: ['scott', 'robinson', 'footbal', 'scott', 'robinson', 'born', '12', 'march', '1992', 'scottish', 'profession', 'footbal', 'who', 'plai', 'kilmarnock', 'scottish', 'premiership', 'midfield', 'he', 'previous', 'plai', 'heart', 'midlothian', 'where', 'he', 'made', 'hi', 'debut', 'ag', '16', 'becom', 'youngest', 'ever', 'player', 'appear', 'scottish', 'premier', 'leagu', 'spl']\n",
      "dense: False q-bm25: who: 2.04, is: 0.27, the: 0.17, youngest: 6.01, player: 3.27, in: 0.32, the: 0.17, premier: 0.0, league: 2.99, ?: 0.0\n",
      "t_doc: ['reuben', 'noble', '-', 'lazarus', 'reuben', 'courtney', 'noble', '-', 'lazarus', '(', 'born', '16', 'august', '1993', ')', 'is', 'an', 'english', '-', 'born', 'gr', '##ena', '##dian', 'professional', 'footballer', 'who', 'plays', 'as', 'a', 'striker', 'or', 'winger', 'for', 'rochdale', '.', 'on', '30', 'september', '2008', ',', 'he', 'became', 'the', 'youngest', 'player', 'to', 'debut', 'in', 'the', 'english', 'football', 'league', ',', 'at', '15', 'years', 'and', '45', 'days', 'old', ',', 'breaking', 'the', 'record', 'previously', 'established', 'by', 'albert', 'gel', '##dar', '##d', 'in', '1929', '.', 'in', '2013', '–', '2014', ',', 'noble', '-', 'lazarus', 'spent', 'time', 'on', 'loan', 'at', 'sc', '##unt', '##horpe', 'united', 'from', 'barnsley', '.']\n",
      "wdense: False, q-bm25: who: 2.04, is: 0.27, the: 0.17, youngest: 6.01, player: 3.27, in: 0.32, the: 0.17, premier: 0.0, league: 2.99, ?: 0.0\n",
      "t_doc: ['reuben', 'noble', '-', 'lazarus', 'reuben', 'courtney', 'noble', '-', 'lazarus', '(', 'born', '16', 'august', '1993', ')', 'is', 'an', 'english', '-', 'born', 'gr', '##ena', '##dian', 'professional', 'footballer', 'who', 'plays', 'as', 'a', 'striker', 'or', 'winger', 'for', 'rochdale', '.', 'on', '30', 'september', '2008', ',', 'he', 'became', 'the', 'youngest', 'player', 'to', 'debut', 'in', 'the', 'english', 'football', 'league', ',', 'at', '15', 'years', 'and', '45', 'days', 'old', ',', 'breaking', 'the', 'record', 'previously', 'established', 'by', 'albert', 'gel', '##dar', '##d', 'in', '1929', '.', 'in', '2013', '–', '2014', ',', 'noble', '-', 'lazarus', 'spent', 'time', 'on', 'loan', 'at', 'sc', '##unt', '##horpe', 'united', 'from', 'barnsley', '.']\n",
      "cbm25: True q-bm25: who: 1.93, is: 0.39, the: 0.2, youngest: 5.68, player: 4.2, in: 0.0, the: 0.2, premier: 4.57, league: 2.83, ?: 0.0\n",
      "cos-sims: who: 0.72, is: 0.71, the: 0.75, youngest: 0.75, player: 0.75, in: 0.0, premier: 0.69, league: 0.68, ?: 0.0\n",
      "t_doc: ['ben', 'mack', '##ey', 'ben', 'mack', '##ey', '(', 'born', '27', 'october', '1986', ')', 'is', 'an', 'english', 'professional', 'football', 'player', 'who', 'is', 'currently', 'at', 'lea', '##ming', '##ton', '.', 'mack', '##ey', 'started', 'his', 'career', 'at', 'coventry', 'city', 'football', 'club', 'where', 'he', 'made', 'three', 'appearances', '.', 'the', 'first', 'on', '12', 'april', '2003', 'against', 'ipswich', 'meant', 'that', 'he', 'was', '(', 'and', 'still', 'is', ')', 'the', 'youngest', 'player', 'ever', 'to', 'take', 'the', 'pitch', 'for', 'the', 'club', \"'\", 's', 'first', 'team', ',', 'aged', '16', 'years', 'and', '167', 'days', '.', 'at', 'the', 'start', 'of', 'the', '2005', '/', '06', 'season', 'mack', '##ey', 'had', 'a', 'trial', 'with', 'lin', '##field', 'f', '.', 'c', '.', 'of', 'the', 'irish', 'premier', 'league', '.']\n",
      "------\n",
      "qid: QALD2_te-28, query: Give me all movies directed by Francis Ford Coppola.\n",
      "lm_idf: give: 5.55, me: 5.71, all: 3.39, movi: 5.1, direct: 3.57, franci: 5.77, ford: 6.51, coppola: 9.72\n",
      "hf_idf: give: 6.51, me: 4.48, all: 3.3, movies: 6.38, directed: 3.78, by: 1.22, francis: 5.71, ford: 6.43, cop: 6.87, ##pol: 6.01, ##a: 2.42, .: 0.01\n",
      "---\n",
      "bm25: False q-bm25: give: 0.0, me: 7.54, all: 0.0, movi: 5.16, direct: 0.0, franci: 5.85, ford: 6.59, coppola: 9.84\n",
      "bm25: False q-bm25_hf: give: 0.0, me: 5.75, all: 0.0, movies: 0.0, directed: 0.0, by: 0.0, francis: 5.66, ford: 6.38, cop: 6.81, ##pol: 5.96, ##a: 2.4, .: 0.01\n",
      "cos-sims: give: 0.0, me: 0.49, all: 0.0, movies: 0.0, directed: 0.0, by: 0.0, francis: 0.6, ford: 0.61, cop: 0.61, ##pol: 0.61, ##a: 0.58, .: 0.46\n",
      "t_doc: [\"don't\", 'box', 'me', \"don't\", 'box', 'me', 'collabor', 'between', 'stewart', 'copeland', 'stan', 'ridgwai', 'record', 'part', 'soundtrack', 'franci', 'ford', 'coppola', 'movi', 'rumbl', 'fish', 'subsequ', 'releas', 'singl', 'copeland', 'plai', 'guitar', 'drum', 'bass', 'keyboard', 'ridgwai', 'sing', 'plai', 'harmonica']\n",
      "dense: False q-bm25: give: 0.0, me: 6.77, all: 4.61, movies: 0.0, directed: 4.27, by: 1.7, francis: 0.0, ford: 0.0, cop: 0.0, ##pol: 0.0, ##a: 0.0, .: 0.01\n",
      "t_doc: ['all', 'of', 'me', '(', '1984', 'film', ')', 'all', 'of', 'me', 'is', 'a', '1984', 'fantasy', 'comedy', 'film', 'directed', 'by', 'carl', 'rein', '##er', 'and', 'starring', 'steve', 'martin', 'and', 'lily', 'tom', '##lin', '.', 'this', 'film', 'is', 'based', 'on', 'the', 'novel', 'me', 'two', 'by', 'edwin', 'davis', '.']\n",
      "wdense: False, q-bm25: give: 0.0, me: 0.0, all: 0.0, movies: 0.0, directed: 0.0, by: 0.0, francis: 7.17, ford: 8.09, cop: 8.64, ##pol: 7.55, ##a: 3.04, .: 0.01\n",
      "t_doc: ['francis', 'ford', 'cop', '##pol', '##a', 'francis', 'ford', 'cop', '##pol', '##a', '(', '/', 'ˈ', '##ko', '##ʊ', '##p', '##ə', '##l', '##ə', '/', ';', 'born', 'april', '7', ',', '1939', ')', 'is', 'an', 'american', 'film', 'director', ',', 'producer', 'and', 'screenwriter', '.', 'he', 'was', 'part', 'of', 'the', 'new', 'hollywood', 'wave', 'of', 'filmmaking', '.', 'after', 'directing', 'the', 'rain', 'people', 'in', '1969', ',', 'he', 'won', 'the', 'academy', 'award', 'for', 'best', 'original', 'screenplay', 'as', 'co', '-', 'writer', ',', 'with', 'edmund', 'h', '.', 'north', ',', 'of', 'patton', 'in', '1970', '.']\n"
     ]
    },
    {
     "name": "stderr",
     "output_type": "stream",
     "text": [
      "/tmp/ipykernel_1633064/1542452337.py:3: RuntimeWarning: invalid value encountered in true_divide\n",
      "  reps /= np.linalg.norm(reps, axis=2)[:, :, np.newaxis]\n"
     ]
    },
    {
     "name": "stdout",
     "output_type": "stream",
     "text": [
      "cbm25: True q-bm25: give: 0.0, me: 0.0, all: 0.0, movies: 0.0, directed: 4.4, by: 1.87, francis: 6.63, ford: 7.48, cop: 9.75, ##pol: 8.53, ##a: 3.43, .: 0.01\n",
      "cos-sims: give: 0.0, me: 0.0, all: 0.0, movies: 0.0, directed: 0.65, by: 0.69, francis: 0.71, ford: 0.72, cop: 0.71, ##pol: 0.68, ##a: 0.66, .: 0.61\n",
      "t_doc: ['the', 'godfather', 'the', 'godfather', 'is', 'a', '1972', 'american', 'crime', 'film', 'directed', 'by', 'francis', 'ford', 'cop', '##pol', '##a', 'and', 'produced', 'by', 'albert', 's', '.', 'rudd', '##y', 'from', 'a', 'screenplay', 'by', 'mario', 'pu', '##zo', 'and', 'cop', '##pol', '##a', '.']\n",
      "------\n",
      "skip qid QALD2_te-3\n",
      "------\n",
      "qid: QALD2_tr-4, query: Which river does the Brooklyn Bridge cross?\n",
      "lm_idf: which: 2.34, river: 3.57, doe: 5.76, brooklyn: 6.28, bridg: 5.38, cross: 4.79\n",
      "hf_idf: which: 2.34, river: 3.61, does: 5.79, the: 0.12, brooklyn: 6.28, bridge: 5.43, cross: 5.07, ?: 5.51\n",
      "---\n",
      "bm25: False q-bm25: which: 2.12, river: 3.25, doe: 5.24, brooklyn: 0.0, bridg: 8.04, cross: 5.89\n",
      "bm25: False q-bm25_hf: which: 2.2, river: 3.39, does: 5.45, the: 0.21, brooklyn: 0.0, bridge: 8.01, cross: 0.0, ?: 0.0\n",
      "cos-sims: which: 0.52, river: 0.5, does: 0.46, the: 0.51, brooklyn: 0.0, bridge: 0.53, cross: 0.0, ?: 0.0\n",
      "t_doc: ['chain', 'bridg', 'massachusett', 'chain', 'bridg', '225', 'foot', 'singl', 'span', 'suspens', 'bridg', 'which', 'cross', 'right', 'branch', 'merrimack', 'river', 'flow', 'around', 'deer', 'island', 'boundari', 'between', 'citi', 'newburyport', 'citi', 'amesburi', 'massachusett', 'run', 'through', 'deer', 'island', 'chain', 'bridg', 'doe', 'connect', 'two', 'commun', 'cross', 'from', 'island', 'left', 'bank', 'merrimack', 'requir', 'travers', 'derek', 's']\n",
      "dense: False q-bm25: which: 0.0, river: 3.74, does: 0.0, the: 0.2, brooklyn: 6.52, bridge: 7.89, cross: 0.0, ?: 0.0\n",
      "t_doc: ['i', '-', '69', '##4', 'bridge', 'the', 'i', '-', '69', '##4', 'bridge', 'is', 'a', 'pair', 'of', 'gi', '##rder', 'bridges', 'that', 'spans', 'the', 'mississippi', 'river', 'between', 'the', 'cities', 'of', 'brooklyn', 'center', 'and', 'fr', '##id', '##ley', 'in', 'minnesota', '.', 'the', 'westbound', 'bridge', 'was', 'built', 'in', '1963', 'by', 'the', 'minnesota', 'department', 'of', 'transportation', ',', 'and', 'widened', 'in', '1987', 'with', 'a', 'new', 'structure', 'above', 'the', 'piers', '.']\n",
      "wdense: False, q-bm25: which: 0.0, river: 4.99, does: 0.0, the: 0.2, brooklyn: 9.6, bridge: 5.07, cross: 4.74, ?: 0.0\n",
      "t_doc: ['brooklyn', 'and', 'north', 'river', 'line', 'the', 'brooklyn', 'and', 'north', 'river', 'line', ',', 'operated', 'by', 'the', 'brooklyn', 'and', 'north', 'river', 'railroad', ',', 'was', 'a', 'trolley', 'line', 'in', 'manhattan', 'and', 'brooklyn', ',', 'new', 'york', 'city', ',', 'united', 'states', '.', 'its', 'route', 'ran', 'from', 'the', 'des', '##bro', '##sse', '##s', 'street', 'ferry', 'across', 'lower', 'manhattan', 'via', 'the', 'canal', 'street', 'cross', '##town', 'line', ',', 'over', 'a', 'pair', 'of', 'tracks', 'on', 'the', 'east', 'side', 'of', 'the', 'manhattan', 'bridge', ',', 'and', 'to', 'the', 'intersection', 'of', 'flat', '##bush', 'avenue', 'and', 'fulton', 'street', 'in', 'downtown', 'brooklyn', '.']\n",
      "cbm25: True q-bm25: which: 0.0, river: 3.43, does: 0.0, the: 0.2, brooklyn: 8.76, bridge: 8.04, cross: 0.0, ?: 0.0\n",
      "cos-sims: which: 0.0, river: 0.75, does: 0.0, the: 0.78, brooklyn: 0.75, bridge: 0.73, cross: 0.0, ?: 0.0\n",
      "t_doc: ['brooklyn', 'bridge', 'the', 'brooklyn', 'bridge', 'is', 'a', 'hybrid', 'cable', '-', 'stayed', '/', 'suspension', 'bridge', 'in', 'new', 'york', 'city', 'and', 'is', 'one', 'of', 'the', 'oldest', 'bridges', 'of', 'either', 'type', 'in', 'the', 'united', 'states', '.', 'completed', 'in', '1883', ',', 'it', 'connects', 'the', 'boroughs', 'of', 'manhattan', 'and', 'brooklyn', 'by', 'spanning', 'the', 'east', 'river', '.', 'it', 'has', 'a', 'main', 'span', 'of', '1', ',', '59', '##5', '.', '5', 'feet', '(', '48', '##6', '.', '3', 'm', ')', ',', 'and', 'was', 'the', 'first', 'steel', '-', 'wire', 'suspension', 'bridge', 'constructed', '.']\n",
      "------\n",
      "qid: QALD2_tr-64, query: Which software has been developed by organizations founded in California?\n",
      "lm_idf: which: 2.34, softwar: 5.38, ha: 2.3, been: 3.14, develop: 3.65, organ: 4.05, found: 2.81, california: 4.09\n",
      "hf_idf: which: 2.34, software: 5.37, has: 2.31, been: 3.13, developed: 4.48, by: 1.22, organizations: 6.15, founded: 3.63, in: 0.23, california: 4.05, ?: 5.51\n",
      "---\n",
      "bm25: False q-bm25: which: 0.0, softwar: 6.46, ha: 2.77, been: 2.75, develop: 4.38, organ: 0.0, found: 2.47, california: 4.91\n",
      "bm25: False q-bm25_hf: which: 0.0, software: 6.51, has: 2.8, been: 2.85, developed: 0.0, by: 1.11, organizations: 0.0, founded: 3.3, in: 0.35, california: 4.91, ?: 0.0\n",
      "cos-sims: which: 0.0, software: 0.55, has: 0.49, been: 0.49, developed: 0.0, by: 0.51, organizations: 0.0, founded: 0.51, in: 0.58, california: 0.53, ?: 0.0\n",
      "t_doc: ['novalog', 'novalog', 'softwar', 'develop', 'publish', 'establish', '1985', 'base', 'calabasa', 'california', 'compani', 'found', 'current', 'ceo', 'john', 'garcia.garcia', 'background', 'comput', 'softwar', 'start', 'southern', 'california', 'earli', '1980', 'when', 'he', 'work', 'datasoft.th', 'compani', 'ha', 'grown', 'from', 'small', 'arcad', 'convers', 'develop', 'publish', 'it', 'own', 'popular', 'game', 'titl', 'compani', 'ha', 'alwai', 'been', 'privat', 'own', 'howev', 'electron', 'art', 'minor', 'sharehold']\n",
      "dense: False q-bm25: which: 0.0, software: 8.3, has: 0.0, been: 0.0, developed: 0.0, by: 1.3, organizations: 0.0, founded: 3.87, in: 0.31, california: 4.32, ?: 0.0\n",
      "t_doc: ['newton', 'software', 'newton', 'software', 'is', 'a', 'company', 'that', 'designs', 'and', 'develops', 'a', 'software', 'as', 'a', 'service', '(', 'sa', '##as', ')', 'applicant', 'tracking', 'system', 'targeted', 'towards', 'small', 'and', 'medium', '-', 'sized', 'employers', '.', 'newton', 'software', 'was', 'founded', 'in', 'san', 'francisco', ',', 'california', 'in', '2009', 'by', 'former', 'recruiting', 'professionals', ',', 'joel', 'pass', '##en', 'and', 'steve', 'hazel', '##ton', '.']\n",
      "wdense: False, q-bm25: which: 0.0, software: 7.4, has: 0.0, been: 0.0, developed: 0.0, by: 1.36, organizations: 0.0, founded: 4.03, in: 0.32, california: 4.49, ?: 0.0\n",
      "t_doc: ['green', 'hills', 'software', 'green', 'hills', 'software', 'is', 'a', 'privately', 'owned', 'company', 'that', 'builds', 'operating', 'systems', 'and', 'development', 'tools', 'for', 'embedded', 'systems', '.', 'the', 'company', 'was', 'founded', 'in', '1982', 'by', 'dan', 'o', \"'\", 'dow', '##d', 'and', 'carl', 'rosenberg', '.', 'its', 'headquarters', 'are', 'in', 'santa', 'barbara', ',', 'california', '.']\n",
      "cbm25: True q-bm25: which: 0.0, software: 6.45, has: 2.07, been: 2.81, developed: 4.02, by: 1.47, organizations: 0.0, founded: 3.25, in: 0.21, california: 3.63, ?: 0.0\n",
      "cos-sims: which: 0.0, software: 0.55, has: 0.47, been: 0.48, developed: 0.58, by: 0.59, organizations: 0.0, founded: 0.58, in: 0.53, california: 0.57, ?: 0.0\n",
      "t_doc: ['x', '##2', '##eng', '##ine', 'x', '##2', '##eng', '##ine', '(', 'also', 'known', 'as', 'x', '##2', '##cr', '##m', ')', 'is', 'a', 'web', 'application', 'developed', 'by', 'software', 'company', 'x', '##2', '##eng', '##ine', 'located', 'in', 'santa', 'cruz', ',', 'california', 'and', 'founded', 'by', 'software', 'entrepreneur', 'john', 'roberts', '.', 'x', '##2', '##eng', '##ine', 'is', 'customer', 'relationship', 'management', 'application', 'designed', 'for', 'sales', ',', 'marketing', 'and', 'customer', 'service', 'use', '.', 'it', 'also', 'includes', 'a', 'custom', 'module', 'developer', 'studio', 'and', 'a', 'work', '##flow', 'engine', '.', 'as', 'of', 'january', '2015', ',', 'x', '##2', '##eng', '##ine', 'has', 'been', 'installed', 'on', 'more', 'the', '14', ',', '000', 'servers', 'across', '160', 'countries', '.']\n",
      "------\n",
      "skip qid QALD2_tr-85\n",
      "------\n",
      "skip qid SemSearch_ES-5\n",
      "------\n",
      "skip qid SemSearch_ES-90\n",
      "------\n",
      "skip qid TREC_Entity-19\n"
     ]
    }
   ],
   "source": [
    "for qid in better_query.index:\n",
    "    show_result_top1_analysis(qid, correct_condition)"
   ]
  },
  {
   "cell_type": "code",
   "execution_count": 35,
   "metadata": {},
   "outputs": [
    {
     "name": "stdout",
     "output_type": "stream",
     "text": [
      "<dbpedia:Francis_Ford_Coppola> 35.19206237792969 1\n",
      "<dbpedia:All_of_Me_(1984_film)> 31.441036224365234 None\n",
      "<dbpedia:Sofia_Coppola> 31.26166534423828 None\n",
      "<dbpedia:They_All_Come_Out> 31.114974975585938 None\n",
      "<dbpedia:Roman_Coppola> 30.876121520996094 None\n",
      "<dbpedia:Zoetrope:_All-Story> 30.47029685974121 0\n",
      "<dbpedia:Take_All_of_Me> 30.2182559967041 None\n",
      "<dbpedia:Winners_Take_All_(film)> 30.182092666625977 None\n",
      "<dbpedia:Barry_Malkin> 29.78139305114746 None\n",
      "<dbpedia:The_Thrill_of_It_All> 29.769575119018555 None\n"
     ]
    }
   ],
   "source": [
    "qid = \"QALD2_te-28\"\n",
    "for cid, v in sorted(distil_dense_result[\"QALD2_te-28\"].items(), key=lambda x: -x[1])[:10]:\n",
    "    print(cid, v, qrels[qid].get(cid))"
   ]
  },
  {
   "cell_type": "code",
   "execution_count": 36,
   "metadata": {},
   "outputs": [
    {
     "name": "stdout",
     "output_type": "stream",
     "text": [
      "<dbpedia:The_Godfather> 23.97888279858307 1\n",
      "<dbpedia:Carmine_Coppola> 23.118121077566524 None\n",
      "<dbpedia:The_Godfather_Part_II> 22.592693794830655 2\n",
      "<dbpedia:The_Rain_People> 22.45578928081565 2\n",
      "<dbpedia:The_Godfather_(film_series)> 21.28662429360636 1\n",
      "<dbpedia:Zoetrope:_All-Story> 21.286480655691456 0\n",
      "<dbpedia:One_from_the_Heart> 21.193362114230922 2\n",
      "<dbpedia:Youth_Without_Youth_(film)> 20.75816019368333 1\n",
      "<dbpedia:Apocalypse_Now> 20.58722364044759 2\n",
      "<dbpedia:Francis_Ford_Coppola> 20.58597351172225 1\n"
     ]
    }
   ],
   "source": [
    "qid = \"QALD2_te-28\"\n",
    "for cid, v in sorted(cbm25_result[func_name][\"QALD2_te-28\"].items(), key=lambda x: -x[1])[:10]:\n",
    "    print(cid, v, qrels[qid].get(cid))"
   ]
  },
  {
   "cell_type": "markdown",
   "metadata": {},
   "source": [
    "# C-BM25 is worse than other cases"
   ]
  },
  {
   "cell_type": "code",
   "execution_count": 40,
   "metadata": {},
   "outputs": [
    {
     "name": "stdout",
     "output_type": "stream",
     "text": [
      "------\n",
      "skip qid INEX_LD-20120121\n",
      "------\n",
      "skip qid INEX_LD-20120531\n",
      "------\n",
      "qid: INEX_XER-141, query: Universities in Catalunya\n",
      "True bm25: {'text': \"Plaça de Catalunya station, also known as Barcelona-Plaça Catalunya, Plaça Catalunya or simply Catalunya is a major station complex in Barcelona located under Plaça de Catalunya, the city's central square and a large transport hub.\", 'title': 'Plaça de Catalunya station'}\n",
      "True dense: {'text': 'The Open University of Catalonia (Catalan: Universitat Oberta de Catalunya, UOC; IPA: [uniβərsiˈtat uˈβɛrtə ðə kətəˈɫuɲə]) is a public Internet-centered open university based in Barcelona, Spain.The UOC offers graduate and postgraduate programs in Catalan, Spanish and English in fields such as Psychology, Computer Science, Sciences of Education, Information and Knowledge Society and Economics.', 'title': 'Open University of Catalonia'}\n",
      "False distil_dense: {'text': \"The Institut Nacional d'Educació Física de Catalunya (English: National Institute of Physical Education of Catalonia, INEFC) is an indoor venue located in Barcelona. Renovated in 1991, it hosted the wrestling events for the 1992 Summer Olympics.\", 'title': \"Institut Nacional d'Educació Física de Catalunya\"}\n",
      "False cbm25: {'text': \"CatalunyaCaixa (Catalan pronunciation: [kətəˌɫuɲəˈkaʃə]) is the trading name of Caixa d'Estalvis de Catalunya, Tarragona i Manresa, a Catalan savings bank with headquarters in Barcelona. It is the fourth largest savings bank in Spain in terms of consolidated assets, with €81.020 billions.It was founded on 1 July 2010 by the fusion of Caixa Catalunya, Caixa Tarragona and Caixa Manresa. The new savings bank has 1212 branches and over 4 million customers.\", 'title': 'CatalunyaCaixa'}\n",
      "------\n",
      "skip qid INEX_XER-67\n",
      "------\n",
      "skip qid QALD2_te-60\n",
      "------\n",
      "qid: QALD2_te-64, query: Give me all launch pads operated by NASA.\n",
      "True bm25: {'text': 'The RM-90 Blue Scout II was an American sounding rocket and expendable launch system which was flown three times during 1961. It was used for two HETS test flights, and the launch of the Mercury-Scout 1 satellite for NASA. It was a member of the Scout family of rockets.The Blue Scout II was a military version of the NASA-operated Scout X-1. All three launches occurred from Launch Complex 18B at the Cape Canaveral Air Force Station, the same launch pad used for the Blue Scout I.', 'title': 'RM-90 Blue Scout II'}\n",
      "True dense: {'text': 'Launch Complex 36 (LC-36), known as Space Launch Complex 36 (SLC-36) from 1997 to 2010, is a launch complex at Cape Canaveral Air Force Station in Brevard County, Florida. Now operated under license by Space Florida, it was used for Atlas launches from 1962 until 2005.Historically, the complex consisted of two launch pads, SLC-36A and SLC-36B, and was the launch site for the Pioneer, Surveyor, and Mariner probes in the 1960s and 1970s.', 'title': 'Spaceport Florida Launch Complex 36'}\n",
      "True distil_dense: {'text': 'Space Launch Complex 4 (SLC-4) is a launch site at Vandenberg Air Force Base with two pads, both of which are used by SpaceX for Falcon 9 launch operations.The complex was previously used by Atlas and Titan rockets between 1963 and 2005. It consisted of two launch pads, SLC-4W and SLC-4E, which were formerly designated  PALC2-3 and PALC2-4 respectively. Both pads were built for use by Atlas-Agena rockets, but were later rebuilt to handle Titan rockets.', 'title': 'Vandenberg AFB Space Launch Complex 4'}\n",
      "False cbm25: {'text': 'The NASA recovery ships are two ships, the MV Liberty Star and the MV Freedom Star, that are tasked with retrieving spent Solid Rocket Boosters (SRBs) following the launch of Space Shuttle missions. Although owned by NASA, the ships are currently operated by Space Flight Operations contractor United Space Alliance.', 'title': 'NASA recovery ship'}\n",
      "------\n",
      "skip qid QALD2_tr-65\n",
      "------\n",
      "qid: QALD2_tr-82, query: In which programming language is GIMP written?\n",
      "True bm25: {'text': 'GimPhoto is a modification of the free and open source graphics program GNU Image Manipulation Program (GIMP), with the intent to be a free replacement to Adobe Photoshop.It has a new menu layout, new brushes and gradient sets. Its primary purpose is to enhance GIMP in terms of user interface, use of the best plugins and other resources combined with the latest stable version of GIMP.', 'title': 'GimPhoto'}\n",
      "True dense: {'text': 'GIMP (/ɡɪmp/; an acronym for GNU Image Manipulation Program) is a free and open-source raster graphics editor used for image retouching and editing, free-form drawing, resizing, cropping, photo-montages, converting between different image formats, and more specialized tasks.GIMP began in 1995 as the school project of two university students; now GIMP is a full-fledged application, available on all distributions of Linux, OS X and Microsoft Windows — XP and later versions.', 'title': 'GIMP'}\n",
      "True distil_dense: {'text': 'GIMP (/ɡɪmp/; an acronym for GNU Image Manipulation Program) is a free and open-source raster graphics editor used for image retouching and editing, free-form drawing, resizing, cropping, photo-montages, converting between different image formats, and more specialized tasks.GIMP began in 1995 as the school project of two university students; now GIMP is a full-fledged application, available on all distributions of Linux, OS X and Microsoft Windows — XP and later versions.', 'title': 'GIMP'}\n",
      "False cbm25: {'text': 'Simorgh programming language is a general purpose, English and Non-English-based programming language developed by Khalil Torabi in 1994.The aim of this paper is to introduce the most recent developments of Simorgh Programming Language (SPL). SPL is a part of Simorgh  environment project that started at 1993. SPL has been invented with the aim that non-technical people would be able to produce their own portable applications which can be written in their own native language.', 'title': 'Simorgh Programming Language'}\n",
      "------\n",
      "skip qid SemSearch_ES-25\n",
      "------\n",
      "skip qid SemSearch_ES-95\n",
      "------\n",
      "qid: SemSearch_LS-1, query: Apollo astronauts who walked on the Moon\n",
      "True bm25: {'text': 'Thirty-two astronauts were assigned to fly in the Apollo manned lunar landing program. Twenty-four of these left Earth’s orbit and flew around the Moon (Apollo 1 never launched and Apollo 7 and Apollo 9 were low Earth orbit spacecraft testing missions). In addition, nine astronauts flew Apollo spacecraft in the Apollo Applications Programs Skylab and Apollo–Soyuz Test Project.Twelve of these astronauts walked on the Moon’s surface, and six of those drove Lunar Roving Vehicles on the Moon.', 'title': 'List of Apollo astronauts'}\n",
      "True dense: {'text': 'Edward Higgins \"Ed\" White II (November 14, 1930 – January 27, 1967), (Lt Col, USAF), was an American aeronautical engineer, U.S. Air Force officer, test pilot, and NASA astronaut. On June 3, 1965, he became the first American to \"walk\" in space. White died along with his fellow astronauts Virgil \"Gus\" Grissom and Roger B. Chaffee during prelaunch testing for the first manned Apollo mission at Cape Canaveral.', 'title': 'Edward Higgins White'}\n",
      "True distil_dense: {'text': 'Apollo 11 was the spaceflight that landed the first humans on the Moon, Americans Neil Armstrong and Buzz Aldrin, on July 20, 1969, at 20:18 UTC. Armstrong became the first to step onto the lunar surface six hours later on July 21 at 02:56 UTC. Armstrong spent about two and a half hours outside the spacecraft, Aldrin slightly less, and together they collected 47.5 pounds (21.5 kg) of lunar material for return to Earth.', 'title': 'Apollo 11'}\n",
      "False cbm25: {'text': 'The Wonder of It All is a 2007 documentary directed by Jeffrey Roth and distributed by Indican Pictures.  It is composed of first-person interviews with seven of the Apollo astronauts who walked on the moon (Buzz Aldrin, Alan Bean, Edgar Mitchell, John Young, Charlie Duke, Eugene Cernan, and Harrison Schmitt).  The astronauts explain their backgrounds, their moon missions, and how walking on the moon changed their lives.', 'title': 'The Wonder of It All (2007 film)'}\n",
      "------\n",
      "skip qid SemSearch_LS-24\n",
      "------\n",
      "skip qid SemSearch_LS-3\n",
      "------\n",
      "skip qid TREC_Entity-1\n",
      "------\n",
      "skip qid TREC_Entity-14\n",
      "------\n",
      "qid: TREC_Entity-4, query: Professional sports teams in Philadelphia.\n",
      "True bm25: {'text': 'Philadelphia,  Pennsylvania, has been home to many teams and events in professional, semi-professional, amateur, college, and high-school sports. Philadelphia is one of twelve cities that hosts teams in all four major sports leagues in North America, and Philadelphia is one of just three cities in which one team from every league plays within city limits.', 'title': 'Sports in Philadelphia'}\n",
      "True dense: {'text': 'Philadelphia,  Pennsylvania, has been home to many teams and events in professional, semi-professional, amateur, college, and high-school sports. Philadelphia is one of twelve cities that hosts teams in all four major sports leagues in North America, and Philadelphia is one of just three cities in which one team from every league plays within city limits.', 'title': 'Sports in Philadelphia'}\n",
      "True distil_dense: {'text': 'Philadelphia,  Pennsylvania, has been home to many teams and events in professional, semi-professional, amateur, college, and high-school sports. Philadelphia is one of twelve cities that hosts teams in all four major sports leagues in North America, and Philadelphia is one of just three cities in which one team from every league plays within city limits.', 'title': 'Sports in Philadelphia'}\n",
      "False cbm25: {'text': \"The South Philadelphia Sports Complex is the current home of Philadelphia's professional sports teams. It is the site of the Wells Fargo Center, Lincoln Financial Field, Citizens Bank Park, and a retail/entertainment center Xfinity Live!.\", 'title': 'South Philadelphia Sports Complex'}\n"
     ]
    }
   ],
   "source": [
    "def false_condition(target, compare, correct):\n",
    "    return not target in correct and compare in correct\n",
    "\n",
    "for i in worse_query.index:\n",
    "    show_result_top1(i, false_condition)"
   ]
  },
  {
   "cell_type": "code",
   "execution_count": 37,
   "metadata": {
    "scrolled": true
   },
   "outputs": [
    {
     "name": "stdout",
     "output_type": "stream",
     "text": [
      "------\n",
      "skip qid INEX_LD-20120121\n",
      "------\n",
      "skip qid INEX_LD-20120531\n",
      "------\n",
      "qid: INEX_XER-141, query: Universities in Catalunya\n",
      "lm_idf: univers: 3.07, catalunya: 9.07\n",
      "hf_idf: universities: 6.38, in: 0.23, cat: 5.3, ##al: 3.98, ##un: 5.05, ##ya: 4.56\n",
      "---\n",
      "bm25: True q-bm25: univers: 0.0, catalunya: 15.11\n",
      "bm25: True q-bm25_hf: universities: 0.0, in: 0.23, cat: 8.5, ##al: 6.39, ##un: 8.09, ##ya: 7.32\n",
      "cos-sims: universities: 0.0, in: 0.56, cat: 0.62, ##al: 0.64, ##un: 0.65, ##ya: 0.63\n",
      "t_doc: ['plaça', 'de', 'catalunya', 'station', 'plaça', 'de', 'catalunya', 'station', 'also', 'known', 'barcelona', 'plaça', 'catalunya', 'plaça', 'catalunya', 'simpli', 'catalunya', 'major', 'station', 'complex', 'barcelona', 'locat', 'under', 'plaça', 'de', 'catalunya', 'citi', 'central', 'squar', 'larg', 'transport', 'hub']\n",
      "dense: True q-bm25: universities: 0.0, in: 0.31, cat: 4.65, ##al: 3.49, ##un: 4.42, ##ya: 4.0\n",
      "t_doc: ['open', 'university', 'of', 'catalonia', 'the', 'open', 'university', 'of', 'catalonia', '(', 'catalan', ':', 'un', '##iver', '##sit', '##at', 'obe', '##rta', 'de', 'cat', '##al', '##un', '##ya', ',', 'u', '##oc', ';', 'ipa', ':', '[', 'un', '##i', '##β', '##ə', '##rs', '##i', '##ˈ', '##tat', 'u', '##ˈ', '##β', '##ɛ', '##rt', '##ə', 'ð', '##ə', 'k', '##ə', '##t', '##ə', '##ˈ', '##ɫ', '##u', '##ɲ', '##ə', ']', ')', 'is', 'a', 'public', 'internet', '-', 'centered', 'open', 'university', 'based', 'in', 'barcelona', ',', 'spain', '.', 'the', 'u', '##oc', 'offers', 'graduate', 'and', 'postgraduate', 'programs', 'in', 'catalan', ',', 'spanish', 'and', 'english', 'in', 'fields', 'such', 'as', 'psychology', ',', 'computer', 'science', ',', 'sciences', 'of', 'education', ',', 'information', 'and', 'knowledge', 'society', 'and', 'economics', '.']\n",
      "wdense: True, q-bm25: universities: 0.0, in: 0.33, cat: 6.91, ##al: 5.2, ##un: 6.58, ##ya: 5.95\n",
      "t_doc: ['institut', 'nacional', 'd', \"'\", 'ed', '##uca', '##cio', 'fis', '##ica', 'de', 'cat', '##al', '##un', '##ya', 'the', 'institut', 'nacional', 'd', \"'\", 'ed', '##uca', '##cio', 'fis', '##ica', 'de', 'cat', '##al', '##un', '##ya', '(', 'english', ':', 'national', 'institute', 'of', 'physical', 'education', 'of', 'catalonia', ',', 'in', '##ef', '##c', ')', 'is', 'an', 'indoor', 'venue', 'located', 'in', 'barcelona', '.', 'renovated', 'in', '1991', ',', 'it', 'hosted', 'the', 'wrestling', 'events', 'for', 'the', '1992', 'summer', 'olympics', '.']\n",
      "cbm25: False q-bm25: universities: 0.0, in: 0.3, cat: 7.38, ##al: 5.82, ##un: 7.03, ##ya: 6.36\n",
      "cos-sims: universities: 0.0, in: 0.6, cat: 0.68, ##al: 0.68, ##un: 0.67, ##ya: 0.66\n",
      "t_doc: ['cat', '##al', '##un', '##ya', '##ca', '##ix', '##a', 'cat', '##al', '##un', '##ya', '##ca', '##ix', '##a', '(', 'catalan', 'pronunciation', ':', '[', '[UNK]', ']', ')', 'is', 'the', 'trading', 'name', 'of', 'cai', '##xa', 'd', \"'\", 'est', '##al', '##vis', 'de', 'cat', '##al', '##un', '##ya', ',', 'tar', '##rag', '##ona', 'i', 'man', '##res', '##a', ',', 'a', 'catalan', 'savings', 'bank', 'with', 'headquarters', 'in', 'barcelona', '.', 'it', 'is', 'the', 'fourth', 'largest', 'savings', 'bank', 'in', 'spain', 'in', 'terms', 'of', 'consolidated', 'assets', ',', 'with', '€', '##8', '##1', '.', '02', '##0', 'billions', '.', 'it', 'was', 'founded', 'on', '1', 'july', '2010', 'by', 'the', 'fusion', 'of', 'cai', '##xa', 'cat', '##al', '##un', '##ya', ',', 'cai', '##xa', 'tar', '##rag', '##ona', 'and', 'cai', '##xa', 'man', '##res', '##a', '.', 'the', 'new', 'savings', 'bank', 'has', '121', '##2', 'branches', 'and', 'over', '4', 'million', 'customers', '.']\n",
      "------\n",
      "skip qid INEX_XER-67\n",
      "------\n",
      "skip qid QALD2_te-60\n",
      "------\n",
      "qid: QALD2_te-64, query: Give me all launch pads operated by NASA.\n",
      "lm_idf: give: 5.55, me: 5.71, all: 3.39, launch: 5.02, pad: 8.38, oper: 3.69, nasa: 7.45\n",
      "hf_idf: give: 6.51, me: 4.48, all: 3.3, launch: 6.75, pads: 9.26, operated: 4.67, by: 1.22, nasa: 7.28, .: 0.01\n",
      "---\n",
      "bm25: True q-bm25: give: 0.0, me: 0.0, all: 2.71, launch: 7.47, pad: 6.7, oper: 2.95, nasa: 8.38\n",
      "bm25: True q-bm25_hf: give: 0.0, me: 0.0, all: 2.8, launch: 9.56, pads: 0.0, operated: 3.96, by: 0.0, nasa: 8.43, .: 0.01\n",
      "cos-sims: give: 0.0, me: 0.0, all: 0.37, launch: 0.42, pads: 0.0, operated: 0.42, by: 0.0, nasa: 0.42, .: 0.42\n",
      "t_doc: ['rm', '90', 'blue', 'scout', 'ii', 'rm', '90', 'blue', 'scout', 'ii', 'american', 'sound', 'rocket', 'expend', 'launch', 'system', 'which', 'flown', 'three', 'time', 'dure', '1961', 'us', 'two', 'het', 'test', 'flight', 'launch', 'mercuri', 'scout', '1', 'satellit', 'nasa', 'member', 'scout', 'famili', 'rockets.th', 'blue', 'scout', 'ii', 'militari', 'version', 'nasa', 'oper', 'scout', 'x', '1', 'all', 'three', 'launch', 'occur', 'from', 'launch', 'complex', '18b', 'cape', 'canaver', 'air', 'forc', 'station', 'same', 'launch', 'pad', 'us', 'blue', 'scout', 'i']\n",
      "dense: True q-bm25: give: 0.0, me: 0.0, all: 0.0, launch: 10.31, pads: 7.84, operated: 3.95, by: 1.03, nasa: 0.0, .: 0.01\n",
      "t_doc: ['space', '##port', 'florida', 'launch', 'complex', '36', 'launch', 'complex', '36', '(', 'lc', '-', '36', ')', ',', 'known', 'as', 'space', 'launch', 'complex', '36', '(', 'sl', '##c', '-', '36', ')', 'from', '1997', 'to', '2010', ',', 'is', 'a', 'launch', 'complex', 'at', 'cape', 'can', '##aver', '##al', 'air', 'force', 'station', 'in', 'br', '##eva', '##rd', 'county', ',', 'florida', '.', 'now', 'operated', 'under', 'license', 'by', 'space', 'florida', ',', 'it', 'was', 'used', 'for', 'atlas', 'launches', 'from', '1962', 'until', '2005', '.', 'historically', ',', 'the', 'complex', 'consisted', 'of', 'two', 'launch', 'pads', ',', 'sl', '##c', '-', '36', '##a', 'and', 'sl', '##c', '-', '36', '##b', ',', 'and', 'was', 'the', 'launch', 'site', 'for', 'the', 'pioneer', ',', 'surveyor', ',', 'and', 'marine', '##r', 'probe', '##s', 'in', 'the', '1960s', 'and', '1970s', '.']\n",
      "wdense: True, q-bm25: give: 0.0, me: 0.0, all: 0.0, launch: 9.93, pads: 12.07, operated: 0.0, by: 1.59, nasa: 0.0, .: 0.01\n",
      "t_doc: ['van', '##den', '##berg', 'afb', 'space', 'launch', 'complex', '4', 'space', 'launch', 'complex', '4', '(', 'sl', '##c', '-', '4', ')', 'is', 'a', 'launch', 'site', 'at', 'van', '##den', '##berg', 'air', 'force', 'base', 'with', 'two', 'pads', ',', 'both', 'of', 'which', 'are', 'used', 'by', 'space', '##x', 'for', 'falcon', '9', 'launch', 'operations', '.', 'the', 'complex', 'was', 'previously', 'used', 'by', 'atlas', 'and', 'titan', 'rockets', 'between', '1963', 'and', '2005', '.', 'it', 'consisted', 'of', 'two', 'launch', 'pads', ',', 'sl', '##c', '-', '4', '##w', 'and', 'sl', '##c', '-', '4', '##e', ',', 'which', 'were', 'formerly', 'designated', 'pal', '##c', '##2', '-', '3', 'and', 'pal', '##c', '##2', '-', '4', 'respectively', '.', 'both', 'pads', 'were', 'built', 'for', 'use', 'by', 'atlas', '-', 'age', '##na', 'rockets', ',', 'but', 'were', 'later', 'rebuilt', 'to', 'handle', 'titan', 'rockets', '.']\n"
     ]
    },
    {
     "name": "stderr",
     "output_type": "stream",
     "text": [
      "/tmp/ipykernel_1633064/1542452337.py:3: RuntimeWarning: invalid value encountered in true_divide\n",
      "  reps /= np.linalg.norm(reps, axis=2)[:, :, np.newaxis]\n"
     ]
    },
    {
     "name": "stdout",
     "output_type": "stream",
     "text": [
      "cbm25: False q-bm25: give: 0.0, me: 0.0, all: 0.0, launch: 6.95, pads: 0.0, operated: 4.81, by: 1.61, nasa: 10.55, .: 0.01\n",
      "cos-sims: give: 0.0, me: 0.0, all: 0.0, launch: 0.47, pads: 0.0, operated: 0.51, by: 0.53, nasa: 0.52, .: 0.53\n",
      "t_doc: ['nasa', 'recovery', 'ship', 'the', 'nasa', 'recovery', 'ships', 'are', 'two', 'ships', ',', 'the', 'mv', 'liberty', 'star', 'and', 'the', 'mv', 'freedom', 'star', ',', 'that', 'are', 'tasked', 'with', 're', '##tri', '##eving', 'spent', 'solid', 'rocket', 'booster', '##s', '(', 'sr', '##bs', ')', 'following', 'the', 'launch', 'of', 'space', 'shuttle', 'missions', '.', 'although', 'owned', 'by', 'nasa', ',', 'the', 'ships', 'are', 'currently', 'operated', 'by', 'space', 'flight', 'operations', 'contractor', 'united', 'space', 'alliance', '.']\n",
      "------\n",
      "skip qid QALD2_tr-65\n",
      "------\n",
      "qid: QALD2_tr-82, query: In which programming language is GIMP written?\n",
      "lm_idf: which: 2.34, program: 4.36, languag: 4.31, gimp: 11.06, written: 3.74\n",
      "hf_idf: in: 0.23, which: 2.34, programming: 6.04, language: 4.45, is: 0.29, gi: 5.16, ##mp: 5.28, written: 3.74, ?: 5.51\n",
      "---\n",
      "bm25: True q-bm25: which: 0.0, program: 5.48, languag: 0.0, gimp: 15.65, written: 0.0\n",
      "bm25: True q-bm25_hf: in: 0.22, which: 0.0, programming: 0.0, language: 0.0, is: 0.36, gi: 7.9, ##mp: 8.09, written: 0.0, ?: 0.0\n",
      "cos-sims: in: 0.56, which: 0.0, programming: 0.0, language: 0.0, is: 0.56, gi: 0.64, ##mp: 0.62, written: 0.0, ?: 0.0\n",
      "t_doc: ['gimphoto', 'gimphoto', 'modif', 'free', 'open', 'sourc', 'graphic', 'program', 'gnu', 'imag', 'manipul', 'program', 'gimp', 'intent', 'free', 'replac', 'adob', 'photoshop.it', 'ha', 'new', 'menu', 'layout', 'new', 'brush', 'gradient', 'set', 'it', 'primari', 'purpos', 'enhanc', 'gimp', 'term', 'user', 'interfac', 'us', 'best', 'plugin', 'other', 'resourc', 'combin', 'latest', 'stabl', 'version', 'gimp']\n",
      "dense: True q-bm25: in: 0.2, which: 0.0, programming: 0.0, language: 0.0, is: 0.34, gi: 7.37, ##mp: 7.88, written: 0.0, ?: 0.0\n",
      "t_doc: ['gi', '##mp', 'gi', '##mp', '(', '/', 'ɡ', '##ɪ', '##mp', '/', ';', 'an', 'acronym', 'for', 'gnu', 'image', 'manipulation', 'program', ')', 'is', 'a', 'free', 'and', 'open', '-', 'source', 'ras', '##ter', 'graphics', 'editor', 'used', 'for', 'image', 're', '##tou', '##ching', 'and', 'editing', ',', 'free', '-', 'form', 'drawing', ',', 'res', '##izing', ',', 'crop', '##ping', ',', 'photo', '-', 'mont', '##ages', ',', 'converting', 'between', 'different', 'image', 'formats', ',', 'and', 'more', 'specialized', 'tasks', '.', 'gi', '##mp', 'began', 'in', '1995', 'as', 'the', 'school', 'project', 'of', 'two', 'university', 'students', ';', 'now', 'gi', '##mp', 'is', 'a', 'full', '-', 'fledged', 'application', ',', 'available', 'on', 'all', 'distributions', 'of', 'linux', ',', 'os', 'x', 'and', 'microsoft', 'windows', '—', 'xp', 'and', 'later', 'versions', '.']\n",
      "wdense: True, q-bm25: in: 0.2, which: 0.0, programming: 0.0, language: 0.0, is: 0.34, gi: 7.37, ##mp: 7.88, written: 0.0, ?: 0.0\n",
      "t_doc: ['gi', '##mp', 'gi', '##mp', '(', '/', 'ɡ', '##ɪ', '##mp', '/', ';', 'an', 'acronym', 'for', 'gnu', 'image', 'manipulation', 'program', ')', 'is', 'a', 'free', 'and', 'open', '-', 'source', 'ras', '##ter', 'graphics', 'editor', 'used', 'for', 'image', 're', '##tou', '##ching', 'and', 'editing', ',', 'free', '-', 'form', 'drawing', ',', 'res', '##izing', ',', 'crop', '##ping', ',', 'photo', '-', 'mont', '##ages', ',', 'converting', 'between', 'different', 'image', 'formats', ',', 'and', 'more', 'specialized', 'tasks', '.', 'gi', '##mp', 'began', 'in', '1995', 'as', 'the', 'school', 'project', 'of', 'two', 'university', 'students', ';', 'now', 'gi', '##mp', 'is', 'a', 'full', '-', 'fledged', 'application', ',', 'available', 'on', 'all', 'distributions', 'of', 'linux', ',', 'os', 'x', 'and', 'microsoft', 'windows', '—', 'xp', 'and', 'later', 'versions', '.']\n",
      "cbm25: False q-bm25: in: 0.27, which: 2.05, programming: 8.66, language: 6.66, is: 0.39, gi: 0.0, ##mp: 0.0, written: 3.28, ?: 0.0\n",
      "cos-sims: in: 0.49, which: 0.49, programming: 0.53, language: 0.53, is: 0.5, gi: 0.0, ##mp: 0.0, written: 0.47, ?: 0.0\n",
      "t_doc: ['sim', '##org', '##h', 'programming', 'language', 'sim', '##org', '##h', 'programming', 'language', 'is', 'a', 'general', 'purpose', ',', 'english', 'and', 'non', '-', 'english', '-', 'based', 'programming', 'language', 'developed', 'by', 'k', '##hal', '##il', 'tor', '##abi', 'in', '1994', '.', 'the', 'aim', 'of', 'this', 'paper', 'is', 'to', 'introduce', 'the', 'most', 'recent', 'developments', 'of', 'sim', '##org', '##h', 'programming', 'language', '(', 'sp', '##l', ')', '.', 'sp', '##l', 'is', 'a', 'part', 'of', 'sim', '##org', '##h', 'environment', 'project', 'that', 'started', 'at', '1993', '.', 'sp', '##l', 'has', 'been', 'invented', 'with', 'the', 'aim', 'that', 'non', '-', 'technical', 'people', 'would', 'be', 'able', 'to', 'produce', 'their', 'own', 'portable', 'applications', 'which', 'can', 'be', 'written', 'in', 'their', 'own', 'native', 'language', '.']\n",
      "------\n",
      "skip qid SemSearch_ES-25\n",
      "------\n",
      "skip qid SemSearch_ES-95\n",
      "------\n",
      "qid: SemSearch_LS-1, query: Apollo astronauts who walked on the Moon\n",
      "lm_idf: apollo: 7.81, astronaut: 8.1, who: 2.24, walk: 6.27, moon: 6.26\n",
      "hf_idf: apollo: 7.53, astronauts: 9.31, who: 2.24, walked: 9.11, on: 1.39, the: 0.12, moon: 6.13\n",
      "---\n",
      "bm25: True q-bm25: apollo: 12.76, astronaut: 11.61, who: 0.0, walk: 5.18, moon: 8.3\n",
      "bm25: True q-bm25_hf: apollo: 12.1, astronauts: 13.41, who: 0.0, walked: 8.07, on: 1.66, the: 0.19, moon: 8.25\n",
      "cos-sims: apollo: 0.77, astronauts: 0.78, who: 0.0, walked: 0.8, on: 0.82, the: 0.82, moon: 0.81\n",
      "t_doc: ['list', 'apollo', 'astronaut', 'thirti', 'two', 'astronaut', 'were', 'assign', 'fly', 'apollo', 'man', 'lunar', 'land', 'program', 'twenti', 'four', 'left', 'earth', 'orbit', 'flew', 'around', 'moon', 'apollo', '1', 'never', 'launch', 'apollo', '7', 'apollo', '9', 'were', 'low', 'earth', 'orbit', 'spacecraft', 'test', 'mission', 'addit', 'nine', 'astronaut', 'flew', 'apollo', 'spacecraft', 'apollo', 'applic', 'program', 'skylab', 'apollo', 'soyuz', 'test', 'project.twelv', 'astronaut', 'walk', 'moon', 'surfac', 'six', 'those', 'drove', 'lunar', 'rove', 'vehicl', 'moon']\n",
      "dense: True q-bm25: apollo: 6.57, astronauts: 8.13, who: 0.0, walked: 0.0, on: 1.22, the: 0.15, moon: 0.0\n",
      "t_doc: ['edward', 'higgins', 'white', 'edward', 'higgins', '\"', 'ed', '\"', 'white', 'ii', '(', 'november', '14', ',', '1930', '–', 'january', '27', ',', '1967', ')', ',', '(', 'lt', 'col', ',', 'usaf', ')', ',', 'was', 'an', 'american', 'aeronautical', 'engineer', ',', 'u', '.', 's', '.', 'air', 'force', 'officer', ',', 'test', 'pilot', ',', 'and', 'nasa', 'astronaut', '.', 'on', 'june', '3', ',', '1965', ',', 'he', 'became', 'the', 'first', 'american', 'to', '\"', 'walk', '\"', 'in', 'space', '.', 'white', 'died', 'along', 'with', 'his', 'fellow', 'astronauts', 'virgil', '\"', 'gus', '\"', 'gr', '##iss', '##om', 'and', 'roger', 'b', '.', 'cha', '##ffe', '##e', 'during', 'pre', '##lau', '##nch', 'testing', 'for', 'the', 'first', 'manned', 'apollo', 'mission', 'at', 'cape', 'can', '##aver', '##al', '.']\n",
      "wdense: True, q-bm25: apollo: 9.02, astronauts: 0.0, who: 0.0, walked: 0.0, on: 1.88, the: 0.19, moon: 5.47\n",
      "t_doc: ['apollo', '11', 'apollo', '11', 'was', 'the', 'space', '##flight', 'that', 'landed', 'the', 'first', 'humans', 'on', 'the', 'moon', ',', 'americans', 'neil', 'armstrong', 'and', 'buzz', 'al', '##dr', '##in', ',', 'on', 'july', '20', ',', '1969', ',', 'at', '20', ':', '18', 'utc', '.', 'armstrong', 'became', 'the', 'first', 'to', 'step', 'onto', 'the', 'lunar', 'surface', 'six', 'hours', 'later', 'on', 'july', '21', 'at', '02', ':', '56', 'utc', '.', 'armstrong', 'spent', 'about', 'two', 'and', 'a', 'half', 'hours', 'outside', 'the', 'spacecraft', ',', 'al', '##dr', '##in', 'slightly', 'less', ',', 'and', 'together', 'they', 'collected', '47', '.', '5', 'pounds', '(', '21', '.', '5', 'kg', ')', 'of', 'lunar', 'material', 'for', 'return', 'to', 'earth', '.']\n",
      "cbm25: False q-bm25: apollo: 6.74, astronauts: 11.18, who: 2.0, walked: 8.16, on: 1.67, the: 0.19, moon: 8.3\n",
      "cos-sims: apollo: 0.79, astronauts: 0.82, who: 0.83, walked: 0.83, on: 0.83, the: 0.81, moon: 0.79\n",
      "t_doc: ['the', 'wonder', 'of', 'it', 'all', '(', '2007', 'film', ')', 'the', 'wonder', 'of', 'it', 'all', 'is', 'a', '2007', 'documentary', 'directed', 'by', 'jeffrey', 'roth', 'and', 'distributed', 'by', 'ind', '##ica', '##n', 'pictures', '.', 'it', 'is', 'composed', 'of', 'first', '-', 'person', 'interviews', 'with', 'seven', 'of', 'the', 'apollo', 'astronauts', 'who', 'walked', 'on', 'the', 'moon', '(', 'buzz', 'al', '##dr', '##in', ',', 'alan', 'bean', ',', 'edgar', 'mitchell', ',', 'john', 'young', ',', 'charlie', 'duke', ',', 'eugene', 'ce', '##rna', '##n', ',', 'and', 'harrison', 'sc', '##hmi', '##tt', ')', '.', 'the', 'astronauts', 'explain', 'their', 'backgrounds', ',', 'their', 'moon', 'missions', ',', 'and', 'how', 'walking', 'on', 'the', 'moon', 'changed', 'their', 'lives', '.']\n",
      "------\n",
      "skip qid SemSearch_LS-24\n",
      "------\n",
      "skip qid SemSearch_LS-3\n",
      "------\n",
      "skip qid TREC_Entity-1\n",
      "------\n",
      "skip qid TREC_Entity-14\n",
      "------\n",
      "qid: TREC_Entity-4, query: Professional sports teams in Philadelphia.\n",
      "lm_idf: profession: 3.45, sport: 4.4, team: 3.22, philadelphia: 5.64\n",
      "hf_idf: professional: 3.51, sports: 4.74, teams: 4.74, in: 0.23, philadelphia: 5.63, .: 0.01\n",
      "---\n",
      "bm25: True q-bm25: profession: 4.28, sport: 6.17, team: 4.52, philadelphia: 8.47\n",
      "bm25: True q-bm25_hf: professional: 4.53, sports: 6.77, teams: 6.11, in: 0.36, philadelphia: 8.5, .: 0.01\n",
      "cos-sims: professional: 0.78, sports: 0.85, teams: 0.79, in: 0.86, philadelphia: 0.85, .: 0.82\n",
      "t_doc: ['sport', 'philadelphia', 'philadelphia', 'pennsylvania', 'ha', 'been', 'home', 'mani', 'team', 'event', 'profession', 'semi', 'profession', 'amateur', 'colleg', 'high', 'school', 'sport', 'philadelphia', 'on', 'twelv', 'citi', 'host', 'team', 'all', 'four', 'major', 'sport', 'leagu', 'north', 'america', 'philadelphia', 'on', 'just', 'three', 'citi', 'which', 'on', 'team', 'from', 'everi', 'leagu', 'plai', 'within', 'citi', 'limit']\n",
      "dense: True q-bm25: professional: 4.53, sports: 6.77, teams: 6.11, in: 0.36, philadelphia: 8.5, .: 0.01\n",
      "t_doc: ['sports', 'in', 'philadelphia', 'philadelphia', ',', 'pennsylvania', ',', 'has', 'been', 'home', 'to', 'many', 'teams', 'and', 'events', 'in', 'professional', ',', 'semi', '-', 'professional', ',', 'amateur', ',', 'college', ',', 'and', 'high', '-', 'school', 'sports', '.', 'philadelphia', 'is', 'one', 'of', 'twelve', 'cities', 'that', 'hosts', 'teams', 'in', 'all', 'four', 'major', 'sports', 'leagues', 'in', 'north', 'america', ',', 'and', 'philadelphia', 'is', 'one', 'of', 'just', 'three', 'cities', 'in', 'which', 'one', 'team', 'from', 'every', 'league', 'plays', 'within', 'city', 'limits', '.']\n",
      "wdense: True, q-bm25: professional: 4.53, sports: 6.77, teams: 6.11, in: 0.36, philadelphia: 8.5, .: 0.01\n",
      "t_doc: ['sports', 'in', 'philadelphia', 'philadelphia', ',', 'pennsylvania', ',', 'has', 'been', 'home', 'to', 'many', 'teams', 'and', 'events', 'in', 'professional', ',', 'semi', '-', 'professional', ',', 'amateur', ',', 'college', ',', 'and', 'high', '-', 'school', 'sports', '.', 'philadelphia', 'is', 'one', 'of', 'twelve', 'cities', 'that', 'hosts', 'teams', 'in', 'all', 'four', 'major', 'sports', 'leagues', 'in', 'north', 'america', ',', 'and', 'philadelphia', 'is', 'one', 'of', 'just', 'three', 'cities', 'in', 'which', 'one', 'team', 'from', 'every', 'league', 'plays', 'within', 'city', 'limits', '.']\n",
      "cbm25: False q-bm25: professional: 3.82, sports: 7.04, teams: 5.16, in: 0.0, philadelphia: 8.38, .: 0.01\n",
      "cos-sims: professional: 0.79, sports: 0.78, teams: 0.76, in: 0.0, philadelphia: 0.75, .: 0.75\n",
      "t_doc: ['south', 'philadelphia', 'sports', 'complex', 'the', 'south', 'philadelphia', 'sports', 'complex', 'is', 'the', 'current', 'home', 'of', 'philadelphia', \"'\", 's', 'professional', 'sports', 'teams', '.', 'it', 'is', 'the', 'site', 'of', 'the', 'wells', 'fargo', 'center', ',', 'lincoln', 'financial', 'field', ',', 'citizens', 'bank', 'park', ',', 'and', 'a', 'retail', '/', 'entertainment', 'center', 'x', '##fin', '##ity', 'live', '!', '.']\n"
     ]
    }
   ],
   "source": [
    "for qid in worse_query.index:\n",
    "    show_result_top1_analysis(qid, false_condition)"
   ]
  },
  {
   "cell_type": "code",
   "execution_count": 41,
   "metadata": {},
   "outputs": [
    {
     "name": "stdout",
     "output_type": "stream",
     "text": [
      "24.76\n",
      "10.2592\n",
      "23.930000000000003\n",
      "12.064200000000001\n"
     ]
    }
   ],
   "source": [
    "# bm25: True q-bm25_hf: give: 0.0, me: 0.0, all: 2.8, launch: 9.56, pads: 0.0, operated: 3.96, by: 0.0, nasa: 8.43, .: 0.01\n",
    "# cos-sims: give: 0.0, me: 0.0, all: 0.37, launch: 0.42, pads: 0.0, operated: 0.42, by: 0.0, nasa: 0.42, .: 0.42\n",
    "print(2.8+9.56+3.96+8.43+0.01)\n",
    "print(2.8*0.37+9.56*0.42+3.96*0.42+8.43*0.42+0.01*0.42)\n",
    "\n",
    "# cbm25: False q-bm25: give: 0.0, me: 0.0, all: 0.0, launch: 6.95, pads: 0.0, operated: 4.81, by: 1.61, nasa: 10.55, .: 0.01\n",
    "# cos-sims: give: 0.0, me: 0.0, all: 0.0, launch: 0.47, pads: 0.0, operated: 0.51, by: 0.53, nasa: 0.52, .: 0.53\n",
    "print(6.95+4.81+1.61+10.55+0.01)\n",
    "print(6.95*0.47+4.81*0.51+1.61*0.53+10.55*0.52+0.01*0.53)"
   ]
  },
  {
   "cell_type": "code",
   "execution_count": 35,
   "metadata": {},
   "outputs": [
    {
     "name": "stdout",
     "output_type": "stream",
     "text": [
      "cbm25: False q-bm25: professional: 3.82, sports: 7.04, teams: 5.16, in: 0.0, philadelphia: 8.38, .: 0.01\n",
      "cos-sims: professional: 0.79, sports: 0.78, teams: 0.76, in: 0.0, philadelphia: 0.75, .: 0.75\n",
      "t_doc: ['south', 'philadelphia', 'sports', 'complex', 'the', 'south', 'philadelphia', 'sports', 'complex', 'is', 'the', 'current', 'home', 'of', 'philadelphia', \"'\", 's', 'professional', 'sports', 'teams', '.', 'it', 'is', 'the', 'site', 'of', 'the', 'wells', 'fargo', 'center', ',', 'lincoln', 'financial', 'field', ',', 'citizens', 'bank', 'park', ',', 'and', 'a', 'retail', '/', 'entertainment', 'center', 'x', '##fin', '##ity', 'live', '!', '.']\n"
     ]
    },
    {
     "name": "stderr",
     "output_type": "stream",
     "text": [
      "/tmp/ipykernel_1630232/1542452337.py:3: RuntimeWarning: invalid value encountered in true_divide\n",
      "  reps /= np.linalg.norm(reps, axis=2)[:, :, np.newaxis]\n"
     ]
    }
   ],
   "source": [
    "qid = \"TREC_Entity-4\"\n",
    "cid_cbm25_top2 = [(k, v, k in qrels[qid]) for k, v in  sorted(cbm25_result[func_name][qid].items(), key=lambda x: -x[1])][0][0]\n",
    "cid_cbm25_tok_score = get_bm25_val(cid_cbm25_top2, queries[qid], hf_token_bm25_score, hf_tokenizer.tokenize)\n",
    "t_doc = tokenizer_doc(cid_cbm25_top2, hf_tokenizer.tokenize)\n",
    "t_cos_sims = max_cos_sims(queries[qid], corpus[cid_cbm25_top2], hf_model, hf_tokenizer)\n",
    "print(f\"cbm25: {cid_cbm25_top2 in qrels[qid]} q-bm25: {cid_cbm25_tok_score}\")\n",
    "print(f\"cos-sims: {t_cos_sims}\")\n",
    "print(f\"t_doc: {t_doc}\")"
   ]
  },
  {
   "cell_type": "code",
   "execution_count": 34,
   "metadata": {},
   "outputs": [
    {
     "name": "stdout",
     "output_type": "stream",
     "text": [
      "cbm25: True q-bm25: professional: 4.53, sports: 6.77, teams: 6.11, in: 0.36, philadelphia: 8.5, .: 0.01\n",
      "cos-sims: professional: 0.78, sports: 0.85, teams: 0.79, in: 0.86, philadelphia: 0.85, .: 0.82\n",
      "t_doc: ['sports', 'in', 'philadelphia', 'philadelphia', ',', 'pennsylvania', ',', 'has', 'been', 'home', 'to', 'many', 'teams', 'and', 'events', 'in', 'professional', ',', 'semi', '-', 'professional', ',', 'amateur', ',', 'college', ',', 'and', 'high', '-', 'school', 'sports', '.', 'philadelphia', 'is', 'one', 'of', 'twelve', 'cities', 'that', 'hosts', 'teams', 'in', 'all', 'four', 'major', 'sports', 'leagues', 'in', 'north', 'america', ',', 'and', 'philadelphia', 'is', 'one', 'of', 'just', 'three', 'cities', 'in', 'which', 'one', 'team', 'from', 'every', 'league', 'plays', 'within', 'city', 'limits', '.']\n"
     ]
    },
    {
     "name": "stderr",
     "output_type": "stream",
     "text": [
      "/tmp/ipykernel_1630232/1542452337.py:3: RuntimeWarning: invalid value encountered in true_divide\n",
      "  reps /= np.linalg.norm(reps, axis=2)[:, :, np.newaxis]\n"
     ]
    }
   ],
   "source": [
    "qid = \"TREC_Entity-4\"\n",
    "cid_cbm25_top2 = [(k, v, k in qrels[qid]) for k, v in  sorted(cbm25_result[func_name][qid].items(), key=lambda x: -x[1])][1][0]\n",
    "cid_cbm25_tok_score = get_bm25_val(cid_cbm25_top2, queries[qid], hf_token_bm25_score, hf_tokenizer.tokenize)\n",
    "t_doc = tokenizer_doc(cid_cbm25_top2, hf_tokenizer.tokenize)\n",
    "t_cos_sims = max_cos_sims(queries[qid], corpus[cid_cbm25_top2], hf_model, hf_tokenizer)\n",
    "print(f\"cbm25: {cid_cbm25_top2 in qrels[qid]} q-bm25: {cid_cbm25_tok_score}\")\n",
    "print(f\"cos-sims: {t_cos_sims}\")\n",
    "print(f\"t_doc: {t_doc}\")"
   ]
  },
  {
   "cell_type": "code",
   "execution_count": 50,
   "metadata": {},
   "outputs": [
    {
     "name": "stdout",
     "output_type": "stream",
     "text": [
      "26.830000000000002\n",
      "22.114899999999995\n",
      "24.73\n",
      "18.9674\n"
     ]
    }
   ],
   "source": [
    "# professional: 4.6, sports: 6.92, teams: 6.2, in: 0.37, philadelphia: 8.73, .: 0.01\n",
    "# cos-sims: professional: 0.78, sports: 0.85, teams: 0.79, in: 0.86, philadelphia: 0.85, .: 0.82\n",
    "print(4.6+6.92+6.2+0.37+8.73+0.01)\n",
    "print(4.6*0.78+6.92*0.85+6.2*0.79+0.37*0.86+8.73*0.85+0.01*0.82)\n",
    "# professional: 3.81, sports: 7.2, teams: 5.15, in: 0.0, philadelphia: 8.56, .: 0.01\n",
    "# professional: 0.79, sports: 0.78, teams: 0.76, in: 0.0, philadelphia: 0.75, .: 0.75\n",
    "print(3.81+7.2+5.15+0.0+8.56+0.01)\n",
    "print(3.81*0.79+7.2*0.78+5.15*0.76+0.0+8.56*0.75+0.01*0.75)"
   ]
  },
  {
   "cell_type": "code",
   "execution_count": 53,
   "metadata": {},
   "outputs": [
    {
     "data": {
      "text/plain": [
       "[('<dbpedia:South_Philadelphia_Sports_Complex>', 17.859652392290908, False),\n",
       " ('<dbpedia:Sports_in_Philadelphia>', 17.736056922069046, True),\n",
       " ('<dbpedia:Sports_in_Allentown,_Pennsylvania>', 16.71823069463957, False),\n",
       " ('<dbpedia:List_of_professional_sports_teams_in_Pennsylvania>',\n",
       "  13.806071164176721,\n",
       "  True),\n",
       " ('<dbpedia:SportsChannel_Philadelphia>', 12.749770900996921, True),\n",
       " ('<dbpedia:Sports_teams_in_the_Central_Pennsylvania_Area>',\n",
       "  11.86070957058163,\n",
       "  False),\n",
       " ('<dbpedia:Philadelphia_Phillies>', 11.785149620344132, True),\n",
       " ('<dbpedia:List_of_Philadelphia_Flyers_records>', 10.32809509868458, False),\n",
       " ('<dbpedia:List_of_professional_sports_teams_in_New_York>',\n",
       "  9.511927393654405,\n",
       "  False),\n",
       " ('<dbpedia:Philadelphia_Quakers_(AFL)>', 9.346098095411772, False)]"
      ]
     },
     "execution_count": 53,
     "metadata": {},
     "output_type": "execute_result"
    }
   ],
   "source": [
    "[(k, v, k in qrels[qid]) for k, v in  sorted(cbm25_result[func_name][qid].items(), key=lambda x: -x[1])][:10]"
   ]
  },
  {
   "cell_type": "code",
   "execution_count": 54,
   "metadata": {},
   "outputs": [
    {
     "ename": "ModuleNotFoundError",
     "evalue": "No module named 'lss_func'",
     "output_type": "error",
     "traceback": [
      "\u001b[0;31m---------------------------------------------------------------------------\u001b[0m",
      "\u001b[0;31mModuleNotFoundError\u001b[0m                       Traceback (most recent call last)",
      "Input \u001b[0;32mIn [54]\u001b[0m, in \u001b[0;36m<module>\u001b[0;34m\u001b[0m\n\u001b[0;32m----> 1\u001b[0m \u001b[38;5;28;01mfrom\u001b[39;00m \u001b[38;5;21;01mlss_func\u001b[39;00m \u001b[38;5;28;01mimport\u001b[39;00m LSS_FUNC\n",
      "\u001b[0;31mModuleNotFoundError\u001b[0m: No module named 'lss_func'"
     ]
    }
   ],
   "source": [
    "from lss_func import LSS_FUNC"
   ]
  },
  {
   "cell_type": "code",
   "execution_count": null,
   "metadata": {},
   "outputs": [],
   "source": []
  },
  {
   "cell_type": "code",
   "execution_count": 30,
   "metadata": {},
   "outputs": [
    {
     "data": {
      "text/plain": [
       "('<dbpedia:CatalunyaCaixa>', 14.438369397728444)"
      ]
     },
     "execution_count": 30,
     "metadata": {},
     "output_type": "execute_result"
    }
   ],
   "source": [
    "sorted(cbm25_result[func_name][\"INEX_XER-141\"].items(), key=lambda x: -x[1])[0]"
   ]
  },
  {
   "cell_type": "code",
   "execution_count": 37,
   "metadata": {},
   "outputs": [
    {
     "name": "stdout",
     "output_type": "stream",
     "text": [
      "Give me all movies directed by Francis Ford Coppola.\n",
      "bm25\n",
      "give: 0.0, me: 5.83, all: 0.0, movies: 0.0, directed: 0.0, by: 0.0, francis: 5.66, ford: 6.38, cop: 6.81, ##pol: 5.96, ##a: 2.4, .: 0.01\n",
      "give: 0.0, me: 0.49, all: 0.0, movies: 0.0, directed: 0.0, by: 0.0, francis: 0.6, ford: 0.61, cop: 0.61, ##pol: 0.61, ##a: 0.58, .: 0.46\n",
      "cmb25\n",
      "give: 0.0, me: 0.0, all: 0.0, movies: 0.0, directed: 4.38, by: 1.91, francis: 6.6, ford: 7.44, cop: 9.88, ##pol: 8.64, ##a: 3.48, .: 0.01\n",
      "give: 0.0, me: 0.0, all: 0.0, movies: 0.0, directed: 0.65, by: 0.69, francis: 0.71, ford: 0.72, cop: 0.71, ##pol: 0.68, ##a: 0.66, .: 0.61\n"
     ]
    },
    {
     "name": "stderr",
     "output_type": "stream",
     "text": [
      "/tmp/ipykernel_1559712/1542452337.py:3: RuntimeWarning: invalid value encountered in true_divide\n",
      "  reps /= np.linalg.norm(reps, axis=2)[:, :, np.newaxis]\n"
     ]
    }
   ],
   "source": [
    "qid = \"QALD2_te-28\"\n",
    "cid = \"<dbpedia:Don't_Box_Me_In>\"\n",
    "query = queries[qid]\n",
    "print(query)\n",
    "print(\"bm25\")\n",
    "print(get_bm25_val(cid, query, hf_token_bm25_score, hf_tokenizer.tokenize))\n",
    "print(max_cos_sims(query, corpus[cid], hf_model, hf_tokenizer))\n",
    "print(\"cmb25\")\n",
    "cid = \"<dbpedia:The_Godfather>\"\n",
    "print(get_bm25_val(cid, query, hf_token_bm25_score, hf_tokenizer.tokenize))\n",
    "print(max_cos_sims(query, corpus[cid], hf_model, hf_tokenizer))"
   ]
  },
  {
   "cell_type": "code",
   "execution_count": 38,
   "metadata": {},
   "outputs": [
    {
     "name": "stdout",
     "output_type": "stream",
     "text": [
      "south korean girl groups\n",
      "south: 3.67, korean: 7.36, girl: 7.8, groups: 0.0\n",
      "south: 0.66, korean: 0.69, girl: 0.69, groups: 0.0\n"
     ]
    },
    {
     "name": "stderr",
     "output_type": "stream",
     "text": [
      "/tmp/ipykernel_1559712/1542452337.py:3: RuntimeWarning: invalid value encountered in true_divide\n",
      "  reps /= np.linalg.norm(reps, axis=2)[:, :, np.newaxis]\n"
     ]
    }
   ],
   "source": [
    "qid = \"INEX_LD-20120512\"\n",
    "cid = '<dbpedia:GP_Basic>'\n",
    "query = queries[qid]\n",
    "print(query)\n",
    "print(get_bm25_val(cid, query, hf_token_bm25_score, hf_tokenizer.tokenize))\n",
    "print(max_cos_sims(query, corpus[cid], hf_model, hf_tokenizer))"
   ]
  },
  {
   "cell_type": "code",
   "execution_count": 39,
   "metadata": {},
   "outputs": [
    {
     "name": "stdout",
     "output_type": "stream",
     "text": [
      "dense\n",
      "Universities in Catalunya\n",
      "universities: 0.0, in: 0.32, cat: 4.66, ##al: 3.51, ##un: 4.44, ##ya: 4.02\n",
      "universities: 0.0, in: 0.63, cat: 0.65, ##al: 0.68, ##un: 0.67, ##ya: 0.66\n",
      "cbm25\n",
      "universities: 0.0, in: 0.31, cat: 7.58, ##al: 6.0, ##un: 7.22, ##ya: 6.53\n",
      "universities: 0.0, in: 0.6, cat: 0.68, ##al: 0.68, ##un: 0.67, ##ya: 0.66\n"
     ]
    },
    {
     "name": "stderr",
     "output_type": "stream",
     "text": [
      "/tmp/ipykernel_1559712/1542452337.py:3: RuntimeWarning: invalid value encountered in true_divide\n",
      "  reps /= np.linalg.norm(reps, axis=2)[:, :, np.newaxis]\n"
     ]
    }
   ],
   "source": [
    "qid = \"INEX_XER-141\"\n",
    "cid = '<dbpedia:Open_University_of_Catalonia>'\n",
    "query = queries[qid]\n",
    "print('dense')\n",
    "print(query)\n",
    "print(get_bm25_val(cid, query, hf_token_bm25_score, hf_tokenizer.tokenize))\n",
    "print(max_cos_sims(query, corpus[cid], hf_model, hf_tokenizer))\n",
    "print(\"cbm25\")\n",
    "cid = '<dbpedia:CatalunyaCaixa>'\n",
    "print(get_bm25_val(cid, query, hf_token_bm25_score, hf_tokenizer.tokenize))\n",
    "print(max_cos_sims(query, corpus[cid], hf_model, hf_tokenizer))"
   ]
  },
  {
   "cell_type": "code",
   "execution_count": 40,
   "metadata": {},
   "outputs": [
    {
     "name": "stdout",
     "output_type": "stream",
     "text": [
      "vietnam food recipes\n",
      "bm25\n",
      "vietnam: 0.0, food: 8.5, recipes: 13.2\n",
      "vietnam: 0.0, food: 0.4, recipes: 0.4\n",
      "['raw', 'food', 'made', 'easy', 'for', '1', 'or', '2', 'people', 'raw', 'food', 'made', 'easy', 'for', '1', 'or', '2', 'people', 'is', 'a', 'recipe', 'book', 'by', 'raw', 'food', 'chef', 'jennifer', 'corn', '##ble', '##et', '.', 'the', 'best', '-', 'selling', 'book', 'was', 'published', 'in', '2005', 'and', 'promotes', 'the', 'raw', 'food', 'diet', ',', 'a', 'dietary', 'movement', 'that', 'encourages', 'the', 'consumption', 'of', 'un', '##co', '##oked', 'foods', 'to', 'obtain', 'maximum', 'health', 'benefits', '.', 'the', 'book', 'features', '115', 'recipes', ',', 'including', '21', 'breakfast', 'recipes', ',', '64', 'lunch', 'and', 'dinner', 'recipes', 'and', '30', 'dessert', 'recipes', '.', 'each', 'recipe', 'yields', 'serving', '##s', 'for', 'one', 'or', 'two', 'people', '.']\n",
      "cbm25\n",
      "vietnam: 8.92, food: 7.71, recipes: 0.0\n",
      "vietnam: 0.56, food: 0.54, recipes: 0.0\n"
     ]
    },
    {
     "name": "stderr",
     "output_type": "stream",
     "text": [
      "/tmp/ipykernel_1559712/1542452337.py:3: RuntimeWarning: invalid value encountered in true_divide\n",
      "  reps /= np.linalg.norm(reps, axis=2)[:, :, np.newaxis]\n"
     ]
    }
   ],
   "source": [
    "qid = \"INEX_LD-20120121\"\n",
    "cid = \"<dbpedia:Raw_Food_Made_Easy_for_1_or_2_People>\"\n",
    "query = queries[qid]\n",
    "print(query)\n",
    "print(\"bm25\")\n",
    "print(get_bm25_val(cid, query, hf_token_bm25_score, hf_tokenizer.tokenize))\n",
    "print(max_cos_sims(query, corpus[cid], hf_model, hf_tokenizer))\n",
    "print(tokenizer_doc(cid, hf_tokenizer.tokenize))\n",
    "print(\"cbm25\")\n",
    "cid = \"<dbpedia:Luke_Nguyen's_Vietnam>\"\n",
    "print(get_bm25_val(cid, query, hf_token_bm25_score, hf_tokenizer.tokenize))\n",
    "print(max_cos_sims(query, corpus[cid], hf_model, hf_tokenizer))"
   ]
  },
  {
   "cell_type": "code",
   "execution_count": 41,
   "metadata": {},
   "outputs": [
    {
     "name": "stdout",
     "output_type": "stream",
     "text": [
      "('<dbpedia:2007_Vietnam_food_scare>', 8.387637734113273) {'text': 'The 2007 Vietnam food scare was a food scandal, which exposed contaminated food.  Among the issues were formaldehyde in noodles of the national dish, Phở, banned pesticides in vegetables and fruit, and toxic soy sauce.', 'title': '2007 Vietnam food scare'}\n",
      "(\"<dbpedia:Luke_Nguyen's_Vietnam>\", 8.362236920817843) {'text': \"Luke Nguyen's Vietnam is an Australian television series first screened on SBS One in 2010. The series follows chef, Luke Nguyen, as he tours Vietnam seeking culinary delights and adventure. It is regularly broadcast on Good Food, a UK food-orientated TV channel.\", 'title': \"Luke Nguyen's Vietnam\"}\n",
      "('<dbpedia:Raw_Food_Made_Easy_for_1_or_2_People>', 6.43570945916866) {'text': 'Raw Food Made Easy for 1 or 2 People is a recipe book by raw food chef Jennifer Cornbleet.  The best-selling book was published in 2005 and promotes the raw food diet, a dietary movement that encourages the consumption of uncooked foods to obtain maximum health benefits.The book features 115 recipes, including 21 breakfast recipes, 64 lunch and dinner recipes and 30 dessert recipes.  Each recipe yields servings for one or two people.', 'title': 'Raw Food Made Easy for 1 or 2 People'}\n",
      "('<dbpedia:Nadia_Lim>', 5.194388896105757) {'text': 'Nadia Lim is a New Zealand born celebrity chef, entrepreneur, food writer and television personality. Lim is known as \"The Good Food Cook\", or the self-proclaimed \"Nude Cook\" as an advocate of natural, unprocessed foods, and for creating healthy, nutritious recipes by putting a health focus behind real food, which is influenced by her background as a clinical dietitian.', 'title': 'Nadia Lim'}\n",
      "('<dbpedia:Meishichina>', 5.192270752942102) {'text': 'Meishichina (Chinese: 《美食天下》; pinyin: měishí tiānxià) is a Chinese social networking service about food which is headquartered in Beijing, China. It began primarily as a curated recipe site, but evolved into a social service with integration to qq, weibo and other services, where people actively share and work on recipes, including meeting up in person through Meishichina activities. There are over 3.53 million pages of recipes and articles indexed by Google.', 'title': 'Meishichina'}\n",
      "('<dbpedia:Puppy_chow>', 5.179664523137127) {'text': \"Puppy chow, also typically known as muddy buddies, monkey munch, or reindeer food, is the name for a homemade snack made in the United States. The recipe's name and ingredients can differ depending on the version, but most recipes will typically include cereal, melted chocolate, peanut butter, and powdered sugar. Cereals used in the recipes are usually Chex or Crispix. The snack's name is based upon its look and consistency, which can resemble the Dog Chow brand of dog food in its appearance.\", 'title': 'Puppy chow'}\n",
      "('<dbpedia:Seduced_by_Bacon>', 5.118277251256389) {'text': \"Seduced by Bacon: Recipes & Lore about America's Favorite Indulgence is a cookbook about bacon written by Joanna Pruess with her husband Bob Lape. It was first published by The Lyons Press in 2006 and contains 90 recipes using bacon for breakfast, lunch, and dinner, and even desserts.Pruess is a food writer and consultant to the food industry, and her husband is a food critic who has written articles for Crain's business.\", 'title': 'Seduced by Bacon'}\n",
      "('<dbpedia:Tapai>', 4.921712723781827) {'text': 'Tapai (ta-pie) or tape (ta-peh), sometimes referred to as peuyeum (from Sundanese language), is a traditional fermented food found throughout much of East- and Southeast Asia. It is an alcoholic paste and has a sweet or sour tasteand can be used directly as a food or in traditional recipes. Tapai can be made from a variety of carbohydrate sources, but typically from cassava, white rice, or glutinous rice.', 'title': 'Tapai'}\n",
      "('<dbpedia:Smashed_Potatoes_(book)>', 4.827586082349995) {'text': 'Smashed Potatoes is a 1974 book edited by Jane G. Martel, consisting of essays relating to the nature and uses of food in modern society.  It was unique in its day for not only exploring the reasons behind human reactions to food, but also for investigating how these were influenced by racial and sexual stereotypes.  The essays were juxtaposed with recipes written by children, to demonstrate the effect of age on food perception.', 'title': 'Smashed Potatoes (book)'}\n",
      "('<dbpedia:Memories_with_Food_at_Gipsy_House>', 4.746939268619491) {'text': 'Memories with Food at Gipsy House is a collection of anecdotes and recipes by Roald Dahl and his second wife, Felicity.', 'title': 'Memories with Food at Gipsy House'}\n",
      "('<dbpedia:Joanna_Pruess>', 4.725705938818102) {'text': 'Joanna Pruess is a food and travel writer and a consultant to the food industry. She is the author of fourteen cookbooks including Seduced by Bacon and, most recently, \"Soup for Two: Small-Batch Recipes for One, Two, or a Few and \"Dos Caminos Tacos: 100 Recipes for Everyone\\'s Favorite Mexican Street Food\" with chef Ivy Stark.', 'title': 'Joanna Pruess'}\n",
      "('<dbpedia:Food_Network:_Cook_or_Be_Cooked>', 4.667217531453591) {'text': 'Food Network: Cook or Be Cooked is a cooking simulation-styled minigame compilation developed by Red Fly Studio and published by Namco Bandai Games. It was released in North America on November 3, 2009, and is the first video game to use the Food Network license.Cook or Be Cooked contains twelve different meals to prepare; the player must go through recipes and complete the meals by completing minigames correctly.', 'title': 'Food Network: Cook or Be Cooked'}\n",
      "('<dbpedia:Everything_Tastes_Better_with_Bacon>', 4.490043296223591) {'text': \"Everything Tastes Better with Bacon: 70 Fabulous Recipes for Every Meal of the Day is a book about cooking with bacon written by Sara Perry. She is an author, food commentator and columnist for The Oregonian. The book was published in the United States on May 1, 2002, by Chronicle Books, and in a French language edition in 2004 by Les Éditions de l'Homme in Montreal. In it, Perry describes her original concept of recipes combining sugar and bacon.\", 'title': 'Everything Tastes Better with Bacon'}\n",
      "('<dbpedia:Dish_(food)>', 4.478648346021928) {'text': 'A dish in gastronomy is a specific food preparation, a \"distinct article or variety of food,\" with cooking finished, and ready to eat, or be served.A dish may be served on tableware, or may be eaten out of hand; but breads are generally not called dishes.Instructions for preparing a dish are called recipes.', 'title': 'Dish (food)'}\n",
      "('<dbpedia:Freshpet_select>', 4.431140343709719) {'text': 'Freshpet Select is a brand of Freshpet dog and cat food recipes. Freshpet Select recipes are made with fresh meat and poultry that is pasteurized, mixed with vegetables and then immediately chilled.  All Freshpet select recipes are meat based with vegetables and brown rice and are gently cooked.Freshpet foods are refrigerated, ready to eat, and sold in groceries and mass market stores across the United States and Canada.', 'title': 'Freshpet select'}\n",
      "('<dbpedia:Cooking_Light>', 4.375864272142799) {'text': 'Cooking Light is an American food and lifestyle magazine founded in 1987. Each month, the magazine includes approximately 100 original recipes as well as editorial content covering food trends, fitness tips, and other culinary and health-related news.The magazine is published by Birmingham, Alabama-based Southern Progress Corporation, a subsidiary of Time Inc.', 'title': 'Cooking Light'}\n",
      "('<dbpedia:Great_Food,_All_Day_Long>', 4.346271524081866) {'text': \"Great Food, All Day Long: Cook Splendidly, Eat Smart (2010) is Maya Angelou's second cookbook.  A follow-up to and like Hallelujah! The Welcome Table (2004), Great Food combines autobiographical sketches and recipes about how Angelou lost weight by eating smaller portions of satisfying meals.  Her focus in this book is weight loss through portion control and flavor.\", 'title': 'Great Food, All Day Long'}\n",
      "('<dbpedia:Freshpet_Vital>', 4.156423212577104) {'text': 'Freshpet Vital is a brand of Freshpet dog and cat food recipes. It is a meat-based meal with vegetables, available in grain and non-grain varieties. Vital is gently cooked and packaged into rolls. The foods are all refrigerated, ready to eat, and sold in pet specialty stores across the United States and Canada.', 'title': 'Freshpet Vital'}\n",
      "('<dbpedia:Merrilees_Parker>', 3.89943427448313) {'text': 'Merrilees Parker (born 11 August 1971) is a British celebrity chef and television presenter. She is mainly known for presenting television programmes combining food and travel (Planet Food and Full on Food) as well as various more traditional cookery programmes. Parker is also renowned for the menu she presented working for the pub The Lansdowne in Primrose Hill in London. Many of her recipes are freely available online.', 'title': 'Merrilees Parker'}\n",
      "(\"<dbpedia:Jamie's_Comfort_Food>\", 3.8818081344932223) {'text': \"Jamie's Comfort Food is a UK food lifestyle programme which was broadcast on Channel 4 in 2014. In each half-hour episode, Jamie Oliver creates three 'comfort food' dishes including snacks, mains and desserts. A tie-in book of recipes was released in September 2014.\", 'title': \"Jamie's Comfort Food\"}\n",
      "('<dbpedia:Great_British_Chefs>', 3.879482430959926) {'text': 'Great British Chefs is a food multimedia company that publishes recipes and other cooking-related material via its website, in a series of downloadable applications for iOS and through a range of social media. The company is notable for working with a high standard of chefs, most of whom have been awarded a Michelin star. The website and apps feature recipes from chefs including Marcus Wareing, Paul Heathcote, Tom Aikens, and Nathan Outlaw.', 'title': 'Great British Chefs'}\n",
      "('<dbpedia:Diane_Mott_Davidson>', 3.7275780112259818) {'text': 'Diane Mott Davidson (born (1949-03-22)March 22, 1949) is an American author of mystery novels that use the theme of food, an idea she got from Robert B. Parker. Several recipes are included in each book, and each novel title is a play on a food or drink word.', 'title': 'Diane Mott Davidson'}\n",
      "('<dbpedia:Quick_Fix_Meals_with_Robin_Miller>', 3.7023220535487664) {'text': 'Quick Fix Meals with Robin Miller is an American television program on the Food Network hosted by Robin Miller.Robin Miller who is a food writer and nutritionist, offers recipes and techniques specifically healthy meals, to fit a busy lifestyle, with no time to spare. Miller guides viewers on getting food on the table every night, with the planning strategies she offers on the show.', 'title': 'Quick Fix Meals with Robin Miller'}\n",
      "('<dbpedia:Aaron_McCargo,_Jr.>', 3.69745365177412) {'text': 'Aaron McCargo Jr. is an American chef from Camden, New Jersey. He is best known as the winner of the fourth season of the Food Network\\'s reality television show, The Next Food Network Star.He has a preference for meats and bold, spicy flavors, and avoids overly complex recipes. He calls the food he cooks \"soul food,\" but with multiple cultural influences.', 'title': 'Aaron McCargo, Jr.'}\n",
      "('<dbpedia:Rebecca_Franklin>', 3.6611522077356904) {'text': 'Rebecca Franklin is a Pittsburgh, Pennsylvania-based food writer for About.com, and various other media outlets. She has been freelance writing for food, travel and health publications for nine years. Her specialties include European food - French cuisine is her expertise - and American regional cooking. Her easy recipes are a blend of old-fashioned, homestyle dishes updated with modern flavor combinations.', 'title': 'Rebecca Franklin'}\n",
      "('<dbpedia:Priscilla_Martel>', 3.6405507017020398) {'text': 'Priscilla Martel is an award–winning American chef, food writer, and consultant notable for desserts, baking, pastries and fireplace-cooked meals. Her recipes appear in magazines such as Food & Wine. She is a contributing writer at Flavor and the Menu Magazine. She teaches and has written textbooks including ebooks used to teach students of the culinary arts. Martel married prominent Connecticut restaurateur and chef Charlie van Over, and the couple often collaborate on recipes and cooking.', 'title': 'Priscilla Martel'}\n",
      "('<dbpedia:Southern_Food_and_Beverage_Museum>', 3.620211439857369) {'text': 'The Southern Food and Beverage Museum is a non-profit museum based in New Orleans, Louisiana with a mission to explore the culinary history of the American Southern states, to explain the roots of Southern food and drinks. Their exhibits focus on every aspect of food in the South, from the cultural traditions to the basic recipes and communities formed through food.', 'title': 'Southern Food and Beverage Museum'}\n",
      "('<dbpedia:Connie_Ruel>', 3.559122285198298) {'text': \"Connie Ruel is an American restaurateur, writer, and food and wine instructor. She is the author of the book Passions of a Restaurateur: Three generations of restaurant stories and the recipes they inspired which documents her career in the culinary industry as well as her family's involvement in the food and film industries. She has been featured in national and local food publications and appeared on the Food Network.\", 'title': 'Connie Ruel'}\n",
      "('<dbpedia:Cookeen>', 3.556169449506975) {'text': 'Cookeen is a block of vegetable oil (also known as shortening or vegetable lard in the U.S.) used for making pastry and other baking recipes.  It is claimed to be usable straight from the refrigerator.The Cookeen brand is marketed by Princes Limited, a British food producer belonging to Mitsubishi. Cookeen is actually owned by Edible Oils Limited, a joint venture between Archer Daniels Midland (ADM), a U.S. food processing corporation, and Princes.', 'title': 'Cookeen'}\n",
      "('<dbpedia:Food_&_Wine>', 3.544783470247288) {'text': 'Food & Wine is a monthly magazine published by Time Inc. It was founded in 1978 by Ariane and Michael Batterberry.  It features recipes, cooking tips, travel information, restaurant reviews, chefs, wine pairings and seasonal/holiday content and has been credited by The New York Times with introducing the dining public to \"Perrier, the purple Peruvian potato and Patagonian toothfish\".The premier event for the magazine is the Food & Wine Classic in Aspen, Colorado.', 'title': 'Food & Wine'}\n",
      "('<dbpedia:Claire_Thomas>', 3.5437531571872967) {'text': \"Claire Alexandria Thomas (born June 18, 1986 in Los Angeles, California) is an American food enthusiast and blogger who hosts her own ABC series Food for Thought with Claire Thomas, an E/I show which is part of the weekend morning Litton's Weekend Adventure block.Thomas was picked up by Litton Entertainment, which programs the block for ABC, after she began a foodblog called The Kitchy Kitchen, including her photos, videos and recipes, plus interviews with wine connoisseurs, food specialists and restaurant chefs.\", 'title': 'Claire Thomas'}\n",
      "('<dbpedia:Mehboob_Alam_Khan>', 3.5351330304132658) {'text': 'Nawab Mehboob Alam Khan is an Indian food connoisseur and culinary expert of Hyderabadi cuisine. He has restored many of lost recipes of the Hyderabadi tradition.', 'title': 'Mehboob Alam Khan'}\n",
      "('<dbpedia:Down_Home_with_the_Neelys>', 3.516072307194609) {'text': 'Down Home with the Neelys is a Food Network show hosted by Patrick and Gina Neely.  The show depicts the Neelys sharing dishes and recipes.  Taped in their Memphis home, the show, which has a relaxed demeanor, now airs seven days a week on Food Network. The Entertainment Network announced in September,  2014 that the couple would divorce after 20 years of marriage.  The fate of the company remains unknown.', 'title': 'Down Home with the Neelys'}\n",
      "('<dbpedia:Sangria:_A_Recipe_for_Love>', 3.513069324844696) {'text': 'Sangria: A Recipe for Love is a 2009 novel written by Manuela Requena (ISBN 978-0979811678). It has been described as \"the first ever book about cookery in Fiction form\" and includes 25 recipes. The book won the Best Food Literature Book award for 2009 at the Gourmand World Cookbook Awards in Paris, February 2010.', 'title': 'Sangria: A Recipe for Love'}\n",
      "('<dbpedia:Food_column>', 3.502771894498923) {'text': 'A food column is a type of newspaper column dealing with food.  It may be focused on recipes, health trends, or improving efficiency.  It is generally geared towards gourmets or \"foodies\". Since 1994, food writers have also written columns and blogs on the web.', 'title': 'Food column'}\n",
      "('<dbpedia:Margaret_Fulton>', 3.408915632235697) {'text': 'Margaret Isobel Fulton OAM (born 10 October 1924 in Nairn, Scotland) is a British-born Australian food and cooking \\'guru\\', writer, journalist, author, and commentator. She was the first of this genre of writers in Australia.Her early recipes encouraged Australian housewives to alter the Australian staple of \"meat and three vegetables\" and to be creative with food.', 'title': 'Margaret Fulton'}\n",
      "('<dbpedia:Hittite_cuisine>', 3.386389970029324) {'text': 'The Hittites have left a good number of texts detailing preparation of food and many Hittite laws stipulate how certain food is to be prepared, cooked and served. The main ingredients of Hittite cuisine were dairy products, meat, grain products and other natural products such as honey. Hittites loved bread and had recipes of up to 180 types of bread in different shapes and with varying ingredients.', 'title': 'Hittite cuisine'}\n",
      "('<dbpedia:John_Mitzewich>', 3.3399323839102193) {'text': 'John Mitzewich (also known as \"Chef John\") is an American chef, video blogger and YouTube celebrity, who publishes instructional cooking videos on the video blog Food Wishes, as well as on a YouTube channel by the same name. Chef John also contributes eCookbooks, recipes and videos to the online food network Allrecipes.com. His video recipes have over 125 million views on YouTube.', 'title': 'John Mitzewich'}\n",
      "('<dbpedia:Allrecipes.com>', 3.2653981332115185) {'text': \"Allrecipes.com is a global social networking service and forum headquartered in Seattle which encourages users to post recipes, comment on and make changes to existing recipes, and search for specific recipes. It also allows users to create recipe blogs, vote on pictures of finished dishes, and receive awards based on their submissions and results. Users become part of the community by reviewing and commenting on other people's food-related content.\", 'title': 'Allrecipes.com'}\n",
      "('<dbpedia:Michelle_Tam>', 3.2258799532852254) {'text': 'Michelle Tam is a popular American blogger, food writer, and bestselling cookbook author known for recipes and food writing focused on the Paleolithic diet and lifestyle.', 'title': 'Michelle Tam'}\n",
      "('<dbpedia:Food_history>', 3.206293390731868) {'text': 'Food history is an interdisciplinary field that examines the history of food, and the cultural, economic, environmental, and sociological impacts of food. Food history is considered distinct from the more traditional field of culinary history, which focuses on the origin and recreation of specific recipes.', 'title': 'Food history'}\n",
      "('<dbpedia:Foodista.com>', 3.150406956868972) {'text': 'Foodista.com is an online recipe, cooking, and food news source. Foodista is built by both registered community members and anonymous contributors through a structured wiki. With all content available under a Creative Commons Attribution 3.0 license,  the site contains articles on recipes, foods, cooking tools, techniques, and food news.', 'title': 'Foodista.com'}\n",
      "('<dbpedia:Buck_Peterson>', 3.108848519851443) {'text': 'Buck Peterson (born in Minnesota, United States) is a successful humor writer and cookbook author, best known for The Original Road Kill Cookbook (1985) containing cooking recipes for animals that have been struck and killed by motor vehicles, i.e. roadkills, which he believes to be a highly underrated food source.In the early 1980s, he wrote food and wine articles for Playboy. Peterson currently lives outside of Seattle, Washington.', 'title': 'Buck Peterson'}\n",
      "('<dbpedia:Yummly>', 3.035998692892075) {'text': 'Yummly  is a free smartphone app and website that provides recipe recommendations personalized to the individual\\'s tastes, semantic recipe search, a digital recipe box, shopping list and one-hour grocery delivery. The Yummly app is available for iPhone, iPad, Android and Windows. The Yummly app was named \"Best of 2014\" in Apple\\'s App Store.Yummly uses patent-pending technology, and a hand-curated knowledge graph to offer a semantic web search engine for food, cooking and recipes.', 'title': 'Yummly'}\n",
      "('<dbpedia:Vegepet>', 3.035738891977412) {'text': \"Vegepet is the brand of a line of vegan dog and cat food by Harbingers of a New Age, based in Troy, Montana, USA.It is one of a few brands of vegan pet food recommended by vegan organizations.According to Vegepet, their recipes meet nutrient levels established by the Association of American Feed Control Officials' Nutrient Profiles.\", 'title': 'Vegepet'}\n",
      "('<dbpedia:Good_Things_in_England>', 2.9393272875292786) {'text': 'Good Things in England is a compendium of recipes written by Florence White and published in 1932. The book includes regional recipes dating back to the 14th century, with short informative introductions to each section. Good Things in England went on to influence a new generation of culinary writers such as Elizabeth David.Specialising in English food folklore, White had founded the English Folk Cookery Association a year before in 1931.', 'title': 'Good Things in England'}\n",
      "('<dbpedia:The_Food_Channel>', 2.8682314695688618) {'text': 'The Food Channel (not affiliated with Food Network) is a consumer Web site with food recipes, news, reviews and advice. The site compiles information to produce food industry trends and aims to be a gateway for all things food.Site content is separated into four categories: recipes, articles, blogs and videos. Recipes are created by The Food Channel chefs, as well as recipes from featured cookbooks. Content for the site is generated by a team of editors and the chefs of The Food Channel.', 'title': 'The Food Channel'}\n",
      "('<dbpedia:Brendan_Brazier>', 2.8139185067287142) {'text': 'Brendan Brazier (born March 1, 1975 in Vancouver, British Columbia) is a Canadian former endurance athlete, author, advocate of a vegan diet, and creator of the Vega line of food products and supplements. Brazier is a former Ironman triathlete (1998–2004). He is the author of The Thrive Diet (2007), Thrive Fitness (2009), and Thrive Foods: 200 Plant-Based Recipes for Peak Health (2011).', 'title': 'Brendan Brazier'}\n",
      "('<dbpedia:Bryant_Terry>', 2.7783352112153534) {'text': \"Bryant Terry is an eco-chef, food justice activist, and author.  He was a Food and Society Policy Fellow, a national program of the W.K. Kellogg Foundation, from 2008 to 2010.  Terry's writing and recipes have been featured in Gourmet, Food and Wine, The New York Times Magazine, The San Francisco Chronicle, Vibe, Domino, and Mothering.  His most recent book is Afro-Vegan: Farm-Fresh African, Caribbean, and Southern Flavors Remixed, which was published in April 2014.\", 'title': 'Bryant Terry'}\n",
      "('<dbpedia:The_Redwall_Cookbook>', 2.762502124838697) {'text': \"The Redwall Cookbook is a cookbook based on food from the Redwall series.  It contains recipes mentioned in the books, from Deeper'n'Ever Pie and Summer Strawberry Fizz to Abbey Trifle and Great Hall Gooseberry Fool.\", 'title': 'The Redwall Cookbook'}\n",
      "('<dbpedia:Chef2chef>', 2.751973548335283) {'text': 'Chef2Chef.net is a culinary website with recipes, columns, food-related forums and blogs, chef interviews, and online cooking classes. The site has an index and search tool that includes culinary schools in the U.S. and around the globe with information available by city, state, and country. Chef2Chef has a restaurant and food services employment job board for job seekers and employers and a Marketplace with equipment, services, and supplies for the chef consumer and food service organizations.', 'title': 'Chef2chef'}\n",
      "('<dbpedia:Fat:_An_Appreciation_of_a_Misunderstood_Ingredient,_with_Recipes>', 2.7254472213512444) {'text': 'Fat: An Appreciation of a Misunderstood Ingredient, with Recipes is a cookbook written by Canadian author Jennifer McLagan. In Fat, McLagan discusses the history of the shift from diets that were high in animal fat to low-fat foods, which has not resulted in an appreciable increase in overall health.  The trend to lower fat foods is a result of studies conducted in the 1940s, which McLagan disputes.', 'title': 'Fat: An Appreciation of a Misunderstood Ingredient, with Recipes'}\n",
      "('<dbpedia:Edward_Behr_(food_writer)>', 2.7036415225803463) {'text': 'Edward Behr (born 1951) is an American food writer.  His books include The Artful Eater (1992, revised edition 2004), The Art of Eating Cookbook: Recipes from the First 25 Years (2011), and 50 Foods: The Essentials of Good Taste (2013). Behr is the editor and publisher of a quarterly food magazine, The Art of Eating. First published as an eight-page newsletter in 1986, it is now one of the most respected magazines about food and wine.', 'title': 'Edward Behr (food writer)'}\n",
      "('<dbpedia:Test_kitchen>', 2.6550210633536357) {'text': 'A test kitchen is a kitchen used for the process of developing new kinds of food. On the largest scale, they are run by the research and development departments of large companies in the food industry. Other test kitchens are owned by individuals who enjoy the craft of developing new recipes.', 'title': 'Test kitchen'}\n",
      "('<dbpedia:Angola_Prison_Rodeo>', 2.581731305493456) {'text': 'The Angola Prison Rodeo, staged at the Louisiana State Penitentiary, is the longest running prison rodeo in the United States.It is held on one weekend in April and on every Sunday in October. On each occasion, thousands of visitors enter the prison complex. Various prisoner organizations sell food at concession stands. Many of the prisoners use family recipes to craft the concession stand food.', 'title': 'Angola Prison Rodeo'}\n",
      "('<dbpedia:Coddling>', 2.528200836598197) {'text': 'In cooking, to coddle food is to heat it in water kept just below the boiling point. In the past, recipes called for coddling fruit, but in recent times the term is usually only applied to coddled eggs.', 'title': 'Coddling'}\n",
      "('<dbpedia:Igbo_cuisine>', 2.4616992363275765) {'text': 'Igbo cuisine is the various foods of the Igbo people of southeastern Nigeria. Their cuisine includes the dishes, recipes and types of vegetables, meats and fruits that have shaped their food culture. Igbo food as in the case of all cultures has been considerably affected by their environment and history. One of the most important vegetables in Igbo cuisine and in the Igbo culture in general is the yam tuber.', 'title': 'Igbo cuisine'}\n",
      "('<dbpedia:Jerry_James_Stone>', 2.4184083722677645) {'text': 'Jerry James Stone is an American food blogger, vegetarian chef, activist, and internet personality, known for simple gourmet recipes, advocacy for a sustainable food and wine movement, and as a social media personality.', 'title': 'Jerry James Stone'}\n",
      "(\"<dbpedia:The_World's_Healthiest_Foods>\", 2.396983280479712) {'text': \"The World's Healthiest Foods is a nutrition guide by George Mateljan. The book provides recipes and promotes methods of food selection and preparation that help retain the maximum nutritional value found in the elaborated health-promoting foods. The book is a source for selected whole foods that are the richest sources of many essential nutrients needed for optimal health and vitality.\", 'title': \"The World's Healthiest Foods\"}\n",
      "('<dbpedia:Anna_Del_Conte>', 2.3939390616782124) {'text': 'Anna Del Conte (born 1925) is an Italian-born food writer whose works cover the history of food as well as providing recipes. Resident in England since 1949, she has been influential in raising the country’s awareness of Italian cuisine: her 1976 Portrait of Pasta has been described as ‘the instrumental force in leading [the English] beyond the land of spag bol, macaroni cheese and tinned ravioli’.', 'title': 'Anna Del Conte'}\n",
      "('<dbpedia:Good_Deal_with_Dave_Lieberman>', 2.3743447963835185) {'text': \"Good Deal with Dave Lieberman is a television cooking show hosted by Dave Lieberman that airs on the Food Network in the United States and Food Network Canada in Canada. The show premiered on Food Network on April 16, 2005.  Lieberman's show presents affordable gourmet quality recipes.\", 'title': 'Good Deal with Dave Lieberman'}\n",
      "('<dbpedia:Family_cookbooks>', 2.3447875776918323) {'text': 'Family cookbooks are collections of recipes, sometimes including family history and photos of the family members. These cookbooks may be written in notebooks, put in ring binders, or professionally published by one of several cookbook publishers that cater to families interested in preserving their food heritage.Families interested in genealogy sometimes also decide to preserve their recipes, since those recipes often represent a facet of their history.', 'title': 'Family cookbooks'}\n",
      "('<dbpedia:InterCourses>', 2.3172485576044726) {'text': 'InterCourses: An Aphrodisiac Cookbook is a 1997 cookbook written by Martha Hopkins and Randall Lockridge with photography by Ben Fink, and published by Terrace Publishing.It focuses primarily on recipes and foods appropriate for romantic settings and seduction, covering traditionally sexually-associated foods such as chocolate, strawberries, oysters, honey, and avocados, as well as less-traditional foods such as pine nuts, coffee, and chiles.', 'title': 'InterCourses'}\n",
      "('<dbpedia:Bread>', 2.27450258512919) {'text': 'Bread is a staple food prepared from a dough of flour and water, usually by baking. Throughout recorded history it has been popular around the world and is one of the oldest artificial foods, having been of importance since the dawn of agriculture.There are many combinations and proportions of types of flour and other ingredients, and also of different traditional recipes and modes of preparation of bread.', 'title': 'Bread'}\n",
      "('<dbpedia:The_Goodlife_Recipe>', 2.233067240528092) {'text': 'The Goodlife Recipe is a brand name of cat food manufactured in the United States by Mars, Incorporated. The brand debuted in 2007 with cat food and dog food, however, their dog food and dog treat lines were discontinued in August 2010 for economic reasons. After years of introduction, the famous \"thought pyramid\" design came into use.', 'title': 'The Goodlife Recipe'}\n",
      "('<dbpedia:The_Bacon_Cookbook>', 2.1849258462277623) {'text': \"The Bacon Cookbook: More than 150 Recipes from Around the World for Everyone's Favorite Food is a cookbook on bacon by James Villas. It was published by Wiley in 2007. Villas is a former food editor for Town & Country magazine, and The Bacon Cookbook is his 15th book on food.\", 'title': 'The Bacon Cookbook'}\n",
      "('<dbpedia:Olive_(magazine)>', 2.1428545283820566) {'text': \"olive is a modern food magazine published by Immediate Media Co.  It was launched in 2003 and is an upmarket, monthly British food magazine featuring recipes, restaurants and food-focused travel.Tom Parker-Bowles and Rebecca Seal are the magazine's regular restaurant reviewers. Marina O'Loughlin writes a regular travel column and has covered destinations such as Cork, Queens and Naples.The website was launched in January 2015.  It features a regular column by Rhodri Marsden.\", 'title': 'Olive (magazine)'}\n",
      "(\"<dbpedia:The_Ultimate_Beer_Lover's_Cookbook>\", 2.0839432243868417) {'text': \"The Ultimate Beer Lover's Cookbook by John Schlimm, published by Cumberland House Publishing on May 15, 2008, contains more than 400 food and drink recipes that all use beer as an ingredient.\", 'title': \"The Ultimate Beer Lover's Cookbook\"}\n",
      "('<dbpedia:Jennifer_Cornbleet>', 2.0099944016518227) {'text': 'Jennifer Cornbleet is a best-selling author and raw food chef and instructor.  She is the author of best-selling Raw Food Made Easy for 1 or 2 People and Raw for Dessert: Easy Delights for Everyone, and is a faculty instructor at the Living Light Culinary Arts Institute in Fort Bragg, CA.Her first book, Raw Food Made Easy for 1 or 2 People, was published in 2005 and is a best-selling vegetarian recipe book.', 'title': 'Jennifer Cornbleet'}\n",
      "('<dbpedia:Hannah_Banana_Bread_Company>', 1.9973969439929036) {'text': \"Hannah Banana Bread Company is an American baked goods company founded in 2000 to provide stuff to specialty food retailers and consumers. The Company's baked goods are supposedly derived from family recipes and contain no additives or preservatives. All products are named after family members and distributed to a wide variety of food service and retail customers on a wholesale basis, as well as direct to consumers through the company's website.\", 'title': 'Hannah Banana Bread Company'}\n",
      "('<dbpedia:Recipe_for_Success>', 1.9772064996790122) {'text': \"Recipe for Success is a food reality television series that follows entrepreneurs who trade their jobs for following their dreams.On Food Network's Canadian station, it is broadcast on Sundays at 2:30 PM. It uses the same theme song as The Next Food Network Star.It also covers a popular TV competition, in which a couple take over a restaurant they do not own for two sittings on a day in a bid to win £1,000. They are given a team of professional staff who will work to the amateurs' menus.\", 'title': 'Recipe for Success'}\n",
      "('<dbpedia:The_F_Word>', 1.972630643245321) {'text': 'The F Word (also called Gordon Ramsay\\'s F Word) is a British food magazine and cookery programme featuring Chef Gordon Ramsay.  The programme covers a wide range of topics, from recipes to food preparation and celebrity food fads.  The programme is made by Optomen Television and aired weekly on Channel 4.  The theme tune for the series is \"The F-Word\" from the Babybird album Bugged.', 'title': 'The F Word'}\n",
      "('<dbpedia:Daniel_Churchill>', 1.9642353287395222) {'text': 'Daniel Churchill (born 24 July 1989) is an Australian chef. He is the author of two cook books—Dudefood and The Healthy Cook. He was amongst the top eight contestants on series 5 of MasterChef Australia.His dream is to inspire the world to cook healthy food with no compromise in taste. He wants to travel, explore cultures, experience different foods and create his own recipes with a healthy twist.', 'title': 'Daniel Churchill'}\n",
      "('<dbpedia:Sue_Lawrence>', 1.8975654576516874) {'text': 'Sue Lawrence is a Scottish cookery and food writer, noted for her promotion of traditional Scottish recipes and regional produce.', 'title': 'Sue Lawrence'}\n",
      "('<dbpedia:Diet_food>', 1.8428242953219296) {'text': 'Diet food (or dietetic food) refers to any food or drink whose recipe has been altered in some way to make it part of a body modification diet. Such foods are usually intended to assist in weight loss or a change in body type, although bodybuilding supplements are designed to aid in gaining weight or muscle.', 'title': 'Diet food'}\n",
      "('<dbpedia:Amazake>', 1.8144094025474609) {'text': 'Amazake (甘酒, [amazake]) is a traditional sweet, low- or non-alcohol (depending on recipes) Japanese drink made from fermented rice. Amazake dates from the Kofun period, and it is mentioned in the Nihon Shoki. It is part of the family of traditional Japanese foods made using koji and the koji mold  Aspergillus oryzae (麹, kōji) that includes miso, soy sauce, and sake.There are several recipes for amazake that have been used for hundreds of years.', 'title': 'Amazake'}\n",
      "('<dbpedia:Food_and_Drink>', 1.808648038860916) {'text': 'Food and Drink is a long-running British television series on BBC Two. First broadcast between 1982 and 2002, it was the first national television programme in the UK to cover the subject of food and drink without cookery and recipe demonstrations.', 'title': 'Food and Drink'}\n",
      "('<dbpedia:Bhelpuri>', 1.7260790998488216) {'text': 'Bhelpuri (Marathi भेळ) is a savoury Indian snack, and is also a type of chaat. It is made out of puffed rice, vegetables and a tangy tamarind sauce.Bhel is often  identified with the beaches of Mumbai, such as Girguam or Juhu.  Bhelpuri is thought to have originated within the Gucafes and street food stalls of Mumbai, and the recipe has spread to most parts of India where it has been modified to suit local food availability.', 'title': 'Bhelpuri'}\n",
      "('<dbpedia:Secret_Recipe_(restaurant)>', 1.7238639431996472) {'text': 'Secret Recipe is a lifestyle café chain in Malaysia, started in 1997. Secret Recipe has established its brand name in Malaysia, Singapore, Philippines, Australia, Indonesia, Thailand, Brunei, Pakistan and Cambodia as well. It serves cakes and fusion food(prefabricated/commercially processed)  in a service environment.The company has registered double digit growth for the past five years. In a period of seven years, Secret Recipe has expanded by over 100 cafes throughout the region.', 'title': 'Secret Recipe (restaurant)'}\n",
      "('<dbpedia:The_Secret_Life_Of..._(television_program)>', 1.6987112018554649) {'text': 'For other television shows whose titles begin with \"The Secret Life Of...\", see Secret Life.The Secret Life of... is a television show on the Food Network hosted by Jim O\\'Connor.The ellipsis in the title refers to the food item or style of food which is featured during the 30 minute program.  Included in the lineup are: cookies, steak, comfort foods, coffee, tailgating and popcorn.  The show combines history segments with recipe segments.', 'title': 'The Secret Life Of... (television program)'}\n",
      "('<dbpedia:Nutritional_yeast>', 1.6863762384432466) {'text': 'Nutritional yeast is a deactivated yeast, often a strain of Saccharomyces cerevisiae, which is sold commercially as a food product. It is sold in the form of flakes or as a yellow powder and can be found in the bulk aisle of most natural food stores. It is popular with vegans and vegetarians and may be used as an ingredient in recipes or as a condiment.While it contains trace amounts of several Vitamins and minerals, it is only a significant source of some B-complex vitamins.', 'title': 'Nutritional yeast'}\n",
      "(\"<dbpedia:Devil's_food_cake>\", 1.642455457154245) {'text': \"Devil's food cake is a moist, airy, rich chocolate layer cake. It is considered a counterpart to the white or yellow angel food cake. Because of differing recipes and changing ingredient availability over the course of the twentieth century, it is difficult to precisely qualify what distinguishes Devil's food from the more standard chocolate cake, though it traditionally has more chocolate than a regular chocolate cake, making it darker. The cake is usually paired with a rich chocolate frosting.\", 'title': \"Devil's food cake\"}\n",
      "('<dbpedia:KeepRecipes>', 1.5268007453535284) {'text': 'KeepRecipes is a social networking website and mobile application that specializes in social cataloging. Members organize and share favorite recipes from any website. The full service has been called \"like Instapaper for food\" and a \"recipe manager for food lovers\".KeepRecipes was started by the team from KartMe.  They began by launching charity cookbooks with Iron Chef Masaharu Morimoto, Top Chef All Star Anita Lo, Best Selling Author Mark Bittman, and Model Lauren Bush Lauren.', 'title': 'KeepRecipes'}\n",
      "('<dbpedia:Roberto_Fernández_Beyró>', 1.5251902967107456) {'text': 'Roberto Fernández Beyró (1909-1991) was an Argentine journalist, restaurateur and food critic, who wrote a regular column in La Nación critiquing the lack of gastronomic traditions in Argentina. He was a member of several gourmet food clubs and wrote a cookbook of simple, traditional recipes.', 'title': 'Roberto Fernández Beyró'}\n",
      "('<dbpedia:The_Recipe_Project>', 1.5146160982443528) {'text': 'The Recipe Project is a CD-book combo that is the result of collaboration by both chefs and musicians to examine the previously unexplored correlation between music and food.', 'title': 'The Recipe Project'}\n",
      "('<dbpedia:Golden_Skillet>', 1.5112893436261086) {'text': \"Golden Skillet is a fast-food chain selling fried chicken that began in Richmond, Virginia. The first Golden Skillet chicken was sold in 1964 at the downtown Richmond department store Thalhimer's. It was the recipe of Clifton W. Guthrie, who first served the recipe at a Richmond Planning Commission meeting. Thalhimer executive Newman Hamblet was there, and decided to add it to the menu at the downtown store's Richmond Room.\", 'title': 'Golden Skillet'}\n",
      "('<dbpedia:Crown_Pilot_Crackers>', 1.4329487059147954) {'text': 'Crown Pilot was a brand of cracker popular in much of New England in the United States. It was manufactured by Nabisco (a subsidiary of Kraft Foods as of 2000) until it was discontinued in the first quarter of 2008. The cracker was unsalted, and closely related to the food \"hardtack\". The crackers were an important ingredient in historical recipes of clam chowder and a staple in many New England pantries.', 'title': 'Crown Pilot Crackers'}\n",
      "('<dbpedia:Fatost>', 1.3909140702589258) {'text': 'Fatost is a specialty food from northern Sweden, commonly eaten around Christmas. The recipe varies, but it usually consists of milk, rennet, syrup, sugar, wheat flour and eggs. Cinnamon and cardamom are also common.', 'title': 'Fatost'}\n",
      "('<dbpedia:Susan_Spaull>', 1.3469387086868572) {'text': 'Susan Spaull is a cookery writer, teacher and chef. She trained at Leiths School of Food and Wine in London and went on to become one of their senior teachers. She has written several cookery books for Leiths including Leiths Techniques Bible which won a Gourmond Book Award for the \"Best Book in the World for Food Professionals\" in 2003. She also does food photography, demonstrations and recipe development.', 'title': 'Susan Spaull'}\n",
      "('<dbpedia:Ultimate_Recipe_Showdown>', 1.2644532960568604) {'text': 'Ultimate Recipe Showdown (also known on the program as URS) is a program which airs on Food Network. The program was originally hosted by Marc Summers and Guy Fieri. As of the second season, Fieri hosts the program alone.', 'title': 'Ultimate Recipe Showdown'}\n",
      "('<dbpedia:Snickers_pie>', 1.2618870690018489) {'text': 'Snickers pie is a chocolate dessert whose ingredients include five Snickers bars, and both mascarpone and soft cheese. The recipe appeared on the BBC cookery show Saturday Kitchen, where it was made by Antony Worrall Thompson.The Food Commission called the Snickers pie \"one of the most unhealthy recipes ever published\". Antony Worrall Thompson said the pie was intended as a treat for children and was not meant for regular consumption.', 'title': 'Snickers pie'}\n",
      "('<dbpedia:Recipe_to_Riches>', 1.188330548413356) {'text': \"Recipe to Riches is a Canadian television reality show, in which home cooks from around the country compete to have their recipe become a President's Choice product. Competitors bring their home cooked meal to one of the cross-Canada open casting calls where a panel of judges critique their food based on taste, mass appeal, and marketing potential.\", 'title': 'Recipe to Riches'}\n",
      "('<dbpedia:Beat_the_Chefs>', 1.174216518891551) {'text': 'Beat the Chefs is an American television cooking game show broadcast by Game Show Network and hosted by Matt Rogers. The series features contestants preparing a home-cooked family recipe, while professional chefs Beau MacMillan, Antonia Lofaso and Jeff Henderson make the same recipe in an upscale restaurant version. The two dishes are then judged by a panel of food critics, who decide the winner. The series premiered on August 23, 2012, and aired its last episode on September 13, 2012.', 'title': 'Beat the Chefs'}\n",
      "('<dbpedia:Oxo_(food)>', 1.1694259659000226) {'text': 'Oxo is a brand of food products, including stock cubes, herbs and spices, dried gravy, and yeast extract. The original product was the beef stock cube, but Oxo now also markets chicken and other flavour cubes, e.g. Chinese Recipe and Indian Recipe.  The cubes are broken up and used as flavouring in meals or gravy or dissolved into boiling water.In the United Kingdom, the Oxo brand belongs to Premier Foods.', 'title': 'Oxo (food)'}\n",
      "('<dbpedia:Sweet_&_Sara>', 1.1031011970893816) {'text': 'Sweet & Sara is the first vegan marshmallow vendor in the United States. They have received considerable press, and their products are sold at many retailers, including Whole Foods.Sweet & Sara was founded by Sara Sohn in 2005. The recipe for vegan marshmallows took over 10 months to produce. The recipe utilizes materials derived from seaweed rather than gelatin. They were featured in-depth on the show Unwrapped on the Food Network.', 'title': 'Sweet & Sara'}\n",
      "('<dbpedia:Sikandar_Sultan>', 1.1010554675513269) {'text': 'Sikandar Sultan is a Pakistani entrepreneur and philanthropist who is the founder and now Chairman of Shan Foods Ltd.. He is a renowned and influential businessman in the Pakistani food industry. In 1981, Sultan was the first one to recognize the potential of launching an independent company that produced hygienic and first-rate recipe mixes and plain spices.', 'title': 'Sikandar Sultan'}\n",
      "('<dbpedia:KFC_Original_Recipe>', 0.9327124422208729) {'text': 'The KFC Original Recipe is the secret mix of ingredients that KFC, a fast food restaurant chain, uses to produce fried chicken.', 'title': 'KFC Original Recipe'}\n",
      "('<dbpedia:Dark_Rye>', 0.0) {'text': 'Dark Rye is an award-winning online magazine from Whole Foods Market, based in Austin, Texas. The publication focuses on multimedia storytelling through video, infographics, photos, recipes, DIY projects, and written content. Dark Rye highlights people from across the globe who are doing original things, especially in the areas of food, health, sustainability, design, technology and social enterprise.', 'title': 'Dark Rye'}\n"
     ]
    }
   ],
   "source": [
    "for i in sorted(cbm25_result[func_name][\"INEX_LD-20120121\"].items(), key=lambda x: -x[1]):\n",
    "    print(i, corpus[i[0]])"
   ]
  },
  {
   "cell_type": "code",
   "execution_count": null,
   "metadata": {},
   "outputs": [],
   "source": [
    "lm_tokenizer.analyze(\"Vietnamese\")"
   ]
  },
  {
   "cell_type": "code",
   "execution_count": null,
   "metadata": {},
   "outputs": [],
   "source": [
    "def show_result_top1_comp_wdense(qid, show_condition):\n",
    "    def extract_top1(result):\n",
    "        return sorted(result[qid].items(), key=lambda x: -x[1])[0]\n",
    "    \n",
    "    bm25_top1 = extract_top1(bm25_result)\n",
    "    dense_top1 = extract_top1(dense_result)\n",
    "    wdense_top1 = extract_top1(weighted_dense_result)\n",
    "    cbm25_top1 = extract_top1(cbm25_result[func_name])\n",
    "    \n",
    "    correct = qrels[qid]\n",
    "    # if show_condition(cbm25_top1[0], wdense_top1[0], correct) and wdense_top1[0] != dense_top1[0]:\n",
    "    if wdense_top1[0] != dense_top1[0]:\n",
    "        print(\"------\")\n",
    "        print(f\"qid: {qid}, query: {queries[qid]}\")\n",
    "        print(bm25_top1[0] in correct, f\"bm25: {corpus[bm25_top1[0]]}\")\n",
    "        print(dense_top1[0] in correct, f\"dense: {corpus[dense_top1[0]]}\")\n",
    "        print(wdense_top1[0] in correct, f\"wdense: {corpus[wdense_top1[0]]}\")\n",
    "        print(cbm25_top1[0] in correct, f\"cbm25: {corpus[cbm25_top1[0]]}\")\n",
    "    else:\n",
    "        print(\"------\")\n",
    "        print(f\"skip qid {qid}\")"
   ]
  },
  {
   "cell_type": "code",
   "execution_count": null,
   "metadata": {},
   "outputs": [],
   "source": [
    "target_qid = []\n",
    "for qid, sup in diff_scores_wdense.items():\n",
    "    if sup < 0:\n",
    "        continue\n",
    "    diff = wdense_scores[qid][\"ndcg_cut_10\"] - dense_scores[qid][\"ndcg_cut_10\"]\n",
    "    if diff > 0:\n",
    "        target_qid.append(qid)\n",
    "        \n",
    "for qid in target_qid:\n",
    "    show_result_top1_comp_wdense(qid, correct_condition)"
   ]
  },
  {
   "cell_type": "code",
   "execution_count": null,
   "metadata": {},
   "outputs": [],
   "source": [
    "for i in pd.Series(pd.Series(diff_scores_wdense) > 0).index:\n",
    "    show_result_top1_comp_wdense(i, correct_condition)"
   ]
  },
  {
   "cell_type": "code",
   "execution_count": null,
   "metadata": {},
   "outputs": [],
   "source": [
    "sorted(cbm25_result[func_name][\"QALD2_te-28\"].items(), key=lambda x: -x[1])[0]"
   ]
  },
  {
   "cell_type": "code",
   "execution_count": null,
   "metadata": {},
   "outputs": [],
   "source": [
    "hf_token_bm25_score['<dbpedia:All_of_Me_(1984_film)>']"
   ]
  },
  {
   "cell_type": "code",
   "execution_count": null,
   "metadata": {},
   "outputs": [],
   "source": [
    "hf_token_bm25_score['<dbpedia:The_Godfather>']"
   ]
  },
  {
   "cell_type": "code",
   "execution_count": null,
   "metadata": {},
   "outputs": [],
   "source": [
    "qid = \"QALD2_te-64\"\n",
    "cid = \"<dbpedia:Launch_Control_Center>\"\n",
    "query = queries[qid]\n",
    "print(query)\n",
    "print(\"bm25\")\n",
    "print(get_bm25_val(cid, query, hf_token_bm25_score, hf_tokenizer.tokenize))\n",
    "print(max_cos_sims(query, corpus[cid], hf_model, hf_tokenizer))\n",
    "print(\"cmb25\")\n",
    "cid = \"<dbpedia:Vandenberg_AFB_Space_Launch_Complex_4>\"\n",
    "print(get_bm25_val(cid, query, hf_token_bm25_score, hf_tokenizer.tokenize))\n",
    "print(max_cos_sims(query, corpus[cid], hf_model, hf_tokenizer))"
   ]
  },
  {
   "cell_type": "code",
   "execution_count": null,
   "metadata": {},
   "outputs": [],
   "source": [
    "hf_token_bm25_score[\"<dbpedia:Launch_Control_Center>\"]"
   ]
  },
  {
   "cell_type": "code",
   "execution_count": null,
   "metadata": {},
   "outputs": [],
   "source": [
    "hf_token_bm25_score[\"<dbpedia:Vandenberg_AFB_Space_Launch_Complex_4>\"]"
   ]
  },
  {
   "cell_type": "code",
   "execution_count": null,
   "metadata": {},
   "outputs": [],
   "source": [
    "names = [\"Carl Reiner\", \"Steve Martin\", \"Lily Tomlin \"]\n",
    "for name in names:\n",
    "    print(\", \".join([f\"{tn}: {round(hf_idf[tn], 2)}\" for tn in hf_tokenizer.tokenize(name)]))"
   ]
  },
  {
   "cell_type": "code",
   "execution_count": null,
   "metadata": {},
   "outputs": [],
   "source": []
  }
 ],
 "metadata": {
  "kernelspec": {
   "display_name": "Python 3",
   "language": "python",
   "name": "python3"
  },
  "language_info": {
   "codemirror_mode": {
    "name": "ipython",
    "version": 3
   },
   "file_extension": ".py",
   "mimetype": "text/x-python",
   "name": "python",
   "nbconvert_exporter": "python",
   "pygments_lexer": "ipython3",
   "version": "3.8.3"
  }
 },
 "nbformat": 4,
 "nbformat_minor": 5
}
