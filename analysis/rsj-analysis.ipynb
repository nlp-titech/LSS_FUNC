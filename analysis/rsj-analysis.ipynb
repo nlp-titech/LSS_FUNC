{
 "cells": [
  {
   "cell_type": "code",
   "execution_count": 18,
   "id": "17985945",
   "metadata": {},
   "outputs": [],
   "source": [
    "import json\n",
    "from copy import deepcopy\n",
    "from collections import defaultdict, Counter\n",
    "from typing import Dict, Any, List, Tuple, Set\n",
    "from pathlib import Path\n",
    "from pprint import pprint\n",
    "\n",
    "import numpy as np\n",
    "import pandas as pd\n",
    "import seaborn as sns\n",
    "import matplotlib\n",
    "import japanize_matplotlib\n",
    "from matplotlib import pyplot as plt\n",
    "from matplotlib.font_manager import FontProperties\n",
    "from beir.datasets.data_loader import GenericDataLoader\n",
    "from pyserini.analysis import Analyzer, get_lucene_analyzer\n",
    "from pytrec_eval import RelevanceEvaluator\n",
    "from tqdm import tqdm_notebook, tqdm"
   ]
  },
  {
   "cell_type": "code",
   "execution_count": 2,
   "id": "19ee29b8",
   "metadata": {},
   "outputs": [
    {
     "data": {
      "image/png": "[encoded data removed]",
      "text/plain": [
       "<Figure size 432x288 with 1 Axes>"
      ]
     },
     "metadata": {
      "needs_background": "light"
     },
     "output_type": "display_data"
    }
   ],
   "source": [
    "x = [1, 2, 3, 4, 5, 6, 7]\n",
    "y1 = [1, 1, 2, 3, 5, 8, 13]\n",
    "y2 = [0, 2, 4, 6, 8, 10, 12]\n",
    "y3 = [1, 3, 5, 7, 9, 11, 13]\n",
    "\n",
    "y = np.vstack([y1, y2, y3])\n",
    "\n",
    "fig, ax = plt.subplots()\n",
    "ax.stackplot(x, y1, y2, y3, labels=[\"フィボナッチ数列\", \"偶数\", \"奇数\"])\n",
    "ax.legend(loc=2)\n",
    "plt.show()"
   ]
  },
  {
   "cell_type": "code",
   "execution_count": 3,
   "id": "0a5bcc21",
   "metadata": {},
   "outputs": [],
   "source": [
    "MEDIAN = \"median\"\n",
    "QUARTILE = \"quartile\"\n",
    "Epsilon = 1e-03\n",
    "\n",
    "\n",
    "\n",
    "class Binner:\n",
    "    def binning(self, diff_rsj: Dict[str, Dict[str, float]]) -> pd.DataFrame:\n",
    "        bin_rsj = self._binning()\n",
    "        df_rsj_info_bin = self.gather_df(diff_rsj, bin_rsj)\n",
    "        return df_rsj_info_bin\n",
    "    \n",
    "    def gather_df(self, diff_rsj: Dict[str, Dict[str, float]], bin_rsj: Dict[str, Dict[str, str]]) -> pd.DataFrame:\n",
    "        rsj_info_bin = []\n",
    "        for qid, diff_rsj_q in diff_rsj.items():\n",
    "            for t in diff_rsj_q:\n",
    "                rsj_info_bin.append((diff_rsj_q[t], bin_rsj[qid][t]))\n",
    "        df_rsj_info_bin = pd.DataFrame(rsj_info_bin, columns=[\"ΔRSJ\", \"bin\"])\n",
    "        return df_rsj_info_bin\n",
    "    \n",
    "    def _binning(self):\n",
    "        raise NotImplementedError\n",
    "\n",
    "\n",
    "class RSJThresholdBinner(Binner):\n",
    "    def __init__(self, rsj, rsj_threshold_type: str) -> None:\n",
    "        self.rsj_threshold = self.rsj_threshold(rsj, rsj_threshold_type)\n",
    "        self.rsj = rsj        \n",
    "    \n",
    "    def _binning(self) -> Dict[str, Dict[str, str]]:\n",
    "        bin_rsj = {}\n",
    "        for qid, rsj_uq in self.rsj.items():\n",
    "            if qid not in bin_rsj:\n",
    "                bin_rsj[qid] = defaultdict(float)\n",
    "            for t, v in rsj_uq.items():\n",
    "                if t not in rsj_uq:\n",
    "                    bin_rsj[qid][t] = \"OOV\"\n",
    "                    continue\n",
    "                if rsj_uq[t] >= self.rsj_threshold:\n",
    "                    bin_rsj[qid][t] = \"HighRSJ\"\n",
    "                else:\n",
    "                    bin_rsj[qid][t] = \"LowRSJ\"\n",
    "        return bin_rsj    \n",
    "    \n",
    "    def rsj_threshold(self, rsj: Dict[str, Dict[str, float]], threshold_type: str) -> float:\n",
    "        all_rsj_in_q = [v for qid, term_value in rsj.items() for t, v in term_value.items()],\n",
    "        if threshold_type == MEDIAN:\n",
    "            return np.median(all_rsj_in_q)\n",
    "        elif threshold_type == QUARTILE:\n",
    "            q75, q25 = np.percentile(all_rsj_in_q, [75, 25])\n",
    "            return q75\n",
    "\n",
    "        \n",
    "class RSJIDFThresholdBinner(RSJThresholdBinner):\n",
    "    def __init__(self, idf: Dict[str, float], rsj: Dict[str, Dict[str, float]], all_query_terms: Set[str], idf_threshold_type: str, rsj_threshold_type: str) -> float:\n",
    "        self.rsj_threshold = self.rsj_threshold(rsj, rsj_threshold_type)\n",
    "        self.idf_threshold = self.idf_threshold(idf, all_query_terms, idf_threshold_type)\n",
    "        self.idf = idf\n",
    "        self.rsj = rsj\n",
    "    \n",
    "    def _binning(self):\n",
    "        bin_rsj = {}\n",
    "        for t in self.idf:\n",
    "            for qid, rsj_uq in self.rsj.items():\n",
    "                if qid not in bin_rsj:\n",
    "                    bin_rsj[qid] = defaultdict(float)\n",
    "                if t not in rsj_uq:\n",
    "                    bin_rsj[qid][t] = \"OOV\"\n",
    "                    continue\n",
    "                if self.idf[t] < self.idf_threshold:\n",
    "                    if rsj_uq[t] > self.rsj_threshold:\n",
    "                        bin_rsj[qid][t] = \"HighRSJ:LowIDF\"\n",
    "                    else:\n",
    "                        bin_rsj[qid][t] = \"LowRSJ:LowIDF\"\n",
    "                else:\n",
    "                    if rsj_uq[t] > self.rsj_threshold:\n",
    "                        bin_rsj[qid][t] = \"HighRSJ:HighIDF\"\n",
    "                    else:\n",
    "                        bin_rsj[qid][t] = \"LowRSJ:HighIDF\"\n",
    "        return bin_rsj\n",
    "        \n",
    "    def idf_threshold(self, idf: Dict[str, float], all_query_terms: Set[str], threshold_type: str) -> float:\n",
    "        all_idf_in_q = [v for t, v in idf.items() if t in all_query_terms] \n",
    "        if threshold_type == MEDIAN:\n",
    "            return np.median(all_idf_in_q)\n",
    "        elif threshold_type == QUARTILE:\n",
    "            q75, q25 = np.percentile(all_idf_in_q, [75, 25])\n",
    "            return q75\n",
    "        else:\n",
    "            raise ValueError(f\"{threshold_type} does not exist.\")\n",
    "\n",
    "\n",
    "class NumBinner(Binner):\n",
    "    def __init__(self, rsj: Dict[str, Dict[str, float]], num: int = 4) -> None:\n",
    "        self.rsj = rsj\n",
    "        self.num = num\n",
    "        \n",
    "    def _binning(self) -> Dict[str, Dict[str, float]]:\n",
    "        all_rsj_in_q = []\n",
    "        all_qid = []\n",
    "        all_t = []\n",
    "        for qid, term_value in self.rsj.items():\n",
    "            for t, v in term_value.items():\n",
    "                all_qid.append(qid)\n",
    "                all_t.append(t)\n",
    "                all_rsj_in_q.append(v)\n",
    "        \n",
    "        bins = np.linspace(min(all_rsj_in_q), max(all_rsj_in_q), self.num)\n",
    "        bins[-1] += Epsilon\n",
    "        bined_rsj_in_q = np.digitize(all_rsj_in_q, bins)\n",
    "        bin_names = {i+1: (round(bins[i], 2), round(bins[i+1], 2)) for i in range(len(bins)-1)}\n",
    "        named_bined_rsj_in_q = [bin_names[i] for i in bined_rsj_in_q]\n",
    "        bin_rsj = {}\n",
    "        for qid, t, name_bin in zip(all_qid, all_t, named_bined_rsj_in_q):\n",
    "            if qid not in bin_rsj:\n",
    "                bin_rsj[qid] = defaultdict(float)\n",
    "            bin_rsj[qid][t] = name_bin\n",
    "        return bin_rsj\n"
   ]
  },
  {
   "cell_type": "code",
   "execution_count": 4,
   "id": "078d004d",
   "metadata": {},
   "outputs": [],
   "source": [
    "class InvertedIndex:\n",
    "    def __init__(self, corpus: Dict[str, Dict[str, str]], tokenizer: Any) -> None:\n",
    "        self._n_doc = len(corpus)\n",
    "        self.tokenizer = tokenizer\n",
    "        self.index, self.df, self.idf = self._indexer(corpus, tokenizer)\n",
    "        \n",
    "    def _indexer(self, corpus: Dict[str, Dict[str, str]], tokenizer: Any) -> None:\n",
    "        index_corpus = defaultdict(list)\n",
    "        idf = defaultdict(float)\n",
    "        for cid, doc in tqdm(corpus.items(), total=self._n_doc):\n",
    "            text = doc[\"title\"] + \" \" + doc[\"text\"]\n",
    "            t_doc = tokenizer(text)\n",
    "            for t in set(t_doc):\n",
    "                index_corpus[t].append(cid)\n",
    "                \n",
    "        df = {k: len(v) for k, v in index_corpus.items()}\n",
    "                \n",
    "        for v, freq in df.items():\n",
    "            idf[v] = np.log(self.n_doc / freq)\n",
    "        \n",
    "        return index_corpus, df, idf\n",
    "    \n",
    "    @property\n",
    "    def n_doc(self):\n",
    "        return self._n_doc    \n",
    "\n",
    "class RSJCalculator:\n",
    "    def __init__(self, index: InvertedIndex, queries: Dict[str, str], qrels: Dict[str, Dict[str, int]]) -> None:\n",
    "        self.index = index\n",
    "        self.t_queries, self.all_query_terms = self.tokenize_queries(queries, qrels, index.tokenizer)\n",
    "        rel_qrels = self._extract_rel(qrels)\n",
    "        self.rsj = self._calc_rsj(self.t_queries, rel_qrels)\n",
    "        \n",
    "    def tokenize_queries(self, queries: Dict[str, str], qrels: Dict[str, Dict[str, int]], tokenizer: Any) -> Tuple[Dict[str, List[str]], Set[str]]:\n",
    "        t_queries = {}\n",
    "        all_query_terms = set()\n",
    "        for qid, _ in qrels.items():\n",
    "            try:\n",
    "                query = queries[qid]\n",
    "            except KeyError:\n",
    "                continue\n",
    "            t_query = tokenizer(query)\n",
    "            t_queries[qid] = t_query\n",
    "            all_query_terms |= set(t_query)\n",
    "        return t_queries, all_query_terms\n",
    "    \n",
    "    def _extract_rel(self, qrels: Dict[str, Dict[str, int]]) -> Dict[str, Dict[str, int]]:\n",
    "        rel_qrels = {}\n",
    "        for qid, q_qrels in qrels.items():\n",
    "            rel_q_qrels = {k: v for k, v in q_qrels.items() if v > 0}\n",
    "            rel_qrels[qid] = rel_q_qrels\n",
    "        return rel_qrels\n",
    "            \n",
    "    def _calc_rsj(self, t_queries: Dict[str, List[str]], relqrels: Dict[str, Dict[str, int]]) -> Dict[str, Dict[str, float]]:\n",
    "        rsj = defaultdict(float)\n",
    "        for qid, q_qrels in relqrels.items():\n",
    "            t_query = t_queries[qid]\n",
    "            rel_q_qrels = {k: v for k, v in q_qrels.items() if v > 0}\n",
    "            Nr = len([i for i in q_qrels.values() if i > 0])\n",
    "            if Nr < 1:\n",
    "                continue\n",
    "            wtq = defaultdict(float)\n",
    "            for t in t_query:\n",
    "                Dt = self.index.index[t]\n",
    "                Nt = len(Dt)\n",
    "                Ntr = 0\n",
    "                for did in Dt:\n",
    "                    if did in rel_q_qrels:\n",
    "                        Ntr+= 1\n",
    "                    \n",
    "                N = self.index.n_doc\n",
    "                wtq[t] = np.log(((Ntr + 0.5)*(N - Nt - Nr + Ntr + 0.5))/((Nr - Ntr + 0.5)*(Nt - Ntr + 0.5)) )\n",
    "            rsj[qid] = wtq\n",
    "        return rsj\n",
    "        \n",
    "    def calc_diff_rsj(self, search_result: Dict[str, float], top_K: int =100) -> Dict[str, Dict[str, float]]:\n",
    "        topK_rels = {}\n",
    "        for qid, rels in search_result.items():\n",
    "            topK_rels[qid] = dict(sorted(rels.items(), key=lambda x: -x[1])[:top_K])\n",
    "            \n",
    "        rsj_s = self._calc_rsj(self.t_queries, topK_rels)\n",
    "        diff_rsj = defaultdict(dict)\n",
    "        for qid in self.rsj:\n",
    "            for t in self.t_queries[qid]:\n",
    "                diff_rsj[qid][t] = rsj_s[qid][t] - self.rsj[qid][t]\n",
    "                \n",
    "        return diff_rsj\n",
    "    \n",
    "def analyze(search_result: Dict[str, Dict[str, float]], rsj_calculator: RSJCalculator, binner: Binner, top_K: int = 100) -> pd.DataFrame:\n",
    "    diff_rsj = rsj_calculator.calc_diff_rsj(search_result, top_K=top_K)\n",
    "    binned_rsj = binner.binning(diff_rsj)\n",
    "    return binned_rsj"
   ]
  },
  {
   "cell_type": "code",
   "execution_count": 5,
   "id": "98279889",
   "metadata": {},
   "outputs": [],
   "source": [
    "analyzer = Analyzer(get_lucene_analyzer())"
   ]
  },
  {
   "cell_type": "code",
   "execution_count": 6,
   "id": "30d5001d",
   "metadata": {},
   "outputs": [
    {
     "name": "stdout",
     "output_type": "stream",
     "text": [
      "['STIXNonUnicode', 'STIXSizeFourSym', 'STIXSizeOneSym', 'DejaVu Sans', 'DejaVu Sans Mono', 'STIXSizeThreeSym', 'DejaVu Sans Mono', 'STIXSizeTwoSym', 'cmr10', 'DejaVu Sans Display', 'STIXGeneral', 'DejaVu Sans', 'DejaVu Serif', 'STIXSizeOneSym', 'DejaVu Sans', 'STIXSizeFiveSym', 'cmsy10', 'STIXGeneral', 'STIXGeneral', 'DejaVu Sans', 'STIXNonUnicode', 'cmtt10', 'cmss10', 'DejaVu Sans Mono', 'STIXGeneral', 'DejaVu Serif', 'STIXNonUnicode', 'cmb10', 'STIXNonUnicode', 'DejaVu Sans Mono', 'cmmi10', 'DejaVu Serif', 'STIXSizeFourSym', 'STIXSizeTwoSym', 'cmex10', 'DejaVu Serif', 'STIXSizeThreeSym', 'DejaVu Serif Display', 'DejaVu Sans', 'DejaVu Serif', 'Bitstream Vera Sans', 'Liberation Sans', 'DejaVu Serif', 'Bitstream Vera Sans', 'DejaVu Serif', 'Liberation Mono', 'Liberation Mono', 'DejaVu Sans', 'cmr10', 'DejaVu Serif', 'DejaVu Sans Mono', 'Liberation Serif', 'cmex10', 'Bitstream Vera Sans Mono', 'Bitstream Vera Sans Mono', 'msam10', 'DejaVu Sans', 'cmsy10', 'Liberation Sans Narrow', 'DejaVu Serif', 'cmmi10', 'DejaVu Sans Mono', 'eufm10', 'Liberation Serif', 'Bitstream Vera Sans Mono', 'Bitstream Vera Serif', 'wasy10', 'msbm10', 'Liberation Sans Narrow', 'Liberation Mono', 'Liberation Sans', 'DejaVu Sans', 'DejaVu Math TeX Gyre', 'DejaVu Sans Mono', 'DejaVu Sans', 'Liberation Sans', 'DejaVu Sans', 'Liberation Sans Narrow', 'DejaVu Serif', 'stmary10', 'DejaVu Serif', 'DejaVu Sans', 'Liberation Sans Narrow', 'rsfs10', 'Bitstream Vera Serif', 'Liberation Sans', 'Liberation Mono', 'Bitstream Vera Sans Mono', 'esint10', 'DejaVu Serif', 'Liberation Serif', 'Bitstream Vera Sans', 'DejaVu Sans', 'Liberation Serif', 'Bitstream Vera Sans', 'DejaVu Sans Mono', 'DejaVu Sans', 'IPAexGothic']\n"
     ]
    }
   ],
   "source": [
    "import matplotlib.font_manager\n",
    "print([f.name for f in matplotlib.font_manager.fontManager.ttflist])"
   ]
  },
  {
   "cell_type": "code",
   "execution_count": 7,
   "id": "695000e7",
   "metadata": {},
   "outputs": [],
   "source": [
    "plt.rcParams['font.family'] = 'IPAexGothic'\n",
    "matplotlib.rcParams['font.family'] = 'IPAexGothic'\n",
    "# fp = FontProperties(fname='/home/iida.h/download/IPAexfont00401/ipaexm.ttf')\n",
    "# matplotlib.matplotlib_fname()\n",
    "sns.set(font='IPAexGothic')\n",
    "# print(plt.rcParams['font.family'])\n",
    "# japanize_matplotlib.japanize()"
   ]
  },
  {
   "cell_type": "code",
   "execution_count": 8,
   "id": "63e9c4e3",
   "metadata": {},
   "outputs": [
    {
     "data": {
      "application/json": {
       "ascii": false,
       "bar_format": null,
       "colour": null,
       "elapsed": 0.0402684211730957,
       "initial": 0,
       "n": 0,
       "ncols": null,
       "nrows": 39,
       "postfix": null,
       "prefix": "",
       "rate": null,
       "total": 8841823,
       "unit": "it",
       "unit_divisor": 1000,
       "unit_scale": false
      },
      "application/vnd.jupyter.widget-view+json": {
       "model_id": "7dffb4e00aa0458d93a2a84e7f3d5f21",
       "version_major": 2,
       "version_minor": 0
      },
      "text/plain": [
       "  0%|          | 0/8841823 [00:00<?, ?it/s]"
      ]
     },
     "metadata": {},
     "output_type": "display_data"
    }
   ],
   "source": [
    "dataset = \"msmarco\"\n",
    "data_path = f\"/home/gaia_data/iida.h/BEIR/datasets/{dataset}\"\n",
    "corpus, queries, qrels = GenericDataLoader(data_folder=data_path).load(split=\"test\")"
   ]
  },
  {
   "cell_type": "code",
   "execution_count": 9,
   "id": "f217f64b",
   "metadata": {},
   "outputs": [
    {
     "name": "stderr",
     "output_type": "stream",
     "text": [
      "100%|███████████████████████████████████████████████████████████████████████████████████████████████| 8841823/8841823 [11:41<00:00, 12597.48it/s]\n"
     ]
    }
   ],
   "source": [
    "index = InvertedIndex(corpus, analyzer.analyze)"
   ]
  },
  {
   "cell_type": "code",
   "execution_count": 10,
   "id": "f6e658b8",
   "metadata": {},
   "outputs": [],
   "source": [
    "rsj_calculator = RSJCalculator(index, queries, qrels)"
   ]
  },
  {
   "cell_type": "code",
   "execution_count": 11,
   "id": "741ebc78",
   "metadata": {},
   "outputs": [],
   "source": [
    "with open(\"/home/gaia_data/iida.h/BEIR/C-BM25/results/msmarco/result/bm25/analysis.json\") as f:\n",
    "    bm25_result = json.load(f)\n",
    "\n",
    "with open(\"/home/gaia_data/iida.h/BEIR/C-BM25/results/msmarco/result/cos_sim/mpnet-tod/analysis.json\") as f:\n",
    "    dense_result = json.load(f)\n",
    "\n",
    "with open(\"/home/gaia_data/iida.h/BEIR/C-BM25/results/msmarco/result/dot/mpnet-v3-mse-beir-dot/analysis.json\") as f:\n",
    "    distil_dense_result = json.load(f)\n",
    "    \n",
    "binner = NumBinner(rsj_calculator.rsj, 5)\n",
    "\n",
    "df_bin_bm25 = analyze(bm25_result, rsj_calculator, binner)\n",
    "df_bin_dense = analyze(dense_result, rsj_calculator, binner)\n",
    "df_bin_distil_dense = analyze(distil_dense_result, rsj_calculator, binner)"
   ]
  },
  {
   "cell_type": "code",
   "execution_count": 12,
   "id": "63096d80",
   "metadata": {},
   "outputs": [],
   "source": [
    "df_bin_bm25 = pd.concat([df_bin_bm25, pd.DataFrame({\"retriever\":[\"BM25\"] * len(df_bin_bm25.index)})], axis=1)\n",
    "df_bin_dense = pd.concat([df_bin_dense, pd.DataFrame({\"retriever\":[\"密ベクトル検索\"] * len(df_bin_dense.index)})], axis=1)\n",
    "df_bin_distil_dense = pd.concat([df_bin_distil_dense, pd.DataFrame({\"retriever\":[\"密ベクトル検索（蒸留）\"] * len(df_bin_distil_dense.index)})], axis=1)\n",
    "df_result = pd.concat([df_bin_bm25, df_bin_dense, df_bin_distil_dense])"
   ]
  },
  {
   "cell_type": "code",
   "execution_count": 13,
   "id": "03c914d1",
   "metadata": {},
   "outputs": [
    {
     "name": "stdout",
     "output_type": "stream",
     "text": [
      "/home/iida.h/.config/matplotlib\n"
     ]
    }
   ],
   "source": [
    "print(matplotlib.get_configdir())\n"
   ]
  },
  {
   "cell_type": "code",
   "execution_count": 16,
   "id": "7d2ecae7",
   "metadata": {},
   "outputs": [
    {
     "name": "stderr",
     "output_type": "stream",
     "text": [
      "/tmp/ipykernel_1613319/2544906557.py:12: UserWarning: FixedFormatter should only be used together with FixedLocator\n",
      "  p.set_yticklabels(p.get_yticks(), fontsize=16, fontproperties=fp)\n"
     ]
    },
    {
     "data": {
      "image/png": "[encoded data removed]",
      "text/plain": [
       "<Figure size 864x432 with 1 Axes>"
      ]
     },
     "metadata": {},
     "output_type": "display_data"
    },
    {
     "data": {
      "text/plain": [
       "<Figure size 432x288 with 0 Axes>"
      ]
     },
     "metadata": {},
     "output_type": "display_data"
    }
   ],
   "source": [
    "bin_names = df_result[\"bin\"].unique()\n",
    "bin_names = sorted(bin_names, key=lambda x: x[0])\n",
    "fig, ax = plt.subplots(figsize=(12, 6))\n",
    "fp = FontProperties(fname='/home/iida.h/download/IPAexfont00401/ipaexm.ttf')\n",
    "sns.set_style(style=\"whitegrid\")\n",
    "plt.rcParams['font.family'] = 'IPAexGothic'\n",
    "matplotlib.rcParams['font.family'] = 'IPAexGothic'\n",
    "# sns.set(font='IPAexGothic')\n",
    "p = sns.boxplot(x='bin', y='ΔRSJ', hue=\"retriever\", data=df_result, ax=ax)\n",
    "p.set_title(\"MS MARCO\", fontsize=20, fontproperties=fp)\n",
    "p.set_xticklabels(bin_names, fontsize=16, fontproperties=fp)\n",
    "p.set_yticklabels(p.get_yticks(), fontsize=16, fontproperties=fp)\n",
    "p.set_xlabel(\"RSJ$_{t, Q}$\", fontsize=20, fontproperties=fp)\n",
    "p.set_ylabel(\"$\\Delta$ RSJ$_{t, Q}$\", fontsize=20, fontproperties=fp)\n",
    "# p.set_title(\"MS MARCO\", fontsize=20)\n",
    "# p.set_xticklabels(bin_names, fontsize=16)\n",
    "# p.set_yticklabels(p.get_yticks(), fontsize=16)\n",
    "# p.set_xlabel(\"$RSJ_{t, R_Q}$\", fontsize=20)\n",
    "# p.set_xlabel(\"\", fontsize=20)\n",
    "# p.set_ylabel(\"$\\Delta RSJ_{t,Q}$\", fontsize=20)\n",
    "plt.legend(fontsize='x-large')\n",
    "fig = plt.figure()\n",
    "fig = p.get_figure()\n",
    "fig.savefig(\"rsj-dense-msmarco.svg\", format=\"svg\")"
   ]
  },
  {
   "cell_type": "code",
   "execution_count": null,
   "id": "d1110b90",
   "metadata": {},
   "outputs": [],
   "source": []
  },
  {
   "cell_type": "markdown",
   "id": "7ea36b35",
   "metadata": {},
   "source": [
    "# IDF"
   ]
  },
  {
   "cell_type": "code",
   "execution_count": 20,
   "id": "ecea41e9",
   "metadata": {},
   "outputs": [
    {
     "data": {
      "text/plain": [
       "5.464909425784678"
      ]
     },
     "execution_count": 20,
     "metadata": {},
     "output_type": "execute_result"
    }
   ],
   "source": [
    "index.idf[\"interact\"]"
   ]
  },
  {
   "cell_type": "code",
   "execution_count": 21,
   "id": "49b80eb2",
   "metadata": {},
   "outputs": [
    {
     "data": {
      "text/plain": [
       "4.158191948987143"
      ]
     },
     "execution_count": 21,
     "metadata": {},
     "output_type": "execute_result"
    }
   ],
   "source": [
    "index.idf[\"direct\"]"
   ]
  },
  {
   "cell_type": "code",
   "execution_count": 19,
   "id": "f1972f17",
   "metadata": {},
   "outputs": [
    {
     "data": {
      "text/plain": [
       "count    2.660824e+06\n",
       "mean     1.536147e+01\n",
       "std      1.191025e+00\n",
       "min      1.556821e+00\n",
       "25%      1.530186e+01\n",
       "50%      1.599500e+01\n",
       "75%      1.599500e+01\n",
       "max      1.599500e+01\n",
       "dtype: float64"
      ]
     },
     "execution_count": 19,
     "metadata": {},
     "output_type": "execute_result"
    }
   ],
   "source": [
    "pd.Series(list(index.idf.values())).describe()"
   ]
  },
  {
   "cell_type": "code",
   "execution_count": 22,
   "id": "c060780a",
   "metadata": {},
   "outputs": [
    {
     "name": "stderr",
     "output_type": "stream",
     "text": [
      "  6%|█████▉                                                                                                 | 509086/8841823 [01:39<27:59, 4961.98it/s]Token indices sequence length is longer than the specified maximum sequence length for this model (538 > 512). Running this sequence through the model will result in indexing errors\n",
      "100%|██████████████████████████████████████████████████████████████████████████████████████████████████████| 8841823/8841823 [49:42<00:00, 2964.27it/s]\n"
     ]
    }
   ],
   "source": [
    "from transformers import AutoTokenizer\n",
    "\n",
    "model_path=\"/home/gaia_data/iida.h/BEIR/C-BM25/model/distil/dense/\"\n",
    "hf_tokenizer = AutoTokenizer.from_pretrained(model_path)\n",
    "index = InvertedIndex(corpus, hf_tokenizer.tokenize)"
   ]
  },
  {
   "cell_type": "code",
   "execution_count": 23,
   "id": "55eec8cd",
   "metadata": {},
   "outputs": [
    {
     "name": "stdout",
     "output_type": "stream",
     "text": [
      "6.850482604133618\n",
      "5.014229580583022\n"
     ]
    },
    {
     "data": {
      "text/plain": [
       "count    27647.000000\n",
       "mean         8.158993\n",
       "std          1.684436\n",
       "min          0.016054\n",
       "25%          7.091460\n",
       "50%          8.240093\n",
       "75%          9.315404\n",
       "max         15.995004\n",
       "dtype: float64"
      ]
     },
     "execution_count": 23,
     "metadata": {},
     "output_type": "execute_result"
    }
   ],
   "source": [
    "print(index.idf[\"interaction\"])\n",
    "print(index.idf[\"direct\"])\n",
    "pd.Series(list(index.idf.values())).describe()"
   ]
  },
  {
   "cell_type": "code",
   "execution_count": null,
   "id": "225a02ea",
   "metadata": {},
   "outputs": [],
   "source": []
  }
 ],
 "metadata": {
  "kernelspec": {
   "display_name": "Python 3 (ipykernel)",
   "language": "python",
   "name": "python3"
  },
  "language_info": {
   "codemirror_mode": {
    "name": "ipython",
    "version": 3
   },
   "file_extension": ".py",
   "mimetype": "text/x-python",
   "name": "python",
   "nbconvert_exporter": "python",
   "pygments_lexer": "ipython3",
   "version": "3.9.6"
  }
 },
 "nbformat": 4,
 "nbformat_minor": 5
}
