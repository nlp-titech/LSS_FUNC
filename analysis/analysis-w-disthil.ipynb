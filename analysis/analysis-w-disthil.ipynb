{
 "cells": [
  {
   "cell_type": "code",
   "execution_count": 2,
   "metadata": {},
   "outputs": [],
   "source": [
    "import json\n",
    "import os\n",
    "import numpy as np\n",
    "import pandas as pd\n",
    "import pytrec_eval\n",
    "import torch\n",
    "from tqdm import tqdm\n",
    "from collections import Counter, defaultdict\n",
    "from transformers import AutoTokenizer, AutoModel\n",
    "from beir.datasets.data_loader import GenericDataLoader\n",
    "from beir.retrieval.evaluation import EvaluateRetrieval\n",
    "from pyserini.analysis import Analyzer, get_lucene_analyzer"
   ]
  },
  {
   "cell_type": "code",
   "execution_count": 3,
   "metadata": {},
   "outputs": [],
   "source": [
    "root_dir = \"/home/gaia_data/iida.h/BEIR/datasets\"\n",
    "dataset =  \"scifact\"\n",
    "model_path=\"/home/gaia_data/iida.h/BEIR/C-BM25/model/distil/dense/\"\n",
    "func_name=\"maxsim_bm25_qtf\""
   ]
  },
  {
   "cell_type": "code",
   "execution_count": 4,
   "metadata": {},
   "outputs": [
    {
     "data": {
      "application/json": {
       "ascii": false,
       "bar_format": null,
       "colour": null,
       "elapsed": 0.020977020263671875,
       "initial": 0,
       "n": 0,
       "ncols": null,
       "nrows": 37,
       "postfix": null,
       "prefix": "",
       "rate": null,
       "total": 5183,
       "unit": "it",
       "unit_divisor": 1000,
       "unit_scale": false
      },
      "application/vnd.jupyter.widget-view+json": {
       "model_id": "28ad317620264f8ab19fc7573f1be02a",
       "version_major": 2,
       "version_minor": 0
      },
      "text/plain": [
       "  0%|          | 0/5183 [00:00<?, ?it/s]"
      ]
     },
     "metadata": {},
     "output_type": "display_data"
    }
   ],
   "source": [
    "data_path = os.path.join(root_dir, dataset)\n",
    "corpus, queries, qrels = GenericDataLoader(data_path).load(split=\"test\")"
   ]
  },
  {
   "cell_type": "code",
   "execution_count": 5,
   "metadata": {},
   "outputs": [],
   "source": [
    "def get_info(corpus, tokenizer):\n",
    "    sep = \" \"\n",
    "    doc_lens = {}\n",
    "    df = Counter()\n",
    "    d_tf = {}\n",
    "\n",
    "    for cid in tqdm(corpus.keys()):\n",
    "        text = corpus[cid][\"title\"] + sep + corpus[cid][\"text\"]\n",
    "        input_ids = tokenizer(text)\n",
    "        doc_lens[cid] = (len(input_ids))\n",
    "        df.update(list(set(input_ids)))\n",
    "        tf_d = Counter(input_ids)\n",
    "        doc_lens[cid] =len(input_ids)\n",
    "        d_tf[cid] = tf_d\n",
    "        \n",
    "    idf = defaultdict(float)\n",
    "    N = len(corpus)\n",
    "    for w, v in df.items():\n",
    "        idf[w] = np.log(N / v)\n",
    "\n",
    "    doc_len_ave = np.mean(list(doc_lens.values()))\n",
    "    \n",
    "    del df\n",
    "        \n",
    "    return d_tf, idf, doc_lens, doc_len_ave"
   ]
  },
  {
   "cell_type": "code",
   "execution_count": 6,
   "metadata": {},
   "outputs": [],
   "source": [
    "def get_d_bm25(d_tf, idf, doc_lens, doc_len_ave):\n",
    "    k1 = 0.9\n",
    "    b = 0.6\n",
    "    token_bm25_score = {}\n",
    "\n",
    "    for cid, tfs in d_tf.items():\n",
    "        token_bm25_score[cid] = defaultdict(float)\n",
    "        for tid, tf in tfs.items():\n",
    "            token_bm25_score[cid][tid] = tf * (1 + k1) / (tf + k1 * (1 - b + b * doc_lens[cid] / doc_len_ave)) * idf[tid]\n",
    "            \n",
    "    return token_bm25_score"
   ]
  },
  {
   "cell_type": "code",
   "execution_count": 7,
   "metadata": {},
   "outputs": [],
   "source": [
    "hf_model = AutoModel.from_pretrained(model_path)"
   ]
  },
  {
   "cell_type": "code",
   "execution_count": 8,
   "metadata": {},
   "outputs": [
    {
     "name": "stderr",
     "output_type": "stream",
     "text": [
      "  0%|                                                                                                                         | 0/5183 [00:00<?, ?it/s]Token indices sequence length is longer than the specified maximum sequence length for this model (547 > 512). Running this sequence through the model will result in indexing errors\n",
      "100%|████████████████████████████████████████████████████████████████████████████████████████████████████████████| 5183/5183 [00:03<00:00, 1513.25it/s]\n"
     ]
    }
   ],
   "source": [
    "hf_tokenizer = AutoTokenizer.from_pretrained(model_path)\n",
    "hf_d_tf, hf_idf, hf_doc_lens, hf_doc_len_ave = get_info(corpus, hf_tokenizer.tokenize)\n",
    "hf_token_bm25_score = get_d_bm25(hf_d_tf, hf_idf, hf_doc_lens, hf_doc_len_ave)"
   ]
  },
  {
   "cell_type": "code",
   "execution_count": 9,
   "metadata": {},
   "outputs": [],
   "source": [
    "del hf_d_tf, hf_doc_lens, hf_doc_len_ave"
   ]
  },
  {
   "cell_type": "code",
   "execution_count": 10,
   "metadata": {},
   "outputs": [
    {
     "name": "stderr",
     "output_type": "stream",
     "text": [
      "100%|████████████████████████████████████████████████████████████████████████████████████████████████████████████| 5183/5183 [00:01<00:00, 2820.66it/s]\n"
     ]
    }
   ],
   "source": [
    "lm_tokenizer = Analyzer(get_lucene_analyzer())\n",
    "lm_d_tf, lm_idf, lm_doc_lens, lm_doc_len_ave = get_info(corpus, lm_tokenizer.analyze)\n",
    "lm_token_bm25_score = get_d_bm25(lm_d_tf, lm_idf, lm_doc_lens, lm_doc_len_ave)"
   ]
  },
  {
   "cell_type": "code",
   "execution_count": 11,
   "metadata": {},
   "outputs": [],
   "source": [
    "del lm_d_tf, lm_doc_lens, lm_doc_len_ave"
   ]
  },
  {
   "cell_type": "code",
   "execution_count": 12,
   "metadata": {},
   "outputs": [],
   "source": [
    "# Check\n",
    "# with open(f\"./analysis_data/{dataset}/bm25_result.json\") as f:\n",
    "#     bm25_result = json.load(f)\n",
    "    \n",
    "# with open(f\"./analysis_data/{dataset}/dense_result.json\") as f:\n",
    "#     dense_result = json.load(f)\n",
    "   \n",
    "# with open(f\"./analysis_data/{dataset}/weighted_dense_result.json\") as f:\n",
    "#     weighted_dense_result = json.load(f)\n",
    "    \n",
    "# with open(f\"./analysis_data/{dataset}/cbm25_result.json\") as f:\n",
    "#     cbm25_result = json.load(f)\n",
    "\n",
    "with open(f\"/home/gaia_data/iida.h/BEIR/C-BM25/results/{dataset}/result/bm25/analysis.json\") as f:\n",
    "    bm25_result = json.load(f)\n",
    "\n",
    "with open(f\"/home/gaia_data/iida.h/BEIR/C-BM25/results/{dataset}/result/cos_sim/mpnet-tod/analysis.json\") as f:\n",
    "    dense_result = json.load(f)\n",
    "\n",
    "with open(f\"/home/gaia_data/iida.h/BEIR/C-BM25/results/{dataset}/result/dot/mpnet-v3-mse-beir-dot/analysis.json\") as f:\n",
    "    distil_dense_result = json.load(f)\n",
    "\n",
    "with open(f\"/home/gaia_data/iida.h/BEIR/C-BM25/results/{dataset}/result/lss/mpnet-tod/analysis.json\") as f:\n",
    "    cbm25_result = json.load(f)\n"
   ]
  },
  {
   "cell_type": "code",
   "execution_count": 13,
   "metadata": {},
   "outputs": [],
   "source": [
    "evaluator = pytrec_eval.RelevanceEvaluator(qrels, {\"ndcg_cut.10\"})"
   ]
  },
  {
   "cell_type": "code",
   "execution_count": 14,
   "metadata": {},
   "outputs": [],
   "source": [
    "bm25_scores = evaluator.evaluate(bm25_result)\n",
    "dense_scores = evaluator.evaluate(dense_result)\n",
    "distil_dense_scores = evaluator.evaluate(distil_dense_result)\n",
    "cbm25_scores = evaluator.evaluate(cbm25_result[func_name])"
   ]
  },
  {
   "cell_type": "code",
   "execution_count": 15,
   "metadata": {},
   "outputs": [
    {
     "name": "stdout",
     "output_type": "stream",
     "text": [
      "bm25:  0.6639400192301421\n",
      "dense:  0.46129964831747294\n",
      "distil_dense:  0.5761708026486931\n",
      "cbm25:  0.7110404910234447\n"
     ]
    }
   ],
   "source": [
    "print(\"bm25: \", np.average([i[\"ndcg_cut_10\"] for i in bm25_scores.values()]))\n",
    "print(\"dense: \", np.average([i[\"ndcg_cut_10\"] for i in dense_scores.values()]))\n",
    "print(\"distil_dense: \", np.average([i[\"ndcg_cut_10\"] for i in distil_dense_scores.values()]))\n",
    "print(\"cbm25: \", np.average([i[\"ndcg_cut_10\"] for i in cbm25_scores.values()]))"
   ]
  },
  {
   "cell_type": "code",
   "execution_count": 16,
   "metadata": {},
   "outputs": [],
   "source": [
    "def create_diff_scores(source_scores, target_scores):\n",
    "    diff_scores = {}\n",
    "    for k in cbm25_scores:\n",
    "        try:\n",
    "            diff_score = source_scores[k][\"ndcg_cut_10\"] - target_scores[k][\"ndcg_cut_10\"]\n",
    "        except KeyError:\n",
    "            diff_score = source_scores[k][\"ndcg_cut_10\"]\n",
    "        if abs(diff_score) > 0.0:\n",
    "            diff_scores[k] = diff_score\n",
    "            \n",
    "    return diff_scores"
   ]
  },
  {
   "cell_type": "code",
   "execution_count": 17,
   "metadata": {},
   "outputs": [],
   "source": [
    "diff_scores_bm25 = create_diff_scores(cbm25_scores, bm25_scores)\n",
    "diff_scores_dense = create_diff_scores(cbm25_scores, dense_scores)\n",
    "diff_scores_distil_dense = create_diff_scores(cbm25_scores, distil_dense_scores)"
   ]
  },
  {
   "cell_type": "code",
   "execution_count": 18,
   "metadata": {},
   "outputs": [],
   "source": [
    "common_diff_query = set(diff_scores_bm25) & set(diff_scores_dense) & set(diff_scores_distil_dense)\n",
    "# common_diff_query = set(diff_scores_bm25) & set(diff_scores_dense)"
   ]
  },
  {
   "cell_type": "code",
   "execution_count": 19,
   "metadata": {},
   "outputs": [
    {
     "data": {
      "text/html": [
       "<div>\n",
       "<style scoped>\n",
       "    .dataframe tbody tr th:only-of-type {\n",
       "        vertical-align: middle;\n",
       "    }\n",
       "\n",
       "    .dataframe tbody tr th {\n",
       "        vertical-align: top;\n",
       "    }\n",
       "\n",
       "    .dataframe thead th {\n",
       "        text-align: right;\n",
       "    }\n",
       "</style>\n",
       "<table border=\"1\" class=\"dataframe\">\n",
       "  <thead>\n",
       "    <tr style=\"text-align: right;\">\n",
       "      <th></th>\n",
       "      <th>bm25</th>\n",
       "      <th>dense</th>\n",
       "      <th>distil_dense</th>\n",
       "    </tr>\n",
       "  </thead>\n",
       "  <tbody>\n",
       "    <tr>\n",
       "      <th>count</th>\n",
       "      <td>188.000000</td>\n",
       "      <td>188.000000</td>\n",
       "      <td>188.000000</td>\n",
       "    </tr>\n",
       "    <tr>\n",
       "      <th>mean</th>\n",
       "      <td>0.075160</td>\n",
       "      <td>0.398523</td>\n",
       "      <td>0.215218</td>\n",
       "    </tr>\n",
       "    <tr>\n",
       "      <th>std</th>\n",
       "      <td>0.262094</td>\n",
       "      <td>0.405287</td>\n",
       "      <td>0.390870</td>\n",
       "    </tr>\n",
       "    <tr>\n",
       "      <th>min</th>\n",
       "      <td>-0.569323</td>\n",
       "      <td>-1.000000</td>\n",
       "      <td>-1.000000</td>\n",
       "    </tr>\n",
       "    <tr>\n",
       "      <th>25%</th>\n",
       "      <td>0.000000</td>\n",
       "      <td>0.130930</td>\n",
       "      <td>0.000000</td>\n",
       "    </tr>\n",
       "    <tr>\n",
       "      <th>50%</th>\n",
       "      <td>0.000000</td>\n",
       "      <td>0.369070</td>\n",
       "      <td>0.130930</td>\n",
       "    </tr>\n",
       "    <tr>\n",
       "      <th>75%</th>\n",
       "      <td>0.302416</td>\n",
       "      <td>0.630930</td>\n",
       "      <td>0.430677</td>\n",
       "    </tr>\n",
       "    <tr>\n",
       "      <th>max</th>\n",
       "      <td>1.000000</td>\n",
       "      <td>1.000000</td>\n",
       "      <td>1.000000</td>\n",
       "    </tr>\n",
       "  </tbody>\n",
       "</table>\n",
       "</div>"
      ],
      "text/plain": [
       "             bm25       dense  distil_dense\n",
       "count  188.000000  188.000000    188.000000\n",
       "mean     0.075160    0.398523      0.215218\n",
       "std      0.262094    0.405287      0.390870\n",
       "min     -0.569323   -1.000000     -1.000000\n",
       "25%      0.000000    0.130930      0.000000\n",
       "50%      0.000000    0.369070      0.130930\n",
       "75%      0.302416    0.630930      0.430677\n",
       "max      1.000000    1.000000      1.000000"
      ]
     },
     "execution_count": 19,
     "metadata": {},
     "output_type": "execute_result"
    }
   ],
   "source": [
    "all_diff = pd.concat([pd.Series(diff_scores_bm25), pd.Series(diff_scores_dense), pd.Series(diff_scores_distil_dense)], axis=1).fillna(0).sort_index()\n",
    "all_diff = all_diff.rename(columns={0: \"bm25\", 1: \"dense\", 2: \"distil_dense\"})\n",
    "all_diff.describe()"
   ]
  },
  {
   "cell_type": "code",
   "execution_count": 20,
   "metadata": {},
   "outputs": [],
   "source": [
    "# all_diff = pd.concat([pd.Series(diff_scores_bm25), pd.Series(diff_scores_dense)], axis=1).fillna(0).sort_index()\n",
    "# all_diff = all_diff.rename(columns={0: \"bm25\", 1: \"dense\"})\n",
    "# all_diff.describe()"
   ]
  },
  {
   "cell_type": "code",
   "execution_count": 21,
   "metadata": {},
   "outputs": [
    {
     "data": {
      "text/html": [
       "<div>\n",
       "<style scoped>\n",
       "    .dataframe tbody tr th:only-of-type {\n",
       "        vertical-align: middle;\n",
       "    }\n",
       "\n",
       "    .dataframe tbody tr th {\n",
       "        vertical-align: top;\n",
       "    }\n",
       "\n",
       "    .dataframe thead th {\n",
       "        text-align: right;\n",
       "    }\n",
       "</style>\n",
       "<table border=\"1\" class=\"dataframe\">\n",
       "  <thead>\n",
       "    <tr style=\"text-align: right;\">\n",
       "      <th></th>\n",
       "      <th>bm25</th>\n",
       "      <th>dense</th>\n",
       "      <th>distil_dense</th>\n",
       "    </tr>\n",
       "  </thead>\n",
       "  <tbody>\n",
       "    <tr>\n",
       "      <th>1099</th>\n",
       "      <td>0.430677</td>\n",
       "      <td>0.430677</td>\n",
       "      <td>0.430677</td>\n",
       "    </tr>\n",
       "    <tr>\n",
       "      <th>1100</th>\n",
       "      <td>0.430677</td>\n",
       "      <td>0.430677</td>\n",
       "      <td>0.430677</td>\n",
       "    </tr>\n",
       "    <tr>\n",
       "      <th>127</th>\n",
       "      <td>0.369070</td>\n",
       "      <td>1.000000</td>\n",
       "      <td>0.613147</td>\n",
       "    </tr>\n",
       "    <tr>\n",
       "      <th>1280</th>\n",
       "      <td>0.356207</td>\n",
       "      <td>0.356207</td>\n",
       "      <td>0.356207</td>\n",
       "    </tr>\n",
       "    <tr>\n",
       "      <th>1344</th>\n",
       "      <td>0.630930</td>\n",
       "      <td>0.630930</td>\n",
       "      <td>0.630930</td>\n",
       "    </tr>\n",
       "    <tr>\n",
       "      <th>183</th>\n",
       "      <td>0.630930</td>\n",
       "      <td>0.630930</td>\n",
       "      <td>0.630930</td>\n",
       "    </tr>\n",
       "    <tr>\n",
       "      <th>198</th>\n",
       "      <td>0.369070</td>\n",
       "      <td>1.000000</td>\n",
       "      <td>1.000000</td>\n",
       "    </tr>\n",
       "    <tr>\n",
       "      <th>294</th>\n",
       "      <td>0.500000</td>\n",
       "      <td>0.666667</td>\n",
       "      <td>0.698970</td>\n",
       "    </tr>\n",
       "    <tr>\n",
       "      <th>3</th>\n",
       "      <td>0.500000</td>\n",
       "      <td>1.000000</td>\n",
       "      <td>1.000000</td>\n",
       "    </tr>\n",
       "    <tr>\n",
       "      <th>343</th>\n",
       "      <td>0.419721</td>\n",
       "      <td>1.000000</td>\n",
       "      <td>0.386853</td>\n",
       "    </tr>\n",
       "    <tr>\n",
       "      <th>362</th>\n",
       "      <td>0.369070</td>\n",
       "      <td>0.369070</td>\n",
       "      <td>0.369070</td>\n",
       "    </tr>\n",
       "    <tr>\n",
       "      <th>452</th>\n",
       "      <td>0.218407</td>\n",
       "      <td>0.218407</td>\n",
       "      <td>0.218407</td>\n",
       "    </tr>\n",
       "    <tr>\n",
       "      <th>637</th>\n",
       "      <td>0.369070</td>\n",
       "      <td>0.666667</td>\n",
       "      <td>0.698970</td>\n",
       "    </tr>\n",
       "    <tr>\n",
       "      <th>690</th>\n",
       "      <td>1.000000</td>\n",
       "      <td>1.000000</td>\n",
       "      <td>1.000000</td>\n",
       "    </tr>\n",
       "    <tr>\n",
       "      <th>692</th>\n",
       "      <td>0.369070</td>\n",
       "      <td>1.000000</td>\n",
       "      <td>0.369070</td>\n",
       "    </tr>\n",
       "    <tr>\n",
       "      <th>72</th>\n",
       "      <td>0.500000</td>\n",
       "      <td>1.000000</td>\n",
       "      <td>1.000000</td>\n",
       "    </tr>\n",
       "    <tr>\n",
       "      <th>728</th>\n",
       "      <td>0.226294</td>\n",
       "      <td>0.580332</td>\n",
       "      <td>0.204382</td>\n",
       "    </tr>\n",
       "    <tr>\n",
       "      <th>759</th>\n",
       "      <td>0.369070</td>\n",
       "      <td>0.369070</td>\n",
       "      <td>0.369070</td>\n",
       "    </tr>\n",
       "    <tr>\n",
       "      <th>781</th>\n",
       "      <td>0.369070</td>\n",
       "      <td>0.369070</td>\n",
       "      <td>0.369070</td>\n",
       "    </tr>\n",
       "    <tr>\n",
       "      <th>784</th>\n",
       "      <td>0.569323</td>\n",
       "      <td>0.666667</td>\n",
       "      <td>1.000000</td>\n",
       "    </tr>\n",
       "    <tr>\n",
       "      <th>793</th>\n",
       "      <td>0.500000</td>\n",
       "      <td>0.369070</td>\n",
       "      <td>0.369070</td>\n",
       "    </tr>\n",
       "    <tr>\n",
       "      <th>821</th>\n",
       "      <td>0.301030</td>\n",
       "      <td>0.301030</td>\n",
       "      <td>0.301030</td>\n",
       "    </tr>\n",
       "    <tr>\n",
       "      <th>834</th>\n",
       "      <td>0.430677</td>\n",
       "      <td>0.430677</td>\n",
       "      <td>0.430677</td>\n",
       "    </tr>\n",
       "    <tr>\n",
       "      <th>852</th>\n",
       "      <td>0.369070</td>\n",
       "      <td>0.710935</td>\n",
       "      <td>0.613147</td>\n",
       "    </tr>\n",
       "  </tbody>\n",
       "</table>\n",
       "</div>"
      ],
      "text/plain": [
       "          bm25     dense  distil_dense\n",
       "1099  0.430677  0.430677      0.430677\n",
       "1100  0.430677  0.430677      0.430677\n",
       "127   0.369070  1.000000      0.613147\n",
       "1280  0.356207  0.356207      0.356207\n",
       "1344  0.630930  0.630930      0.630930\n",
       "183   0.630930  0.630930      0.630930\n",
       "198   0.369070  1.000000      1.000000\n",
       "294   0.500000  0.666667      0.698970\n",
       "3     0.500000  1.000000      1.000000\n",
       "343   0.419721  1.000000      0.386853\n",
       "362   0.369070  0.369070      0.369070\n",
       "452   0.218407  0.218407      0.218407\n",
       "637   0.369070  0.666667      0.698970\n",
       "690   1.000000  1.000000      1.000000\n",
       "692   0.369070  1.000000      0.369070\n",
       "72    0.500000  1.000000      1.000000\n",
       "728   0.226294  0.580332      0.204382\n",
       "759   0.369070  0.369070      0.369070\n",
       "781   0.369070  0.369070      0.369070\n",
       "784   0.569323  0.666667      1.000000\n",
       "793   0.500000  0.369070      0.369070\n",
       "821   0.301030  0.301030      0.301030\n",
       "834   0.430677  0.430677      0.430677\n",
       "852   0.369070  0.710935      0.613147"
      ]
     },
     "execution_count": 21,
     "metadata": {},
     "output_type": "execute_result"
    }
   ],
   "source": [
    "better_query = all_diff[(all_diff > 0.2).all(1)]\n",
    "better_query"
   ]
  },
  {
   "cell_type": "code",
   "execution_count": 22,
   "metadata": {},
   "outputs": [
    {
     "data": {
      "text/html": [
       "<div>\n",
       "<style scoped>\n",
       "    .dataframe tbody tr th:only-of-type {\n",
       "        vertical-align: middle;\n",
       "    }\n",
       "\n",
       "    .dataframe tbody tr th {\n",
       "        vertical-align: top;\n",
       "    }\n",
       "\n",
       "    .dataframe thead th {\n",
       "        text-align: right;\n",
       "    }\n",
       "</style>\n",
       "<table border=\"1\" class=\"dataframe\">\n",
       "  <thead>\n",
       "    <tr style=\"text-align: right;\">\n",
       "      <th></th>\n",
       "      <th>bm25</th>\n",
       "      <th>dense</th>\n",
       "      <th>distil_dense</th>\n",
       "    </tr>\n",
       "  </thead>\n",
       "  <tbody>\n",
       "    <tr>\n",
       "      <th>237</th>\n",
       "      <td>-0.36907</td>\n",
       "      <td>-0.36907</td>\n",
       "      <td>-0.36907</td>\n",
       "    </tr>\n",
       "    <tr>\n",
       "      <th>513</th>\n",
       "      <td>-0.13093</td>\n",
       "      <td>-0.13093</td>\n",
       "      <td>-0.13093</td>\n",
       "    </tr>\n",
       "  </tbody>\n",
       "</table>\n",
       "</div>"
      ],
      "text/plain": [
       "        bm25    dense  distil_dense\n",
       "237 -0.36907 -0.36907      -0.36907\n",
       "513 -0.13093 -0.13093      -0.13093"
      ]
     },
     "execution_count": 22,
     "metadata": {},
     "output_type": "execute_result"
    }
   ],
   "source": [
    "worse_query = all_diff[(all_diff < -0.01).all(1)]\n",
    "worse_query"
   ]
  },
  {
   "cell_type": "code",
   "execution_count": 32,
   "metadata": {},
   "outputs": [],
   "source": [
    "def show_result_top1(qid, show_condition):\n",
    "    def extract_top1(result):\n",
    "        return sorted(result[qid].items(), key=lambda x: -x[1])[0]\n",
    "    \n",
    "    bm25_top1 = extract_top1(bm25_result)\n",
    "    dense_top1 = extract_top1(dense_result)\n",
    "    distil_dense_top1 = extract_top1(distil_dense_result)\n",
    "    cbm25_top1 = extract_top1(cbm25_result[func_name])\n",
    "    \n",
    "    correct = qrels[qid]\n",
    "    if show_condition(cbm25_top1[0], distil_dense_top1[0], correct):\n",
    "        print(\"------\")\n",
    "        print(f\"qid: {qid}, query: {queries[qid]}\")\n",
    "        print(bm25_top1[0] in correct, f\"bm25: {corpus[bm25_top1[0]]}\")\n",
    "        print(dense_top1[0] in correct, f\"dense: {corpus[dense_top1[0]]}\")\n",
    "        print(distil_dense_top1[0] in correct, f\"distil_dense: {corpus[distil_dense_top1[0]]}\")\n",
    "        print(cbm25_top1[0] in correct, f\"cbm25: {corpus[cbm25_top1[0]]}\")\n",
    "    else:\n",
    "        print(\"------\")\n",
    "        print(f\"skip qid {qid}\")"
   ]
  },
  {
   "cell_type": "code",
   "execution_count": 24,
   "metadata": {},
   "outputs": [
    {
     "name": "stdout",
     "output_type": "stream",
     "text": [
      "------\n",
      "skip qid 1099\n",
      "------\n",
      "skip qid 1100\n",
      "------\n",
      "qid: 127, query: Arginine 90 in p150n is important for interaction with EB1.\n",
      "False bm25: {'text': 'CLIP-170 is a \"cytoplasmic linker protein\" implicated in endosome-microtubule interactions and in control of microtubule dynamics. CLIP-170 localizes dynamically to growing microtubule plus ends, colocalizing with the dynein activator dynactin and the APC-binding protein EB1. This shared \"plus-end tracking\" behavior suggests that CLIP-170 might interact with dynactin and/or EB1. We have used site-specific mutagenesis of CLIP-170 and a transfection/colocalization assay to address this question in mammalian tissue culture cells. Our results indicate that CLIP-170 interacts, directly or indirectly, with both dynactin and EB1. We find that the CLIP-170/dynactin interaction is mediated by the second metal binding motif of the CLIP-170 tail. In contrast, the CLIP-170/EB1 interaction requires neither metal binding motif. In addition, our experiments suggest that the CLIP-170/dynactin interaction occurs via the shoulder/sidearm subcomplex of dynactin and can occur in the cytosol (i.e., it does not require microtubule binding). These results have implications for the targeting of both dynactin and EB1 to microtubule plus ends. Our data suggest that the CLIP-170/dynactin interaction can target dynactin complex to microtubule plus ends, although dynactin likely also targets MT plus ends directly via the microtubule binding motif of the p150(Glued) subunit. We find that CLIP-170 mutants alter p150(Glued) localization without affecting EB1, indicating that EB1 can target microtubule plus ends independently of dynactin.', 'title': 'CLIP-170 interacts with dynactin complex and the APC-binding protein EB1 by different mechanisms.'}\n",
      "False dense: {'text': 'OBJECTIVE Fructosamine, glycated albumin, and 1,5-anhydroglucitol (1,5-AG) are of interest for monitoring short-term glycemic control in patients with diabetes; however, their associations with diabetes risk are uncharacterized. RESEARCH DESIGN AND METHODS We used Cox proportional hazards models to examine the associations of fructosamine, glycated albumin, and 1,5-AG with incident diabetes in 1,299 participants, from the Atherosclerosis Risk in Communities (ARIC) Study (2005-2006), who had no history of diagnosed diabetes at baseline. Incident diabetes was self-reported during annual telephone calls. RESULTS There were 119 new cases of diabetes during a median follow-up of 3.3 years. When compared with the lowest quartile, the fourth quartiles of fructosamine and glycated albumin were significantly associated with diabetes risk (hazard ratio [HR] 3.99 [95% CI 1.93-8.28] and 5.22 [2.49-10.94], respectively). The fourth quartile of 1,5-AG was associated with a significantly lower diabetes risk (0.27 [0.14-0.55]). Associations were attenuated but still significant after adjustment for hemoglobin A(1c) (A1C) or fasting glucose. CONCLUSIONS Fructosamine, glycated albumin, and 1,5-AG were associated with the subsequent development of diabetes independently of baseline A1C and fasting glucose. Our results suggest these alternative biomarkers may be useful in identifying persons at risk for diabetes.', 'title': 'Alternative Markers of Hyperglycemia and Risk of Diabetes'}\n",
      "False distil_dense: {'text': 'Listeria monocytogenes is widely used as a model to study immune responses against intracellular bacteria. It has been shown that neutrophils and macrophages play an important role to restrict bacterial replication in the early phase of primary infection in mice, and that the cytokines interferon-γ (IFN-γ) and tumor necrosis factor-α (TNF-α) are essential for protection. However, the involved signaling pathways and effector mechanisms are still poorly understood. This study investigated mouse strains deficient for the IFN-dependent transcription factors interferon consensus sequence binding protein (ICSBP), interferon regulatory factor (IRF)1 or 2 for their capacity to eliminate Listeria in vivo and in vitro and for production of inducible reactive nitrogen intermediates (RNI) or reactive oxygen intermediates (ROI) in macrophages. ICSBP−/− and to a lesser degree also IRF2−/− mice were highly susceptible to Listeria infection. This correlated with impaired elimination of Listeria from infected peritoneal macrophage (PEM) cultures stimulated with IFN-γ in vitro; in addition these cultures showed reduced and delayed oxidative burst upon IFN-γ stimulation, whereas nitric oxide production was normal. In contrast, mice deficient for IRF1 were not able to produce nitric oxide, but they efficiently controlled Listeria in vivo and in vitro. These results indicate that (a) the ICSBP/IRF2 complex is essential for IFN-γ–mediated protection against Listeria and that (b) ROI together with additional still unknown effector mechanisms may be responsible for the anti-Listeria activity of macrophages, whereas IRF1-induced RNI are not limiting.', 'title': 'Crucial Role of Interferon Consensus Sequence Binding Protein, but neither of Interferon Regulatory Factor 1 nor of Nitric Oxide Synthesis for Protection Against Murine Listeriosis'}\n",
      "True cbm25: {'text': 'Plus-end tracking proteins, such as EB1 and the dynein/dynactin complex, regulate microtubule dynamics. These proteins are thought to stabilize microtubules by forming a plus-end complex at microtubule growing ends with ill-defined mechanisms. Here we report the crystal structure of two plus-end complex components, the carboxy-terminal dimerization domain of EB1 and the microtubule binding (CAP-Gly) domain of the dynactin subunit p150Glued. Each molecule of the EB1 dimer contains two helices forming a conserved four-helix bundle, while also providing p150Glued binding sites in its flexible tail region. Combining crystallography, NMR, and mutational analyses, our studies reveal the critical interacting elements of both EB1 and p150Glued, whose mutation alters microtubule polymerization activity. Moreover, removal of the key flexible tail from EB1 activates microtubule assembly by EB1 alone, suggesting that the flexible tail negatively regulates EB1 activity. We, therefore, propose that EB1 possesses an auto-inhibited conformation, which is relieved by p150Glued as an allosteric activator.', 'title': 'Structural basis for the activation of microtubule assembly by the EB1 and p150Glued complex.'}\n",
      "------\n",
      "skip qid 1280\n",
      "------\n",
      "skip qid 1344\n",
      "------\n",
      "skip qid 183\n",
      "------\n",
      "qid: 198, query: CCL19 is absent within dLNs.\n",
      "False bm25: {'text': 'The pro-drug FTY720 is undergoing phase III clinical trials for prevention of allograft rejection. After phosphorylation, FTY720 targets the G protein-coupled-sphingosine-1-phosphate receptor 1 (S1PR1) on lymphocytes, thereby inhibiting their egress from lymphoid organs and their recirculation to inflammatory sites. Potential effects on dendritic cell (DC) trafficking have not been evaluated. Here, we demonstrate the expression of all five S1PR subtypes (S1PR1-5) by murine DCs. Administration of FTY720 to C57BL/10 mice markedly reduced circulating T and B lymphocytes within 24 h, but not blood-borne DCs, which were enhanced significantly for up to 96 h, while DCs in lymph nodes and spleen were reduced. Numbers of adoptively transferred, fluorochrome-labeled syngeneic or allogeneic DCs in blood were increased significantly in FTY720-treated animals, while donor-derived DCs and allostimulatory activity for host naïve T cells within the spleen were reduced. Administration of the selective S1PR1 agonist SEW2871 significantly enhanced circulating DC numbers. Flow analysis revealed that CD11b, CD31/PECAM-1, CD54/ICAM-1 and CCR7 expression on blood-borne DCs was downregulated following FTY720 administration. Transendothelial migration of FTY720-P-treated immature DCs to the CCR7 ligand CCL19 was reduced. These novel data suggest that modulation of DC trafficking by FTY720 may contribute to its immunosuppressive effects.', 'title': 'The sphingosine-1-phosphate receptor agonist FTY720 modulates dendritic cell trafficking in vivo.'}\n",
      "False dense: {'text': 'CD4 memory T cells surviving in the absence of MHC class II contact lose their characteristic memory function. To investigate the mechanisms underlying the impaired function of memory T cells in the absence of MHC class II molecules, we analyzed gene expression profiles of resting memory T cells isolated from MHC class II-competent or -deficient hosts. The analysis focused on five transcripts related to T cell activation, metabolism, and survival that are underexpressed in resting memory T cells from MHC class II-deficient hosts compared with MHC class II-competent hosts. CD4 memory cells isolated from MHC class II-deficient hosts display alterations in their degree of differentiation as well as metabolic activity, and these changes are already manifest in the effector phase despite the presence of Ag-expressing dendritic cells. Our data suggest that the absence of interactions with noncognate MHC class II molecules compromises the progressive accumulation of signals that ensure optimal survival and fitness to sustain the metabolic activity of activated T cells and shape the functional capacity of the future memory compartment. Signals via AKT coordinate survival and metabolic pathways and may be one of the crucial events linking interaction with MHC class II molecules to the successful generation of a long-lived functional memory CD4 T cell population.', 'title': 'Noncognate interaction with MHC class II molecules is essential for maintenance of T cell metabolism to establish optimal memory CD4 T cell function.'}\n",
      "False distil_dense: {'text': 'An emerging family of kinases related to the Drosophila Aurora and budding yeast Ipl1 proteins has been implicated in chromosome segregation and mitotic spindle formation in a number of organisms. Unlike other Aurora/Ipl1-related kinases, the Caenorhabditis elegans orthologue, AIR-2, is associated with meiotic and mitotic chromosomes. AIR-2 is initially localized to the chromosomes of the most mature prophase I–arrested oocyte residing next to the spermatheca. This localization is dependent on the presence of sperm in the spermatheca. After fertilization, AIR-2 remains associated with chromosomes during each meiotic division. However, during both meiotic anaphases, AIR-2 is present between the separating chromosomes. AIR-2 also remains associated with both extruded polar bodies. In the embryo, AIR-2 is found on metaphase chromosomes, moves to midbody microtubules at anaphase, and then persists at the cytokinesis remnant. Disruption of AIR-2 expression by RNA- mediated interference produces entire broods of one-cell embryos that have executed multiple cell cycles in the complete absence of cytokinesis. The embryos accumulate large amounts of DNA and microtubule asters. Polar bodies are not extruded, but remain in the embryo where they continue to replicate. The cytokinesis defect appears to be late in the cell cycle because transient cleavage furrows initiate at the proper location, but regress before the division is complete. Additionally, staining with a marker of midbody microtubules revealed that at least some of the components of the midbody are not well localized in the absence of AIR-2 activity. Our results suggest that during each meiotic and mitotic division, AIR-2 may coordinate the congression of metaphase chromosomes with the subsequent events of polar body extrusion and cytokinesis.', 'title': 'AIR-2: An Aurora/Ipl1-related Protein Kinase Associated with Chromosomes and Midbody Microtubules Is  Required for Polar Body Extrusion and Cytokinesis  in Caenorhabditis elegans Embryos '}\n",
      "True cbm25: {'text': 'Chemokines orchestrate immune cell trafficking by eliciting either directed or random migration and by activating integrins in order to induce cell adhesion. Analyzing dendritic cell (DC) migration, we showed that these distinct cellular responses depended on the mode of chemokine presentation within tissues. The surface-immobilized form of the chemokine CCL21, the heparan sulfate-anchoring ligand of the CC-chemokine receptor 7 (CCR7), caused random movement of DCs that was confined to the chemokine-presenting surface because it triggered integrin-mediated adhesion. Upon direct contact with CCL21, DCs truncated the anchoring residues of CCL21, thereby releasing it from the solid phase. Soluble CCL21 functionally resembles the second CCR7 ligand, CCL19, which lacks anchoring residues and forms soluble gradients. Both soluble CCR7 ligands triggered chemotactic movement, but not surface adhesion. Adhesive random migration and directional steering cooperate to produce dynamic but spatially restricted locomotion patterns closely resembling the cellular dynamics observed in secondary lymphoid organs.', 'title': 'Immobilized chemokine fields and soluble chemokine gradients cooperatively shape migration patterns of dendritic cells.'}\n",
      "------\n",
      "qid: 294, query: Crossover hot spots are not found within gene promoters in Saccharomyces cerevisiae.\n",
      "False bm25: {'text': 'During meiosis, recombination between homologous chromosomes generates crossover (CR) and noncrossover (NCR) products. CRs establish connections between homologs, whereas intermediates leading to NCRs have been proposed to participate in homologous pairing. How these events are differentiated and regulated remains to be determined. We have developed a strategy to detect, quantify, and map NCRs in parallel to CRs, at the Psmb9 meiotic recombination hot spot, in male and female mouse germ lines. Our results report direct molecular evidence for distinct CR and NCR pathways of DNA double-strand break (DSB) repair in mouse meiosis based on three observations: both CRs and NCRs require Spo11, NCR products have shorter conversion tracts than CRs, and only CRs require the MutL homolog Mlh1. We show that both products are formed from middle to late pachytene of meiotic prophase and provide evidence for an Mlh1-independent CR pathway, where mismatch repair does not require Mlh1.', 'title': 'Crossover and noncrossover pathways in mouse meiosis.'}\n",
      "False dense: {'text': 'Population diversity data have recently provided profound, albeit inferential, insights into meiotic recombination across the human genome, revealing a landscape dominated by thousands of cross-over hotspots. However, very few of these putative hotspots have been directly analyzed for cross-over activity. We now describe a search for very active hotspots, by using extreme breakdown of marker association as a guide for high-resolution sperm cross-over analysis. This strategy has led to the isolation of the most active cross-over hotspots yet described. Their morphology, sequence attributes, and cross-over processes are very similar to those seen at less active hotspots, but their activity in sperm is poorly predicted from population diversity information. Several of these hotspots showed evidence for biased gene conversion accompanying cross-over, in some cases associated with variation between men in cross-over activity and with two hotspots showing complete presence/absence polymorphism in different men. Hotspot polymorphism is very common at less active hotspots but curiously was not seen at any of the most active hotspots. This contrasts with the prediction that extreme hotspots should be the most vulnerable to attenuation by meiotic drive in favor of mutations that suppress recombination and should therefore show rapid rate evolution and thus variation in activity between men. Finally, these very intense hotspots provide a valuable resource for dissecting meiotic recombination processes and pathways in humans.', 'title': 'Sperm cross-over activity in regions of the human genome showing extreme breakdown of marker association.'}\n",
      "False distil_dense: {'text': 'Meiotic crossovers detected by pedigree analysis in the mouse MHC cluster into hotspots. To explore the properties of hotspots, we subjected the class II E(beta) gene to high-resolution sperm crossover analysis. We confirm the presence of a highly localized hotspot 1.0-1.6 kb wide in the second intron of E(beta) and show that it is flanked by DNA which is almost completely recombinationally inert. Mice heterozygous for haplotype s and another MHC haplotype show major haplotype-dependant variation in crossover rate but always the same hotspot, even in crosses including the highly diverged p haplotype. Crossovers in reciprocal orientations occur at similar rates but show different distributions across the hotspot, with the position of centre points in the two orientations shifted on average by 400 bp. This asymmetry results in crossover products showing biased gene conversion in favour of hotspot markers from the non-initiating haplotype, and supports the double-strand break repair model of recombination, with haplotype s as the most efficient crossover initiator. The detailed behaviour of the E(beta) hotspot, including evidence for highly localized recombination initiation, is strikingly similar to human hotspots.', 'title': 'High-resolution sperm typing of meiotic recombination in the mouse MHC Ebeta gene.'}\n",
      "True cbm25: {'text': 'DNA double-strand breaks (DSBs), which are formed by the Spo11 protein, initiate meiotic recombination. Previous DSB-mapping studies have used rad50S or sae2Δ mutants, which are defective in break processing, to accumulate Spo11-linked DSBs, and report large (≥ 50 kb) “DSB-hot” regions that are separated by “DSB-cold” domains of similar size. Substantial recombination occurs in some DSB-cold regions, suggesting that DSB patterns are not normal in rad50S or sae2Δ mutants. We therefore developed a novel method to map genome-wide, single-strand DNA (ssDNA)–associated DSBs that accumulate in processing-capable, repair-defective dmc1Δ and dmc1Δ rad51Δ mutants. DSBs were observed at known hot spots, but also in most previously identified “DSB-cold” regions, including near centromeres and telomeres. Although approximately 40% of the genome is DSB-cold in rad50S mutants, analysis of meiotic ssDNA from dmc1Δ shows that most of these regions have substantial DSB activity. Southern blot assays of DSBs in selected regions in dmc1Δ, rad50S, and wild-type cells confirm these findings. Thus, DSBs are distributed much more uniformly than was previously believed. Comparisons of DSB signals in dmc1, dmc1 rad51, and dmc1 spo11 mutant strains identify Dmc1 as a critical strand-exchange activity genome-wide, and confirm previous conclusions that Spo11-induced lesions initiate all meiotic recombination.', 'title': 'Mapping Meiotic Single-Strand DNA Reveals a New Landscape of DNA Double-Strand Breaks in Saccharomyces cerevisiae'}\n",
      "------\n",
      "qid: 3, query: 1,000 genomes project enables mapping of genetic sequence variation consisting of rare variants with larger penetrance effects than common variants.\n",
      "False bm25: {'text': 'Improved sequencing technologies offer unprecedented opportunities for investigating the role of rare genetic variation in common disease. However, there are considerable challenges with respect to study design, data analysis and replication. Using pooled next-generation sequencing of 507 genes implicated in the repair of DNA in 1,150 samples, an analytical strategy focused on protein-truncating variants (PTVs) and a large-scale sequencing case–control replication experiment in 13,642 individuals, here we show that rare PTVs in the p53-inducible protein phosphatase PPM1D are associated with predisposition to breast cancer and ovarian cancer. PPM1D PTV mutations were present in 25 out of 7,781 cases versus 1 out of 5,861 controls (P = 1.12 × 10−5), including 18 mutations in 6,912 individuals with breast cancer (P = 2.42 × 10−4) and 12 mutations in 1,121 individuals with ovarian cancer (P = 3.10 × 10−9). Notably, all of the identified PPM1D PTVs were mosaic in lymphocyte DNA and clustered within a 370-base-pair region in the final exon of the gene, carboxy-terminal to the phosphatase catalytic domain. Functional studies demonstrate that the mutations result in enhanced suppression of p53 in response to ionizing radiation exposure, suggesting that the mutant alleles encode hyperactive PPM1D isoforms. Thus, although the mutations cause premature protein truncation, they do not result in the simple loss-of-function effect typically associated with this class of variant, but instead probably have a gain-of-function effect. Our results have implications for the detection and management of breast and ovarian cancer risk. More generally, these data provide new insights into the role of rare and of mosaic genetic variants in common conditions, and the use of sequencing in their identification.', 'title': 'Mosaic PPM1D mutations are associated with predisposition to breast and ovarian cancer'}\n",
      "False dense: {'text': 'Understanding the genetic mechanisms underlying natural variation in gene expression is a central goal of both medical and evolutionary genetics, and studies of expression quantitative trait loci (eQTLs) have become an important tool for achieving this goal. Although all eQTL studies so far have assayed messenger RNA levels using expression microarrays, recent advances in RNA sequencing enable the analysis of transcript variation at unprecedented resolution. We sequenced RNA from 69 lymphoblastoid cell lines derived from unrelated Nigerian individuals that have been extensively genotyped by the International HapMap Project. By pooling data from all individuals, we generated a map of the transcriptional landscape of these cells, identifying extensive use of unannotated untranslated regions and more than 100 new putative protein-coding exons. Using the genotypes from the HapMap project, we identified more than a thousand genes at which genetic variation influences overall expression levels or splicing. We demonstrate that eQTLs near genes generally act by a mechanism involving allele-specific expression, and that variation that influences the inclusion of an exon is enriched within and near the consensus splice sites. Our results illustrate the power of high-throughput sequencing for the joint analysis of variation in transcription, splicing and allele-specific expression across individuals.', 'title': 'Understanding mechanisms underlying human gene expression variation with RNA sequencing'}\n",
      "False distil_dense: {'text': 'Understanding the genetic mechanisms underlying natural variation in gene expression is a central goal of both medical and evolutionary genetics, and studies of expression quantitative trait loci (eQTLs) have become an important tool for achieving this goal. Although all eQTL studies so far have assayed messenger RNA levels using expression microarrays, recent advances in RNA sequencing enable the analysis of transcript variation at unprecedented resolution. We sequenced RNA from 69 lymphoblastoid cell lines derived from unrelated Nigerian individuals that have been extensively genotyped by the International HapMap Project. By pooling data from all individuals, we generated a map of the transcriptional landscape of these cells, identifying extensive use of unannotated untranslated regions and more than 100 new putative protein-coding exons. Using the genotypes from the HapMap project, we identified more than a thousand genes at which genetic variation influences overall expression levels or splicing. We demonstrate that eQTLs near genes generally act by a mechanism involving allele-specific expression, and that variation that influences the inclusion of an exon is enriched within and near the consensus splice sites. Our results illustrate the power of high-throughput sequencing for the joint analysis of variation in transcription, splicing and allele-specific expression across individuals.', 'title': 'Understanding mechanisms underlying human gene expression variation with RNA sequencing'}\n",
      "True cbm25: {'text': 'Genome-wide association studies (GWAS) have now identified at least 2,000 common variants that appear associated with common diseases or related traits (http://www.genome.gov/gwastudies), hundreds of which have been convincingly replicated. It is generally thought that the associated markers reflect the effect of a nearby common (minor allele frequency >0.05) causal site, which is associated with the marker, leading to extensive resequencing efforts to find causal sites. We propose as an alternative explanation that variants much less common than the associated one may create \"synthetic associations\" by occurring, stochastically, more often in association with one of the alleles at the common site versus the other allele. Although synthetic associations are an obvious theoretical possibility, they have never been systematically explored as a possible explanation for GWAS findings. Here, we use simple computer simulations to show the conditions under which such synthetic associations will arise and how they may be recognized. We show that they are not only possible, but inevitable, and that under simple but reasonable genetic models, they are likely to account for or contribute to many of the recently identified signals reported in genome-wide association studies. We also illustrate the behavior of synthetic associations in real datasets by showing that rare causal mutations responsible for both hearing loss and sickle cell anemia create genome-wide significant synthetic associations, in the latter case extending over a 2.5-Mb interval encompassing scores of \"blocks\" of associated variants. In conclusion, uncommon or rare genetic variants can easily create synthetic associations that are credited to common variants, and this possibility requires careful consideration in the interpretation and follow up of GWAS signals.', 'title': 'Rare Variants Create Synthetic Genome-Wide Associations'}\n",
      "------\n",
      "skip qid 343\n",
      "------\n",
      "qid: 362, query: During the primary early antibody response activated B cells migrate toward the inner-and outer paracortical areas where oxysterol accumulation is generated by stromal cells.\n",
      "False bm25: {'text': 'The human tuberculous granuloma provides the morphological basis for local immune processes central to the outcome of tuberculosis. Because of the scarcity of information in human patients, the aim of the present study was to gain insights into the functional and structural properties of infiltrated tissue. To this end, the mycobacterial load in lesions and dissemination to different tissue locations were investigated, as well as distribution, biological functions, and interactions of host immune cells. Analysis of early granuloma formation in formerly healthy lung tissue revealed a spatio-temporal sequence of cellular infiltration to sites of mycobacterial infection. A general structure of the developing granuloma was identified, comprising an inner cell layer with few CD8(+) cells surrounding the necrotic centre and an outer area of lymphocyte infiltration harbouring mycobacteria-containing antigen-presenting cells as well as CD4(+), CD8(+), and B cells in active follicle-like centres resembling secondary lymphoid organs. It is concluded that the follicular structures in the peripheral rim of granulomas serve as a morphological substrate for the orchestration of the enduring host response in pulmonary tuberculosis.', 'title': 'Human tuberculous granulomas induce peripheral lymphoid follicle-like structures to orchestrate local host defence in the lung.'}\n",
      "False dense: {'text': 'Autoreactive T cell responses have a crucial role in central nervous system (CNS) diseases such as multiple sclerosis. Recent data indicate that CNS autoimmunity can be mediated by two distinct lineages of CD4+ T cells that are defined by the production of either interferon-γ or interleukin-17. The activity of these CD4+ T cell subsets within the CNS influences the pathology and clinical course of disease. New animal models show that myelin-specific CD8+ T cells can also mediate CNS autoimmunity. This Review focuses on recent progress in delineating the pathogenic mechanisms, regulation and interplay between these different T cell subsets in CNS autoimmunity.', 'title': 'Autoimmune T cell responses in the central nervous system'}\n",
      "False distil_dense: {'text': 'OBJECTIVE We recently demonstrated that primitive neural crest-derived (NC) cells migrate from the cardiac neural crest during embryonic development and remain in the heart as dormant stem cells, with the capacity to differentiate into various cell types, including cardiomyocytes. Here, we examined the migration and differentiation potential of these cells on myocardial infarction (MI). METHODS AND RESULTS We obtained double-transgenic mice by crossing protein-0 promoter-Cre mice with Floxed-enhanced green fluorescent protein mice, in which the NC cells express enhanced green fluorescent protein. In the neonatal heart, NC stem cells (NCSCs) were localized predominantly in the outflow tract, but they were also distributed in a gradient from base to apex throughout the ventricular myocardium. Time-lapse video analysis revealed that the NCSCs were migratory. Some NCSCs persisted in the adult heart. On MI, NCSCs accumulated at the ischemic border zone area (BZA), which expresses monocyte chemoattractant protein-1 (MCP-1). Ex vivo cell migration assays demonstrated that MCP-1 induced NCSC migration and that this chemotactic effect was significantly depressed by an anti-MCP-1 antibody. Small NC cardiomyocytes first appeared in the BZA 2 weeks post-MI and gradually increased in number thereafter. CONCLUSIONS These results suggested that NCSCs migrate into the BZA via MCP-1/CCR2 signaling and contribute to the provision of cardiomyocytes for cardiac regeneration after MI.', 'title': 'Neural crest-derived stem cells migrate and differentiate into cardiomyocytes after myocardial infarction.'}\n",
      "True cbm25: {'text': 'Humoral immune responses depend on B cells encountering antigen, interacting with helper T cells, proliferating and differentiating into low-affinity plasma cells or, after organizing into a germinal center (GC), high-affinity plasma cells and memory B cells. Remarkably, each of these events occurs in association with distinct stromal cells in separate subcompartments of the lymphoid tissue. B cells must migrate from niche to niche in a rapid and highly regulated manner to successfully mount a response. The chemokine, CXCL13, plays a central role in guiding B cells to follicles whereas T-zone chemokines guide activated B cells to the T zone. Sphingosine-1-phosphate (S1P) promotes cell egress from the tissue, as well as marginal-zone B-cell positioning in the spleen. Recent studies have identified a role for the orphan receptor, EBV-induced molecule 2 (EBI2; GPR183), in guiding activated B cells to inter and outer follicular niche(s) and down-regulation of this receptor is essential for organizing cells into GCs. In this review, we discuss current understanding of the roles played by chemokines, S1P and EBI2 in the migration events that underlie humoral immune responses.', 'title': 'Finding the right niche: B-cell migration in the early phases of T-dependent antibody responses.'}\n",
      "------\n",
      "skip qid 452\n",
      "------\n",
      "qid: 637, query: Input from  mental and physical health care professionals is effective at decreasing homelessness.\n",
      "False bm25: {'text': 'BACKGROUND Over the past 20 years the prevalence of child and adolescent mental disorders in high-income countries has not changed despite increased investment in mental health services. Insufficient contact with mental health services may be a contributing factor; however, it is not known what proportion of children have sufficient contact with health professionals to allow delivery of treatment meeting minimal clinical practice guidelines, or how long children experience symptoms prior to receiving treatment. AimsTo investigate the level of mental healthcare received by Australian children from age 4 years to 14 years. METHOD Trajectories of mental health symptoms were mapped using the Strengths and Difficulties Questionnaire. Health professional attendances and psychotropic medications dispensed were identified from linked national Medicare Benefits Schedule (MBS) and Pharmaceutical Benefits Scheme records. RESULTS Four trajectories of mental health symptoms were identified (low, high-decreasing, moderate-increasing and high-increasing). Most children with mental health symptoms had few MBS mental health attendances, and only a minority received care meeting study criteria for minimally adequate treatment. Children in the high-increasing and moderate-increasing trajectories were more likely to access care, yet there was no evidence of improvement in symptoms. CONCLUSIONS It is important that children and adolescents with mental health problems receive treatment that meets minimal practice guidelines. Further research is needed to identify the quality of care currently provided to children with mental health difficulties and how clinicians can be best funded and supported to provide care meeting minimal practice guidelines. Declaration of interestsNone.', 'title': 'Mental health difficulties across childhood and mental health service use: findings from a longitudinal population-based study.'}\n",
      "False dense: {'text': 'Since 2008 the World Health Organization (WHO), through its mental health Gap Action Programme, has attempted to revitalize efforts to integrate mental health into non-specialized (e.g. primary) healthcare. While this has led to renewed interest in this potential method of mental health service delivery, it has also prompted criticism. Some concerns raised are that it would contribute to the medicalization of social and psychological problems, and narrowly focus on primary care without sufficient attention given to strengthening other levels of the healthcare system, notably community-based care and care on district levels. This paper discusses seven elements that may be critical to preventing inadvertently contributing to increasing a narrow biomedical approach to mental healthcare when integrating mental health into non-specialized healthcare: (1) using task shifting approaches within a system of stepped care, (2) ensuring primary mental healthcare also includes brief psychotherapeutic interventions, (3) promote community-based recovery-oriented interventions for people with disabling chronic mental disorders, (4) conceptualizing training as a continuous process of strengthening clinical competencies through supervision, (5) engaging communities as partners in psychosocial interventions, (6) embedding shifts to primary mental healthcare within wider health policy reforms, and (7) promoting inter-sectoral approaches to address social determinants of mental health.', 'title': 'Integration of mental health into primary healthcare in low-income countries: avoiding medicalization.'}\n",
      "False distil_dense: {'text': 'AIMS To describe the characteristics of homeless children and families seen by the mental health outreach service (MHOS), to evaluate the impact of this service on the short term psychosocial functioning of children and parents, and to establish perceptions of, and satisfaction with, the service. METHODS Twenty seven children from 23 families who were in receipt of the MHOS and 27 children from 23 families residing in other hostels where no such service was available were studied. The MHOS was delivered by a clinical nurse specialist with expertise in child mental health, who offered the following interventions: assessment and brief treatment of mental health disorders in children; liaison with agencies; and training of homeless centre staff. RESULTS Children in the experimental group had a significantly higher decrease in Strengths and Difficulties Questionnaire (SDQ) total scores. Having received the intervention was the strongest predictor of improvement in SDQ total scores. There was no significant impact on parental mental health (General Health Questionnaire) scores. Homeless families and staff expressed high satisfaction with the MHOS. CONCLUSION This MHOS for homeless families is an innovative intervention which meets the complex and multiple needs of a vulnerable population unable to access mainstream mental health services. The primary objective of the service was to improve child mental health problems; however, the service developed in a responsive way by meeting social and practical needs of families in addition to its clinical role.', 'title': 'Evaluation of a mental health outreach service for homeless families.'}\n",
      "True cbm25: {'text': \"OBJECTIVE To establish the mental health needs of homeless children and families before and after rehousing. DESIGN Cross sectional, longitudinal study. SETTING City of Birmingham. SUBJECTS 58 rehoused families with 103 children aged 2-16 years and 21 comparison families of low socioeconomic status in stable housing, with 54 children. MAIN OUTCOME MEASURES Children's mental health problems and level of communication; mothers' mental health problems and social support one year after rehousing. RESULTS Mental health problems remained significantly higher in rehoused mothers and their children than in the comparison group (mothers 26% v 5%, P = 0.04; children 39% v 11%, P = 0.0003). Homeless mothers continued to have significantly less social support at follow up. Mothers with a history of abuse and poor social integration were more likely to have children with persistent mental health problems. CONCLUSIONS Homeless families have a high level of complex needs that cannot be met by conventional health services and arrangements. Local strategies for rapid rehousing into permanent accommodation, effective social support and health care for parents and children, and protection from violence and intimidation should be developed and implemented.\", 'title': 'Mental health problems of homeless children and families: longitudinal study.'}\n",
      "------\n",
      "qid: 690, query: Less than 10% of the gabonese children with Schimmelpenning-Feuerstein-Mims syndrome (SFM) had a plasma lactate of more than 5mmol/L.\n",
      "False bm25: {'text': 'BACKGROUND The heritable haemoglobinopathy alpha(+)-thalassaemia is caused by the reduced synthesis of alpha-globin chains that form part of normal adult haemoglobin (Hb). Individuals homozygous for alpha(+)-thalassaemia have microcytosis and an increased erythrocyte count. Alpha(+)-thalassaemia homozygosity confers considerable protection against severe malaria, including severe malarial anaemia (SMA) (Hb concentration < 50 g/l), but does not influence parasite count. We tested the hypothesis that the erythrocyte indices associated with alpha(+)-thalassaemia homozygosity provide a haematological benefit during acute malaria. METHODS AND FINDINGS Data from children living on the north coast of Papua New Guinea who had participated in a case-control study of the protection afforded by alpha(+)-thalassaemia against severe malaria were reanalysed to assess the genotype-specific reduction in erythrocyte count and Hb levels associated with acute malarial disease. We observed a reduction in median erythrocyte count of approximately 1.5 x 10(12)/l in all children with acute falciparum malaria relative to values in community children (p < 0.001). We developed a simple mathematical model of the linear relationship between Hb concentration and erythrocyte count. This model predicted that children homozygous for alpha(+)-thalassaemia lose less Hb than children of normal genotype for a reduction in erythrocyte count of >1.1 x 10(12)/l as a result of the reduced mean cell Hb in homozygous alpha(+)-thalassaemia. In addition, children homozygous for alpha(+)-thalassaemia require a 10% greater reduction in erythrocyte count than children of normal genotype (p = 0.02) for Hb concentration to fall to 50 g/l, the cutoff for SMA. We estimated that the haematological profile in children homozygous for alpha(+)-thalassaemia reduces the risk of SMA during acute malaria compared to children of normal genotype (relative risk 0.52; 95% confidence interval [CI] 0.24-1.12, p = 0.09). CONCLUSIONS The increased erythrocyte count and microcytosis in children homozygous for alpha(+)-thalassaemia may contribute substantially to their protection against SMA. A lower concentration of Hb per erythrocyte and a larger population of erythrocytes may be a biologically advantageous strategy against the significant reduction in erythrocyte count that occurs during acute infection with the malaria parasite Plasmodium falciparum. This haematological profile may reduce the risk of anaemia by other Plasmodium species, as well as other causes of anaemia. Other host polymorphisms that induce an increased erythrocyte count and microcytosis may confer a similar advantage.', 'title': 'Increased Microerythrocyte Count in Homozygous α+-Thalassaemia Contributes to Protection against Severe Malarial Anaemia'}\n",
      "False dense: {'text': 'The high prevalence of microcytosis (defined here as mean cell haemoglobin<27 pg) with no other abnormality is a principal cause of confusion in screening for haemoglobin disorders. Here we report the results of a small pilot study aiming to resolve this confusion by routinely proceeding to plasma ferritin and HPLC assay, using the original sequestrene blood sample, when microcytosis is detected. Participants comprised a random sample of 1,302 people referred for a full blood count by their General Practitioner (GP) to the laboratory of a North London district general hospital serving a multi-ethnic inner-city population. Ethnicity was established by questionnaire. In North Europeans, microcytosis was present in 3% of males (half were iron-deficient) and 11% of females (most were iron-deficient). Among ethnic minorities, microcytosis was present in 35% of males (one tenth were iron-deficient), and 45% of females (less than half were iron-deficient): an exclusion diagnosis of \"probable alpha thalassaemia\" could be made in the remainder. We conclude that when microcytosis is present, routine further analysis of the original sequestrene sample by plasma ferritin assay and haemoglobinopathy screening could lead to a more efficient and cost-effective laboratory service for primary care and maternity services.', 'title': 'Microcytosis, iron deficiency and thalassaemia in a multi-ethnic community: a pilot study.'}\n",
      "False distil_dense: {'text': 'Laminin β2 is a component of laminin-521, which is an important constituent of the glomerular basement membrane (GBM). Null mutations in laminin β2 (LAMB2) cause Pierson syndrome, a severe congenital nephrotic syndrome with ocular and neurologic defects. In contrast, patients with LAMB2 missense mutations, such as R246Q, can have less severe extrarenal defects but still exhibit congenital nephrotic syndrome. To investigate how such missense mutations in LAMB2 cause proteinuria, we generated three transgenic lines of mice in which R246Q-mutant rat laminin β2 replaced the wild-type mouse laminin β2 in the GBM. These transgenic mice developed much less severe proteinuria than their nontransgenic Lamb2-deficient littermates; the level of proteinuria correlated inversely with R246Q-LAMB2 expression. At the onset of proteinuria, expression and localization of proteins associated with the slit diaphragm and foot processes were normal, and there were no obvious ultrastructural abnormalities. Low transgene expressors developed heavy proteinuria, foot process effacement, GBM thickening, and renal failure by 3 months, but high expressors developed only mild proteinuria by 9 months. In vitro studies demonstrated that the R246Q mutation results in impaired secretion of laminin. Taken together, these results suggest that the R246Q mutation causes nephrotic syndrome by impairing secretion of laminin-521 from podocytes into the GBM; however, increased expression of the mutant protein is able to overcome this secretion defect and improve glomerular permselectivity.', 'title': 'A missense LAMB2 mutation causes congenital nephrotic syndrome by impairing laminin secretion.'}\n",
      "True cbm25: {'text': 'Background The degree of volume depletion in severe malaria is currently unknown, although knowledge of fluid compartment volumes can guide therapy. To assist management of severely ill children, and to test the hypothesis that volume changes in fluid compartments reflect disease severity, we measured body compartment volumes in Gabonese children with malaria. Methods and Findings Total body water volume (TBW) and extracellular water volume (ECW) were estimated in children with severe or moderate malaria and in convalescence by tracer dilution with heavy water and bromide, respectively. Intracellular water volume (ICW) was derived from these parameters. Bioelectrical impedance analysis estimates of TBW and ECW were calibrated against dilution methods, and bioelectrical impedance analysis measurements were taken daily until discharge. Sixteen children had severe and 19 moderate malaria. Severe childhood malaria was associated with depletion of TBW (mean [SD] of 37 [33] ml/kg, or 6.7% [6.0%]) relative to measurement at discharge. This is defined as mild dehydration in other conditions. ECW measurements were normal on admission in children with severe malaria and did not rise in the first few days of admission. Volumes in different compartments (TBW, ECW, and ICW) were not related to hyperlactataemia or other clinical and laboratory markers of disease severity. Moderate malaria was not associated with a depletion of TBW.', 'title': 'Assessment of Volume Depletion in Children with Malaria'}\n",
      "------\n",
      "qid: 692, query: Leuko-increased blood increases infectious complications in red blood cell transfusion.\n",
      "False bm25: {'text': 'OBJECTIVE The effects of hydroxyethyl starch on bleeding after cardiopulmonary bypass were determined. METHODS A meta-analysis was performed of postoperative blood loss in randomized clinical trials of hydroxyethyl starch versus albumin for fluid management in adult cardiopulmonary bypass surgery. Impacts of hydroxyethyl starch molecular weight and molar substitution were assessed. Randomized trials directly comparing different hydroxyethyl starch solutions were also included. RESULTS Eighteen trials with 970 total patients were included. Compared with albumin, hydroxyethyl starch increased postoperative blood loss by 33.3% of a pooled SD (95% confidence interval, 18.2%-48.3%; P < .001). Risk of reoperation for bleeding was more than doubled by hydroxyethyl starch (relative risk, 2.24; 95% confidence interval, 1.14-4.40; P = .020). Hydroxyethyl starch increased transfusion of red blood cells by 28.4% of a pooled SD (95% confidence interval, 12.2%-44.6%; P < .001), of fresh-frozen plasma by 30.6% (95% confidence interval, 8.0%-53.1%; P = .008), and of platelets by 29.8% (95% confidence interval, 3.4%-56.2%; P = .027). None of these effects differed significantly between hydroxyethyl starch 450/0.7 and 200/0.5. Insufficient data were available for hydroxyethyl starch 130/0.4 versus albumin; however, no significant differences were detected in head-to-head comparisons of hydroxyethyl starch 130/0.4 with 200/0.5. Albumin improved hemodynamics. There were no differences in fluid balance, ventilator time, intensive care unit stay, or mortality. CONCLUSIONS Hydroxyethyl starch increased blood loss, reoperation for bleeding, and blood product transfusion after cardiopulmonary bypass. There was no evidence that these risks could be mitigated by lower molecular weight and substitution.', 'title': 'Effect of hydroxyethyl starch on bleeding after cardiopulmonary bypass: a meta-analysis of randomized trials.'}\n",
      "False dense: {'text': 'Physical activity induces a subclinical inflammatory response, mediated in part by leukocytes, and manifested by elevated concentrations of circulating proinflammatory cytokines, including interleukin (IL)-1β, IL-6, and tumor necrosis factor-α (TNF-α). However, the source of the cytokines that appear during exercise remains unknown. In this study, we examined exercise-induced changes in plasma cytokine concentrations and their corresponding mRNA expression in peripheral blood mononuclear cells. Ten healthy [peak oxygen uptake = 48.8 ± 6.5 (SD) ml · kg−1 · min−1] but untrained men [age = 25 ± 5 (SD) yr] undertook 3 h of exercise (cycling and inclined walking) at 60–65% peak oxygen uptake. Circulating leukocyte subset counts were elevated during and 2 h postexercise but returned to normal within 24 h. Plasma concentrations of IL-1β, IL-6, and TNF-α peaked at the end of exercise and remained elevated at 2 h (IL-6) and up to 24 h (IL-1β and TNF-α) postexercise. Cytokine gene expression in circulating mononucl...', 'title': 'Downloaded from'}\n",
      "False distil_dense: {'text': 'Encephalitis and dementia associated with acquired immunodeficiency syndrome (AIDS) are characterized by leukocyte infiltration into the CNS, microglia activation, aberrant chemokine expression, blood-brain barrier (BBB) disruption, and eventual loss of neurons. Little is known about whether human immunodeficiency virus 1 (HIV-1) infection of leukocytes affects their ability to transmigrate in response to chemokines and to alter BBB integrity. We now demonstrate that HIV infection of human leukocytes results in their increased transmigration across our tissue culture model of the human BBB in response to the chemokine CCL2, as well as in disruption of the BBB, as evidenced by enhanced permeability, reduction of tight junction proteins, and expression of matrix metalloproteinases (MMP)-2 and MMP-9. HIV-infected cells added to our model did not transmigrate in the absence of CCL2, nor did this condition alter BBB integrity. The chemokines CXCL10/interferon-gamma-inducible protein of 10 kDa, CCL3/macrophage inflammatory protein-1alpha, or CCL5/RANTES (regulated on activation normal T-cell expressed and secreted) did not enhance HIV-infected leukocyte transmigration or BBB permeability. The increased capacity of HIV-infected leukocytes to transmigrate in response to CCL2 correlated with their increased expression of CCR2, the chemokine receptor for CCL2. These data suggest that CCL2, but not other chemokines, plays a key role in infiltration of HIV-infected leukocytes into the CNS and the subsequent pathology characteristic of NeuroAIDS.', 'title': 'CCL2/monocyte chemoattractant protein-1 mediates enhanced transmigration of human immunodeficiency virus (HIV)-infected leukocytes across the blood-brain barrier: a potential mechanism of HIV-CNS invasion and NeuroAIDS.'}\n",
      "True cbm25: {'text': 'CONTEXT A number of countries have implemented a policy of universal leukoreduction of their blood supply, but the potential role of leukoreduction in decreasing postoperative mortality and infection is unclear. OBJECTIVE To evaluate clinical outcomes following adoption of a national universal prestorage leukoreduction program for blood transfusions. DESIGN, SETTING, AND POPULATION Retrospective before-and-after cohort study conducted from August 1998 to August 2000 in 23 academic and community hospitals throughout Canada, enrolling 14 786 patients who received red blood cell transfusions following cardiac surgery or repair of hip fracture, or who required intensive care following a surgical intervention or multiple trauma. INTERVENTION Universal prestorage leukoreduction program introduced by 2 Canadian blood agencies. A total of 6982 patients were enrolled during the control period and 7804 patients were enrolled following prestorage leukoreduction. MAIN OUTCOME MEASURES All-cause in-hospital mortality and serious nosocomial infections (pneumonia, bacteremia, septic shock, all surgical site infections) occurring after first transfusion and at least 2 days after index procedure or intensive care unit admission. Secondary outcomes included rates of posttransfusion fever and antibiotic use. RESULTS Unadjusted in-hospital mortality rates were significantly lower following the introduction of leukoreduction compared with the control period (6.19% vs 7.03%, respectively; P =.04). Compared with the control period, the adjusted odds of death following leukoreduction were reduced (odds ratio [OR], 0.87; 95% confidence interval [CI], 0.75-0.99), but serious nosocomial infections did not decrease (adjusted OR, 0.97; 95% CI, 0.87-1.09). The frequency of posttransfusion fevers decreased significantly following leukoreduction (adjusted OR, 0.86; 95% CI, 0.79-0.94), as did antibiotic use (adjusted OR, 0.90; 95% CI, 0.82-0.99). CONCLUSION A national universal leukoreduction program is potentially associated with decreased mortality as well as decreased fever episodes and antibiotic use after red blood cell transfusion in high-risk patients.', 'title': 'Clinical outcomes following institution of the Canadian universal leukoreduction program for red blood cell transfusions.'}\n",
      "------\n",
      "qid: 72, query: Activator-inhibitor pairs are provided dorsally by Admpchordin.\n",
      "False bm25: {'text': 'Cells develop by reading mixed signals. Nowhere is this clearer than in the highly dynamic processes that propel embryogenesis, when critical cell-fate decisions are made swiftly in response to well-orchestrated growthfactor combinations. Learning how diverse signaling pathways are integrated is therefore essential for understanding physiology. This requires the identification, in tangible molecular terms, of key nodes for pathway integration that operate in vivo. A report in this issue, on the integration of Smad and Ras/MAPK pathways during neural induction (Pera et al. 2003), provides timely insights into the relevance of one such node. Pera et al. (2003) report that FGF8 and IGF2—two growth factors that activate the Ras/MAPK pathway— favor neural differentiation and mesoderm dorsalization in Xenopus by inhibiting BMP (Bone Morphogenetic Protein) signaling. Mesoderm is formed from ectoderm in response to Nodal-related signals from the endoderm at the blastula stage and beyond (Fig. 1; for review, see De Robertis et al. 2000). BMP induces differentiation of ectoderm into epidermal cell fates at the expense of neural fates, and it ventralizes the mesoderm at the expense of dorsal fates (for review, see Weinstein and HemmatiBrivanlou 1999; De Robertis et al. 2000). Accordingly, neural differentiation and dorsal mesoderm formation are favored when BMP signaling is attenuated. Noggin, Chordin, Cerberus, and Follistatin, secreted by the Spemann organizer on the dorsal side at the gastrula stage, facilitate the formation of neural tissue by sequestering BMP (Weinstein and Hemmati-Brivanlou 1999; De Robertis et al. 2000). Experimentally blocking BMP signaling with a dominant-negative BMP receptor has a similar effect of promoting ectoderm neuralization (Weinstein and Hemmati-Brivanlou 1999). As it turns out, neural induction can also be achieved with FGF (fibroblast growth factor; Kengaku and Okamoto 1993; Lamb and Harland 1995; Hongo et al. 1999; Hardcastle et al. 2000; Streit et al. 2000; Wilson et al. 2000) and IGF (insulin-like growth factor; Pera et al. 2001; Richard-Parpaillon et al. 2002). Injection of transcripts encoding FGF8 or IFG2 into one animal-pole blastomere of a fourto eight-cell embryo results in an expanded neural plate at the injected side (Pera et al. 2003). Surprisingly, expression of a dominant-negative FGF receptor prevents neuralization of ectoderm explants by the BMP blocker Noggin (Launay et al. 1996). Likewise, the potent neuralizing effect of Chordin can be blocked by a dominant-negative FGF receptor or a morpholino oligonucleotide targeting the IGF receptor (Pera et al. 2003). Thus, the neuralizing effect of BMP inhibitors is somehow tied to FGF and IFG signaling. The question is, how? Because FGF8 and IFG2 activate MAPK, Pera et al. (2003) took heed from previous work showing that MAPK inhibits the BMP signal-transduction factor Smad1 (Kretzschmar et al. 1997a). Smad1 is directly phosphorylated by the BMP receptor, resulting in Smad1 activation (Kretzschmar et al. 1997b), and by MAPK in response to EGF, resulting in Smad1 inhibition (Kretzschmar et al. 1997a; Fig. 2). Smad transcription factors mediate gene responses to the entire TGF (Transforming Growth Factor) family, to which the BMPs belong (for review, see Massague 2000; Derynck and Zhang 2003). Smads 1, 5, and 8 act primarily downstream of BMP receptors and Smads 2 and 3 downstream of TGF , Activin and Nodal receptors. Smad proteins have two conserved globular domains—the MH1 and MH2 domains (Fig. 2). The MH1 domain is involved in DNA binding and the MH2 domain in binding to cytoplasmic retention factors, activated receptors, nucleoporins in the nuclear pore, and DNA-binding cofactors, coactivators, and corepressors in the nucleus (for review, see Shi and Massague 2003). Receptor-mediated phosphorylation occurs at the carboxy-terminal sequence SXS. This enables the nuclear accumulation of Smads and their association with the shared partner Smad4 to form transcriptional complexes that are interpreted by the cell as a function of the context (Massague 2000). Between the MH1 and MH2 domains lies a linker region of variable sequence and length. Attention was drawn to this region when it was found that EGF (epidermal growth factor), a classical activator of the Ras/ MAPK pathway, causes phosphorylation of the Smad1 linker at four MAPK sites (PXSP sequences; Kretzschmar et al. 1997a). This prevents the nuclear localization of Smad1 and inhibits BMP signaling. Mutation of these E-MAIL j-massague@ski.mskcc.org; FAX (212) 717-3298. Article and publication are at http://www.genesdev.org/cgi/doi/10.1101/ gad.1167003.', 'title': 'Integration of Smad and MAPK pathways: a link and a linker revisited.'}\n",
      "False dense: {'text': \"Since it was discovered that the anti-hypertensive agent ifenprodil has neuroprotective activity through its effects on NMDA (N-methyl-D-aspartate) receptors, a determined effort has been made to understand the mechanism of action and to develop improved therapeutic compounds on the basis of this knowledge. Neurotransmission mediated by NMDA receptors is essential for basic brain development and function. These receptors form heteromeric ion channels and become activated after concurrent binding of glycine and glutamate to the GluN1 and GluN2 subunits, respectively. A functional hallmark of NMDA receptors is that their ion-channel activity is allosterically regulated by binding of small compounds to the amino-terminal domain (ATD) in a subtype-specific manner. Ifenprodil and related phenylethanolamine compounds, which specifically inhibit GluN1 and GluN2B NMDA receptors, have been intensely studied for their potential use in the treatment of various neurological disorders and diseases, including depression, Alzheimer's disease and Parkinson's disease. Despite considerable enthusiasm, mechanisms underlying the recognition of phenylethanolamines and ATD-mediated allosteric inhibition remain limited owing to a lack of structural information. Here we report that the GluN1 and GluN2B ATDs form a heterodimer and that phenylethanolamine binds at the interface between GluN1 and GluN2B, rather than within the GluN2B cleft. The crystal structure of the heterodimer formed between the GluN1b ATD from Xenopus laevis and the GluN2B ATD from Rattus norvegicus shows a highly distinct pattern of subunit arrangement that is different from the arrangements observed in homodimeric non-NMDA receptors and reveals the molecular determinants for phenylethanolamine binding. Restriction of domain movement in the bi-lobed structure of the GluN2B ATD, by engineering of an inter-subunit disulphide bond, markedly decreases sensitivity to ifenprodil, indicating that conformational freedom in the GluN2B ATD is essential for ifenprodil-mediated allosteric inhibition of NMDA receptors. These findings pave the way for improving the design of subtype-specific compounds with therapeutic value for neurological disorders and diseases.\", 'title': 'Subunit Arrangement and Phenylethanolamine Binding in GluN1/GluN2B NMDA Receptors'}\n",
      "False distil_dense: {'text': \"Spemann's organizer plays a key role in dorsal-ventral (DV) patterning in the amphibian embryo by secreting diffusible proteins such as Chordin, an antagonist to ventralizing bone morphogenetic proteins (BMPs). The DV patterning is so robust that an amphibian embryo with its ventral half surgically removed can develop into a smaller but proportionally patterned larva. Here, we show that this robust patterning depends on facilitated Chordin degradation and requires the expression of the Chordin-proteinase inhibitor Sizzled on the opposite side. Sizzled, which is stable and diffuses widely along the DV axis, stabilizes Chordin and expands its distribution in the ventral direction. This expanded Chordin distribution, in turn, limits BMP-dependent Sizzled production, forming an axis-wide feedback loop for shaping Chordin's activity. Using bisection assays, we demonstrate that Chordin degradation is dynamically controlled by embryo-size-coupled Sizzled accumulation. We propose a scaling model that enables the DV pattern to adjust proportionally to embryonic axis size.\", 'title': 'Scaling of Dorsal-Ventral Patterning by Embryo Size-Dependent Degradation of Spemann’s Organizer Signals'}\n",
      "True cbm25: {'text': 'Embryos have the ability to self-regulate and regenerate normal structures after being sectioned in half. How is such a morphogenetic field established? We discovered that quadruple knockdown of ADMP and BMP2/4/7 in Xenopus embryos eliminates self-regulation, causing ubiquitous neural induction throughout the ectoderm. ADMP transcription in the Spemann organizer is activated at low BMP levels. When ventral BMP2/4/7 signals are depleted, Admp expression increases, allowing for self-regulation. ADMP has BMP-like activity and signals via the ALK-2 receptor. It is unable to signal dorsally because of inhibition by Chordin. The ventral BMP antagonists Sizzled and Bambi further refine the pattern. By transplanting dorsal or ventral wild-type grafts into ADMP/BMP2/4/7-depleted hosts, we demonstrate that both poles serve as signaling centers that can induce histotypic differentiation over considerable distances. We conclude that dorsal and ventral BMP signals and their extracellular antagonists expressed under opposing transcriptional regulation provide a molecular mechanism for embryonic self-regulation.', 'title': 'Regulation of ADMP and BMP2/4/7 at Opposite Embryonic Poles Generates a Self-Regulating Morphogenetic Field'}\n",
      "------\n",
      "skip qid 728\n",
      "------\n",
      "qid: 759, query: Mathematical models predict that using Artemisinin-based combination therapy over nongametocytocidal drugs have a dramatic impact in reducing malaria transmission.\n",
      "False bm25: {'text': 'BACKGROUND Malaria elimination requires a variety of approaches individually optimized for different transmission settings. A recent field study in an area of low seasonal transmission in South West Cambodia demonstrated dramatic reductions in malaria parasite prevalence following both mass drug administration (MDA) and high treatment coverage of symptomatic patients with artemisinin-piperaquine plus primaquine. This study employed multiple combined strategies and it was unclear what contribution each made to the reductions in malaria. METHOD AND FINDINGS A mathematical model fitted to the trial results was used to assess the effects of the various components of these interventions, design optimal elimination strategies, and explore their interactions with artemisinin resistance, which has recently been discovered in Western Cambodia. The modelling indicated that most of the initial reduction of P. falciparum malaria resulted from MDA with artemisinin-piperaquine. The subsequent continued decline and near elimination resulted mainly from high coverage with artemisinin-piperaquine treatment. Both these strategies were more effective with the addition of primaquine. MDA with artemisinin combination therapy (ACT) increased the proportion of artemisinin resistant infections, although much less than treatment of symptomatic cases with ACT, and this increase was slowed by adding primaquine. Artemisinin resistance reduced the effectiveness of interventions using ACT when the prevalence of resistance was very high. The main results were robust to assumptions about primaquine action, and immunity. CONCLUSIONS The key messages of these modelling results for policy makers were: high coverage with ACT treatment can produce a long-term reduction in malaria whereas the impact of MDA is generally only short-term; primaquine enhances the effect of ACT in eliminating malaria and reduces the increase in proportion of artemisinin resistant infections; parasite prevalence is a better surveillance measure for elimination programmes than numbers of symptomatic cases; combinations of interventions are most effective and sustained efforts are crucial for successful elimination.', 'title': 'Optimising Strategies for Plasmodium falciparum Malaria Elimination in Cambodia: Primaquine, Mass Drug Administration and Artemisinin Resistance'}\n",
      "False dense: {'text': 'BACKGROUND Artemisinin combination therapies (ACT), which are increasingly being introduced for treatment of Plasmodium falciparum malaria, are more effective against sexual stage parasites (gametocytes) than previous first-line antimalarials and therefore have the potential to reduce parasite transmission. The size of this effect is estimated in symptomatic P. falciparum infections. METHODS Data on 3,174 patients were pooled from six antimalarial trials conducted in The Gambia and Kenya. Multivariable regression was used to investigate the role of ACT versus non-artemisinin antimalarial treatment, treatment failure, presence of pre-treatment gametocytes and submicroscopic gametocytaemia on transmission to mosquitoes and the area under the curve (AUC) of gametocyte density during the 28 days of follow up. RESULTS ACT treatment was associated with a significant reduction in the probability of being gametocytaemic on the day of transmission experiments (OR 0.20 95% CI 0.16-0.26), transmission to mosquitoes by slide-positive gametocyte carriers (OR mosquito infection 0.49 95% CI 0.33-0.73) and AUC of gametocyte density (ratio of means 0.35 95% CI 0.31-0.41). Parasitological treatment failure did not account for the difference between ACT and non-artemisinin impact. The presence of slide-positive gametocytaemia prior to treatment significantly reduced ACT impact on gametocytaemia (p < 0.001). Taking account of submicroscopic gametocytaemia reduced estimates of ACT impact in a high transmission setting in Kenya, but not in a lower transmission setting in the Gambia. CONCLUSION Treatment with ACT significantly reduces infectiousness of individual patients with uncomplicated falciparum malaria compared to previous first line treatments. Rapid treatment of cases before gametocytaemia is well developed may enhance the impact of ACT on transmission.', 'title': 'Reduction of transmission from malaria patients by artemisinin combination therapies: a pooled analysis of six randomized trials'}\n",
      "False distil_dense: {'text': 'BACKGROUND Artemisinin combination therapies (ACT), which are increasingly being introduced for treatment of Plasmodium falciparum malaria, are more effective against sexual stage parasites (gametocytes) than previous first-line antimalarials and therefore have the potential to reduce parasite transmission. The size of this effect is estimated in symptomatic P. falciparum infections. METHODS Data on 3,174 patients were pooled from six antimalarial trials conducted in The Gambia and Kenya. Multivariable regression was used to investigate the role of ACT versus non-artemisinin antimalarial treatment, treatment failure, presence of pre-treatment gametocytes and submicroscopic gametocytaemia on transmission to mosquitoes and the area under the curve (AUC) of gametocyte density during the 28 days of follow up. RESULTS ACT treatment was associated with a significant reduction in the probability of being gametocytaemic on the day of transmission experiments (OR 0.20 95% CI 0.16-0.26), transmission to mosquitoes by slide-positive gametocyte carriers (OR mosquito infection 0.49 95% CI 0.33-0.73) and AUC of gametocyte density (ratio of means 0.35 95% CI 0.31-0.41). Parasitological treatment failure did not account for the difference between ACT and non-artemisinin impact. The presence of slide-positive gametocytaemia prior to treatment significantly reduced ACT impact on gametocytaemia (p < 0.001). Taking account of submicroscopic gametocytaemia reduced estimates of ACT impact in a high transmission setting in Kenya, but not in a lower transmission setting in the Gambia. CONCLUSION Treatment with ACT significantly reduces infectiousness of individual patients with uncomplicated falciparum malaria compared to previous first line treatments. Rapid treatment of cases before gametocytaemia is well developed may enhance the impact of ACT on transmission.', 'title': 'Reduction of transmission from malaria patients by artemisinin combination therapies: a pooled analysis of six randomized trials'}\n",
      "True cbm25: {'text': 'BACKGROUND Artemisinin derivatives used in recently introduced combination therapies (ACTs) for Plasmodium falciparum malaria significantly lower patient infectiousness and have the potential to reduce population-level transmission of the parasite. With the increased interest in malaria elimination, understanding the impact on transmission of ACT and other antimalarial drugs with different pharmacodynamics becomes a key issue. This study estimates the reduction in transmission that may be achieved by introducing different types of treatment for symptomatic P. falciparum malaria in endemic areas. METHODS AND FINDINGS We developed a mathematical model to predict the potential impact on transmission outcomes of introducing ACT as first-line treatment for uncomplicated malaria in six areas of varying transmission intensity in Tanzania. We also estimated the impact that could be achieved by antimalarials with different efficacy, prophylactic time, and gametocytocidal effects. Rates of treatment, asymptomatic infection, and symptomatic infection in the six study areas were estimated using the model together with data from a cross-sectional survey of 5,667 individuals conducted prior to policy change from sulfadoxine-pyrimethamine to ACT. The effects of ACT and other drug types on gametocytaemia and infectiousness to mosquitoes were independently estimated from clinical trial data. Predicted percentage reductions in prevalence of infection and incidence of clinical episodes achieved by ACT were highest in the areas with low initial transmission. A 53% reduction in prevalence of infection was seen if 100% of current treatment was switched to ACT in the area where baseline slide-prevalence of parasitaemia was lowest (3.7%), compared to an 11% reduction in the highest-transmission setting (baseline slide prevalence = 57.1%). Estimated percentage reductions in incidence of clinical episodes were similar. The absolute size of the public health impact, however, was greater in the highest-transmission area, with 54 clinical episodes per 100 persons per year averted compared to five per 100 persons per year in the lowest-transmission area. High coverage was important. Reducing presumptive treatment through improved diagnosis substantially reduced the number of treatment courses required per clinical episode averted in the lower-transmission settings although there was some loss of overall impact on transmission. An efficacious antimalarial regimen with no specific gametocytocidal properties but a long prophylactic time was estimated to be more effective at reducing transmission than a short-acting ACT in the highest-transmission setting. CONCLUSIONS Our results suggest that ACTs have the potential for transmission reductions approaching those achieved by insecticide-treated nets in lower-transmission settings. ACT partner drugs and nonartemisinin regimens with longer prophylactic times could result in a larger impact in higher-transmission settings, although their long term benefit must be evaluated in relation to the risk of development of parasite resistance.', 'title': 'Modelling the Impact of Artemisinin Combination Therapy and Long-Acting Treatments on Malaria Transmission Intensity'}\n",
      "------\n",
      "qid: 781, query: Mice that lack Interferon-γ or its receptor exhibit high resistance to experimental autoimmune myocarditis.\n",
      "False bm25: {'text': 'BACKGROUND Interleukin (IL)-12 exerts a potent proinflammatory effect by stimulating T-helper (Th) 1 responses. This effect is believed to be mediated primarily through the activation of STAT4 and subsequent production of interferon (IFN)-gamma. Methods and Results- We examined the role of IL-12 receptor (IL-12R) signaling in the development of murine experimental autoimmune myocarditis (EAM) induced by cardiac myosin immunization. Both IL-12Rbeta1-deficient mice and STAT4-deficient mice were resistant to the induction of myocarditis. Treatment with exogenous IL-12 exacerbated disease. We questioned whether IFN-gamma is required for the disease-promoting activity of IL-12. On the contrary, we found that IFN-gamma suppresses EAM. Lack of IFN-gamma due to either depletion with an antibody or a genetic deficiency exacerbated myocarditis. Spleens from IFN-gamma-deficient mice immunized with cardiac myosin showed increased cellularity; greater numbers of CD3+, CD4+, CD8+, and IL-2-producing cells; and heightened ability to produce cytokines on stimulation in vitro. Treatment of mice with recombinant IFN-gamma suppressed the development of myocarditis. CONCLUSIONS IL-12/IL-12R/STAT4 signaling promotes the development of EAM. In contrast, IFN-gamma plays a protective role. The disease-limiting effects of IFN-gamma might be explained by its ability to control the expansion of activated T lymphocytes.', 'title': 'the Development of Autoimmune Myocarditis in Mice by an'}\n",
      "False dense: {'text': 'BACKGROUND Interleukin (IL)-12 exerts a potent proinflammatory effect by stimulating T-helper (Th) 1 responses. This effect is believed to be mediated primarily through the activation of STAT4 and subsequent production of interferon (IFN)-gamma. Methods and Results- We examined the role of IL-12 receptor (IL-12R) signaling in the development of murine experimental autoimmune myocarditis (EAM) induced by cardiac myosin immunization. Both IL-12Rbeta1-deficient mice and STAT4-deficient mice were resistant to the induction of myocarditis. Treatment with exogenous IL-12 exacerbated disease. We questioned whether IFN-gamma is required for the disease-promoting activity of IL-12. On the contrary, we found that IFN-gamma suppresses EAM. Lack of IFN-gamma due to either depletion with an antibody or a genetic deficiency exacerbated myocarditis. Spleens from IFN-gamma-deficient mice immunized with cardiac myosin showed increased cellularity; greater numbers of CD3+, CD4+, CD8+, and IL-2-producing cells; and heightened ability to produce cytokines on stimulation in vitro. Treatment of mice with recombinant IFN-gamma suppressed the development of myocarditis. CONCLUSIONS IL-12/IL-12R/STAT4 signaling promotes the development of EAM. In contrast, IFN-gamma plays a protective role. The disease-limiting effects of IFN-gamma might be explained by its ability to control the expansion of activated T lymphocytes.', 'title': 'the Development of Autoimmune Myocarditis in Mice by an'}\n",
      "False distil_dense: {'text': 'BACKGROUND Interleukin (IL)-12 exerts a potent proinflammatory effect by stimulating T-helper (Th) 1 responses. This effect is believed to be mediated primarily through the activation of STAT4 and subsequent production of interferon (IFN)-gamma. Methods and Results- We examined the role of IL-12 receptor (IL-12R) signaling in the development of murine experimental autoimmune myocarditis (EAM) induced by cardiac myosin immunization. Both IL-12Rbeta1-deficient mice and STAT4-deficient mice were resistant to the induction of myocarditis. Treatment with exogenous IL-12 exacerbated disease. We questioned whether IFN-gamma is required for the disease-promoting activity of IL-12. On the contrary, we found that IFN-gamma suppresses EAM. Lack of IFN-gamma due to either depletion with an antibody or a genetic deficiency exacerbated myocarditis. Spleens from IFN-gamma-deficient mice immunized with cardiac myosin showed increased cellularity; greater numbers of CD3+, CD4+, CD8+, and IL-2-producing cells; and heightened ability to produce cytokines on stimulation in vitro. Treatment of mice with recombinant IFN-gamma suppressed the development of myocarditis. CONCLUSIONS IL-12/IL-12R/STAT4 signaling promotes the development of EAM. In contrast, IFN-gamma plays a protective role. The disease-limiting effects of IFN-gamma might be explained by its ability to control the expansion of activated T lymphocytes.', 'title': 'the Development of Autoimmune Myocarditis in Mice by an'}\n",
      "True cbm25: {'text': 'BACKGROUND Interferon-gamma (IFN-gamma) is an essential cytokine in the regulation of inflammatory responses in autoimmune diseases. Little is known about its role in inflammatory heart disease. METHODS AND RESULTS We showed that IFN-gamma receptor-deficient mice (IFN-gammaR(-/-)) on a BALB/c background immunized with a peptide derived from cardiac alpha-myosin heavy chain develop severe myocarditis with high mortality. Although myocarditis subsided in wild-type mice after 3 weeks, IFN-gammaR(-/-) mice showed persistent disease. The persistent inflammation was accompanied by vigorous in vitro CD4 T-cell responses and impaired inducible nitric oxide synthase expression, together with evidence of impaired nitric oxide production in IFN-gammaR(-/-) hearts. Treatment of wild-type mice with the nitric oxide synthetase inhibitor N:-nitro-l-arginine-methyl-ester enhanced in vitro CD4 T-cell proliferation and prevented healing of myocarditis. CONCLUSIONS Our data provide evidence that IFN-gamma protects mice from lethal autoimmune myocarditis by inducing the expression of inducible nitric oxide synthase followed by the downregulation of T-cell responses.', 'title': 'Lethal autoimmune myocarditis in interferon-gamma receptor-deficient mice: enhanced disease severity by impaired inducible nitric oxide synthase induction.'}\n",
      "------\n",
      "qid: 784, query: MicroRNA is involved in the regulation of Neural Stem Cell (NSC) differentiation and proliferation dynamic homeostasis\n",
      "False bm25: {'text': 'To characterize the properties of adult neural stem cells (NSCs), we generated and analyzed Sox2-GFP transgenic mice. Sox2-GFP cells in the subgranular zone (SGZ) express markers specific for progenitors, but they represent two morphologically distinct populations that differ in proliferation levels. Lentivirus- and retrovirus-mediated fate-tracing studies showed that Sox2+ cells in the SGZ have potential to give rise to neurons and astrocytes, revealing their multipotency at the population as well as at a single-cell level. A subpopulation of Sox2+ cells gives rise to cells that retain Sox2, highlighting Sox2+ cells as a primary source for adult NSCs. In response to mitotic signals, increased proliferation of Sox2+ cells is coupled with the generation of Sox2+ NSCs as well as neuronal precursors. An asymmetric contribution of Sox2+ NSCs may play an important role in maintaining the constant size of the NSC pool and producing newly born neurons during adult neurogenesis.', 'title': 'Cell Stem Cell Article In Vivo Fate Analysis Reveals the Multipotent and Self-Renewal Capacities of Sox2 + Neural Stem Cells in the Adult Hippocampus'}\n",
      "False dense: {'text': \"The introduction of immune-checkpoint blockade in the cancer therapy led to a paradigm change of the management of late stage cancers. There are already multiple FDA approved checkpoint inhibitors and many other agents are undergoing phase 2 and early phase 3 clinical trials. The therapeutic indication of immune checkpoint inhibitors expanded in the last years, but still remains unclear who can benefit. MicroRNAs are small RNAs with no coding potential. By complementary pairing to the 3' untranslated region of messenger RNA, microRNAs exert posttranscriptional control of protein expression. A network of microRNAs directly and indirectly controls the expression of checkpoint receptors and several microRNAs can target multiple checkpoint molecules, mimicking the therapeutic effect of a combined immune checkpoint blockade. In this review, we will describe the microRNAs that control the expression of immune checkpoints and we will present four specific issues of the immune checkpoint therapy in cancer: (1) imprecise therapeutic indication, (2) difficult response evaluation, (3) numerous immunologic adverse-events, and (4) the absence of response to immune therapy. Finally, we propose microRNAs as possible solutions for these pitfalls. We consider that in the near future microRNAs could become important therapeutic partners of the immune checkpoint therapy.\", 'title': 'Key questions about the checkpoint blockade-are microRNAs an answer?'}\n",
      "False distil_dense: {'text': \"MicroRNAs (miRNAs) are a recently identified class of epigenetic elements consisting of small noncoding RNAs that bind to the 3' untranslated region of mRNAs and down-regulate their translation to protein. miRNAs play critical roles in many different cellular processes including metabolism, apoptosis, differentiation, and development. We found 33 miRNAs expressed in CD34+ hematopoietic stem-progenitor cells (HSPCs) from normal human bone marrow and mobilized human peripheral blood stem cell harvests. We then combined these data with human HSPC mRNA expression data and with miRNA-mRNA target predictions, into a previously undescribed miRNA:mRNA interaction database called the Transcriptome Interaction Database. The in silico predictions from the Transcriptome Interaction Database pointed to miRNA control of hematopoietic differentiation through translational control of mRNAs critical to hematopoiesis. From these predictions, we formulated a model for miRNA control of stages of hematopoiesis in which many of the genes specifying hematopoietic differentiation are expressed by HSPCs, but are held in check by miRNAs until differentiation occurs. We validated miRNA control of several of these target mRNAs by demonstrating that their translation in fact is decreased by miRNAs. Finally, we chose miRNA-155 for functional characterization in hematopoiesis, because we predicted that it would control both myelopoiesis and erythropoiesis. As predicted, miRNA-155 transduction greatly reduced both myeloid and erythroid colony formation of normal human HSPCs.\", 'title': 'CD34+ hematopoietic stem-progenitor cell microRNA expression and function: a circuit diagram of differentiation control.'}\n",
      "True cbm25: {'text': \"Methyl-CpG binding protein 1 (MBD1) regulates gene expression via a DNA methylation-mediated epigenetic mechanism. We have previously demonstrated that MBD1 deficiency impairs adult neural stem/progenitor cell (aNSC) differentiation and neurogenesis, but the underlying mechanism was unclear. Here, we show that MBD1 regulates the expression of several microRNAs in aNSCs and, specifically, that miR-184 is directly repressed by MBD1. High levels of miR-184 promoted proliferation but inhibited differentiation of aNSCs, whereas inhibition of miR-184 rescued the phenotypes associated with MBD1 deficiency. We further found that miR-184 regulates the expression of Numblike (Numbl), a known regulator of brain development, by binding to the 3'-UTR of Numbl mRNA and affecting its translation. Expression of exogenous Numbl could rescue the aNSC defects that result from either miR-184 overexpression or MBD1 deficiency. Therefore, MBD1, miR-184, and Numbl form a regulatory network that helps control the balance between proliferation and differentiation of aNSCs.\", 'title': 'Epigenetic regulation of miR-184 by MBD1 governs neural stem cell proliferation and differentiation.'}\n",
      "------\n",
      "qid: 793, query: Mitochondria are uninvolved in apoptosis.\n",
      "False bm25: {'text': 'Vascular calcification is a strong independent predictor of increased cardiovascular morbidity and mortality and has a high prevalence among patients with chronic kidney disease. The present study investigated the effects of quercetin on vascular calcification caused by oxidative stress and abnormal mitochondrial dynamics both in vitro and in vivo. Calcifying vascular smooth muscle cells (VSMCs) treated with inorganic phosphate (Pi) exhibited mitochondrial dysfunction, as demonstrated by decreased mitochondrial potential and ATP production. Disruption of mitochondrial structural integrity was also observed in a rat model of adenine-induced aortic calcification. Increased production of reactive oxygen species, enhanced expression and phosphorylation of Drp1, and excessive mitochondrial fragmentation were also observed in Pi-treated VSMCs. These effects were accompanied by mitochondria-dependent apoptotic events, including release of cytochrome c from the mitochondria into the cytosol and subsequent activation of caspase-3. Quercetin was shown to block Pi-induced apoptosis and calcification of VSMCs by inhibiting oxidative stress and decreasing mitochondrial fission by inhibiting the expression and phosphorylation of Drp1. Quercetin also significantly ameliorated adenine-induced aortic calcification in rats. In summary, our findings suggest that quercetin attenuates calcification by reducing apoptosis of VSMCs by blocking oxidative stress and inhibiting mitochondrial fission.', 'title': 'Quercetin attenuates vascular calcification by inhibiting oxidative stress and mitochondrial fission.'}\n",
      "False dense: {'text': 'Apoptosis that proceeds via the mitochondrial pathway involves mitochondrial outer membrane permeabilization (MOMP), responsible for the release of cytochrome c and other proteins of the mitochondrial intermembrane space. This essential step is controlled and mediated by proteins of the Bcl-2 family. The proapoptotic proteins Bax and Bak are required for MOMP, while the antiapoptotic Bcl-2 proteins, including Bcl-2, Bcl-xL, Mcl-1, and others, prevent MOMP. Different proapoptotic BH3-only proteins act to interfere with the function of the antiapoptotic Bcl-2 members and/or activate Bax and Bak. Here, we discuss an emerging view, proposed by Certo et al. in this issue of Cancer Cell, on how these interactions result in MOMP and apoptosis.', 'title': 'At the gates of death.'}\n",
      "False distil_dense: {'text': 'In this review I summarize interrelations between bioenergetic processes and such programmed death phenomena as cell suicide (apoptosis and necrosis) and mitochondrial suicide (mitoptosis). The following conclusions are made. (I) ATP and rather often mitochondrial hyperpolarization (i.e. an increase in membrane potential, ΔΨ) are required for certain steps of apoptosis and necrosis. (II) Apoptosis, even if it is accompanied by ΔΨ and [ATP] increases at its early stage, finally results in a ΔΨ collapse and ATP decrease. (III) Moderate (about three-fold) lowering of [ATP] for short and long periods of time induces apoptosis and necrosis, respectively. In some types of apoptosis and necrosis, the cell death is mediated by a ΔΨ-dependent overproduction of ROS by the initial (Complex I) and the middle (Complex III) spans of the respiratory chain. ROS initiate mitoptosis which is postulated to rid the intracellular population of mitochondria from those that are ROS overproducing. Massive mitoptosis can result in cell death due to release to cytosol of the cell death proteins normally hidden in the mitochondrial intermembrane space.', 'title': 'Bioenergetic aspects of apoptosis, necrosis and mitoptosis'}\n",
      "True cbm25: {'text': 'Mitochondria are the primary energy-generating system in most eukaryotic cells. Additionally, they participate in intermediary metabolism, calcium signaling, and apoptosis. Given these well-established functions, it might be expected that mitochondrial dysfunction would give rise to a simple and predictable set of defects in all tissues. However, mitochondrial dysfunction has pleiotropic effects in multicellular organisms. Clearly, much about the basic biology of mitochondria remains to be understood. Here we discuss recent work that suggests that the dynamics (fusion and fission) of these organelles is important in development and disease.', 'title': 'Mitochondria: Dynamic Organelles in Disease, Aging, and Development'}\n",
      "------\n",
      "skip qid 821\n",
      "------\n",
      "skip qid 834\n",
      "------\n",
      "qid: 852, query: Non-invasive ventilation use should be decreased if there is inadequate response to conventional treatment.\n",
      "False bm25: {'text': 'The helmet is a new interface with the potential of increasing the success rate of non-invasive ventilation by improving tolerance. To perform a physiological comparison between the helmet and the conventional facial mask in delivering non-invasive ventilation in hypercapnic patients with chronic obstructive pulmonary disease. Prospective, controlled, randomized study with cross-over design. In 10 patients we evaluated gas exchange, inspiratory effort, patient–ventilator synchrony and patient tolerance after 30 min of non-invasive ventilation delivered either by helmet or facial mask; both trials were preceded by periods of spontaneous unassisted breathing. Arterial blood gases, inspiratory effort, duration of diaphragm contraction and ventilator assistance, effort-to-support delays (at the beginning and at the end of inspiration), number of ineffective efforts, and patient comfort. Non-invasive ventilation improved gas exchange (p< 0.05) and inspiratory effort (p< 0.01) with both interfaces. The helmet, however, was less efficient than the mask in reducing inspiratory effort (p< 0.05) and worsened the patient–ventilator synchrony, as indicated by the longer delays to trigger on (p< 0.05) and cycle off (p< 0.05) the mechanical assistance and by the number of ineffective efforts (p< 0.005). Patient comfort was no different with the two interfaces. Helmet and facial mask were equally tolerated and both were effective in ameliorating gas exchange and decreasing inspiratory effort. The helmet, however, was less efficient in decreasing inspiratory effort and worsened the patient–ventilator interaction.', 'title': 'Non-invasive ventilation in chronic obstructive pulmonary disease patients: helmet versus facial mask'}\n",
      "False dense: {'text': 'CONTEXT Noninvasive ventilation (NIV) has been associated with lower rates of endotracheal intubation in populations of patients with acute respiratory failure. OBJECTIVE To compare NIV with standard treatment using supplemental oxygen administration to avoid endotracheal intubation in recipients of solid organ transplantation with acute hypoxemic respiratory failure. DESIGN AND SETTING Prospective randomized study conducted at a 14-bed, general intensive care unit of a university hospital. PATIENTS Of 238 patients who underwent solid organ transplantation from December 1995 to October 1997, 51 were treated for acute respiratory failure. Of these, 40 were eligible and 20 were randomized to each group. INTERVENTION Noninvasive ventilation vs standard treatment with supplemental oxygen administration. MAIN OUTCOME MEASURES The need for endotracheal intubation and mechanical ventilation at any time during the study, complications not present on admission, duration of ventilatory assistance, length of hospital stay, and intensive care unit mortality. RESULTS The 2 groups were similar at study entry. Within the first hour of treatment, 14 patients (70%) in the NIV group, and 5 patients (25%) in the standard treatment group improved their ratio of the PaO2 to the fraction of inspired oxygen (FIO2). Over time, a sustained improvement in PaO2 to FIO2 was noted in 12 patients (60%) in the NIV group, and in 5 patients (25%) randomized to standard treatment (P = .03). The use of NIV was associated with a significant reduction in the rate of endotracheal intubation (20% vs 70%; P = .002), rate of fatal complications (20% vs 50%; P = .05), length of stay in the intensive care unit by survivors (mean [SD] days, 5.5 [3] vs 9 [4]; P = .03), and intensive care unit mortality (20% vs 50%; P = .05). Hospital mortality did not differ. CONCLUSIONS These results indicate that transplantation programs should consider NIV in the treatment of selected recipients of transplantation with acute respiratory failure.', 'title': 'Noninvasive ventilation for treatment of acute respiratory failure in patients undergoing solid organ transplantation: a randomized trial.'}\n",
      "False distil_dense: {'text': 'CONTEXT Noninvasive ventilation (NIV) has been associated with lower rates of endotracheal intubation in populations of patients with acute respiratory failure. OBJECTIVE To compare NIV with standard treatment using supplemental oxygen administration to avoid endotracheal intubation in recipients of solid organ transplantation with acute hypoxemic respiratory failure. DESIGN AND SETTING Prospective randomized study conducted at a 14-bed, general intensive care unit of a university hospital. PATIENTS Of 238 patients who underwent solid organ transplantation from December 1995 to October 1997, 51 were treated for acute respiratory failure. Of these, 40 were eligible and 20 were randomized to each group. INTERVENTION Noninvasive ventilation vs standard treatment with supplemental oxygen administration. MAIN OUTCOME MEASURES The need for endotracheal intubation and mechanical ventilation at any time during the study, complications not present on admission, duration of ventilatory assistance, length of hospital stay, and intensive care unit mortality. RESULTS The 2 groups were similar at study entry. Within the first hour of treatment, 14 patients (70%) in the NIV group, and 5 patients (25%) in the standard treatment group improved their ratio of the PaO2 to the fraction of inspired oxygen (FIO2). Over time, a sustained improvement in PaO2 to FIO2 was noted in 12 patients (60%) in the NIV group, and in 5 patients (25%) randomized to standard treatment (P = .03). The use of NIV was associated with a significant reduction in the rate of endotracheal intubation (20% vs 70%; P = .002), rate of fatal complications (20% vs 50%; P = .05), length of stay in the intensive care unit by survivors (mean [SD] days, 5.5 [3] vs 9 [4]; P = .03), and intensive care unit mortality (20% vs 50%; P = .05). Hospital mortality did not differ. CONCLUSIONS These results indicate that transplantation programs should consider NIV in the treatment of selected recipients of transplantation with acute respiratory failure.', 'title': 'Noninvasive ventilation for treatment of acute respiratory failure in patients undergoing solid organ transplantation: a randomized trial.'}\n",
      "True cbm25: {'text': 'OBJECTIVE To evaluate the cost effectiveness of standard treatment with and without the addition of ward based non-invasive ventilation in patients admitted to hospital with an acute exacerbation of chronic obstructive pulmonary disease. DESIGN Incremental cost effectiveness analysis of a randomised controlled trial. SETTING Medical wards in 14 hospitals in the United Kingdom. PARTICIPANTS The trial comprised 236 patients admitted to hospital with an acute exacerbation of chronic obstructive pulmonary disease and mild to moderate acidosis (pH 7.25-7.35) secondary to respiratory failure. The economic analysis compared the costs of treatment that these patients received after randomisation. MAIN OUTCOME MEASURE Incremental cost per in-hospital death. RESULTS 24/118 died in the group receiving standard treatment and 12/118 in the group receiving non-invasive ventilation (P=0.05). Allocation to the group receiving non-invasive ventilation was associated with a reduction in costs of 49362 pounds sterling (78741 dollars; 73109 euros), mainly through reduced use of intensive care units. The incremental cost effectiveness ratio was -645 pounds sterling per death avoided (95% confidence interval -2310 pounds sterling to 386 pounds sterling), indicating a dominant (more effective and less costly) strategy. Modelling of these data indicates that a typical UK hospital providing a non-invasive ventilation service will avoid six deaths and three to nine admissions to intensive care units per year, with an associated cost reduction of 12000-53000 pounds sterling per year. CONCLUSIONS Non-invasive ventilation is a highly cost effective treatment that both reduced total costs and improved mortality in hospital.', 'title': 'Cost effectiveness of ward based non-invasive ventilation for acute exacerbations of chronic obstructive pulmonary disease: economic analysis of randomised controlled trial.'}\n"
     ]
    }
   ],
   "source": [
    "def correct_condition(target, compare, correct):\n",
    "    return target in correct and not compare in correct\n",
    "\n",
    "for qid in better_query.index:\n",
    "    show_result_top1(qid, correct_condition)"
   ]
  },
  {
   "cell_type": "code",
   "execution_count": 33,
   "metadata": {},
   "outputs": [
    {
     "name": "stdout",
     "output_type": "stream",
     "text": [
      "------\n",
      "qid: 237, query: Cells lacking clpC have a defect in sporulation efficiency in Bacillus subtilis.\n",
      "True bm25: {'text': 'The differentiation of the bacterium Bacillus subtilis into a dormant spore is among the most well-characterized developmental pathways in biology. Classical genetic screens performed over the past half century identified scores of factors involved in every step of this morphological process. More recently, transcriptional profiling uncovered additional sporulation-induced genes required for successful spore development. Here, we used transposon-sequencing (Tn-seq) to assess whether there were any sporulation genes left to be discovered. Our screen identified 133 out of the 148 genes with known sporulation defects. Surprisingly, we discovered 24 additional genes that had not been previously implicated in spore formation. To investigate their functions, we used fluorescence microscopy to survey early, middle, and late stages of differentiation of null mutants from the B. subtilis ordered knockout collection. This analysis identified mutants that are delayed in the initiation of sporulation, defective in membrane remodeling, and impaired in spore maturation. Several mutants had novel sporulation phenotypes. We performed in-depth characterization of two new factors that participate in cell-cell signaling pathways during sporulation. One (SpoIIT) functions in the activation of σE in the mother cell; the other (SpoIIIL) is required for σG activity in the forespore. Our analysis also revealed that as many as 36 sporulation-induced genes with no previously reported mutant phenotypes are required for timely spore maturation. Finally, we discovered a large set of transposon insertions that trigger premature initiation of sporulation. Our results highlight the power of Tn-seq for the discovery of new genes and novel pathways in sporulation and, combined with the recently completed null mutant collection, open the door for similar screens in other, less well-characterized processes.', 'title': 'High-Throughput Genetic Screens Identify a Large and Diverse Collection of New Sporulation Genes in Bacillus subtilis'}\n",
      "True dense: {'text': 'The differentiation of the bacterium Bacillus subtilis into a dormant spore is among the most well-characterized developmental pathways in biology. Classical genetic screens performed over the past half century identified scores of factors involved in every step of this morphological process. More recently, transcriptional profiling uncovered additional sporulation-induced genes required for successful spore development. Here, we used transposon-sequencing (Tn-seq) to assess whether there were any sporulation genes left to be discovered. Our screen identified 133 out of the 148 genes with known sporulation defects. Surprisingly, we discovered 24 additional genes that had not been previously implicated in spore formation. To investigate their functions, we used fluorescence microscopy to survey early, middle, and late stages of differentiation of null mutants from the B. subtilis ordered knockout collection. This analysis identified mutants that are delayed in the initiation of sporulation, defective in membrane remodeling, and impaired in spore maturation. Several mutants had novel sporulation phenotypes. We performed in-depth characterization of two new factors that participate in cell-cell signaling pathways during sporulation. One (SpoIIT) functions in the activation of σE in the mother cell; the other (SpoIIIL) is required for σG activity in the forespore. Our analysis also revealed that as many as 36 sporulation-induced genes with no previously reported mutant phenotypes are required for timely spore maturation. Finally, we discovered a large set of transposon insertions that trigger premature initiation of sporulation. Our results highlight the power of Tn-seq for the discovery of new genes and novel pathways in sporulation and, combined with the recently completed null mutant collection, open the door for similar screens in other, less well-characterized processes.', 'title': 'High-Throughput Genetic Screens Identify a Large and Diverse Collection of New Sporulation Genes in Bacillus subtilis'}\n",
      "True distil_dense: {'text': 'The differentiation of the bacterium Bacillus subtilis into a dormant spore is among the most well-characterized developmental pathways in biology. Classical genetic screens performed over the past half century identified scores of factors involved in every step of this morphological process. More recently, transcriptional profiling uncovered additional sporulation-induced genes required for successful spore development. Here, we used transposon-sequencing (Tn-seq) to assess whether there were any sporulation genes left to be discovered. Our screen identified 133 out of the 148 genes with known sporulation defects. Surprisingly, we discovered 24 additional genes that had not been previously implicated in spore formation. To investigate their functions, we used fluorescence microscopy to survey early, middle, and late stages of differentiation of null mutants from the B. subtilis ordered knockout collection. This analysis identified mutants that are delayed in the initiation of sporulation, defective in membrane remodeling, and impaired in spore maturation. Several mutants had novel sporulation phenotypes. We performed in-depth characterization of two new factors that participate in cell-cell signaling pathways during sporulation. One (SpoIIT) functions in the activation of σE in the mother cell; the other (SpoIIIL) is required for σG activity in the forespore. Our analysis also revealed that as many as 36 sporulation-induced genes with no previously reported mutant phenotypes are required for timely spore maturation. Finally, we discovered a large set of transposon insertions that trigger premature initiation of sporulation. Our results highlight the power of Tn-seq for the discovery of new genes and novel pathways in sporulation and, combined with the recently completed null mutant collection, open the door for similar screens in other, less well-characterized processes.', 'title': 'High-Throughput Genetic Screens Identify a Large and Diverse Collection of New Sporulation Genes in Bacillus subtilis'}\n",
      "False cbm25: {'text': 'Clp-controlled proteolysis in Bacillus subtilis seems to play a substantial role, particularly under stress conditions. Calibrated Western blot analyses were used to estimate the approximate numbers of heat-inducible Clp molecules within a single cell. According to these numbers, the different Clp ATPases do not seem to compete for the proteolytic subunit ClpP. Coimmunoprecipitation experiments revealed the predicted specific ClpX-ClpP, ClpC-ClpP, and ClpE-ClpP interactions. ClpE and ClpX are rapidly degraded in wild-type cells during permanent heat stress but remained almost stable in a clpP mutant, suggesting ClpP-dependent degradation. In particular, ClpCP appeared to be involved in the degradation of the short-lived ClpE ATPase, indicating a negative \"autoregulatory\" circuit for this particular Clp ATPase at the posttranslational level. Analysis of the half-life of stress-inducible clp mRNAs during exponential growth and heat shock revealed precise regulation of the synthesis of each Clp protein at the posttranscriptional level as well to meet the needs of B. subtilis.', 'title': 'Fine-tuning in regulation of Clp protein content in Bacillus subtilis.'}\n",
      "------\n",
      "skip qid 513\n"
     ]
    }
   ],
   "source": [
    "def false_condition(target, compare, correct):\n",
    "    return not target in correct and compare in correct\n",
    "\n",
    "for i in worse_query.index:\n",
    "    show_result_top1(i, false_condition)"
   ]
  },
  {
   "cell_type": "code",
   "execution_count": 26,
   "metadata": {},
   "outputs": [],
   "source": [
    "def preproc_rep(reps: np.ndarray, att_mask: np.ndarray, input_tok: np.ndarray):\n",
    "    reps = rep_lave(reps, att_mask)\n",
    "    reps /= np.linalg.norm(reps, axis=2)[:, :, np.newaxis]\n",
    "    reps[np.isnan(reps)] = 0.0\n",
    "    return reps, att_mask[:, 1:], input_tok[:, 1:]\n",
    "\n",
    "def rep_lave(reps, att_masks, window_size=3):\n",
    "    tg_reps = np.zeros_like(reps[:, 1:])  # 3D\n",
    "    for b, (rep, att_mask) in enumerate(zip(reps, att_masks)):\n",
    "        og_rep = rep[att_mask == 1, :]  # 2D\n",
    "        og_rep = og_rep[1:-1, :]  # remove special token\n",
    "        rep_len = og_rep.shape[0]\n",
    "        for i in range(rep_len):\n",
    "            start = i - window_size if i - window_size > 0 else 0\n",
    "            end = i + window_size\n",
    "            tg_reps[b, i, :] += np.mean(og_rep[start:end, :], axis=0)\n",
    "\n",
    "    return tg_reps\n",
    "\n",
    "def max_cos_sims(query, doc, model, tokenizer):\n",
    "    special_tokens = {\n",
    "        tokenizer.pad_token_id,\n",
    "        tokenizer.bos_token_id,\n",
    "        tokenizer.eos_token_id,\n",
    "        tokenizer.sep_token_id,\n",
    "        tokenizer.cls_token_id,\n",
    "    }\n",
    "    def tok2rep_indexing(inputs_ids, batch_reps, att_masks):\n",
    "        tok2rep = defaultdict(list)\n",
    "        for qi, (input_ids, reps, att_mask) in enumerate(zip(inputs_ids, batch_reps, att_masks)):\n",
    "            for i, (qt, rep, am) in enumerate(zip(input_ids, reps, att_mask)):\n",
    "                if qt in special_tokens:\n",
    "                    continue\n",
    "                if am == 0:\n",
    "                    continue\n",
    "                tok2rep[qt].append(rep)\n",
    "            \n",
    "        for tid in tok2rep:\n",
    "            tok2rep[tid] = np.vstack(tok2rep[tid])\n",
    "            \n",
    "        return tok2rep\n",
    "        \n",
    "    doc = doc[\"title\"] + \" \" + doc[\"text\"]\n",
    "    t_query = tokenizer(query, return_tensors=\"pt\")\n",
    "    with torch.no_grad():\n",
    "        e_query = model(**t_query).last_hidden_state\n",
    "    e_queries, q_att_masks, q_inputs_ids = preproc_rep(e_query.numpy(), t_query[\"attention_mask\"].numpy(), t_query[\"input_ids\"].numpy())\n",
    "    q_tok2rep = tok2rep_indexing(q_inputs_ids, e_queries, q_att_masks)\n",
    "    t_doc = tokenizer(doc, return_tensors=\"pt\")\n",
    "    with torch.no_grad():\n",
    "        e_doc = model(**t_doc).last_hidden_state\n",
    "    e_docs, d_att_masks, d_inputs_ids = preproc_rep(e_doc.numpy(), t_doc[\"attention_mask\"].numpy(), t_doc[\"input_ids\"].numpy())\n",
    "    # print(e_docs.shape, d_att_masks.shape, d_inputs_ids.shape, tokenizer.convert_ids_to_tokens(list(d_inputs_ids[0])))\n",
    "    d_tok2rep = tok2rep_indexing(d_inputs_ids, e_docs, d_att_masks)\n",
    "    result = []\n",
    "    for qt, q_reps in q_tok2rep.items():\n",
    "        q_token = tokenizer.convert_ids_to_tokens(int(qt))\n",
    "        if qt not in d_tok2rep:\n",
    "            result.append(f\"{q_token}: 0.0\")\n",
    "            continue\n",
    "            \n",
    "        score=np.max(np.dot(q_reps, d_tok2rep[qt].T))\n",
    "        result.append(f\"{q_token}: {round(float(score), 2)}\")\n",
    "        \n",
    "    return \", \".join(result)"
   ]
  },
  {
   "cell_type": "code",
   "execution_count": 27,
   "metadata": {},
   "outputs": [],
   "source": [
    "def tokenizer_doc(target, tokenizer):\n",
    "    text = corpus[target][\"title\"] + \" \" + corpus[target][\"text\"]\n",
    "    return tokenizer(text)\n",
    "    \n",
    "def get_bm25_val(cid, query, token_bm25_score, tokenizer):\n",
    "    this_q_tok_bm25 = []\n",
    "    t_query = tokenizer(query)\n",
    "    for tok in t_query:\n",
    "        this_q_tok_bm25.append(f\"{tok}: {round(token_bm25_score[cid][(tok)], 2)}\")\n",
    "    return \", \".join(this_q_tok_bm25)\n",
    "\n",
    "\n",
    "def search_bm25(query, token_bm25_score, tokenizer):\n",
    "    t_query = tokenizer(query)\n",
    "    search_result = defaultdict(float)\n",
    "    for cid in token_bm25_score:\n",
    "        for tok in t_query:\n",
    "            search_result[cid] += token_bm25_score[cid][(tok)]\n",
    "    return search_result\n",
    "\n",
    "    \n",
    "\n",
    "def get_idf_val(query, idf, tokenizer):\n",
    "    this_q_tok_idf = []\n",
    "    t_query = tokenizer(query)\n",
    "    for tok in t_query:\n",
    "        this_q_tok_idf.append(f\"{tok}: {round(idf[tok], 2)}\")\n",
    "    return \", \".join(this_q_tok_idf)\n",
    "        \n",
    "\n",
    "def show_result_top1_analysis(qid, show_condition):\n",
    "    def extract_top1(result):\n",
    "        return sorted(result[qid].items(), key=lambda x: -x[1])[0]\n",
    "    \n",
    "    bm25_top1 = extract_top1(bm25_result)\n",
    "    dense_top1 = extract_top1(dense_result)\n",
    "    distil_dense_top1 = extract_top1(distil_dense_result)\n",
    "    cbm25_top1 = extract_top1(cbm25_result[func_name])\n",
    "    correct = qrels[qid]\n",
    "    query = queries[qid]\n",
    "    if show_condition(cbm25_top1[0], bm25_top1[0], correct):\n",
    "        print(\"------\")\n",
    "        print(f\"qid: {qid}, query: {query}\")\n",
    "        print(f\"lm_idf: {get_idf_val(query, lm_idf, lm_tokenizer.analyze)}\")\n",
    "        print(f\"hf_idf: {get_idf_val(query, hf_idf, hf_tokenizer.tokenize)}\")\n",
    "        print(\"---\")\n",
    "        cid_bm25_top1 = bm25_top1[0]\n",
    "        cid_bm25_tok_score_lm = get_bm25_val(cid_bm25_top1, query, lm_token_bm25_score, lm_tokenizer.analyze)\n",
    "        cid_bm25_tok_score_hf = get_bm25_val(cid_bm25_top1, query, hf_token_bm25_score, hf_tokenizer.tokenize)\n",
    "        t_doc = tokenizer_doc(cid_bm25_top1, lm_tokenizer.analyze)\n",
    "        t_cos_sims = max_cos_sims(query, corpus[cid_bm25_top1], hf_model, hf_tokenizer)\n",
    "        print(f\"bm25: {cid_bm25_top1 in correct} q-bm25: {cid_bm25_tok_score_lm}\")\n",
    "        print(f\"hf-q-bm25: {cid_bm25_tok_score_hf}\")\n",
    "        print(f\"cos-sims: {t_cos_sims}\")\n",
    "        print(f\"t_doc: {t_doc}\")\n",
    "        cid_dense_top1 = dense_top1[0]\n",
    "        cid_dense_tok_score = get_bm25_val(cid_dense_top1, query, hf_token_bm25_score, hf_tokenizer.tokenize)\n",
    "        t_doc = tokenizer_doc(cid_dense_top1, hf_tokenizer.tokenize)\n",
    "        print(f\"dense: {cid_bm25_top1 in correct} q-bm25: {cid_dense_tok_score}\")\n",
    "        print(f\"t_doc: {t_doc}\")  \n",
    "        cid_distil_dense_top1 = distil_dense_top1[0]\n",
    "        cid_distil_dense_tok_score = get_bm25_val(cid_distil_dense_top1, query, hf_token_bm25_score, hf_tokenizer.tokenize)\n",
    "        t_doc = tokenizer_doc(cid_distil_dense_top1, hf_tokenizer.tokenize)\n",
    "        print(f\"wdense: {cid_bm25_top1 in correct}, q-bm25: {cid_distil_dense_tok_score}\")\n",
    "        print(f\"t_doc: {t_doc}\")  \n",
    "        cid_cbm25_top1 = cbm25_top1[0]\n",
    "        cid_cbm25_tok_score = get_bm25_val(cid_cbm25_top1, query, hf_token_bm25_score, hf_tokenizer.tokenize)\n",
    "        t_doc = tokenizer_doc(cid_cbm25_top1, hf_tokenizer.tokenize)\n",
    "        t_cos_sims = max_cos_sims(query, corpus[cid_cbm25_top1], hf_model, hf_tokenizer)\n",
    "        print(f\"cbm25: {cid_cbm25_top1 in correct} q-bm25: {cid_cbm25_tok_score}\")\n",
    "        print(f\"cos-sims: {t_cos_sims}\")\n",
    "        print(f\"t_doc: {t_doc}\")\n",
    "    else:\n",
    "        print(\"------\")\n",
    "        print(f\"skip qid {qid}\")"
   ]
  },
  {
   "cell_type": "code",
   "execution_count": 28,
   "metadata": {
    "scrolled": true
   },
   "outputs": [
    {
     "name": "stdout",
     "output_type": "stream",
     "text": [
      "------\n",
      "skip qid 1099\n",
      "------\n",
      "skip qid 1100\n",
      "------\n",
      "qid: 127, query: Arginine 90 in p150n is important for interaction with EB1.\n",
      "lm_idf: arginin: 5.03, 90: 3.76, p150n: 0.0, import: 1.76, interact: 2.11, eb1: 6.76\n",
      "hf_idf: ar: 3.61, ##gin: 4.79, ##ine: 2.01, 90: 3.33, in: 0.02, p: 1.56, ##15: 4.48, ##0: 2.99, ##n: 1.82, is: 0.31, important: 1.99, for: 0.26, interaction: 2.87, with: 0.26, e: 2.05, ##b: 2.17, ##1: 1.37, .: 0.0\n",
      "---\n"
     ]
    },
    {
     "name": "stderr",
     "output_type": "stream",
     "text": [
      "/tmp/ipykernel_1624749/1542452337.py:3: RuntimeWarning: invalid value encountered in true_divide\n",
      "  reps /= np.linalg.norm(reps, axis=2)[:, :, np.newaxis]\n"
     ]
    },
    {
     "name": "stdout",
     "output_type": "stream",
     "text": [
      "bm25: False q-bm25: arginin: 0.0, 90: 0.0, p150n: 0.0, import: 0.0, interact: 3.57, eb1: 11.44\n",
      "hf-q-bm25: ar: 0.0, ##gin: 0.0, ##ine: 0.0, 90: 0.0, in: 0.03, p: 1.96, ##15: 5.62, ##0: 3.76, ##n: 0.0, is: 0.39, important: 0.0, for: 0.25, interaction: 4.34, with: 0.4, e: 3.5, ##b: 3.65, ##1: 2.31, .: 0.0\n",
      "cos-sims: ar: 0.0, ##gin: 0.0, ##ine: 0.0, 90: 0.0, in: 0.43, p: 0.45, ##15: 0.46, ##0: 0.47, ##n: 0.0, is: 0.46, important: 0.0, for: 0.45, interaction: 0.49, with: 0.44, e: 0.5, ##b: 0.49, ##1: 0.47, .: 0.46\n",
      "t_doc: ['clip', '170', 'interact', 'dynactin', 'complex', 'apc', 'bind', 'protein', 'eb1', 'differ', 'mechan', 'clip', '170', 'cytoplasm', 'linker', 'protein', 'implic', 'endosom', 'microtubul', 'interact', 'control', 'microtubul', 'dynam', 'clip', '170', 'local', 'dynam', 'grow', 'microtubul', 'plu', 'end', 'coloc', 'dynein', 'activ', 'dynactin', 'apc', 'bind', 'protein', 'eb1', 'share', 'plu', 'end', 'track', 'behavior', 'suggest', 'clip', '170', 'might', 'interact', 'dynactin', 'eb1', 'we', 'have', 'us', 'site', 'specif', 'mutagenesi', 'clip', '170', 'transfect', 'coloc', 'assai', 'address', 'question', 'mammalian', 'tissu', 'cultur', 'cell', 'our', 'result', 'indic', 'clip', '170', 'interact', 'directli', 'indirectli', 'both', 'dynactin', 'eb1', 'we', 'find', 'clip', '170', 'dynactin', 'interact', 'mediat', 'second', 'metal', 'bind', 'motif', 'clip', '170', 'tail', 'contrast', 'clip', '170', 'eb1', 'interact', 'requir', 'neither', 'metal', 'bind', 'motif', 'addit', 'our', 'experi', 'suggest', 'clip', '170', 'dynactin', 'interact', 'occur', 'via', 'shoulder', 'sidearm', 'subcomplex', 'dynactin', 'can', 'occur', 'cytosol', 'i.', 'doe', 'requir', 'microtubul', 'bind', 'result', 'have', 'implic', 'target', 'both', 'dynactin', 'eb1', 'microtubul', 'plu', 'end', 'our', 'data', 'suggest', 'clip', '170', 'dynactin', 'interact', 'can', 'target', 'dynactin', 'complex', 'microtubul', 'plu', 'end', 'although', 'dynactin', 'like', 'also', 'target', 'mt', 'plu', 'end', 'directli', 'via', 'microtubul', 'bind', 'motif', 'p150', 'glu', 'subunit', 'we', 'find', 'clip', '170', 'mutant', 'alter', 'p150', 'glu', 'local', 'without', 'affect', 'eb1', 'indic', 'eb1', 'can', 'target', 'microtubul', 'plu', 'end', 'independ', 'dynactin']\n",
      "dense: False q-bm25: ar: 0.0, ##gin: 0.0, ##ine: 0.0, 90: 0.0, in: 0.03, p: 0.0, ##15: 0.0, ##0: 0.0, ##n: 0.0, is: 0.0, important: 0.0, for: 0.38, interaction: 0.0, with: 0.44, e: 0.0, ##b: 0.0, ##1: 0.0, .: 0.0\n",
      "t_doc: ['alternative', 'markers', 'of', 'hyper', '##gly', '##ce', '##mia', 'and', 'risk', 'of', 'diabetes', 'objective', 'fr', '##uc', '##tos', '##amine', ',', 'g', '##ly', '##cated', 'album', '##in', ',', 'and', '1', ',', '5', '-', 'an', '##hy', '##dro', '##gl', '##uc', '##ito', '##l', '(', '1', ',', '5', '-', 'ag', ')', 'are', 'of', 'interest', 'for', 'monitoring', 'short', '-', 'term', 'g', '##ly', '##ce', '##mic', 'control', 'in', 'patients', 'with', 'diabetes', ';', 'however', ',', 'their', 'associations', 'with', 'diabetes', 'risk', 'are', 'un', '##cha', '##rac', '##ter', '##ized', '.', 'research', 'design', 'and', 'methods', 'we', 'used', 'cox', 'proportional', 'hazards', 'models', 'to', 'examine', 'the', 'associations', 'of', 'fr', '##uc', '##tos', '##amine', ',', 'g', '##ly', '##cated', 'album', '##in', ',', 'and', '1', ',', '5', '-', 'ag', 'with', 'incident', 'diabetes', 'in', '1', ',', '299', 'participants', ',', 'from', 'the', 'at', '##her', '##os', '##cle', '##rosis', 'risk', 'in', 'communities', '(', 'ari', '##c', ')', 'study', '(', '2005', '-', '2006', ')', ',', 'who', 'had', 'no', 'history', 'of', 'diagnosed', 'diabetes', 'at', 'baseline', '.', 'incident', 'diabetes', 'was', 'self', '-', 'reported', 'during', 'annual', 'telephone', 'calls', '.', 'results', 'there', 'were', '119', 'new', 'cases', 'of', 'diabetes', 'during', 'a', 'median', 'follow', '-', 'up', 'of', '3', '.', '3', 'years', '.', 'when', 'compared', 'with', 'the', 'lowest', 'qu', '##art', '##ile', ',', 'the', 'fourth', 'qu', '##art', '##ile', '##s', 'of', 'fr', '##uc', '##tos', '##amine', 'and', 'g', '##ly', '##cated', 'album', '##in', 'were', 'significantly', 'associated', 'with', 'diabetes', 'risk', '(', 'hazard', 'ratio', '[', 'hr', ']', '3', '.', '99', '[', '95', '%', 'ci', '1', '.', '93', '-', '8', '.', '28', ']', 'and', '5', '.', '22', '[', '2', '.', '49', '-', '10', '.', '94', ']', ',', 'respectively', ')', '.', 'the', 'fourth', 'qu', '##art', '##ile', 'of', '1', ',', '5', '-', 'ag', 'was', 'associated', 'with', 'a', 'significantly', 'lower', 'diabetes', 'risk', '(', '0', '.', '27', '[', '0', '.', '14', '-', '0', '.', '55', ']', ')', '.', 'associations', 'were', 'at', '##ten', '##uated', 'but', 'still', 'significant', 'after', 'adjustment', 'for', 'hem', '##og', '##lo', '##bin', 'a', '(', '1', '##c', ')', '(', 'a1', '##c', ')', 'or', 'fast', '##ing', 'glucose', '.', 'conclusions', 'fr', '##uc', '##tos', '##amine', ',', 'g', '##ly', '##cated', 'album', '##in', ',', 'and', '1', ',', '5', '-', 'ag', 'were', 'associated', 'with', 'the', 'subsequent', 'development', 'of', 'diabetes', 'independently', 'of', 'baseline', 'a1', '##c', 'and', 'fast', '##ing', 'glucose', '.', 'our', 'results', 'suggest', 'these', 'alternative', 'bio', '##mark', '##ers', 'may', 'be', 'useful', 'in', 'identifying', 'persons', 'at', 'risk', 'for', 'diabetes', '.']\n",
      "wdense: False, q-bm25: ar: 0.0, ##gin: 0.0, ##ine: 0.0, 90: 0.0, in: 0.03, p: 0.0, ##15: 0.0, ##0: 0.0, ##n: 2.88, is: 0.39, important: 1.88, for: 0.44, interaction: 0.0, with: 0.37, e: 0.0, ##b: 0.0, ##1: 1.73, .: 0.0\n",
      "t_doc: ['crucial', 'role', 'of', 'inter', '##fer', '##on', 'consensus', 'sequence', 'binding', 'protein', ',', 'but', 'neither', 'of', 'inter', '##fer', '##on', 'regulatory', 'factor', '1', 'nor', 'of', 'ni', '##tric', 'oxide', 'synthesis', 'for', 'protection', 'against', 'mu', '##rine', 'lister', '##ios', '##is', 'lister', '##ia', 'mono', '##cy', '##to', '##gen', '##es', 'is', 'widely', 'used', 'as', 'a', 'model', 'to', 'study', 'immune', 'responses', 'against', 'intra', '##cellular', 'bacteria', '.', 'it', 'has', 'been', 'shown', 'that', 'ne', '##ut', '##rop', '##hil', '##s', 'and', 'macro', '##pha', '##ges', 'play', 'an', 'important', 'role', 'to', 'restrict', 'bacterial', 'replication', 'in', 'the', 'early', 'phase', 'of', 'primary', 'infection', 'in', 'mice', ',', 'and', 'that', 'the', 'cy', '##tok', '##ines', 'inter', '##fer', '##on', '-', 'γ', '(', 'if', '##n', '-', 'γ', ')', 'and', 'tumor', 'nec', '##rosis', 'factor', '-', 'α', '(', 'tn', '##f', '-', 'α', ')', 'are', 'essential', 'for', 'protection', '.', 'however', ',', 'the', 'involved', 'signaling', 'pathways', 'and', 'effect', '##or', 'mechanisms', 'are', 'still', 'poorly', 'understood', '.', 'this', 'study', 'investigated', 'mouse', 'strains', 'def', '##icient', 'for', 'the', 'if', '##n', '-', 'dependent', 'transcription', 'factors', 'inter', '##fer', '##on', 'consensus', 'sequence', 'binding', 'protein', '(', 'ic', '##sb', '##p', ')', ',', 'inter', '##fer', '##on', 'regulatory', 'factor', '(', 'ir', '##f', ')', '1', 'or', '2', 'for', 'their', 'capacity', 'to', 'eliminate', 'lister', '##ia', 'in', 'vivo', 'and', 'in', 'vitro', 'and', 'for', 'production', 'of', 'ind', '##ucible', 'reactive', 'nitrogen', 'intermediate', '##s', '(', 'rn', '##i', ')', 'or', 'reactive', 'oxygen', 'intermediate', '##s', '(', 'roi', ')', 'in', 'macro', '##pha', '##ges', '.', 'ic', '##sb', '##p', '##−', '/', '−', 'and', 'to', 'a', 'lesser', 'degree', 'also', 'ir', '##f', '##2', '##−', '/', '−', 'mice', 'were', 'highly', 'susceptible', 'to', 'lister', '##ia', 'infection', '.', 'this', 'correlated', 'with', 'impaired', 'elimination', 'of', 'lister', '##ia', 'from', 'infected', 'per', '##ito', '##nea', '##l', 'macro', '##pha', '##ge', '(', 'pe', '##m', ')', 'cultures', 'stimulated', 'with', 'if', '##n', '-', 'γ', 'in', 'vitro', ';', 'in', 'addition', 'these', 'cultures', 'showed', 'reduced', 'and', 'delayed', 'ox', '##ida', '##tive', 'burst', 'upon', 'if', '##n', '-', 'γ', 'stimulation', ',', 'whereas', 'ni', '##tric', 'oxide', 'production', 'was', 'normal', '.', 'in', 'contrast', ',', 'mice', 'def', '##icient', 'for', 'ir', '##f', '##1', 'were', 'not', 'able', 'to', 'produce', 'ni', '##tric', 'oxide', ',', 'but', 'they', 'efficiently', 'controlled', 'lister', '##ia', 'in', 'vivo', 'and', 'in', 'vitro', '.', 'these', 'results', 'indicate', 'that', '(', 'a', ')', 'the', 'ic', '##sb', '##p', '/', 'ir', '##f', '##2', 'complex', 'is', 'essential', 'for', 'if', '##n', '-', 'γ', '–', 'mediated', 'protection', 'against', 'lister', '##ia', 'and', 'that', '(', 'b', ')', 'roi', 'together', 'with', 'additional', 'still', 'unknown', 'effect', '##or', 'mechanisms', 'may', 'be', 'responsible', 'for', 'the', 'anti', '-', 'lister', '##ia', 'activity', 'of', 'macro', '##pha', '##ges', ',', 'whereas', 'ir', '##f', '##1', '-', 'induced', 'rn', '##i', 'are', 'not', 'limiting', '.']\n",
      "cbm25: True q-bm25: ar: 0.0, ##gin: 0.0, ##ine: 0.0, 90: 0.0, in: 0.02, p: 2.55, ##15: 7.3, ##0: 4.88, ##n: 0.0, is: 0.32, important: 0.0, for: 0.27, interaction: 0.0, with: 0.27, e: 3.57, ##b: 3.77, ##1: 2.39, .: 0.0\n",
      "cos-sims: ar: 0.0, ##gin: 0.0, ##ine: 0.0, 90: 0.0, in: 0.49, p: 0.58, ##15: 0.56, ##0: 0.55, ##n: 0.0, is: 0.5, important: 0.0, for: 0.51, interaction: 0.0, with: 0.51, e: 0.55, ##b: 0.55, ##1: 0.54, .: 0.49\n",
      "t_doc: ['structural', 'basis', 'for', 'the', 'activation', 'of', 'micro', '##tub', '##ule', 'assembly', 'by', 'the', 'e', '##b', '##1', 'and', 'p', '##15', '##0', '##gl', '##ue', '##d', 'complex', '.', 'plus', '-', 'end', 'tracking', 'proteins', ',', 'such', 'as', 'e', '##b', '##1', 'and', 'the', 'd', '##yne', '##in', '/', 'd', '##yna', '##ct', '##in', 'complex', ',', 'regulate', 'micro', '##tub', '##ule', 'dynamics', '.', 'these', 'proteins', 'are', 'thought', 'to', 'stabilize', 'micro', '##tub', '##ules', 'by', 'forming', 'a', 'plus', '-', 'end', 'complex', 'at', 'micro', '##tub', '##ule', 'growing', 'ends', 'with', 'ill', '-', 'defined', 'mechanisms', '.', 'here', 'we', 'report', 'the', 'crystal', 'structure', 'of', 'two', 'plus', '-', 'end', 'complex', 'components', ',', 'the', 'car', '##box', '##y', '-', 'terminal', 'dime', '##rization', 'domain', 'of', 'e', '##b', '##1', 'and', 'the', 'micro', '##tub', '##ule', 'binding', '(', 'cap', '-', 'g', '##ly', ')', 'domain', 'of', 'the', 'd', '##yna', '##ct', '##in', 'subunit', 'p', '##15', '##0', '##gl', '##ue', '##d', '.', 'each', 'molecule', 'of', 'the', 'e', '##b', '##1', 'dime', '##r', 'contains', 'two', 'he', '##lices', 'forming', 'a', 'conserved', 'four', '-', 'helix', 'bundle', ',', 'while', 'also', 'providing', 'p', '##15', '##0', '##gl', '##ue', '##d', 'binding', 'sites', 'in', 'its', 'flexible', 'tail', 'region', '.', 'combining', 'crystal', '##log', '##raphy', ',', 'nm', '##r', ',', 'and', 'mutation', '##al', 'analyses', ',', 'our', 'studies', 'reveal', 'the', 'critical', 'interacting', 'elements', 'of', 'both', 'e', '##b', '##1', 'and', 'p', '##15', '##0', '##gl', '##ue', '##d', ',', 'whose', 'mutation', 'alter', '##s', 'micro', '##tub', '##ule', 'polymer', '##ization', 'activity', '.', 'moreover', ',', 'removal', 'of', 'the', 'key', 'flexible', 'tail', 'from', 'e', '##b', '##1', 'activate', '##s', 'micro', '##tub', '##ule', 'assembly', 'by', 'e', '##b', '##1', 'alone', ',', 'suggesting', 'that', 'the', 'flexible', 'tail', 'negatively', 'regulates', 'e', '##b', '##1', 'activity', '.', 'we', ',', 'therefore', ',', 'propose', 'that', 'e', '##b', '##1', 'possesses', 'an', 'auto', '-', 'inhibit', '##ed', 'conform', '##ation', ',', 'which', 'is', 'relieved', 'by', 'p', '##15', '##0', '##gl', '##ue', '##d', 'as', 'an', 'all', '##ost', '##eric', 'act', '##iva', '##tor', '.']\n",
      "------\n",
      "skip qid 1280\n",
      "------\n",
      "skip qid 1344\n",
      "------\n",
      "skip qid 183\n",
      "------\n",
      "qid: 198, query: CCL19 is absent within dLNs.\n",
      "lm_idf: ccl19: 6.94, absent: 4.75, within: 2.12, dln: 0.0\n",
      "hf_idf: cc: 4.2, ##l: 1.5, ##19: 4.33, is: 0.31, absent: 4.75, within: 2.12, dl: 4.97, ##ns: 2.59, .: 0.0\n",
      "---\n",
      "bm25: False q-bm25: ccl19: 6.75, absent: 0.0, within: 2.73, dln: 0.0\n",
      "hf-q-bm25: cc: 5.98, ##l: 1.43, ##19: 4.11, is: 0.29, absent: 0.0, within: 2.69, dl: 0.0, ##ns: 0.0, .: 0.0\n",
      "cos-sims: cc: 0.32, ##l: 0.33, ##19: 0.33, is: 0.32, absent: 0.0, within: 0.34, dl: 0.0, ##ns: 0.0, .: 0.3\n",
      "t_doc: ['sphingosin', '1', 'phosphat', 'receptor', 'agonist', 'fty720', 'modul', 'dendrit', 'cell', 'traffick', 'vivo', 'pro', 'drug', 'fty720', 'undergo', 'phase', 'iii', 'clinic', 'trial', 'prevent', 'allograft', 'reject', 'after', 'phosphoryl', 'fty720', 'target', 'g', 'protein', 'coupl', 'sphingosin', '1', 'phosphat', 'receptor', '1', 's1pr1', 'lymphocyt', 'therebi', 'inhibit', 'egress', 'from', 'lymphoid', 'organ', 'recircul', 'inflammatori', 'site', 'potenti', 'effect', 'dendrit', 'cell', 'dc', 'traffick', 'have', 'been', 'evalu', 'here', 'we', 'demonstr', 'express', 'all', 'five', 's1pr', 'subtyp', 's1pr1', '5', 'murin', 'dc', 'administr', 'fty720', 'c57bl', '10', 'mice', 'markedli', 'reduc', 'circul', 't', 'b', 'lymphocyt', 'within', '24', 'h', 'blood', 'born', 'dc', 'which', 'were', 'enhanc', 'significantli', 'up', '96', 'h', 'while', 'dc', 'lymph', 'node', 'spleen', 'were', 'reduc', 'number', 'adopt', 'transfer', 'fluorochrom', 'label', 'syngen', 'allogen', 'dc', 'blood', 'were', 'increas', 'significantli', 'fty720', 'treat', 'anim', 'while', 'donor', 'deriv', 'dc', 'allostimulatori', 'activ', 'host', 'naïv', 't', 'cell', 'within', 'spleen', 'were', 'reduc', 'administr', 'select', 's1pr1', 'agonist', 'sew2871', 'significantli', 'enhanc', 'circul', 'dc', 'number', 'flow', 'analysi', 'reveal', 'cd11b', 'cd31', 'pecam', '1', 'cd54', 'icam', '1', 'ccr7', 'express', 'blood', 'born', 'dc', 'downregul', 'follow', 'fty720', 'administr', 'transendotheli', 'migrat', 'fty720', 'p', 'treat', 'immatur', 'dc', 'ccr7', 'ligand', 'ccl19', 'reduc', 'novel', 'data', 'suggest', 'modul', 'dc', 'traffick', 'fty720', 'mai', 'contribut', 'it', 'immunosuppress', 'effect']\n",
      "dense: False q-bm25: cc: 0.0, ##l: 0.0, ##19: 0.0, is: 0.32, absent: 0.0, within: 0.0, dl: 0.0, ##ns: 0.0, .: 0.0\n",
      "t_doc: ['non', '##co', '##gna', '##te', 'interaction', 'with', 'm', '##hc', 'class', 'ii', 'molecules', 'is', 'essential', 'for', 'maintenance', 'of', 't', 'cell', 'metabolism', 'to', 'establish', 'optimal', 'memory', 'cd', '##4', 't', 'cell', 'function', '.', 'cd', '##4', 'memory', 't', 'cells', 'surviving', 'in', 'the', 'absence', 'of', 'm', '##hc', 'class', 'ii', 'contact', 'lose', 'their', 'characteristic', 'memory', 'function', '.', 'to', 'investigate', 'the', 'mechanisms', 'underlying', 'the', 'impaired', 'function', 'of', 'memory', 't', 'cells', 'in', 'the', 'absence', 'of', 'm', '##hc', 'class', 'ii', 'molecules', ',', 'we', 'analyzed', 'gene', 'expression', 'profiles', 'of', 'resting', 'memory', 't', 'cells', 'isolated', 'from', 'm', '##hc', 'class', 'ii', '-', 'competent', 'or', '-', 'def', '##icient', 'hosts', '.', 'the', 'analysis', 'focused', 'on', 'five', 'transcript', '##s', 'related', 'to', 't', 'cell', 'activation', ',', 'metabolism', ',', 'and', 'survival', 'that', 'are', 'under', '##ex', '##pressed', 'in', 'resting', 'memory', 't', 'cells', 'from', 'm', '##hc', 'class', 'ii', '-', 'def', '##icient', 'hosts', 'compared', 'with', 'm', '##hc', 'class', 'ii', '-', 'competent', 'hosts', '.', 'cd', '##4', 'memory', 'cells', 'isolated', 'from', 'm', '##hc', 'class', 'ii', '-', 'def', '##icient', 'hosts', 'display', 'alterations', 'in', 'their', 'degree', 'of', 'differentiation', 'as', 'well', 'as', 'metabolic', 'activity', ',', 'and', 'these', 'changes', 'are', 'already', 'manifest', 'in', 'the', 'effect', '##or', 'phase', 'despite', 'the', 'presence', 'of', 'ag', '-', 'expressing', 'den', '##dr', '##itic', 'cells', '.', 'our', 'data', 'suggest', 'that', 'the', 'absence', 'of', 'interactions', 'with', 'non', '##co', '##gna', '##te', 'm', '##hc', 'class', 'ii', 'molecules', 'compromise', '##s', 'the', 'progressive', 'accumulation', 'of', 'signals', 'that', 'ensure', 'optimal', 'survival', 'and', 'fitness', 'to', 'sustain', 'the', 'metabolic', 'activity', 'of', 'activated', 't', 'cells', 'and', 'shape', 'the', 'functional', 'capacity', 'of', 'the', 'future', 'memory', 'compartment', '.', 'signals', 'via', 'ak', '##t', 'coordinate', 'survival', 'and', 'metabolic', 'pathways', 'and', 'may', 'be', 'one', 'of', 'the', 'crucial', 'events', 'linking', 'interaction', 'with', 'm', '##hc', 'class', 'ii', 'molecules', 'to', 'the', 'successful', 'generation', 'of', 'a', 'long', '-', 'lived', 'functional', 'memory', 'cd', '##4', 't', 'cell', 'population', '.']\n",
      "wdense: False, q-bm25: cc: 0.0, ##l: 2.09, ##19: 0.0, is: 0.51, absent: 0.0, within: 0.0, dl: 0.0, ##ns: 0.0, .: 0.0\n",
      "t_doc: ['air', '-', '2', ':', 'an', 'aurora', '/', 'ip', '##l', '##1', '-', 'related', 'protein', 'kinase', 'associated', 'with', 'chromosomes', 'and', 'mid', '##body', 'micro', '##tub', '##ules', 'is', 'required', 'for', 'polar', 'body', 'ex', '##tr', '##usion', 'and', 'cy', '##tok', '##ines', '##is', 'in', 'ca', '##eno', '##rh', '##ab', '##dit', '##is', 'el', '##egan', '##s', 'embryo', '##s', 'an', 'emerging', 'family', 'of', 'kinase', '##s', 'related', 'to', 'the', 'dr', '##oso', '##phila', 'aurora', 'and', 'bud', '##ding', 'yeast', 'ip', '##l', '##1', 'proteins', 'has', 'been', 'implicated', 'in', 'chromosome', 'segregation', 'and', 'mit', '##otic', 'spin', '##dle', 'formation', 'in', 'a', 'number', 'of', 'organisms', '.', 'unlike', 'other', 'aurora', '/', 'ip', '##l', '##1', '-', 'related', 'kinase', '##s', ',', 'the', 'ca', '##eno', '##rh', '##ab', '##dit', '##is', 'el', '##egan', '##s', 'or', '##th', '##olo', '##gue', ',', 'air', '-', '2', ',', 'is', 'associated', 'with', 'mei', '##otic', 'and', 'mit', '##otic', 'chromosomes', '.', 'air', '-', '2', 'is', 'initially', 'localized', 'to', 'the', 'chromosomes', 'of', 'the', 'most', 'mature', 'prop', '##has', '##e', 'i', '–', 'arrested', 'o', '##oc', '##yte', 'residing', 'next', 'to', 'the', 'sperm', '##ath', '##eca', '.', 'this', 'local', '##ization', 'is', 'dependent', 'on', 'the', 'presence', 'of', 'sperm', 'in', 'the', 'sperm', '##ath', '##eca', '.', 'after', 'fe', '##rti', '##lization', ',', 'air', '-', '2', 'remains', 'associated', 'with', 'chromosomes', 'during', 'each', 'mei', '##otic', 'division', '.', 'however', ',', 'during', 'both', 'mei', '##otic', 'ana', '##pha', '##ses', ',', 'air', '-', '2', 'is', 'present', 'between', 'the', 'separating', 'chromosomes', '.', 'air', '-', '2', 'also', 'remains', 'associated', 'with', 'both', 'ex', '##tr', '##uded', 'polar', 'bodies', '.', 'in', 'the', 'embryo', ',', 'air', '-', '2', 'is', 'found', 'on', 'meta', '##pha', '##se', 'chromosomes', ',', 'moves', 'to', 'mid', '##body', 'micro', '##tub', '##ules', 'at', 'ana', '##pha', '##se', ',', 'and', 'then', 'persist', '##s', 'at', 'the', 'cy', '##tok', '##ines', '##is', 'remnant', '.', 'disruption', 'of', 'air', '-', '2', 'expression', 'by', 'rna', '-', 'mediated', 'interference', 'produces', 'entire', 'brood', '##s', 'of', 'one', '-', 'cell', 'embryo', '##s', 'that', 'have', 'executed', 'multiple', 'cell', 'cycles', 'in', 'the', 'complete', 'absence', 'of', 'cy', '##tok', '##ines', '##is', '.', 'the', 'embryo', '##s', 'accumulate', 'large', 'amounts', 'of', 'dna', 'and', 'micro', '##tub', '##ule', 'as', '##ters', '.', 'polar', 'bodies', 'are', 'not', 'ex', '##tr', '##uded', ',', 'but', 'remain', 'in', 'the', 'embryo', 'where', 'they', 'continue', 'to', 'replicate', '.', 'the', 'cy', '##tok', '##ines', '##is', 'defect', 'appears', 'to', 'be', 'late', 'in', 'the', 'cell', 'cycle', 'because', 'transient', 'cleavage', 'fur', '##row', '##s', 'initiate', 'at', 'the', 'proper', 'location', ',', 'but', 'reg', '##ress', 'before', 'the', 'division', 'is', 'complete', '.', 'additionally', ',', 'stain', '##ing', 'with', 'a', 'marker', 'of', 'mid', '##body', 'micro', '##tub', '##ules', 'revealed', 'that', 'at', 'least', 'some', 'of', 'the', 'components', 'of', 'the', 'mid', '##body', 'are', 'not', 'well', 'localized', 'in', 'the', 'absence', 'of', 'air', '-', '2', 'activity', '.', 'our', 'results', 'suggest', 'that', 'during', 'each', 'mei', '##otic', 'and', 'mit', '##otic', 'division', ',', 'air', '-', '2', 'may', 'coordinate', 'the', 'congress', '##ion', 'of', 'meta', '##pha', '##se', 'chromosomes', 'with', 'the', 'subsequent', 'events', 'of', 'polar', 'body', 'ex', '##tr', '##usion', 'and', 'cy', '##tok', '##ines', '##is', '.']\n",
      "cbm25: True q-bm25: cc: 7.32, ##l: 2.46, ##19: 4.57, is: 0.0, absent: 0.0, within: 2.24, dl: 0.0, ##ns: 0.0, .: 0.0\n",
      "cos-sims: cc: 0.42, ##l: 0.42, ##19: 0.39, is: 0.0, absent: 0.0, within: 0.33, dl: 0.0, ##ns: 0.0, .: 0.36\n",
      "t_doc: ['im', '##mo', '##bil', '##ized', 'che', '##mo', '##kin', '##e', 'fields', 'and', 'soluble', 'che', '##mo', '##kin', '##e', 'gradient', '##s', 'cooperative', '##ly', 'shape', 'migration', 'patterns', 'of', 'den', '##dr', '##itic', 'cells', '.', 'che', '##mo', '##kin', '##es', 'orchestra', '##te', 'immune', 'cell', 'trafficking', 'by', 'eli', '##cit', '##ing', 'either', 'directed', 'or', 'random', 'migration', 'and', 'by', 'act', '##ivating', 'int', '##eg', '##rin', '##s', 'in', 'order', 'to', 'induce', 'cell', 'ad', '##hesion', '.', 'analyzing', 'den', '##dr', '##itic', 'cell', '(', 'dc', ')', 'migration', ',', 'we', 'showed', 'that', 'these', 'distinct', 'cellular', 'responses', 'depended', 'on', 'the', 'mode', 'of', 'che', '##mo', '##kin', '##e', 'presentation', 'within', 'tissues', '.', 'the', 'surface', '-', 'im', '##mo', '##bil', '##ized', 'form', 'of', 'the', 'che', '##mo', '##kin', '##e', 'cc', '##l', '##21', ',', 'the', 'he', '##para', '##n', 'sulfate', '-', 'anchor', '##ing', 'ligand', 'of', 'the', 'cc', '-', 'che', '##mo', '##kin', '##e', 'receptor', '7', '(', 'cc', '##r', '##7', ')', ',', 'caused', 'random', 'movement', 'of', 'dc', '##s', 'that', 'was', 'confined', 'to', 'the', 'che', '##mo', '##kin', '##e', '-', 'presenting', 'surface', 'because', 'it', 'triggered', 'int', '##eg', '##rin', '-', 'mediated', 'ad', '##hesion', '.', 'upon', 'direct', 'contact', 'with', 'cc', '##l', '##21', ',', 'dc', '##s', 'truncated', 'the', 'anchor', '##ing', 'residues', 'of', 'cc', '##l', '##21', ',', 'thereby', 'releasing', 'it', 'from', 'the', 'solid', 'phase', '.', 'soluble', 'cc', '##l', '##21', 'functional', '##ly', 'resembles', 'the', 'second', 'cc', '##r', '##7', 'ligand', ',', 'cc', '##l', '##19', ',', 'which', 'lacks', 'anchor', '##ing', 'residues', 'and', 'forms', 'soluble', 'gradient', '##s', '.', 'both', 'soluble', 'cc', '##r', '##7', 'ligand', '##s', 'triggered', 'che', '##mot', '##actic', 'movement', ',', 'but', 'not', 'surface', 'ad', '##hesion', '.', 'ad', '##hesive', 'random', 'migration', 'and', 'directional', 'steering', 'cooperate', 'to', 'produce', 'dynamic', 'but', 'spatial', '##ly', 'restricted', 'loco', '##mot', '##ion', 'patterns', 'closely', 'resembling', 'the', 'cellular', 'dynamics', 'observed', 'in', 'secondary', 'l', '##ym', '##ph', '##oid', 'organs', '.']\n",
      "------\n",
      "qid: 294, query: Crossover hot spots are not found within gene promoters in Saccharomyces cerevisiae.\n",
      "lm_idf: crossov: 6.25, hot: 6.61, spot: 6.61, found: 1.84, within: 2.12, gene: 1.4, promot: 2.04, saccharomyc: 4.25, cerevisia: 4.17\n",
      "hf_idf: crossover: 6.25, hot: 5.3, spots: 7.45, are: 0.62, not: 1.04, found: 1.85, within: 2.12, gene: 1.69, promoters: 4.3, in: 0.02, sac: 4.09, ##cha: 3.44, ##rom: 2.14, ##yce: 4.13, ##s: 0.32, ce: 3.14, ##re: 1.92, ##vis: 3.98, ##iae: 4.15, .: 0.0\n",
      "---\n",
      "bm25: False q-bm25: crossov: 8.59, hot: 7.12, spot: 7.12, found: 0.0, within: 0.0, gene: 0.0, promot: 0.0, saccharomyc: 0.0, cerevisia: 0.0\n",
      "hf-q-bm25: crossover: 8.66, hot: 5.78, spots: 0.0, are: 0.86, not: 1.13, found: 0.0, within: 0.0, gene: 0.0, promoters: 0.0, in: 0.03, sac: 0.0, ##cha: 0.0, ##rom: 0.0, ##yce: 0.0, ##s: 0.54, ce: 0.0, ##re: 0.0, ##vis: 0.0, ##iae: 0.0, .: 0.0\n",
      "cos-sims: crossover: 0.52, hot: 0.51, spots: 0.0, are: 0.47, not: 0.45, found: 0.0, within: 0.0, gene: 0.0, promoters: 0.0, in: 0.51, sac: 0.0, ##cha: 0.0, ##rom: 0.0, ##yce: 0.0, ##s: 0.5, ce: 0.0, ##re: 0.0, ##vis: 0.0, ##iae: 0.0, .: 0.47\n",
      "t_doc: ['crossov', 'noncrossov', 'pathwai', 'mous', 'meiosi', 'dure', 'meiosi', 'recombin', 'between', 'homolog', 'chromosom', 'gener', 'crossov', 'cr', 'noncrossov', 'ncr', 'product', 'cr', 'establish', 'connect', 'between', 'homolog', 'wherea', 'intermedi', 'lead', 'ncr', 'have', 'been', 'propos', 'particip', 'homolog', 'pair', 'how', 'event', 'differenti', 'regul', 'remain', 'determin', 'we', 'have', 'develop', 'strategi', 'detect', 'quantifi', 'map', 'ncr', 'parallel', 'cr', 'psmb9', 'meiotic', 'recombin', 'hot', 'spot', 'male', 'femal', 'mous', 'germ', 'line', 'our', 'result', 'report', 'direct', 'molecular', 'evid', 'distinct', 'cr', 'ncr', 'pathwai', 'dna', 'doubl', 'strand', 'break', 'dsb', 'repair', 'mous', 'meiosi', 'base', 'three', 'observ', 'both', 'cr', 'ncr', 'requir', 'spo11', 'ncr', 'product', 'have', 'shorter', 'convers', 'tract', 'than', 'cr', 'onli', 'cr', 'requir', 'mutl', 'homolog', 'mlh1', 'we', 'show', 'both', 'product', 'form', 'from', 'middl', 'late', 'pachyten', 'meiotic', 'prophas', 'provid', 'evid', 'mlh1', 'independ', 'cr', 'pathwai', 'where', 'mismatch', 'repair', 'doe', 'requir', 'mlh1']\n",
      "dense: False q-bm25: crossover: 0.0, hot: 9.38, spots: 0.0, are: 0.63, not: 1.05, found: 0.0, within: 0.0, gene: 1.71, promoters: 0.0, in: 0.03, sac: 0.0, ##cha: 0.0, ##rom: 0.0, ##yce: 0.0, ##s: 0.0, ce: 0.0, ##re: 0.0, ##vis: 0.0, ##iae: 0.0, .: 0.0\n",
      "t_doc: ['sperm', 'cross', '-', 'over', 'activity', 'in', 'regions', 'of', 'the', 'human', 'genome', 'showing', 'extreme', 'breakdown', 'of', 'marker', 'association', '.', 'population', 'diversity', 'data', 'have', 'recently', 'provided', 'profound', ',', 'albeit', 'in', '##fer', '##ential', ',', 'insights', 'into', 'mei', '##otic', 'rec', '##om', '##bina', '##tion', 'across', 'the', 'human', 'genome', ',', 'revealing', 'a', 'landscape', 'dominated', 'by', 'thousands', 'of', 'cross', '-', 'over', 'hot', '##sp', '##ots', '.', 'however', ',', 'very', 'few', 'of', 'these', 'put', '##ative', 'hot', '##sp', '##ots', 'have', 'been', 'directly', 'analyzed', 'for', 'cross', '-', 'over', 'activity', '.', 'we', 'now', 'describe', 'a', 'search', 'for', 'very', 'active', 'hot', '##sp', '##ots', ',', 'by', 'using', 'extreme', 'breakdown', 'of', 'marker', 'association', 'as', 'a', 'guide', 'for', 'high', '-', 'resolution', 'sperm', 'cross', '-', 'over', 'analysis', '.', 'this', 'strategy', 'has', 'led', 'to', 'the', 'isolation', 'of', 'the', 'most', 'active', 'cross', '-', 'over', 'hot', '##sp', '##ots', 'yet', 'described', '.', 'their', 'morphology', ',', 'sequence', 'attributes', ',', 'and', 'cross', '-', 'over', 'processes', 'are', 'very', 'similar', 'to', 'those', 'seen', 'at', 'less', 'active', 'hot', '##sp', '##ots', ',', 'but', 'their', 'activity', 'in', 'sperm', 'is', 'poorly', 'predicted', 'from', 'population', 'diversity', 'information', '.', 'several', 'of', 'these', 'hot', '##sp', '##ots', 'showed', 'evidence', 'for', 'biased', 'gene', 'conversion', 'accompanying', 'cross', '-', 'over', ',', 'in', 'some', 'cases', 'associated', 'with', 'variation', 'between', 'men', 'in', 'cross', '-', 'over', 'activity', 'and', 'with', 'two', 'hot', '##sp', '##ots', 'showing', 'complete', 'presence', '/', 'absence', 'poly', '##morphism', 'in', 'different', 'men', '.', 'hot', '##sp', '##ot', 'poly', '##morphism', 'is', 'very', 'common', 'at', 'less', 'active', 'hot', '##sp', '##ots', 'but', 'curiously', 'was', 'not', 'seen', 'at', 'any', 'of', 'the', 'most', 'active', 'hot', '##sp', '##ots', '.', 'this', 'contrasts', 'with', 'the', 'prediction', 'that', 'extreme', 'hot', '##sp', '##ots', 'should', 'be', 'the', 'most', 'vulnerable', 'to', 'at', '##ten', '##uation', 'by', 'mei', '##otic', 'drive', 'in', 'favor', 'of', 'mutations', 'that', 'suppress', 'rec', '##om', '##bina', '##tion', 'and', 'should', 'therefore', 'show', 'rapid', 'rate', 'evolution', 'and', 'thus', 'variation', 'in', 'activity', 'between', 'men', '.', 'finally', ',', 'these', 'very', 'intense', 'hot', '##sp', '##ots', 'provide', 'a', 'valuable', 'resource', 'for', 'di', '##sse', '##cting', 'mei', '##otic', 'rec', '##om', '##bina', '##tion', 'processes', 'and', 'pathways', 'in', 'humans', '.']\n",
      "wdense: False, q-bm25: crossover: 10.41, hot: 9.1, spots: 0.0, are: 0.0, not: 0.0, found: 0.0, within: 0.0, gene: 2.5, promoters: 0.0, in: 0.03, sac: 0.0, ##cha: 0.0, ##rom: 0.0, ##yce: 0.0, ##s: 0.49, ce: 0.0, ##re: 0.0, ##vis: 0.0, ##iae: 0.0, .: 0.0\n",
      "t_doc: ['high', '-', 'resolution', 'sperm', 'typing', 'of', 'mei', '##otic', 'rec', '##om', '##bina', '##tion', 'in', 'the', 'mouse', 'm', '##hc', 'e', '##bet', '##a', 'gene', '.', 'mei', '##otic', 'crossover', '##s', 'detected', 'by', 'pe', '##di', '##gree', 'analysis', 'in', 'the', 'mouse', 'm', '##hc', 'cluster', 'into', 'hot', '##sp', '##ots', '.', 'to', 'explore', 'the', 'properties', 'of', 'hot', '##sp', '##ots', ',', 'we', 'subjected', 'the', 'class', 'ii', 'e', '(', 'beta', ')', 'gene', 'to', 'high', '-', 'resolution', 'sperm', 'crossover', 'analysis', '.', 'we', 'confirm', 'the', 'presence', 'of', 'a', 'highly', 'localized', 'hot', '##sp', '##ot', '1', '.', '0', '-', '1', '.', '6', 'kb', 'wide', 'in', 'the', 'second', 'intro', '##n', 'of', 'e', '(', 'beta', ')', 'and', 'show', 'that', 'it', 'is', 'flanked', 'by', 'dna', 'which', 'is', 'almost', 'completely', 'rec', '##om', '##bina', '##tion', '##ally', 'in', '##ert', '.', 'mice', 'het', '##ero', '##zy', '##go', '##us', 'for', 'ha', '##pl', '##otype', 's', 'and', 'another', 'm', '##hc', 'ha', '##pl', '##otype', 'show', 'major', 'ha', '##pl', '##otype', '-', 'depend', '##ant', 'variation', 'in', 'crossover', 'rate', 'but', 'always', 'the', 'same', 'hot', '##sp', '##ot', ',', 'even', 'in', 'crosses', 'including', 'the', 'highly', 'diver', '##ged', 'p', 'ha', '##pl', '##otype', '.', 'crossover', '##s', 'in', 'reciprocal', 'orientation', '##s', 'occur', 'at', 'similar', 'rates', 'but', 'show', 'different', 'distributions', 'across', 'the', 'hot', '##sp', '##ot', ',', 'with', 'the', 'position', 'of', 'centre', 'points', 'in', 'the', 'two', 'orientation', '##s', 'shifted', 'on', 'average', 'by', '400', 'bp', '.', 'this', 'as', '##ym', '##metry', 'results', 'in', 'crossover', 'products', 'showing', 'biased', 'gene', 'conversion', 'in', 'favour', 'of', 'hot', '##sp', '##ot', 'markers', 'from', 'the', 'non', '-', 'initiating', 'ha', '##pl', '##otype', ',', 'and', 'supports', 'the', 'double', '-', 'strand', 'break', 'repair', 'model', 'of', 'rec', '##om', '##bina', '##tion', ',', 'with', 'ha', '##pl', '##otype', 's', 'as', 'the', 'most', 'efficient', 'crossover', 'in', '##itia', '##tor', '.', 'the', 'detailed', 'behaviour', 'of', 'the', 'e', '(', 'beta', ')', 'hot', '##sp', '##ot', ',', 'including', 'evidence', 'for', 'highly', 'localized', 'rec', '##om', '##bina', '##tion', 'initiation', ',', 'is', 'striking', '##ly', 'similar', 'to', 'human', 'hot', '##sp', '##ots', '.']\n",
      "cbm25: True q-bm25: crossover: 0.0, hot: 6.75, spots: 7.15, are: 0.98, not: 1.0, found: 0.0, within: 0.0, gene: 0.0, promoters: 0.0, in: 0.03, sac: 3.92, ##cha: 3.3, ##rom: 2.06, ##yce: 3.97, ##s: 0.52, ce: 3.01, ##re: 1.84, ##vis: 3.82, ##iae: 3.98, .: 0.0\n",
      "cos-sims: crossover: 0.0, hot: 0.53, spots: 0.53, are: 0.52, not: 0.52, found: 0.0, within: 0.0, gene: 0.0, promoters: 0.0, in: 0.57, sac: 0.59, ##cha: 0.61, ##rom: 0.63, ##yce: 0.64, ##s: 0.63, ce: 0.63, ##re: 0.63, ##vis: 0.59, ##iae: 0.59, .: 0.52\n",
      "t_doc: ['mapping', 'mei', '##otic', 'single', '-', 'strand', 'dna', 'reveals', 'a', 'new', 'landscape', 'of', 'dna', 'double', '-', 'strand', 'breaks', 'in', 'sac', '##cha', '##rom', '##yce', '##s', 'ce', '##re', '##vis', '##iae', 'dna', 'double', '-', 'strand', 'breaks', '(', 'ds', '##bs', ')', ',', 'which', 'are', 'formed', 'by', 'the', 'sp', '##o', '##11', 'protein', ',', 'initiate', 'mei', '##otic', 'rec', '##om', '##bina', '##tion', '.', 'previous', 'ds', '##b', '-', 'mapping', 'studies', 'have', 'used', 'ra', '##d', '##50', '##s', 'or', 'sa', '##e', '##2', '##δ', 'mutants', ',', 'which', 'are', 'defective', 'in', 'break', 'processing', ',', 'to', 'accumulate', 'sp', '##o', '##11', '-', 'linked', 'ds', '##bs', ',', 'and', 'report', 'large', '(', '≥', '50', 'kb', ')', '“', 'ds', '##b', '-', 'hot', '”', 'regions', 'that', 'are', 'separated', 'by', '“', 'ds', '##b', '-', 'cold', '”', 'domains', 'of', 'similar', 'size', '.', 'substantial', 'rec', '##om', '##bina', '##tion', 'occurs', 'in', 'some', 'ds', '##b', '-', 'cold', 'regions', ',', 'suggesting', 'that', 'ds', '##b', 'patterns', 'are', 'not', 'normal', 'in', 'ra', '##d', '##50', '##s', 'or', 'sa', '##e', '##2', '##δ', 'mutants', '.', 'we', 'therefore', 'developed', 'a', 'novel', 'method', 'to', 'map', 'genome', '-', 'wide', ',', 'single', '-', 'strand', 'dna', '(', 'ss', '##dna', ')', '–', 'associated', 'ds', '##bs', 'that', 'accumulate', 'in', 'processing', '-', 'capable', ',', 'repair', '-', 'defective', 'd', '##mc', '##1', '##δ', 'and', 'd', '##mc', '##1', '##δ', 'ra', '##d', '##51', '##δ', 'mutants', '.', 'ds', '##bs', 'were', 'observed', 'at', 'known', 'hot', 'spots', ',', 'but', 'also', 'in', 'most', 'previously', 'identified', '“', 'ds', '##b', '-', 'cold', '”', 'regions', ',', 'including', 'near', 'centro', '##mere', '##s', 'and', 'tel', '##ome', '##res', '.', 'although', 'approximately', '40', '%', 'of', 'the', 'genome', 'is', 'ds', '##b', '-', 'cold', 'in', 'ra', '##d', '##50', '##s', 'mutants', ',', 'analysis', 'of', 'mei', '##otic', 'ss', '##dna', 'from', 'd', '##mc', '##1', '##δ', 'shows', 'that', 'most', 'of', 'these', 'regions', 'have', 'substantial', 'ds', '##b', 'activity', '.', 'southern', 'b', '##lot', 'ass', '##ays', 'of', 'ds', '##bs', 'in', 'selected', 'regions', 'in', 'd', '##mc', '##1', '##δ', ',', 'ra', '##d', '##50', '##s', ',', 'and', 'wild', '-', 'type', 'cells', 'confirm', 'these', 'findings', '.', 'thus', ',', 'ds', '##bs', 'are', 'distributed', 'much', 'more', 'uniformly', 'than', 'was', 'previously', 'believed', '.', 'comparisons', 'of', 'ds', '##b', 'signals', 'in', 'd', '##mc', '##1', ',', 'd', '##mc', '##1', 'ra', '##d', '##51', ',', 'and', 'd', '##mc', '##1', 'sp', '##o', '##11', 'mutant', 'strains', 'identify', 'd', '##mc', '##1', 'as', 'a', 'critical', 'strand', '-', 'exchange', 'activity', 'genome', '-', 'wide', ',', 'and', 'confirm', 'previous', 'conclusions', 'that', 'sp', '##o', '##11', '-', 'induced', 'lesions', 'initiate', 'all', 'mei', '##otic', 'rec', '##om', '##bina', '##tion', '.']\n",
      "------\n",
      "qid: 3, query: 1,000 genomes project enables mapping of genetic sequence variation consisting of rare variants with larger penetrance effects than common variants.\n",
      "lm_idf: 1,000: 5.78, genom: 2.33, project: 4.26, enabl: 3.56, map: 3.58, genet: 2.26, sequenc: 2.53, variat: 3.47, consist: 2.63, rare: 4.03, variant: 3.6, larger: 3.93, penetr: 5.22, effect: 1.3, than: 1.54, common: 2.52, variant: 3.6\n",
      "hf_idf: 1: 1.07, ,: 0.01, 000: 3.16, genome: 2.58, ##s: 0.32, project: 4.84, enables: 4.66, mapping: 4.6, of: 0.0, genetic: 2.43, sequence: 3.05, variation: 3.7, consisting: 4.77, of: 0.0, rare: 4.32, variants: 4.17, with: 0.26, larger: 3.93, pen: 5.09, ##et: 3.62, ##rance: 6.76, effects: 1.94, than: 1.54, common: 2.52, variants: 4.17, .: 0.0\n",
      "---\n",
      "bm25: False q-bm25: 1,000: 0.0, genom: 0.0, project: 0.0, enabl: 0.0, map: 0.0, genet: 2.83, sequenc: 3.82, variat: 3.23, consist: 0.0, rare: 5.69, variant: 5.07, larger: 0.0, penetr: 0.0, effect: 1.62, than: 0.0, common: 3.15, variant: 5.07\n",
      "hf-q-bm25: 1: 1.61, ,: 0.01, 000: 0.0, genome: 0.0, ##s: 0.0, project: 0.0, enables: 0.0, mapping: 0.0, of: 0.0, genetic: 3.04, sequence: 0.0, variation: 3.45, consisting: 0.0, of: 0.0, rare: 6.1, variants: 5.22, with: 0.43, larger: 0.0, pen: 0.0, ##et: 0.0, ##rance: 0.0, effects: 0.0, than: 0.0, common: 3.15, variants: 5.22, .: 0.0\n",
      "cos-sims: 1: 0.43, ,: 0.45, 000: 0.0, genome: 0.0, ##s: 0.0, project: 0.0, enables: 0.0, mapping: 0.0, of: 0.55, genetic: 0.55, sequence: 0.0, variation: 0.53, consisting: 0.0, rare: 0.55, variants: 0.55, with: 0.51, larger: 0.0, pen: 0.0, ##et: 0.0, ##rance: 0.0, effects: 0.0, than: 0.0, common: 0.55, .: 0.51\n",
      "t_doc: ['mosaic', 'ppm1d', 'mutat', 'associ', 'predisposit', 'breast', 'ovarian', 'cancer', 'improv', 'sequenc', 'technolog', 'offer', 'unpreced', 'opportun', 'investig', 'role', 'rare', 'genet', 'variat', 'common', 'diseas', 'howev', 'consider', 'challeng', 'respect', 'studi', 'design', 'data', 'analysi', 'replic', 'us', 'pool', 'next', 'gener', 'sequenc', '507', 'gene', 'implic', 'repair', 'dna', '1,150', 'sampl', 'analyt', 'strategi', 'focus', 'protein', 'truncat', 'variant', 'ptv', 'larg', 'scale', 'sequenc', 'case', 'control', 'replic', 'experi', '13,642', 'individu', 'here', 'we', 'show', 'rare', 'ptv', 'p53', 'induc', 'protein', 'phosphatas', 'ppm1d', 'associ', 'predisposit', 'breast', 'cancer', 'ovarian', 'cancer', 'ppm1d', 'ptv', 'mutat', 'were', 'present', '25', 'out', '7,781', 'case', 'versu', '1', 'out', '5,861', 'control', 'p', '1.12', '10', '5', 'includ', '18', 'mutat', '6,912', 'individu', 'breast', 'cancer', 'p', '2.42', '10', '4', '12', 'mutat', '1,121', 'individu', 'ovarian', 'cancer', 'p', '3.10', '10', '9', 'notabl', 'all', 'identifi', 'ppm1d', 'ptv', 'were', 'mosaic', 'lymphocyt', 'dna', 'cluster', 'within', '370', 'base', 'pair', 'region', 'final', 'exon', 'gene', 'carboxi', 'termin', 'phosphatas', 'catalyt', 'domain', 'function', 'studi', 'demonstr', 'mutat', 'result', 'enhanc', 'suppress', 'p53', 'respons', 'ioniz', 'radiat', 'exposur', 'suggest', 'mutant', 'allel', 'encod', 'hyperact', 'ppm1d', 'isoform', 'thu', 'although', 'mutat', 'caus', 'prematur', 'protein', 'truncat', 'do', 'result', 'simpl', 'loss', 'function', 'effect', 'typic', 'associ', 'class', 'variant', 'instead', 'probabl', 'have', 'gain', 'function', 'effect', 'our', 'result', 'have', 'implic', 'detect', 'manag', 'breast', 'ovarian', 'cancer', 'risk', 'more', 'gener', 'data', 'provid', 'new', 'insight', 'role', 'rare', 'mosaic', 'genet', 'variant', 'common', 'condit', 'us', 'sequenc', 'identif']\n",
      "dense: False q-bm25: 1: 0.0, ,: 0.01, 000: 0.0, genome: 0.0, ##s: 0.5, project: 6.54, enables: 0.0, mapping: 0.0, of: 0.0, genetic: 3.28, sequence: 3.19, variation: 6.19, consisting: 0.0, of: 0.0, rare: 0.0, variants: 0.0, with: 0.28, larger: 0.0, pen: 0.0, ##et: 0.0, ##rance: 0.0, effects: 0.0, than: 2.09, common: 0.0, variants: 0.0, .: 0.0\n",
      "t_doc: ['understanding', 'mechanisms', 'underlying', 'human', 'gene', 'expression', 'variation', 'with', 'rna', 'sequencing', 'understanding', 'the', 'genetic', 'mechanisms', 'underlying', 'natural', 'variation', 'in', 'gene', 'expression', 'is', 'a', 'central', 'goal', 'of', 'both', 'medical', 'and', 'evolutionary', 'genetics', ',', 'and', 'studies', 'of', 'expression', 'quantitative', 'trait', 'lo', '##ci', '(', 'e', '##q', '##tl', '##s', ')', 'have', 'become', 'an', 'important', 'tool', 'for', 'achieving', 'this', 'goal', '.', 'although', 'all', 'e', '##q', '##tl', 'studies', 'so', 'far', 'have', 'ass', '##ay', '##ed', 'messenger', 'rna', 'levels', 'using', 'expression', 'micro', '##ar', '##ray', '##s', ',', 'recent', 'advances', 'in', 'rna', 'sequencing', 'enable', 'the', 'analysis', 'of', 'transcript', 'variation', 'at', 'unprecedented', 'resolution', '.', 'we', 'sequence', '##d', 'rna', 'from', '69', 'l', '##ym', '##ph', '##ob', '##las', '##to', '##id', 'cell', 'lines', 'derived', 'from', 'unrelated', 'nigerian', 'individuals', 'that', 'have', 'been', 'extensively', 'gen', '##otype', '##d', 'by', 'the', 'international', 'ha', '##pm', '##ap', 'project', '.', 'by', 'pool', '##ing', 'data', 'from', 'all', 'individuals', ',', 'we', 'generated', 'a', 'map', 'of', 'the', 'transcription', '##al', 'landscape', 'of', 'these', 'cells', ',', 'identifying', 'extensive', 'use', 'of', 'una', '##nn', '##ota', '##ted', 'un', '##tra', '##ns', '##lated', 'regions', 'and', 'more', 'than', '100', 'new', 'put', '##ative', 'protein', '-', 'coding', 'ex', '##ons', '.', 'using', 'the', 'gen', '##otype', '##s', 'from', 'the', 'ha', '##pm', '##ap', 'project', ',', 'we', 'identified', 'more', 'than', 'a', 'thousand', 'genes', 'at', 'which', 'genetic', 'variation', 'influences', 'overall', 'expression', 'levels', 'or', 'sp', '##lic', '##ing', '.', 'we', 'demonstrate', 'that', 'e', '##q', '##tl', '##s', 'near', 'genes', 'generally', 'act', 'by', 'a', 'mechanism', 'involving', 'all', '##ele', '-', 'specific', 'expression', ',', 'and', 'that', 'variation', 'that', 'influences', 'the', 'inclusion', 'of', 'an', 'ex', '##on', 'is', 'enriched', 'within', 'and', 'near', 'the', 'consensus', 'sp', '##lice', 'sites', '.', 'our', 'results', 'illustrate', 'the', 'power', 'of', 'high', '-', 'through', '##put', 'sequencing', 'for', 'the', 'joint', 'analysis', 'of', 'variation', 'in', 'transcription', ',', 'sp', '##lic', '##ing', 'and', 'all', '##ele', '-', 'specific', 'expression', 'across', 'individuals', '.']\n",
      "wdense: False, q-bm25: 1: 0.0, ,: 0.01, 000: 0.0, genome: 0.0, ##s: 0.5, project: 6.54, enables: 0.0, mapping: 0.0, of: 0.0, genetic: 3.28, sequence: 3.19, variation: 6.19, consisting: 0.0, of: 0.0, rare: 0.0, variants: 0.0, with: 0.28, larger: 0.0, pen: 0.0, ##et: 0.0, ##rance: 0.0, effects: 0.0, than: 2.09, common: 0.0, variants: 0.0, .: 0.0\n",
      "t_doc: ['understanding', 'mechanisms', 'underlying', 'human', 'gene', 'expression', 'variation', 'with', 'rna', 'sequencing', 'understanding', 'the', 'genetic', 'mechanisms', 'underlying', 'natural', 'variation', 'in', 'gene', 'expression', 'is', 'a', 'central', 'goal', 'of', 'both', 'medical', 'and', 'evolutionary', 'genetics', ',', 'and', 'studies', 'of', 'expression', 'quantitative', 'trait', 'lo', '##ci', '(', 'e', '##q', '##tl', '##s', ')', 'have', 'become', 'an', 'important', 'tool', 'for', 'achieving', 'this', 'goal', '.', 'although', 'all', 'e', '##q', '##tl', 'studies', 'so', 'far', 'have', 'ass', '##ay', '##ed', 'messenger', 'rna', 'levels', 'using', 'expression', 'micro', '##ar', '##ray', '##s', ',', 'recent', 'advances', 'in', 'rna', 'sequencing', 'enable', 'the', 'analysis', 'of', 'transcript', 'variation', 'at', 'unprecedented', 'resolution', '.', 'we', 'sequence', '##d', 'rna', 'from', '69', 'l', '##ym', '##ph', '##ob', '##las', '##to', '##id', 'cell', 'lines', 'derived', 'from', 'unrelated', 'nigerian', 'individuals', 'that', 'have', 'been', 'extensively', 'gen', '##otype', '##d', 'by', 'the', 'international', 'ha', '##pm', '##ap', 'project', '.', 'by', 'pool', '##ing', 'data', 'from', 'all', 'individuals', ',', 'we', 'generated', 'a', 'map', 'of', 'the', 'transcription', '##al', 'landscape', 'of', 'these', 'cells', ',', 'identifying', 'extensive', 'use', 'of', 'una', '##nn', '##ota', '##ted', 'un', '##tra', '##ns', '##lated', 'regions', 'and', 'more', 'than', '100', 'new', 'put', '##ative', 'protein', '-', 'coding', 'ex', '##ons', '.', 'using', 'the', 'gen', '##otype', '##s', 'from', 'the', 'ha', '##pm', '##ap', 'project', ',', 'we', 'identified', 'more', 'than', 'a', 'thousand', 'genes', 'at', 'which', 'genetic', 'variation', 'influences', 'overall', 'expression', 'levels', 'or', 'sp', '##lic', '##ing', '.', 'we', 'demonstrate', 'that', 'e', '##q', '##tl', '##s', 'near', 'genes', 'generally', 'act', 'by', 'a', 'mechanism', 'involving', 'all', '##ele', '-', 'specific', 'expression', ',', 'and', 'that', 'variation', 'that', 'influences', 'the', 'inclusion', 'of', 'an', 'ex', '##on', 'is', 'enriched', 'within', 'and', 'near', 'the', 'consensus', 'sp', '##lice', 'sites', '.', 'our', 'results', 'illustrate', 'the', 'power', 'of', 'high', '-', 'through', '##put', 'sequencing', 'for', 'the', 'joint', 'analysis', 'of', 'variation', 'in', 'transcription', ',', 'sp', '##lic', '##ing', 'and', 'all', '##ele', '-', 'specific', 'expression', 'across', 'individuals', '.']\n",
      "cbm25: True q-bm25: 1: 0.0, ,: 0.01, 000: 3.12, genome: 4.13, ##s: 0.31, project: 0.0, enables: 0.0, mapping: 0.0, of: 0.0, genetic: 3.15, sequence: 0.0, variation: 0.0, consisting: 0.0, of: 0.0, rare: 6.27, variants: 6.86, with: 0.38, larger: 0.0, pen: 0.0, ##et: 0.0, ##rance: 0.0, effects: 0.0, than: 1.52, common: 4.14, variants: 6.86, .: 0.0\n",
      "cos-sims: 1: 0.0, ,: 0.55, 000: 0.56, genome: 0.54, ##s: 0.47, project: 0.0, enables: 0.0, mapping: 0.0, of: 0.54, genetic: 0.54, sequence: 0.0, variation: 0.0, consisting: 0.0, rare: 0.57, variants: 0.58, with: 0.54, larger: 0.0, pen: 0.0, ##et: 0.0, ##rance: 0.0, effects: 0.0, than: 0.52, common: 0.57, .: 0.53\n",
      "t_doc: ['rare', 'variants', 'create', 'synthetic', 'genome', '-', 'wide', 'associations', 'genome', '-', 'wide', 'association', 'studies', '(', 'g', '##was', ')', 'have', 'now', 'identified', 'at', 'least', '2', ',', '000', 'common', 'variants', 'that', 'appear', 'associated', 'with', 'common', 'diseases', 'or', 'related', 'traits', '(', 'http', ':', '/', '/', 'www', '.', 'genome', '.', 'gov', '/', 'g', '##was', '##tu', '##dies', ')', ',', 'hundreds', 'of', 'which', 'have', 'been', 'convincing', '##ly', 'replicate', '##d', '.', 'it', 'is', 'generally', 'thought', 'that', 'the', 'associated', 'markers', 'reflect', 'the', 'effect', 'of', 'a', 'nearby', 'common', '(', 'minor', 'all', '##ele', 'frequency', '>', '0', '.', '05', ')', 'causal', 'site', ',', 'which', 'is', 'associated', 'with', 'the', 'marker', ',', 'leading', 'to', 'extensive', 'res', '##e', '##que', '##nc', '##ing', 'efforts', 'to', 'find', 'causal', 'sites', '.', 'we', 'propose', 'as', 'an', 'alternative', 'explanation', 'that', 'variants', 'much', 'less', 'common', 'than', 'the', 'associated', 'one', 'may', 'create', '\"', 'synthetic', 'associations', '\"', 'by', 'occurring', ',', 'st', '##och', '##astic', '##ally', ',', 'more', 'often', 'in', 'association', 'with', 'one', 'of', 'the', 'all', '##eles', 'at', 'the', 'common', 'site', 'versus', 'the', 'other', 'all', '##ele', '.', 'although', 'synthetic', 'associations', 'are', 'an', 'obvious', 'theoretical', 'possibility', ',', 'they', 'have', 'never', 'been', 'systematically', 'explored', 'as', 'a', 'possible', 'explanation', 'for', 'g', '##was', 'findings', '.', 'here', ',', 'we', 'use', 'simple', 'computer', 'simulations', 'to', 'show', 'the', 'conditions', 'under', 'which', 'such', 'synthetic', 'associations', 'will', 'arise', 'and', 'how', 'they', 'may', 'be', 'recognized', '.', 'we', 'show', 'that', 'they', 'are', 'not', 'only', 'possible', ',', 'but', 'inevitable', ',', 'and', 'that', 'under', 'simple', 'but', 'reasonable', 'genetic', 'models', ',', 'they', 'are', 'likely', 'to', 'account', 'for', 'or', 'contribute', 'to', 'many', 'of', 'the', 'recently', 'identified', 'signals', 'reported', 'in', 'genome', '-', 'wide', 'association', 'studies', '.', 'we', 'also', 'illustrate', 'the', 'behavior', 'of', 'synthetic', 'associations', 'in', 'real', 'data', '##set', '##s', 'by', 'showing', 'that', 'rare', 'causal', 'mutations', 'responsible', 'for', 'both', 'hearing', 'loss', 'and', 'sick', '##le', 'cell', 'an', '##emia', 'create', 'genome', '-', 'wide', 'significant', 'synthetic', 'associations', ',', 'in', 'the', 'latter', 'case', 'extending', 'over', 'a', '2', '.', '5', '-', 'mb', 'interval', 'encompassing', 'scores', 'of', '\"', 'blocks', '\"', 'of', 'associated', 'variants', '.', 'in', 'conclusion', ',', 'uncommon', 'or', 'rare', 'genetic', 'variants', 'can', 'easily', 'create', 'synthetic', 'associations', 'that', 'are', 'credited', 'to', 'common', 'variants', ',', 'and', 'this', 'possibility', 'requires', 'careful', 'consideration', 'in', 'the', 'interpretation', 'and', 'follow', 'up', 'of', 'g', '##was', 'signals', '.']\n",
      "------\n",
      "qid: 343, query: Diabetic patients with acute coronary syndrome experience increased short-term and long-term risk for bleeding events.\n",
      "lm_idf: diabet: 3.14, patient: 1.52, acut: 2.91, coronari: 4.01, syndrom: 3.19, experi: 3.02, increas: 1.22, short: 3.12, term: 2.42, long: 2.47, term: 2.42, risk: 2.02, bleed: 5.61, event: 2.57\n",
      "hf_idf: dia: 3.38, ##bet: 3.97, ##ic: 1.83, patients: 1.61, with: 0.26, acute: 2.91, corona: 3.97, ##ry: 2.48, syndrome: 3.19, experience: 4.28, increased: 1.65, short: 3.01, -: 0.06, term: 2.81, and: 0.0, long: 2.46, -: 0.06, term: 2.81, risk: 2.05, for: 0.26, bleeding: 5.61, events: 2.8, .: 0.0\n",
      "---\n",
      "bm25: False q-bm25: diabet: 0.0, patient: 2.44, acut: 3.58, coronari: 5.98, syndrom: 3.92, experi: 2.73, increas: 0.0, short: 3.83, term: 2.97, long: 0.0, term: 2.97, risk: 1.83, bleed: 7.8, event: 3.15\n",
      "hf-q-bm25: dia: 0.0, ##bet: 0.0, ##ic: 0.0, patients: 2.58, with: 0.41, acute: 3.55, corona: 5.89, ##ry: 3.67, syndrome: 3.89, experience: 3.83, increased: 0.0, short: 3.67, -: 0.11, term: 3.42, and: 0.01, long: 0.0, -: 0.11, term: 3.42, risk: 1.83, for: 0.23, bleeding: 7.76, events: 3.41, .: 0.0\n",
      "cos-sims: dia: 0.0, ##bet: 0.0, ##ic: 0.0, patients: 0.42, with: 0.44, acute: 0.44, corona: 0.48, ##ry: 0.45, syndrome: 0.46, experience: 0.37, increased: 0.0, short: 0.41, -: 0.4, term: 0.39, and: 0.37, long: 0.0, risk: 0.4, for: 0.35, bleeding: 0.39, events: 0.38, .: 0.39\n",
      "t_doc: ['hospit', 'switch', 'oral', 'p2y12', 'inhibitor', 'treatment', 'patient', 'acut', 'coronari', 'syndrom', 'undergo', 'percutan', 'coronari', 'intervent', 'preval', 'predictor', 'short', 'term', 'outcom', 'background', 'p2y12', 'inhibitor', 'switch', 'ha', 'appear', 'clinic', 'practic', 'consequ', 'prasugrel', 'ticagrelor', 'avail', 'apart', 'from', 'clopidogrel', 'us', 'patient', 'acut', 'coronari', 'syndrom', 'ac', 'undergo', 'percutan', 'coronari', 'intervent', 'pci', 'method', 'context', 'greek', 'antiplatelet', 'registri', 'grape', 'we', 'assess', 'preval', 'predict', 'factor', 'short', 'term', 'outcom', 'hospit', 'p2y12', 'inhibitor', 'switch', '1794', 'ac', 'patient', 'undergo', 'pci', 'result', 'switch', 'occur', '636', '35.5', 'patient', 'which', 'form', 'clopidogrel', 'novel', 'agent', 'novel', 'agent', 'clopidogrel', 'between', 'prasugrel', 'ticagrelor', '574', '90.4', '34', '5.3', '27', '4.3', 'patient', 'respect', 'present', 'non', 'pci', 'capabl', 'hospit', 'bivalirudin', 'us', 'ag', '75', 'year', 'invers', 'predictor', 'region', 'trend', 'emerg', 'predict', 'factor', 'switch', 'novel', 'agent', 'combin', 'hospit', 'on', 'month', 'follow', 'up', 'propens', 'match', 'pair', 'analysi', 'show', 'differ', 'major', 'advers', 'cardiovascular', 'mace', 'bleed', 'event', 'between', 'switch', 'from', 'clopidogrel', 'novel', 'agent', 'vs', 'novel', 'agent', 'constant', 'administr', 'more', 'bleed', 'academ', 'research', 'consortium', 'type', '1', 'type', '2', 'ani', 'type', 'event', 'fewer', 'mace', 'were', 'seen', 'when', 'switch', 'from', 'clopidogrel', 'novel', 'agent', 'vs', 'onli', 'clopidogrel', 'administr', '23.7', '3.8', '30.6', '1.2', 'vs', '8.9', '1.2', '12.0', '3.8', 'p', '001', 'p', '03', 'p', '001', 'p', '03', 'respect', 'conclus', 'real', 'life', 'experi', 'contemporari', 'antiplatelet', 'treatment', 'ac', 'patient', 'undergo', 'pci', 'hospit', 'switch', 'repres', 'common', 'clinic', 'practic', 'clinic', 'factor', 'region', 'practic', 'differ', 'seem', 'affect', 'strategi', 'choic', 'while', 'switch', 'novel', 'agent', 'mai', 'associ', 'higher', 'risk', 'bleed']\n",
      "dense: False q-bm25: dia: 0.0, ##bet: 0.0, ##ic: 0.0, patients: 0.0, with: 0.0, acute: 0.0, corona: 0.0, ##ry: 0.0, syndrome: 0.0, experience: 0.0, increased: 0.0, short: 0.0, -: 0.0, term: 0.0, and: 0.01, long: 0.0, -: 0.0, term: 0.0, risk: 0.0, for: 0.0, bleeding: 0.0, events: 0.0, .: 0.0\n",
      "t_doc: ['lip', '##id', 'metabolism', 'and', 'toxicity', 'in', 'the', 'heart', '.', 'the', 'heart', 'has', 'both', 'the', 'greatest', 'cal', '##oric', 'needs', 'and', 'the', 'most', 'robust', 'oxidation', 'of', 'fatty', 'acids', '(', 'fa', '##s', ')', '.', 'under', 'path', '##ological', 'conditions', 'such', 'as', 'obesity', 'and', 'type', '2', 'diabetes', ',', 'cardiac', 'up', '##take', 'and', 'oxidation', 'are', 'not', 'balanced', 'and', 'hearts', 'accumulate', 'lip', '##id', 'potentially', 'leading', 'to', 'cardiac', 'lip', '##oto', '##xi', '##city', '.', 'we', 'will', 'first', 'review', 'the', 'pathways', 'utilized', 'by', 'the', 'heart', 'to', 'acquire', 'fa', '##s', 'from', 'the', 'circulation', 'and', 'to', 'store', 'tri', '##gly', '##cer', '##ide', 'intra', '##cellular', '##ly', '.', 'then', 'we', 'will', 'describe', 'mouse', 'models', 'in', 'which', 'excess', 'lip', '##id', 'accumulation', 'causes', 'heart', 'dysfunction', 'and', 'experiments', 'performed', 'to', 'alleviate', 'this', 'toxicity', '.', 'finally', ',', 'the', 'known', 'relationships', 'between', 'heart', 'lip', '##id', 'metabolism', 'and', 'dysfunction', 'in', 'humans', 'will', 'be', 'summarized', '.']\n",
      "wdense: False, q-bm25: dia: 5.0, ##bet: 6.7, ##ic: 3.09, patients: 2.8, with: 0.44, acute: 2.6, corona: 5.88, ##ry: 3.67, syndrome: 3.87, experience: 0.0, increased: 0.0, short: 0.0, -: 0.11, term: 3.88, and: 0.01, long: 3.4, -: 0.11, term: 3.88, risk: 2.49, for: 0.44, bleeding: 0.0, events: 0.0, .: 0.0\n",
      "t_doc: ['impact', 'of', 'diabetes', 'on', 'long', '-', 'term', 'pro', '##gno', '##sis', 'in', 'patients', 'with', 'unstable', 'ang', '##ina', 'and', 'non', '-', 'q', '-', 'wave', 'my', '##oca', '##rdial', 'in', '##far', '##ction', ':', 'results', 'of', 'the', 'oasis', '(', 'organization', 'to', 'assess', 'strategies', 'for', 'is', '##che', '##mic', 'syndrome', '##s', ')', 'registry', '.', 'background', 'although', 'unstable', 'corona', '##ry', 'artery', 'disease', 'is', 'the', 'most', 'common', 'reason', 'for', 'admission', 'to', 'a', 'corona', '##ry', 'care', 'unit', ',', 'the', 'long', '-', 'term', 'pro', '##gno', '##sis', 'of', 'patients', 'with', 'this', 'diagnosis', 'is', 'unknown', '.', 'this', 'is', 'particularly', 'true', 'for', 'patients', 'with', 'diabetes', 'mel', '##lit', '##us', ',', 'who', 'are', 'known', 'to', 'have', 'a', 'high', 'mor', '##bid', '##ity', 'and', 'mortality', 'after', 'an', 'acute', 'my', '##oca', '##rdial', 'in', '##far', '##ction', '.', 'methods', 'and', 'results', 'prospective', '##ly', 'collected', 'data', 'from', '6', 'different', 'countries', 'in', 'the', 'organization', 'to', 'assess', 'strategies', 'for', 'is', '##che', '##mic', 'syndrome', '##s', '(', 'oasis', ')', 'registry', 'were', 'analyzed', 'to', 'determine', 'the', '2', '-', 'year', 'pro', '##gno', '##sis', 'of', 'dia', '##bet', '##ic', 'and', 'non', '##dia', '##bet', '##ic', 'patients', 'who', 'were', 'hospitalized', 'with', 'unstable', 'ang', '##ina', 'or', 'non', '-', 'q', '-', 'wave', 'my', '##oca', '##rdial', 'in', '##far', '##ction', '.', 'overall', ',', '1718', 'of', '80', '##13', 'registry', 'patients', '(', '21', '%', ')', 'had', 'diabetes', '.', 'dia', '##bet', '##ic', 'patients', 'had', 'a', 'higher', 'rate', 'of', 'corona', '##ry', 'bypass', 'surgery', 'than', 'non', '##dia', '##bet', '##ic', 'patients', '(', '23', '%', 'versus', '20', '%', ',', 'p', ':', '<', '0', '.', '001', ')', 'but', 'had', 'similar', 'rates', 'of', 'cat', '##het', '##eri', '##zation', 'and', 'ang', '##io', '##pl', '##ast', '##y', '.', 'diabetes', 'independently', 'predicted', 'mortality', '(', 'relative', 'risk', '[', 'rr', ']', ',', '1', '.', '57', ';', '95', '%', 'ci', ',', '1', '.', '38', 'to', '1', '.', '81', ';', 'p', ':', '<', '0', '.', '001', ')', ',', 'as', 'well', 'as', 'cardiovascular', 'death', ',', 'new', 'my', '##oca', '##rdial', 'in', '##far', '##ction', ',', 'stroke', ',', 'and', 'new', 'cong', '##est', '##ive', 'heart', 'failure', '.', 'moreover', ',', 'compared', 'with', 'their', 'non', '##dia', '##bet', '##ic', 'counterparts', ',', 'women', 'had', 'a', 'significantly', 'higher', 'risk', 'than', 'men', '(', 'rr', ',', '1', '.', '98', ';', '95', '%', 'ci', ',', '1', '.', '60', 'to', '2', '.', '44', ';', 'and', 'rr', ',', '1', '.', '28', ';', '95', '%', 'ci', ',', '1', '.', '06', 'to', '1', '.', '56', ',', 'respectively', ')', '.', 'interesting', '##ly', ',', 'dia', '##bet', '##ic', 'patients', 'without', 'prior', 'cardiovascular', 'disease', 'had', 'the', 'same', 'event', 'rates', 'for', 'all', 'outcomes', 'as', 'non', '##dia', '##bet', '##ic', 'patients', 'with', 'previous', 'vascular', 'disease', '.', 'conclusions', 'hospital', '##ization', 'for', 'unstable', 'ang', '##ina', 'or', 'non', '-', 'q', '-', 'wave', 'my', '##oca', '##rdial', 'in', '##far', '##ction', 'predict', '##s', 'a', 'high', '2', '-', 'year', 'mor', '##bid', '##ity', 'and', 'mortality', ';', 'this', 'is', 'especially', 'evident', 'for', 'patients', 'with', 'diabetes', '.', 'dia', '##bet', '##ic', 'patients', 'with', 'no', 'previous', 'cardiovascular', 'disease', 'have', 'the', 'same', 'long', '-', 'term', 'mor', '##bid', '##ity', 'and', 'mortality', 'as', 'non', '##dia', '##bet', '##ic', 'patients', 'with', 'established', 'cardiovascular', 'disease', 'after', 'hospital', '##ization', 'for', 'unstable', 'corona', '##ry', 'artery', 'disease', '.']\n",
      "cbm25: True q-bm25: dia: 5.0, ##bet: 6.7, ##ic: 3.09, patients: 2.8, with: 0.44, acute: 2.6, corona: 5.88, ##ry: 3.67, syndrome: 3.87, experience: 0.0, increased: 0.0, short: 0.0, -: 0.11, term: 3.88, and: 0.01, long: 3.4, -: 0.11, term: 3.88, risk: 2.49, for: 0.44, bleeding: 0.0, events: 0.0, .: 0.0\n",
      "cos-sims: dia: 0.66, ##bet: 0.68, ##ic: 0.67, patients: 0.66, with: 0.65, acute: 0.62, corona: 0.64, ##ry: 0.65, syndrome: 0.61, experience: 0.0, increased: 0.0, short: 0.0, -: 0.62, term: 0.63, and: 0.61, long: 0.61, risk: 0.62, for: 0.63, bleeding: 0.0, events: 0.0, .: 0.63\n",
      "t_doc: ['impact', 'of', 'diabetes', 'on', 'long', '-', 'term', 'pro', '##gno', '##sis', 'in', 'patients', 'with', 'unstable', 'ang', '##ina', 'and', 'non', '-', 'q', '-', 'wave', 'my', '##oca', '##rdial', 'in', '##far', '##ction', ':', 'results', 'of', 'the', 'oasis', '(', 'organization', 'to', 'assess', 'strategies', 'for', 'is', '##che', '##mic', 'syndrome', '##s', ')', 'registry', '.', 'background', 'although', 'unstable', 'corona', '##ry', 'artery', 'disease', 'is', 'the', 'most', 'common', 'reason', 'for', 'admission', 'to', 'a', 'corona', '##ry', 'care', 'unit', ',', 'the', 'long', '-', 'term', 'pro', '##gno', '##sis', 'of', 'patients', 'with', 'this', 'diagnosis', 'is', 'unknown', '.', 'this', 'is', 'particularly', 'true', 'for', 'patients', 'with', 'diabetes', 'mel', '##lit', '##us', ',', 'who', 'are', 'known', 'to', 'have', 'a', 'high', 'mor', '##bid', '##ity', 'and', 'mortality', 'after', 'an', 'acute', 'my', '##oca', '##rdial', 'in', '##far', '##ction', '.', 'methods', 'and', 'results', 'prospective', '##ly', 'collected', 'data', 'from', '6', 'different', 'countries', 'in', 'the', 'organization', 'to', 'assess', 'strategies', 'for', 'is', '##che', '##mic', 'syndrome', '##s', '(', 'oasis', ')', 'registry', 'were', 'analyzed', 'to', 'determine', 'the', '2', '-', 'year', 'pro', '##gno', '##sis', 'of', 'dia', '##bet', '##ic', 'and', 'non', '##dia', '##bet', '##ic', 'patients', 'who', 'were', 'hospitalized', 'with', 'unstable', 'ang', '##ina', 'or', 'non', '-', 'q', '-', 'wave', 'my', '##oca', '##rdial', 'in', '##far', '##ction', '.', 'overall', ',', '1718', 'of', '80', '##13', 'registry', 'patients', '(', '21', '%', ')', 'had', 'diabetes', '.', 'dia', '##bet', '##ic', 'patients', 'had', 'a', 'higher', 'rate', 'of', 'corona', '##ry', 'bypass', 'surgery', 'than', 'non', '##dia', '##bet', '##ic', 'patients', '(', '23', '%', 'versus', '20', '%', ',', 'p', ':', '<', '0', '.', '001', ')', 'but', 'had', 'similar', 'rates', 'of', 'cat', '##het', '##eri', '##zation', 'and', 'ang', '##io', '##pl', '##ast', '##y', '.', 'diabetes', 'independently', 'predicted', 'mortality', '(', 'relative', 'risk', '[', 'rr', ']', ',', '1', '.', '57', ';', '95', '%', 'ci', ',', '1', '.', '38', 'to', '1', '.', '81', ';', 'p', ':', '<', '0', '.', '001', ')', ',', 'as', 'well', 'as', 'cardiovascular', 'death', ',', 'new', 'my', '##oca', '##rdial', 'in', '##far', '##ction', ',', 'stroke', ',', 'and', 'new', 'cong', '##est', '##ive', 'heart', 'failure', '.', 'moreover', ',', 'compared', 'with', 'their', 'non', '##dia', '##bet', '##ic', 'counterparts', ',', 'women', 'had', 'a', 'significantly', 'higher', 'risk', 'than', 'men', '(', 'rr', ',', '1', '.', '98', ';', '95', '%', 'ci', ',', '1', '.', '60', 'to', '2', '.', '44', ';', 'and', 'rr', ',', '1', '.', '28', ';', '95', '%', 'ci', ',', '1', '.', '06', 'to', '1', '.', '56', ',', 'respectively', ')', '.', 'interesting', '##ly', ',', 'dia', '##bet', '##ic', 'patients', 'without', 'prior', 'cardiovascular', 'disease', 'had', 'the', 'same', 'event', 'rates', 'for', 'all', 'outcomes', 'as', 'non', '##dia', '##bet', '##ic', 'patients', 'with', 'previous', 'vascular', 'disease', '.', 'conclusions', 'hospital', '##ization', 'for', 'unstable', 'ang', '##ina', 'or', 'non', '-', 'q', '-', 'wave', 'my', '##oca', '##rdial', 'in', '##far', '##ction', 'predict', '##s', 'a', 'high', '2', '-', 'year', 'mor', '##bid', '##ity', 'and', 'mortality', ';', 'this', 'is', 'especially', 'evident', 'for', 'patients', 'with', 'diabetes', '.', 'dia', '##bet', '##ic', 'patients', 'with', 'no', 'previous', 'cardiovascular', 'disease', 'have', 'the', 'same', 'long', '-', 'term', 'mor', '##bid', '##ity', 'and', 'mortality', 'as', 'non', '##dia', '##bet', '##ic', 'patients', 'with', 'established', 'cardiovascular', 'disease', 'after', 'hospital', '##ization', 'for', 'unstable', 'corona', '##ry', 'artery', 'disease', '.']\n",
      "------\n",
      "qid: 362, query: During the primary early antibody response activated B cells migrate toward the inner-and outer paracortical areas where oxysterol accumulation is generated by stromal cells.\n",
      "lm_idf: dure: 1.58, primari: 2.36, earli: 2.4, antibodi: 3.25, respons: 1.51, activ: 1.04, b: 2.87, cell: 0.72, migrat: 3.5, toward: 3.42, inner: 4.79, outer: 5.42, paracort: 0.0, area: 3.03, where: 3.02, oxysterol: 7.17, accumul: 2.89, gener: 1.77, stromal: 4.44, cell: 0.72\n",
      "hf_idf: during: 1.58, the: 0.0, primary: 2.36, early: 2.4, antibody: 3.72, response: 1.97, activated: 2.71, b: 2.17, cells: 0.97, migrate: 5.42, toward: 3.85, the: 0.0, inner: 4.62, -: 0.06, and: 0.0, outer: 5.42, para: 3.72, ##cor: 4.32, ##tical: 5.56, areas: 3.68, where: 3.02, ox: 3.21, ##yst: 4.05, ##ero: 2.65, ##l: 1.5, accumulation: 3.32, is: 0.31, generated: 3.19, by: 0.38, st: 2.67, ##rom: 2.14, ##al: 1.33, cells: 0.97, .: 0.0\n",
      "---\n",
      "bm25: False q-bm25: dure: 0.0, primari: 0.0, earli: 2.55, antibodi: 0.0, respons: 1.6, activ: 1.1, b: 3.04, cell: 1.18, migrat: 0.0, toward: 0.0, inner: 5.08, outer: 5.75, paracort: 0.0, area: 3.22, where: 0.0, oxysterol: 0.0, accumul: 0.0, gener: 1.88, stromal: 0.0, cell: 1.18\n",
      "hf-q-bm25: during: 0.0, the: 0.01, primary: 0.0, early: 2.52, antibody: 0.0, response: 2.06, activated: 0.0, b: 2.28, cells: 1.53, migrate: 0.0, toward: 0.0, the: 0.01, inner: 4.85, -: 0.1, and: 0.01, outer: 5.69, para: 0.0, ##cor: 0.0, ##tical: 0.0, areas: 0.0, where: 0.0, ox: 0.0, ##yst: 0.0, ##ero: 0.0, ##l: 0.0, accumulation: 0.0, is: 0.32, generated: 0.0, by: 0.0, st: 0.0, ##rom: 0.0, ##al: 0.0, cells: 1.53, .: 0.0\n",
      "cos-sims: during: 0.0, the: 0.49, primary: 0.0, early: 0.49, antibody: 0.0, response: 0.46, activated: 0.0, b: 0.47, cells: 0.5, migrate: 0.0, toward: 0.0, inner: 0.5, -: 0.49, and: 0.48, outer: 0.48, para: 0.0, ##cor: 0.0, ##tical: 0.0, areas: 0.0, where: 0.0, ox: 0.0, ##yst: 0.0, ##ero: 0.0, ##l: 0.0, accumulation: 0.0, is: 0.46, generated: 0.0, by: 0.0, st: 0.0, ##rom: 0.0, ##al: 0.0, .: 0.48\n",
      "t_doc: ['human', 'tubercul', 'granuloma', 'induc', 'peripher', 'lymphoid', 'follicl', 'like', 'structur', 'orchestr', 'local', 'host', 'defenc', 'lung', 'human', 'tubercul', 'granuloma', 'provid', 'morpholog', 'basi', 'local', 'immun', 'process', 'central', 'outcom', 'tuberculosi', 'becaus', 'scarciti', 'inform', 'human', 'patient', 'aim', 'present', 'studi', 'gain', 'insight', 'function', 'structur', 'properti', 'infiltr', 'tissu', 'end', 'mycobacteri', 'load', 'lesion', 'dissemin', 'differ', 'tissu', 'locat', 'were', 'investig', 'well', 'distribut', 'biolog', 'function', 'interact', 'host', 'immun', 'cell', 'analysi', 'earli', 'granuloma', 'format', 'formerli', 'healthi', 'lung', 'tissu', 'reveal', 'spatio', 'tempor', 'sequenc', 'cellular', 'infiltr', 'site', 'mycobacteri', 'infect', 'gener', 'structur', 'develop', 'granuloma', 'identifi', 'compris', 'inner', 'cell', 'layer', 'few', 'cd8', 'cell', 'surround', 'necrot', 'centr', 'outer', 'area', 'lymphocyt', 'infiltr', 'harbour', 'mycobacteria', 'contain', 'antigen', 'present', 'cell', 'well', 'cd4', 'cd8', 'b', 'cell', 'activ', 'follicl', 'like', 'centr', 'resembl', 'secondari', 'lymphoid', 'organ', 'conclud', 'follicular', 'structur', 'peripher', 'rim', 'granuloma', 'serv', 'morpholog', 'substrat', 'orchestr', 'endur', 'host', 'respons', 'pulmonari', 'tuberculosi']\n",
      "dense: False q-bm25: during: 0.0, the: 0.01, primary: 0.0, early: 0.0, antibody: 0.0, response: 0.0, activated: 0.0, b: 0.0, cells: 1.4, migrate: 0.0, toward: 0.0, the: 0.01, inner: 0.0, -: 0.1, and: 0.01, outer: 0.0, para: 0.0, ##cor: 0.0, ##tical: 0.0, areas: 0.0, where: 0.0, ox: 0.0, ##yst: 0.0, ##ero: 0.0, ##l: 0.0, accumulation: 0.0, is: 0.0, generated: 0.0, by: 0.54, st: 0.0, ##rom: 0.0, ##al: 0.0, cells: 1.4, .: 0.0\n",
      "t_doc: ['auto', '##im', '##mun', '##e', 't', 'cell', 'responses', 'in', 'the', 'central', 'nervous', 'system', 'auto', '##rea', '##ctive', 't', 'cell', 'responses', 'have', 'a', 'crucial', 'role', 'in', 'central', 'nervous', 'system', '(', 'cn', '##s', ')', 'diseases', 'such', 'as', 'multiple', 'sc', '##ler', '##osis', '.', 'recent', 'data', 'indicate', 'that', 'cn', '##s', 'auto', '##im', '##mun', '##ity', 'can', 'be', 'mediated', 'by', 'two', 'distinct', 'lineage', '##s', 'of', 'cd', '##4', '+', 't', 'cells', 'that', 'are', 'defined', 'by', 'the', 'production', 'of', 'either', 'inter', '##fer', '##on', '-', 'γ', 'or', 'inter', '##le', '##uki', '##n', '-', '17', '.', 'the', 'activity', 'of', 'these', 'cd', '##4', '+', 't', 'cell', 'subset', '##s', 'within', 'the', 'cn', '##s', 'influences', 'the', 'pathology', 'and', 'clinical', 'course', 'of', 'disease', '.', 'new', 'animal', 'models', 'show', 'that', 'my', '##elin', '-', 'specific', 'cd', '##8', '+', 't', 'cells', 'can', 'also', 'media', '##te', 'cn', '##s', 'auto', '##im', '##mun', '##ity', '.', 'this', 'review', 'focuses', 'on', 'recent', 'progress', 'in', 'del', '##ine', '##ating', 'the', 'pathogen', '##ic', 'mechanisms', ',', 'regulation', 'and', 'inter', '##play', 'between', 'these', 'different', 't', 'cell', 'subset', '##s', 'in', 'cn', '##s', 'auto', '##im', '##mun', '##ity', '.']\n",
      "wdense: False, q-bm25: during: 1.57, the: 0.01, primary: 0.0, early: 0.0, antibody: 3.68, response: 0.0, activated: 0.0, b: 3.16, cells: 1.59, migrate: 7.88, toward: 0.0, the: 0.01, inner: 0.0, -: 0.11, and: 0.01, outer: 0.0, para: 0.0, ##cor: 0.0, ##tical: 0.0, areas: 0.0, where: 0.0, ox: 0.0, ##yst: 0.0, ##ero: 0.0, ##l: 0.0, accumulation: 0.0, is: 0.3, generated: 0.0, by: 0.49, st: 0.0, ##rom: 0.0, ##al: 0.0, cells: 1.59, .: 0.0\n",
      "t_doc: ['neural', 'crest', '-', 'derived', 'stem', 'cells', 'migrate', 'and', 'differentiate', 'into', 'card', '##iom', '##yo', '##cytes', 'after', 'my', '##oca', '##rdial', 'in', '##far', '##ction', '.', 'objective', 'we', 'recently', 'demonstrated', 'that', 'primitive', 'neural', 'crest', '-', 'derived', '(', 'nc', ')', 'cells', 'migrate', 'from', 'the', 'cardiac', 'neural', 'crest', 'during', 'embryo', '##nic', 'development', 'and', 'remain', 'in', 'the', 'heart', 'as', 'dormant', 'stem', 'cells', ',', 'with', 'the', 'capacity', 'to', 'differentiate', 'into', 'various', 'cell', 'types', ',', 'including', 'card', '##iom', '##yo', '##cytes', '.', 'here', ',', 'we', 'examined', 'the', 'migration', 'and', 'differentiation', 'potential', 'of', 'these', 'cells', 'on', 'my', '##oca', '##rdial', 'in', '##far', '##ction', '(', 'mi', ')', '.', 'methods', 'and', 'results', 'we', 'obtained', 'double', '-', 'trans', '##genic', 'mice', 'by', 'crossing', 'protein', '-', '0', 'promoter', '-', 'cr', '##e', 'mice', 'with', 'fl', '##ox', '##ed', '-', 'enhanced', 'green', 'fluorescent', 'protein', 'mice', ',', 'in', 'which', 'the', 'nc', 'cells', 'express', 'enhanced', 'green', 'fluorescent', 'protein', '.', 'in', 'the', 'neon', '##atal', 'heart', ',', 'nc', 'stem', 'cells', '(', 'nc', '##sc', '##s', ')', 'were', 'localized', 'predominantly', 'in', 'the', 'out', '##flow', 'tract', ',', 'but', 'they', 'were', 'also', 'distributed', 'in', 'a', 'gradient', 'from', 'base', 'to', 'apex', 'throughout', 'the', 'vent', '##ric', '##ular', 'my', '##oca', '##rdi', '##um', '.', 'time', '-', 'laps', '##e', 'video', 'analysis', 'revealed', 'that', 'the', 'nc', '##sc', '##s', 'were', 'migratory', '.', 'some', 'nc', '##sc', '##s', 'persisted', 'in', 'the', 'adult', 'heart', '.', 'on', 'mi', ',', 'nc', '##sc', '##s', 'accumulated', 'at', 'the', 'is', '##che', '##mic', 'border', 'zone', 'area', '(', 'b', '##za', ')', ',', 'which', 'expresses', 'mono', '##cy', '##te', 'che', '##mo', '##att', '##rac', '##tan', '##t', 'protein', '-', '1', '(', 'mc', '##p', '-', '1', ')', '.', 'ex', 'vivo', 'cell', 'migration', 'ass', '##ays', 'demonstrated', 'that', 'mc', '##p', '-', '1', 'induced', 'nc', '##sc', 'migration', 'and', 'that', 'this', 'che', '##mot', '##actic', 'effect', 'was', 'significantly', 'depressed', 'by', 'an', 'anti', '-', 'mc', '##p', '-', '1', 'antibody', '.', 'small', 'nc', 'card', '##iom', '##yo', '##cytes', 'first', 'appeared', 'in', 'the', 'b', '##za', '2', 'weeks', 'post', '-', 'mi', 'and', 'gradually', 'increased', 'in', 'number', 'thereafter', '.', 'conclusions', 'these', 'results', 'suggested', 'that', 'nc', '##sc', '##s', 'migrate', 'into', 'the', 'b', '##za', 'via', 'mc', '##p', '-', '1', '/', 'cc', '##r', '##2', 'signaling', 'and', 'contribute', 'to', 'the', 'provision', 'of', 'card', '##iom', '##yo', '##cytes', 'for', 'cardiac', 'regeneration', 'after', 'mi', '.']\n",
      "cbm25: True q-bm25: during: 0.0, the: 0.01, primary: 0.0, early: 2.47, antibody: 3.82, response: 2.02, activated: 3.61, b: 3.73, cells: 1.71, migrate: 5.57, toward: 0.0, the: 0.01, inner: 0.0, -: 0.11, and: 0.01, outer: 5.57, para: 0.0, ##cor: 0.0, ##tical: 0.0, areas: 0.0, where: 0.0, ox: 0.0, ##yst: 0.0, ##ero: 0.0, ##l: 0.0, accumulation: 0.0, is: 0.32, generated: 0.0, by: 0.39, st: 2.75, ##rom: 2.21, ##al: 2.09, cells: 1.71, .: 0.0\n",
      "cos-sims: during: 0.0, the: 0.68, primary: 0.0, early: 0.66, antibody: 0.64, response: 0.62, activated: 0.65, b: 0.67, cells: 0.67, migrate: 0.66, toward: 0.0, inner: 0.0, -: 0.65, and: 0.64, outer: 0.62, para: 0.0, ##cor: 0.0, ##tical: 0.0, areas: 0.0, where: 0.0, ox: 0.0, ##yst: 0.0, ##ero: 0.0, ##l: 0.0, accumulation: 0.0, is: 0.6, generated: 0.0, by: 0.59, st: 0.66, ##rom: 0.67, ##al: 0.67, .: 0.63\n",
      "t_doc: ['finding', 'the', 'right', 'niche', ':', 'b', '-', 'cell', 'migration', 'in', 'the', 'early', 'phases', 'of', 't', '-', 'dependent', 'antibody', 'responses', '.', 'humor', '##al', 'immune', 'responses', 'depend', 'on', 'b', 'cells', 'encounter', '##ing', 'antigen', ',', 'interacting', 'with', 'help', '##er', 't', 'cells', ',', 'pro', '##life', '##rating', 'and', 'different', '##iating', 'into', 'low', '-', 'affinity', 'plasma', 'cells', 'or', ',', 'after', 'organizing', 'into', 'a', 'ge', '##rmin', '##al', 'center', '(', 'g', '##c', ')', ',', 'high', '-', 'affinity', 'plasma', 'cells', 'and', 'memory', 'b', 'cells', '.', 'remarkably', ',', 'each', 'of', 'these', 'events', 'occurs', 'in', 'association', 'with', 'distinct', 'st', '##rom', '##al', 'cells', 'in', 'separate', 'sub', '##com', '##par', '##tment', '##s', 'of', 'the', 'l', '##ym', '##ph', '##oid', 'tissue', '.', 'b', 'cells', 'must', 'migrate', 'from', 'niche', 'to', 'niche', 'in', 'a', 'rapid', 'and', 'highly', 'regulated', 'manner', 'to', 'successfully', 'mount', 'a', 'response', '.', 'the', 'che', '##mo', '##kin', '##e', ',', 'c', '##x', '##cl', '##13', ',', 'plays', 'a', 'central', 'role', 'in', 'guiding', 'b', 'cells', 'to', 'f', '##oll', '##icles', 'whereas', 't', '-', 'zone', 'che', '##mo', '##kin', '##es', 'guide', 'activated', 'b', 'cells', 'to', 'the', 't', 'zone', '.', 'sp', '##hing', '##osi', '##ne', '-', '1', '-', 'phosphate', '(', 's', '##1', '##p', ')', 'promotes', 'cell', 'e', '##gre', '##ss', 'from', 'the', 'tissue', ',', 'as', 'well', 'as', 'marginal', '-', 'zone', 'b', '-', 'cell', 'positioning', 'in', 'the', 'sp', '##leen', '.', 'recent', 'studies', 'have', 'identified', 'a', 'role', 'for', 'the', 'orphan', 'receptor', ',', 'e', '##b', '##v', '-', 'induced', 'molecule', '2', '(', 'e', '##bi', '##2', ';', 'gp', '##r', '##18', '##3', ')', ',', 'in', 'guiding', 'activated', 'b', 'cells', 'to', 'inter', 'and', 'outer', 'f', '##oll', '##icular', 'niche', '(', 's', ')', 'and', 'down', '-', 'regulation', 'of', 'this', 'receptor', 'is', 'essential', 'for', 'organizing', 'cells', 'into', 'g', '##cs', '.', 'in', 'this', 'review', ',', 'we', 'discuss', 'current', 'understanding', 'of', 'the', 'roles', 'played', 'by', 'che', '##mo', '##kin', '##es', ',', 's', '##1', '##p', 'and', 'e', '##bi', '##2', 'in', 'the', 'migration', 'events', 'that', 'under', '##lie', 'humor', '##al', 'immune', 'responses', '.']\n",
      "------\n",
      "skip qid 452\n",
      "------\n",
      "qid: 637, query: Input from  mental and physical health care professionals is effective at decreasing homelessness.\n",
      "lm_idf: input: 4.77, from: 0.71, mental: 4.35, physic: 3.46, health: 2.56, care: 3.1, profession: 4.94, effect: 1.3, decreas: 2.2, homeless: 6.47\n",
      "hf_idf: input: 5.0, from: 0.71, mental: 4.36, and: 0.0, physical: 3.63, health: 2.54, care: 3.14, professionals: 5.51, is: 0.31, effective: 2.97, at: 0.86, decreasing: 4.79, homeless: 6.47, ##ness: 3.37, .: 0.0\n",
      "---\n",
      "bm25: False q-bm25: input: 0.0, from: 1.0, mental: 7.6, physic: 0.0, health: 4.47, care: 4.68, profession: 6.18, effect: 0.0, decreas: 2.05, homeless: 0.0\n",
      "hf-q-bm25: input: 0.0, from: 1.04, mental: 7.73, and: 0.01, physical: 0.0, health: 4.5, care: 4.9, professionals: 5.58, is: 0.45, effective: 0.0, at: 0.0, decreasing: 4.85, homeless: 0.0, ##ness: 0.0, .: 0.0\n",
      "cos-sims: input: 0.0, from: 0.38, mental: 0.44, and: 0.42, physical: 0.0, health: 0.44, care: 0.41, professionals: 0.42, is: 0.37, effective: 0.0, at: 0.0, decreasing: 0.38, homeless: 0.0, ##ness: 0.0, .: 0.41\n",
      "t_doc: ['mental', 'health', 'difficulti', 'across', 'childhood', 'mental', 'health', 'servic', 'us', 'find', 'from', 'longitudin', 'popul', 'base', 'studi', 'background', 'over', 'past', '20', 'year', 'preval', 'child', 'adolesc', 'mental', 'disord', 'high', 'incom', 'countri', 'ha', 'chang', 'despit', 'increas', 'invest', 'mental', 'health', 'servic', 'insuffici', 'contact', 'mental', 'health', 'servic', 'mai', 'contribut', 'factor', 'howev', 'known', 'what', 'proport', 'children', 'have', 'suffici', 'contact', 'health', 'profession', 'allow', 'deliveri', 'treatment', 'meet', 'minim', 'clinic', 'practic', 'guidelin', 'how', 'long', 'children', 'experi', 'symptom', 'prior', 'receiv', 'treatment', 'aimsto', 'investig', 'level', 'mental', 'healthcar', 'receiv', 'australian', 'children', 'from', 'ag', '4', 'year', '14', 'year', 'method', 'trajectori', 'mental', 'health', 'symptom', 'were', 'map', 'us', 'strength', 'difficulti', 'questionnair', 'health', 'profession', 'attend', 'psychotrop', 'medic', 'dispens', 'were', 'identifi', 'from', 'link', 'nation', 'medicar', 'benefit', 'schedul', 'mb', 'pharmaceut', 'benefit', 'scheme', 'record', 'result', 'four', 'trajectori', 'mental', 'health', 'symptom', 'were', 'identifi', 'low', 'high', 'decreas', 'moder', 'increas', 'high', 'increas', 'most', 'children', 'mental', 'health', 'symptom', 'had', 'few', 'mb', 'mental', 'health', 'attend', 'onli', 'minor', 'receiv', 'care', 'meet', 'studi', 'criteria', 'minim', 'adequ', 'treatment', 'children', 'high', 'increas', 'moder', 'increas', 'trajectori', 'were', 'more', 'like', 'access', 'care', 'yet', 'evid', 'improv', 'symptom', 'conclus', 'import', 'children', 'adolesc', 'mental', 'health', 'problem', 'receiv', 'treatment', 'meet', 'minim', 'practic', 'guidelin', 'further', 'research', 'need', 'identifi', 'qualiti', 'care', 'current', 'provid', 'children', 'mental', 'health', 'difficulti', 'how', 'clinician', 'can', 'best', 'fund', 'support', 'provid', 'care', 'meet', 'minim', 'practic', 'guidelin', 'declar', 'interestsnon']\n",
      "dense: False q-bm25: input: 0.0, from: 0.0, mental: 7.67, and: 0.01, physical: 0.0, health: 4.38, care: 4.96, professionals: 0.0, is: 0.0, effective: 0.0, at: 0.0, decreasing: 0.0, homeless: 0.0, ##ness: 0.0, .: 0.0\n",
      "t_doc: ['integration', 'of', 'mental', 'health', 'into', 'primary', 'healthcare', 'in', 'low', '-', 'income', 'countries', ':', 'avoiding', 'medical', '##ization', '.', 'since', '2008', 'the', 'world', 'health', 'organization', '(', 'who', ')', ',', 'through', 'its', 'mental', 'health', 'gap', 'action', 'programme', ',', 'has', 'attempted', 'to', 'rev', '##ital', '##ize', 'efforts', 'to', 'integrate', 'mental', 'health', 'into', 'non', '-', 'specialized', '(', 'e', '.', 'g', '.', 'primary', ')', 'healthcare', '.', 'while', 'this', 'has', 'led', 'to', 'renewed', 'interest', 'in', 'this', 'potential', 'method', 'of', 'mental', 'health', 'service', 'delivery', ',', 'it', 'has', 'also', 'prompted', 'criticism', '.', 'some', 'concerns', 'raised', 'are', 'that', 'it', 'would', 'contribute', 'to', 'the', 'medical', '##ization', 'of', 'social', 'and', 'psychological', 'problems', ',', 'and', 'narrowly', 'focus', 'on', 'primary', 'care', 'without', 'sufficient', 'attention', 'given', 'to', 'strengthening', 'other', 'levels', 'of', 'the', 'healthcare', 'system', ',', 'notably', 'community', '-', 'based', 'care', 'and', 'care', 'on', 'district', 'levels', '.', 'this', 'paper', 'discusses', 'seven', 'elements', 'that', 'may', 'be', 'critical', 'to', 'preventing', 'inadvertently', 'contributing', 'to', 'increasing', 'a', 'narrow', 'biomedical', 'approach', 'to', 'mental', 'healthcare', 'when', 'integrating', 'mental', 'health', 'into', 'non', '-', 'specialized', 'healthcare', ':', '(', '1', ')', 'using', 'task', 'shifting', 'approaches', 'within', 'a', 'system', 'of', 'stepped', 'care', ',', '(', '2', ')', 'ensuring', 'primary', 'mental', 'healthcare', 'also', 'includes', 'brief', 'psycho', '##ther', '##ape', '##uti', '##c', 'interventions', ',', '(', '3', ')', 'promote', 'community', '-', 'based', 'recovery', '-', 'oriented', 'interventions', 'for', 'people', 'with', 'di', '##sa', '##bling', 'chronic', 'mental', 'disorders', ',', '(', '4', ')', 'conceptual', '##izing', 'training', 'as', 'a', 'continuous', 'process', 'of', 'strengthening', 'clinical', 'compete', '##ncies', 'through', 'supervision', ',', '(', '5', ')', 'engaging', 'communities', 'as', 'partners', 'in', 'psycho', '##so', '##cial', 'interventions', ',', '(', '6', ')', 'em', '##bed', '##ding', 'shifts', 'to', 'primary', 'mental', 'healthcare', 'within', 'wider', 'health', 'policy', 'reforms', ',', 'and', '(', '7', ')', 'promoting', 'inter', '-', 'sector', '##al', 'approaches', 'to', 'address', 'social', 'deter', '##mina', '##nts', 'of', 'mental', 'health', '.']\n",
      "wdense: False, q-bm25: input: 0.0, from: 0.96, mental: 7.42, and: 0.01, physical: 0.0, health: 4.38, care: 0.0, professionals: 0.0, is: 0.32, effective: 0.0, at: 0.0, decreasing: 0.0, homeless: 10.57, ##ness: 0.0, .: 0.0\n",
      "t_doc: ['evaluation', 'of', 'a', 'mental', 'health', 'outreach', 'service', 'for', 'homeless', 'families', '.', 'aims', 'to', 'describe', 'the', 'characteristics', 'of', 'homeless', 'children', 'and', 'families', 'seen', 'by', 'the', 'mental', 'health', 'outreach', 'service', '(', 'm', '##hos', ')', ',', 'to', 'evaluate', 'the', 'impact', 'of', 'this', 'service', 'on', 'the', 'short', 'term', 'psycho', '##so', '##cial', 'functioning', 'of', 'children', 'and', 'parents', ',', 'and', 'to', 'establish', 'perceptions', 'of', ',', 'and', 'satisfaction', 'with', ',', 'the', 'service', '.', 'methods', 'twenty', 'seven', 'children', 'from', '23', 'families', 'who', 'were', 'in', 'receipt', 'of', 'the', 'm', '##hos', 'and', '27', 'children', 'from', '23', 'families', 'residing', 'in', 'other', 'hostel', '##s', 'where', 'no', 'such', 'service', 'was', 'available', 'were', 'studied', '.', 'the', 'm', '##hos', 'was', 'delivered', 'by', 'a', 'clinical', 'nurse', 'specialist', 'with', 'expertise', 'in', 'child', 'mental', 'health', ',', 'who', 'offered', 'the', 'following', 'interventions', ':', 'assessment', 'and', 'brief', 'treatment', 'of', 'mental', 'health', 'disorders', 'in', 'children', ';', 'liaison', 'with', 'agencies', ';', 'and', 'training', 'of', 'homeless', 'centre', 'staff', '.', 'results', 'children', 'in', 'the', 'experimental', 'group', 'had', 'a', 'significantly', 'higher', 'decrease', 'in', 'strengths', 'and', 'difficulties', 'question', '##naire', '(', 'sd', '##q', ')', 'total', 'scores', '.', 'having', 'received', 'the', 'intervention', 'was', 'the', 'strongest', 'predict', '##or', 'of', 'improvement', 'in', 'sd', '##q', 'total', 'scores', '.', 'there', 'was', 'no', 'significant', 'impact', 'on', 'parental', 'mental', 'health', '(', 'general', 'health', 'question', '##naire', ')', 'scores', '.', 'homeless', 'families', 'and', 'staff', 'expressed', 'high', 'satisfaction', 'with', 'the', 'm', '##hos', '.', 'conclusion', 'this', 'm', '##hos', 'for', 'homeless', 'families', 'is', 'an', 'innovative', 'intervention', 'which', 'meets', 'the', 'complex', 'and', 'multiple', 'needs', 'of', 'a', 'vulnerable', 'population', 'unable', 'to', 'access', 'mainstream', 'mental', 'health', 'services', '.', 'the', 'primary', 'objective', 'of', 'the', 'service', 'was', 'to', 'improve', 'child', 'mental', 'health', 'problems', ';', 'however', ',', 'the', 'service', 'developed', 'in', 'a', 'responsive', 'way', 'by', 'meeting', 'social', 'and', 'practical', 'needs', 'of', 'families', 'in', 'addition', 'to', 'its', 'clinical', 'role', '.']\n",
      "cbm25: True q-bm25: input: 0.0, from: 0.77, mental: 7.37, and: 0.01, physical: 0.0, health: 4.42, care: 3.41, professionals: 0.0, is: 0.0, effective: 3.23, at: 0.93, decreasing: 0.0, homeless: 10.36, ##ness: 0.0, .: 0.0\n",
      "cos-sims: input: 0.0, from: 0.47, mental: 0.52, and: 0.5, physical: 0.0, health: 0.54, care: 0.49, professionals: 0.0, is: 0.0, effective: 0.49, at: 0.47, decreasing: 0.0, homeless: 0.53, ##ness: 0.0, .: 0.52\n",
      "t_doc: ['mental', 'health', 'problems', 'of', 'homeless', 'children', 'and', 'families', ':', 'longitudinal', 'study', '.', 'objective', 'to', 'establish', 'the', 'mental', 'health', 'needs', 'of', 'homeless', 'children', 'and', 'families', 'before', 'and', 'after', 're', '##ho', '##using', '.', 'design', 'cross', 'sectional', ',', 'longitudinal', 'study', '.', 'setting', 'city', 'of', 'birmingham', '.', 'subjects', '58', 're', '##house', '##d', 'families', 'with', '103', 'children', 'aged', '2', '-', '16', 'years', 'and', '21', 'comparison', 'families', 'of', 'low', 'socio', '##economic', 'status', 'in', 'stable', 'housing', ',', 'with', '54', 'children', '.', 'main', 'outcome', 'measures', 'children', \"'\", 's', 'mental', 'health', 'problems', 'and', 'level', 'of', 'communication', ';', 'mothers', \"'\", 'mental', 'health', 'problems', 'and', 'social', 'support', 'one', 'year', 'after', 're', '##ho', '##using', '.', 'results', 'mental', 'health', 'problems', 'remained', 'significantly', 'higher', 'in', 're', '##house', '##d', 'mothers', 'and', 'their', 'children', 'than', 'in', 'the', 'comparison', 'group', '(', 'mothers', '26', '%', 'v', '5', '%', ',', 'p', '=', '0', '.', '04', ';', 'children', '39', '%', 'v', '11', '%', ',', 'p', '=', '0', '.', '000', '##3', ')', '.', 'homeless', 'mothers', 'continued', 'to', 'have', 'significantly', 'less', 'social', 'support', 'at', 'follow', 'up', '.', 'mothers', 'with', 'a', 'history', 'of', 'abuse', 'and', 'poor', 'social', 'integration', 'were', 'more', 'likely', 'to', 'have', 'children', 'with', 'persistent', 'mental', 'health', 'problems', '.', 'conclusions', 'homeless', 'families', 'have', 'a', 'high', 'level', 'of', 'complex', 'needs', 'that', 'cannot', 'be', 'met', 'by', 'conventional', 'health', 'services', 'and', 'arrangements', '.', 'local', 'strategies', 'for', 'rapid', 're', '##ho', '##using', 'into', 'permanent', 'accommodation', ',', 'effective', 'social', 'support', 'and', 'health', 'care', 'for', 'parents', 'and', 'children', ',', 'and', 'protection', 'from', 'violence', 'and', 'intimidation', 'should', 'be', 'developed', 'and', 'implemented', '.']\n",
      "------\n",
      "qid: 690, query: Less than 10% of the gabonese children with Schimmelpenning-Feuerstein-Mims syndrome (SFM) had a plasma lactate of more than 5mmol/L.\n",
      "lm_idf: less: 2.65, than: 1.54, 10: 2.32, gabones: 8.55, children: 3.49, schimmelpen: 0.0, feuerstein: 0.0, mim: 0.0, syndrom: 3.19, sfm: 0.0, had: 2.07, plasma: 3.09, lactat: 5.06, more: 1.64, than: 1.54, 5mmol: 0.0, l: 3.43\n",
      "hf_idf: less: 2.63, than: 1.54, 10: 2.09, %: 1.4, of: 0.0, the: 0.0, gabon: 7.86, ##ese: 7.17, children: 3.49, with: 0.26, sc: 3.16, ##him: 0.0, ##mel: 6.47, ##pen: 4.51, ##ning: 5.06, -: 0.06, fe: 3.81, ##uer: 7.45, ##stein: 4.66, -: 0.06, mi: 4.97, ##ms: 4.36, syndrome: 3.19, (: 0.19, sf: 5.26, ##m: 2.17, ): 0.19, had: 2.07, a: 0.06, plasma: 3.03, lac: 4.36, ##tate: 4.29, of: 0.0, more: 1.64, than: 1.54, 5: 1.59, ##mm: 5.12, ##ol: 2.83, /: 1.07, l: 1.93, .: 0.0\n",
      "---\n"
     ]
    },
    {
     "ename": "IndexError",
     "evalue": "index out of range in self",
     "output_type": "error",
     "traceback": [
      "\u001b[0;31m---------------------------------------------------------------------------\u001b[0m",
      "\u001b[0;31mIndexError\u001b[0m                                Traceback (most recent call last)",
      "Input \u001b[0;32mIn [28]\u001b[0m, in \u001b[0;36m<module>\u001b[0;34m\u001b[0m\n\u001b[1;32m      1\u001b[0m \u001b[38;5;28;01mfor\u001b[39;00m qid \u001b[38;5;129;01min\u001b[39;00m better_query\u001b[38;5;241m.\u001b[39mindex:\n\u001b[0;32m----> 2\u001b[0m     \u001b[43mshow_result_top1_analysis\u001b[49m\u001b[43m(\u001b[49m\u001b[43mqid\u001b[49m\u001b[43m,\u001b[49m\u001b[43m \u001b[49m\u001b[43mcorrect_condition\u001b[49m\u001b[43m)\u001b[49m\n",
      "Input \u001b[0;32mIn [27]\u001b[0m, in \u001b[0;36mshow_result_top1_analysis\u001b[0;34m(qid, show_condition)\u001b[0m\n\u001b[1;32m     49\u001b[0m cid_bm25_tok_score_hf \u001b[38;5;241m=\u001b[39m get_bm25_val(cid_bm25_top1, query, hf_token_bm25_score, hf_tokenizer\u001b[38;5;241m.\u001b[39mtokenize)\n\u001b[1;32m     50\u001b[0m t_doc \u001b[38;5;241m=\u001b[39m tokenizer_doc(cid_bm25_top1, lm_tokenizer\u001b[38;5;241m.\u001b[39manalyze)\n\u001b[0;32m---> 51\u001b[0m t_cos_sims \u001b[38;5;241m=\u001b[39m \u001b[43mmax_cos_sims\u001b[49m\u001b[43m(\u001b[49m\u001b[43mquery\u001b[49m\u001b[43m,\u001b[49m\u001b[43m \u001b[49m\u001b[43mcorpus\u001b[49m\u001b[43m[\u001b[49m\u001b[43mcid_bm25_top1\u001b[49m\u001b[43m]\u001b[49m\u001b[43m,\u001b[49m\u001b[43m \u001b[49m\u001b[43mhf_model\u001b[49m\u001b[43m,\u001b[49m\u001b[43m \u001b[49m\u001b[43mhf_tokenizer\u001b[49m\u001b[43m)\u001b[49m\n\u001b[1;32m     52\u001b[0m \u001b[38;5;28mprint\u001b[39m(\u001b[38;5;124mf\u001b[39m\u001b[38;5;124m\"\u001b[39m\u001b[38;5;124mbm25: \u001b[39m\u001b[38;5;132;01m{\u001b[39;00mcid_bm25_top1 \u001b[38;5;129;01min\u001b[39;00m correct\u001b[38;5;132;01m}\u001b[39;00m\u001b[38;5;124m q-bm25: \u001b[39m\u001b[38;5;132;01m{\u001b[39;00mcid_bm25_tok_score_lm\u001b[38;5;132;01m}\u001b[39;00m\u001b[38;5;124m\"\u001b[39m)\n\u001b[1;32m     53\u001b[0m \u001b[38;5;28mprint\u001b[39m(\u001b[38;5;124mf\u001b[39m\u001b[38;5;124m\"\u001b[39m\u001b[38;5;124mhf-q-bm25: \u001b[39m\u001b[38;5;132;01m{\u001b[39;00mcid_bm25_tok_score_hf\u001b[38;5;132;01m}\u001b[39;00m\u001b[38;5;124m\"\u001b[39m)\n",
      "Input \u001b[0;32mIn [26]\u001b[0m, in \u001b[0;36mmax_cos_sims\u001b[0;34m(query, doc, model, tokenizer)\u001b[0m\n\u001b[1;32m     49\u001b[0m t_doc \u001b[38;5;241m=\u001b[39m tokenizer(doc, return_tensors\u001b[38;5;241m=\u001b[39m\u001b[38;5;124m\"\u001b[39m\u001b[38;5;124mpt\u001b[39m\u001b[38;5;124m\"\u001b[39m)\n\u001b[1;32m     50\u001b[0m \u001b[38;5;28;01mwith\u001b[39;00m torch\u001b[38;5;241m.\u001b[39mno_grad():\n\u001b[0;32m---> 51\u001b[0m     e_doc \u001b[38;5;241m=\u001b[39m \u001b[43mmodel\u001b[49m\u001b[43m(\u001b[49m\u001b[38;5;241;43m*\u001b[39;49m\u001b[38;5;241;43m*\u001b[39;49m\u001b[43mt_doc\u001b[49m\u001b[43m)\u001b[49m\u001b[38;5;241m.\u001b[39mlast_hidden_state\n\u001b[1;32m     52\u001b[0m e_docs, d_att_masks, d_inputs_ids \u001b[38;5;241m=\u001b[39m preproc_rep(e_doc\u001b[38;5;241m.\u001b[39mnumpy(), t_doc[\u001b[38;5;124m\"\u001b[39m\u001b[38;5;124mattention_mask\u001b[39m\u001b[38;5;124m\"\u001b[39m]\u001b[38;5;241m.\u001b[39mnumpy(), t_doc[\u001b[38;5;124m\"\u001b[39m\u001b[38;5;124minput_ids\u001b[39m\u001b[38;5;124m\"\u001b[39m]\u001b[38;5;241m.\u001b[39mnumpy())\n\u001b[1;32m     53\u001b[0m \u001b[38;5;66;03m# print(e_docs.shape, d_att_masks.shape, d_inputs_ids.shape, tokenizer.convert_ids_to_tokens(list(d_inputs_ids[0])))\u001b[39;00m\n",
      "File \u001b[0;32m~/work/IR/LSS_FUNC/analysis/.venv/lib/python3.9/site-packages/torch/nn/modules/module.py:1501\u001b[0m, in \u001b[0;36mModule._call_impl\u001b[0;34m(self, *args, **kwargs)\u001b[0m\n\u001b[1;32m   1496\u001b[0m \u001b[38;5;66;03m# If we don't have any hooks, we want to skip the rest of the logic in\u001b[39;00m\n\u001b[1;32m   1497\u001b[0m \u001b[38;5;66;03m# this function, and just call forward.\u001b[39;00m\n\u001b[1;32m   1498\u001b[0m \u001b[38;5;28;01mif\u001b[39;00m \u001b[38;5;129;01mnot\u001b[39;00m (\u001b[38;5;28mself\u001b[39m\u001b[38;5;241m.\u001b[39m_backward_hooks \u001b[38;5;129;01mor\u001b[39;00m \u001b[38;5;28mself\u001b[39m\u001b[38;5;241m.\u001b[39m_backward_pre_hooks \u001b[38;5;129;01mor\u001b[39;00m \u001b[38;5;28mself\u001b[39m\u001b[38;5;241m.\u001b[39m_forward_hooks \u001b[38;5;129;01mor\u001b[39;00m \u001b[38;5;28mself\u001b[39m\u001b[38;5;241m.\u001b[39m_forward_pre_hooks\n\u001b[1;32m   1499\u001b[0m         \u001b[38;5;129;01mor\u001b[39;00m _global_backward_pre_hooks \u001b[38;5;129;01mor\u001b[39;00m _global_backward_hooks\n\u001b[1;32m   1500\u001b[0m         \u001b[38;5;129;01mor\u001b[39;00m _global_forward_hooks \u001b[38;5;129;01mor\u001b[39;00m _global_forward_pre_hooks):\n\u001b[0;32m-> 1501\u001b[0m     \u001b[38;5;28;01mreturn\u001b[39;00m \u001b[43mforward_call\u001b[49m\u001b[43m(\u001b[49m\u001b[38;5;241;43m*\u001b[39;49m\u001b[43margs\u001b[49m\u001b[43m,\u001b[49m\u001b[43m \u001b[49m\u001b[38;5;241;43m*\u001b[39;49m\u001b[38;5;241;43m*\u001b[39;49m\u001b[43mkwargs\u001b[49m\u001b[43m)\u001b[49m\n\u001b[1;32m   1502\u001b[0m \u001b[38;5;66;03m# Do not call functions when jit is used\u001b[39;00m\n\u001b[1;32m   1503\u001b[0m full_backward_hooks, non_full_backward_hooks \u001b[38;5;241m=\u001b[39m [], []\n",
      "File \u001b[0;32m~/work/IR/LSS_FUNC/analysis/.venv/lib/python3.9/site-packages/transformers/models/mpnet/modeling_mpnet.py:553\u001b[0m, in \u001b[0;36mMPNetModel.forward\u001b[0;34m(self, input_ids, attention_mask, position_ids, head_mask, inputs_embeds, output_attentions, output_hidden_states, return_dict, **kwargs)\u001b[0m\n\u001b[1;32m    550\u001b[0m extended_attention_mask: torch\u001b[38;5;241m.\u001b[39mTensor \u001b[38;5;241m=\u001b[39m \u001b[38;5;28mself\u001b[39m\u001b[38;5;241m.\u001b[39mget_extended_attention_mask(attention_mask, input_shape, device)\n\u001b[1;32m    552\u001b[0m head_mask \u001b[38;5;241m=\u001b[39m \u001b[38;5;28mself\u001b[39m\u001b[38;5;241m.\u001b[39mget_head_mask(head_mask, \u001b[38;5;28mself\u001b[39m\u001b[38;5;241m.\u001b[39mconfig\u001b[38;5;241m.\u001b[39mnum_hidden_layers)\n\u001b[0;32m--> 553\u001b[0m embedding_output \u001b[38;5;241m=\u001b[39m \u001b[38;5;28;43mself\u001b[39;49m\u001b[38;5;241;43m.\u001b[39;49m\u001b[43membeddings\u001b[49m\u001b[43m(\u001b[49m\u001b[43minput_ids\u001b[49m\u001b[38;5;241;43m=\u001b[39;49m\u001b[43minput_ids\u001b[49m\u001b[43m,\u001b[49m\u001b[43m \u001b[49m\u001b[43mposition_ids\u001b[49m\u001b[38;5;241;43m=\u001b[39;49m\u001b[43mposition_ids\u001b[49m\u001b[43m,\u001b[49m\u001b[43m \u001b[49m\u001b[43minputs_embeds\u001b[49m\u001b[38;5;241;43m=\u001b[39;49m\u001b[43minputs_embeds\u001b[49m\u001b[43m)\u001b[49m\n\u001b[1;32m    554\u001b[0m encoder_outputs \u001b[38;5;241m=\u001b[39m \u001b[38;5;28mself\u001b[39m\u001b[38;5;241m.\u001b[39mencoder(\n\u001b[1;32m    555\u001b[0m     embedding_output,\n\u001b[1;32m    556\u001b[0m     attention_mask\u001b[38;5;241m=\u001b[39mextended_attention_mask,\n\u001b[0;32m   (...)\u001b[0m\n\u001b[1;32m    560\u001b[0m     return_dict\u001b[38;5;241m=\u001b[39mreturn_dict,\n\u001b[1;32m    561\u001b[0m )\n\u001b[1;32m    562\u001b[0m sequence_output \u001b[38;5;241m=\u001b[39m encoder_outputs[\u001b[38;5;241m0\u001b[39m]\n",
      "File \u001b[0;32m~/work/IR/LSS_FUNC/analysis/.venv/lib/python3.9/site-packages/torch/nn/modules/module.py:1501\u001b[0m, in \u001b[0;36mModule._call_impl\u001b[0;34m(self, *args, **kwargs)\u001b[0m\n\u001b[1;32m   1496\u001b[0m \u001b[38;5;66;03m# If we don't have any hooks, we want to skip the rest of the logic in\u001b[39;00m\n\u001b[1;32m   1497\u001b[0m \u001b[38;5;66;03m# this function, and just call forward.\u001b[39;00m\n\u001b[1;32m   1498\u001b[0m \u001b[38;5;28;01mif\u001b[39;00m \u001b[38;5;129;01mnot\u001b[39;00m (\u001b[38;5;28mself\u001b[39m\u001b[38;5;241m.\u001b[39m_backward_hooks \u001b[38;5;129;01mor\u001b[39;00m \u001b[38;5;28mself\u001b[39m\u001b[38;5;241m.\u001b[39m_backward_pre_hooks \u001b[38;5;129;01mor\u001b[39;00m \u001b[38;5;28mself\u001b[39m\u001b[38;5;241m.\u001b[39m_forward_hooks \u001b[38;5;129;01mor\u001b[39;00m \u001b[38;5;28mself\u001b[39m\u001b[38;5;241m.\u001b[39m_forward_pre_hooks\n\u001b[1;32m   1499\u001b[0m         \u001b[38;5;129;01mor\u001b[39;00m _global_backward_pre_hooks \u001b[38;5;129;01mor\u001b[39;00m _global_backward_hooks\n\u001b[1;32m   1500\u001b[0m         \u001b[38;5;129;01mor\u001b[39;00m _global_forward_hooks \u001b[38;5;129;01mor\u001b[39;00m _global_forward_pre_hooks):\n\u001b[0;32m-> 1501\u001b[0m     \u001b[38;5;28;01mreturn\u001b[39;00m \u001b[43mforward_call\u001b[49m\u001b[43m(\u001b[49m\u001b[38;5;241;43m*\u001b[39;49m\u001b[43margs\u001b[49m\u001b[43m,\u001b[49m\u001b[43m \u001b[49m\u001b[38;5;241;43m*\u001b[39;49m\u001b[38;5;241;43m*\u001b[39;49m\u001b[43mkwargs\u001b[49m\u001b[43m)\u001b[49m\n\u001b[1;32m   1502\u001b[0m \u001b[38;5;66;03m# Do not call functions when jit is used\u001b[39;00m\n\u001b[1;32m   1503\u001b[0m full_backward_hooks, non_full_backward_hooks \u001b[38;5;241m=\u001b[39m [], []\n",
      "File \u001b[0;32m~/work/IR/LSS_FUNC/analysis/.venv/lib/python3.9/site-packages/transformers/models/mpnet/modeling_mpnet.py:107\u001b[0m, in \u001b[0;36mMPNetEmbeddings.forward\u001b[0;34m(self, input_ids, position_ids, inputs_embeds, **kwargs)\u001b[0m\n\u001b[1;32m    105\u001b[0m \u001b[38;5;28;01mif\u001b[39;00m inputs_embeds \u001b[38;5;129;01mis\u001b[39;00m \u001b[38;5;28;01mNone\u001b[39;00m:\n\u001b[1;32m    106\u001b[0m     inputs_embeds \u001b[38;5;241m=\u001b[39m \u001b[38;5;28mself\u001b[39m\u001b[38;5;241m.\u001b[39mword_embeddings(input_ids)\n\u001b[0;32m--> 107\u001b[0m position_embeddings \u001b[38;5;241m=\u001b[39m \u001b[38;5;28;43mself\u001b[39;49m\u001b[38;5;241;43m.\u001b[39;49m\u001b[43mposition_embeddings\u001b[49m\u001b[43m(\u001b[49m\u001b[43mposition_ids\u001b[49m\u001b[43m)\u001b[49m\n\u001b[1;32m    109\u001b[0m embeddings \u001b[38;5;241m=\u001b[39m inputs_embeds \u001b[38;5;241m+\u001b[39m position_embeddings\n\u001b[1;32m    110\u001b[0m embeddings \u001b[38;5;241m=\u001b[39m \u001b[38;5;28mself\u001b[39m\u001b[38;5;241m.\u001b[39mLayerNorm(embeddings)\n",
      "File \u001b[0;32m~/work/IR/LSS_FUNC/analysis/.venv/lib/python3.9/site-packages/torch/nn/modules/module.py:1501\u001b[0m, in \u001b[0;36mModule._call_impl\u001b[0;34m(self, *args, **kwargs)\u001b[0m\n\u001b[1;32m   1496\u001b[0m \u001b[38;5;66;03m# If we don't have any hooks, we want to skip the rest of the logic in\u001b[39;00m\n\u001b[1;32m   1497\u001b[0m \u001b[38;5;66;03m# this function, and just call forward.\u001b[39;00m\n\u001b[1;32m   1498\u001b[0m \u001b[38;5;28;01mif\u001b[39;00m \u001b[38;5;129;01mnot\u001b[39;00m (\u001b[38;5;28mself\u001b[39m\u001b[38;5;241m.\u001b[39m_backward_hooks \u001b[38;5;129;01mor\u001b[39;00m \u001b[38;5;28mself\u001b[39m\u001b[38;5;241m.\u001b[39m_backward_pre_hooks \u001b[38;5;129;01mor\u001b[39;00m \u001b[38;5;28mself\u001b[39m\u001b[38;5;241m.\u001b[39m_forward_hooks \u001b[38;5;129;01mor\u001b[39;00m \u001b[38;5;28mself\u001b[39m\u001b[38;5;241m.\u001b[39m_forward_pre_hooks\n\u001b[1;32m   1499\u001b[0m         \u001b[38;5;129;01mor\u001b[39;00m _global_backward_pre_hooks \u001b[38;5;129;01mor\u001b[39;00m _global_backward_hooks\n\u001b[1;32m   1500\u001b[0m         \u001b[38;5;129;01mor\u001b[39;00m _global_forward_hooks \u001b[38;5;129;01mor\u001b[39;00m _global_forward_pre_hooks):\n\u001b[0;32m-> 1501\u001b[0m     \u001b[38;5;28;01mreturn\u001b[39;00m \u001b[43mforward_call\u001b[49m\u001b[43m(\u001b[49m\u001b[38;5;241;43m*\u001b[39;49m\u001b[43margs\u001b[49m\u001b[43m,\u001b[49m\u001b[43m \u001b[49m\u001b[38;5;241;43m*\u001b[39;49m\u001b[38;5;241;43m*\u001b[39;49m\u001b[43mkwargs\u001b[49m\u001b[43m)\u001b[49m\n\u001b[1;32m   1502\u001b[0m \u001b[38;5;66;03m# Do not call functions when jit is used\u001b[39;00m\n\u001b[1;32m   1503\u001b[0m full_backward_hooks, non_full_backward_hooks \u001b[38;5;241m=\u001b[39m [], []\n",
      "File \u001b[0;32m~/work/IR/LSS_FUNC/analysis/.venv/lib/python3.9/site-packages/torch/nn/modules/sparse.py:162\u001b[0m, in \u001b[0;36mEmbedding.forward\u001b[0;34m(self, input)\u001b[0m\n\u001b[1;32m    161\u001b[0m \u001b[38;5;28;01mdef\u001b[39;00m \u001b[38;5;21mforward\u001b[39m(\u001b[38;5;28mself\u001b[39m, \u001b[38;5;28minput\u001b[39m: Tensor) \u001b[38;5;241m-\u001b[39m\u001b[38;5;241m>\u001b[39m Tensor:\n\u001b[0;32m--> 162\u001b[0m     \u001b[38;5;28;01mreturn\u001b[39;00m \u001b[43mF\u001b[49m\u001b[38;5;241;43m.\u001b[39;49m\u001b[43membedding\u001b[49m\u001b[43m(\u001b[49m\n\u001b[1;32m    163\u001b[0m \u001b[43m        \u001b[49m\u001b[38;5;28;43minput\u001b[39;49m\u001b[43m,\u001b[49m\u001b[43m \u001b[49m\u001b[38;5;28;43mself\u001b[39;49m\u001b[38;5;241;43m.\u001b[39;49m\u001b[43mweight\u001b[49m\u001b[43m,\u001b[49m\u001b[43m \u001b[49m\u001b[38;5;28;43mself\u001b[39;49m\u001b[38;5;241;43m.\u001b[39;49m\u001b[43mpadding_idx\u001b[49m\u001b[43m,\u001b[49m\u001b[43m \u001b[49m\u001b[38;5;28;43mself\u001b[39;49m\u001b[38;5;241;43m.\u001b[39;49m\u001b[43mmax_norm\u001b[49m\u001b[43m,\u001b[49m\n\u001b[1;32m    164\u001b[0m \u001b[43m        \u001b[49m\u001b[38;5;28;43mself\u001b[39;49m\u001b[38;5;241;43m.\u001b[39;49m\u001b[43mnorm_type\u001b[49m\u001b[43m,\u001b[49m\u001b[43m \u001b[49m\u001b[38;5;28;43mself\u001b[39;49m\u001b[38;5;241;43m.\u001b[39;49m\u001b[43mscale_grad_by_freq\u001b[49m\u001b[43m,\u001b[49m\u001b[43m \u001b[49m\u001b[38;5;28;43mself\u001b[39;49m\u001b[38;5;241;43m.\u001b[39;49m\u001b[43msparse\u001b[49m\u001b[43m)\u001b[49m\n",
      "File \u001b[0;32m~/work/IR/LSS_FUNC/analysis/.venv/lib/python3.9/site-packages/torch/nn/functional.py:2210\u001b[0m, in \u001b[0;36membedding\u001b[0;34m(input, weight, padding_idx, max_norm, norm_type, scale_grad_by_freq, sparse)\u001b[0m\n\u001b[1;32m   2204\u001b[0m     \u001b[38;5;66;03m# Note [embedding_renorm set_grad_enabled]\u001b[39;00m\n\u001b[1;32m   2205\u001b[0m     \u001b[38;5;66;03m# XXX: equivalent to\u001b[39;00m\n\u001b[1;32m   2206\u001b[0m     \u001b[38;5;66;03m# with torch.no_grad():\u001b[39;00m\n\u001b[1;32m   2207\u001b[0m     \u001b[38;5;66;03m#   torch.embedding_renorm_\u001b[39;00m\n\u001b[1;32m   2208\u001b[0m     \u001b[38;5;66;03m# remove once script supports set_grad_enabled\u001b[39;00m\n\u001b[1;32m   2209\u001b[0m     _no_grad_embedding_renorm_(weight, \u001b[38;5;28minput\u001b[39m, max_norm, norm_type)\n\u001b[0;32m-> 2210\u001b[0m \u001b[38;5;28;01mreturn\u001b[39;00m \u001b[43mtorch\u001b[49m\u001b[38;5;241;43m.\u001b[39;49m\u001b[43membedding\u001b[49m\u001b[43m(\u001b[49m\u001b[43mweight\u001b[49m\u001b[43m,\u001b[49m\u001b[43m \u001b[49m\u001b[38;5;28;43minput\u001b[39;49m\u001b[43m,\u001b[49m\u001b[43m \u001b[49m\u001b[43mpadding_idx\u001b[49m\u001b[43m,\u001b[49m\u001b[43m \u001b[49m\u001b[43mscale_grad_by_freq\u001b[49m\u001b[43m,\u001b[49m\u001b[43m \u001b[49m\u001b[43msparse\u001b[49m\u001b[43m)\u001b[49m\n",
      "\u001b[0;31mIndexError\u001b[0m: index out of range in self"
     ]
    }
   ],
   "source": [
    "for qid in better_query.index:\n",
    "    show_result_top1_analysis(qid, correct_condition)"
   ]
  },
  {
   "cell_type": "code",
   "execution_count": 29,
   "metadata": {},
   "outputs": [
    {
     "name": "stdout",
     "output_type": "stream",
     "text": [
      "------\n",
      "qid: 237, query: Cells lacking clpC have a defect in sporulation efficiency in Bacillus subtilis.\n",
      "lm_idf: cell: 0.72, lack: 2.7, clpc: 7.45, have: 0.98, defect: 2.91, sporul: 6.94, effici: 2.82, bacillu: 5.56, subtili: 5.91\n",
      "hf_idf: cells: 0.97, lacking: 3.54, cl: 3.11, ##pc: 4.86, have: 1.01, a: 0.06, defect: 4.26, in: 0.02, sp: 3.02, ##or: 2.13, ##ulation: 3.63, efficiency: 3.93, in: 0.02, ba: 3.83, ##ci: 2.67, ##llus: 5.42, sub: 2.39, ##ti: 2.84, ##lis: 5.15, .: 0.0\n",
      "---\n"
     ]
    },
    {
     "name": "stderr",
     "output_type": "stream",
     "text": [
      "/tmp/ipykernel_1624749/1542452337.py:3: RuntimeWarning: invalid value encountered in true_divide\n",
      "  reps /= np.linalg.norm(reps, axis=2)[:, :, np.newaxis]\n"
     ]
    },
    {
     "name": "stdout",
     "output_type": "stream",
     "text": [
      "bm25: True q-bm25: cell: 1.0, lack: 0.0, clpc: 0.0, have: 0.0, defect: 3.61, sporul: 11.92, effici: 0.0, bacillu: 6.88, subtili: 8.29\n",
      "hf-q-bm25: cells: 0.0, lacking: 0.0, cl: 0.0, ##pc: 0.0, have: 0.0, a: 0.09, defect: 0.0, in: 0.03, sp: 5.42, ##or: 3.68, ##ulation: 6.26, efficiency: 0.0, in: 0.03, ba: 4.84, ##ci: 3.37, ##llus: 6.84, sub: 3.39, ##ti: 4.04, ##lis: 7.32, .: 0.0\n",
      "cos-sims: cells: 0.0, lacking: 0.0, cl: 0.0, ##pc: 0.0, have: 0.0, a: 0.53, defect: 0.0, in: 0.61, sp: 0.59, ##or: 0.59, ##ulation: 0.59, efficiency: 0.0, ba: 0.61, ##ci: 0.61, ##llus: 0.63, sub: 0.64, ##ti: 0.63, ##lis: 0.61, .: 0.56\n",
      "t_doc: ['high', 'throughput', 'genet', 'screen', 'identifi', 'larg', 'divers', 'collect', 'new', 'sporul', 'gene', 'bacillu', 'subtili', 'differenti', 'bacterium', 'bacillu', 'subtili', 'dormant', 'spore', 'among', 'most', 'well', 'character', 'development', 'pathwai', 'biologi', 'classic', 'genet', 'screen', 'perform', 'over', 'past', 'half', 'centuri', 'identifi', 'score', 'factor', 'involv', 'everi', 'step', 'morpholog', 'process', 'more', 'recent', 'transcript', 'profil', 'uncov', 'addit', 'sporul', 'induc', 'gene', 'requir', 'success', 'spore', 'develop', 'here', 'we', 'us', 'transposon', 'sequenc', 'tn', 'seq', 'assess', 'whether', 'were', 'ani', 'sporul', 'gene', 'left', 'discov', 'our', 'screen', 'identifi', '133', 'out', '148', 'gene', 'known', 'sporul', 'defect', 'surprisingli', 'we', 'discov', '24', 'addit', 'gene', 'had', 'been', 'previous', 'implic', 'spore', 'format', 'investig', 'function', 'we', 'us', 'fluoresc', 'microscopi', 'survei', 'earli', 'middl', 'late', 'stage', 'differenti', 'null', 'mutant', 'from', 'b', 'subtili', 'order', 'knockout', 'collect', 'analysi', 'identifi', 'mutant', 'delai', 'initi', 'sporul', 'defect', 'membran', 'remodel', 'impair', 'spore', 'matur', 'sever', 'mutant', 'had', 'novel', 'sporul', 'phenotyp', 'we', 'perform', 'depth', 'character', 'two', 'new', 'factor', 'particip', 'cell', 'cell', 'signal', 'pathwai', 'dure', 'sporul', 'on', 'spoiit', 'function', 'activ', 'σe', 'mother', 'cell', 'other', 'spoiiil', 'requir', 'σg', 'activ', 'forespor', 'our', 'analysi', 'also', 'reveal', 'mani', '36', 'sporul', 'induc', 'gene', 'previous', 'report', 'mutant', 'phenotyp', 'requir', 'time', 'spore', 'matur', 'final', 'we', 'discov', 'larg', 'set', 'transposon', 'insert', 'trigger', 'prematur', 'initi', 'sporul', 'our', 'result', 'highlight', 'power', 'tn', 'seq', 'discoveri', 'new', 'gene', 'novel', 'pathwai', 'sporul', 'combin', 'recent', 'complet', 'null', 'mutant', 'collect', 'open', 'door', 'similar', 'screen', 'other', 'less', 'well', 'character', 'process']\n",
      "dense: True q-bm25: cells: 0.0, lacking: 0.0, cl: 0.0, ##pc: 0.0, have: 0.0, a: 0.09, defect: 0.0, in: 0.03, sp: 5.42, ##or: 3.68, ##ulation: 6.26, efficiency: 0.0, in: 0.03, ba: 4.84, ##ci: 3.37, ##llus: 6.84, sub: 3.39, ##ti: 4.04, ##lis: 7.32, .: 0.0\n",
      "t_doc: ['high', '-', 'through', '##put', 'genetic', 'screens', 'identify', 'a', 'large', 'and', 'diverse', 'collection', 'of', 'new', 'sp', '##or', '##ulation', 'genes', 'in', 'ba', '##ci', '##llus', 'sub', '##ti', '##lis', 'the', 'differentiation', 'of', 'the', 'bacterium', 'ba', '##ci', '##llus', 'sub', '##ti', '##lis', 'into', 'a', 'dormant', 'sp', '##ore', 'is', 'among', 'the', 'most', 'well', '-', 'characterized', 'developmental', 'pathways', 'in', 'biology', '.', 'classical', 'genetic', 'screens', 'performed', 'over', 'the', 'past', 'half', 'century', 'identified', 'scores', 'of', 'factors', 'involved', 'in', 'every', 'step', 'of', 'this', 'morphological', 'process', '.', 'more', 'recently', ',', 'transcription', '##al', 'prof', '##iling', 'uncovered', 'additional', 'sp', '##or', '##ulation', '-', 'induced', 'genes', 'required', 'for', 'successful', 'sp', '##ore', 'development', '.', 'here', ',', 'we', 'used', 'trans', '##po', '##son', '-', 'sequencing', '(', 'tn', '-', 'se', '##q', ')', 'to', 'assess', 'whether', 'there', 'were', 'any', 'sp', '##or', '##ulation', 'genes', 'left', 'to', 'be', 'discovered', '.', 'our', 'screen', 'identified', '133', 'out', 'of', 'the', '148', 'genes', 'with', 'known', 'sp', '##or', '##ulation', 'defects', '.', 'surprisingly', ',', 'we', 'discovered', '24', 'additional', 'genes', 'that', 'had', 'not', 'been', 'previously', 'implicated', 'in', 'sp', '##ore', 'formation', '.', 'to', 'investigate', 'their', 'functions', ',', 'we', 'used', 'flu', '##orescence', 'microscopy', 'to', 'survey', 'early', ',', 'middle', ',', 'and', 'late', 'stages', 'of', 'differentiation', 'of', 'null', 'mutants', 'from', 'the', 'b', '.', 'sub', '##ti', '##lis', 'ordered', 'knockout', 'collection', '.', 'this', 'analysis', 'identified', 'mutants', 'that', 'are', 'delayed', 'in', 'the', 'initiation', 'of', 'sp', '##or', '##ulation', ',', 'defective', 'in', 'membrane', 're', '##mo', '##del', '##ing', ',', 'and', 'impaired', 'in', 'sp', '##ore', 'mat', '##uration', '.', 'several', 'mutants', 'had', 'novel', 'sp', '##or', '##ulation', 'ph', '##eno', '##type', '##s', '.', 'we', 'performed', 'in', '-', 'depth', 'characterization', 'of', 'two', 'new', 'factors', 'that', 'participate', 'in', 'cell', '-', 'cell', 'signaling', 'pathways', 'during', 'sp', '##or', '##ulation', '.', 'one', '(', 'sp', '##oi', '##it', ')', 'functions', 'in', 'the', 'activation', 'of', 'σ', '##e', 'in', 'the', 'mother', 'cell', ';', 'the', 'other', '(', 'sp', '##oi', '##ii', '##l', ')', 'is', 'required', 'for', 'σ', '##g', 'activity', 'in', 'the', 'fore', '##sp', '##ore', '.', 'our', 'analysis', 'also', 'revealed', 'that', 'as', 'many', 'as', '36', 'sp', '##or', '##ulation', '-', 'induced', 'genes', 'with', 'no', 'previously', 'reported', 'mutant', 'ph', '##eno', '##type', '##s', 'are', 'required', 'for', 'timely', 'sp', '##ore', 'mat', '##uration', '.', 'finally', ',', 'we', 'discovered', 'a', 'large', 'set', 'of', 'trans', '##po', '##son', 'insertion', '##s', 'that', 'trigger', 'premature', 'initiation', 'of', 'sp', '##or', '##ulation', '.', 'our', 'results', 'highlight', 'the', 'power', 'of', 'tn', '-', 'se', '##q', 'for', 'the', 'discovery', 'of', 'new', 'genes', 'and', 'novel', 'pathways', 'in', 'sp', '##or', '##ulation', 'and', ',', 'combined', 'with', 'the', 'recently', 'completed', 'null', 'mutant', 'collection', ',', 'open', 'the', 'door', 'for', 'similar', 'screens', 'in', 'other', ',', 'less', 'well', '-', 'characterized', 'processes', '.']\n",
      "wdense: True, q-bm25: cells: 0.0, lacking: 0.0, cl: 0.0, ##pc: 0.0, have: 0.0, a: 0.09, defect: 0.0, in: 0.03, sp: 5.42, ##or: 3.68, ##ulation: 6.26, efficiency: 0.0, in: 0.03, ba: 4.84, ##ci: 3.37, ##llus: 6.84, sub: 3.39, ##ti: 4.04, ##lis: 7.32, .: 0.0\n",
      "t_doc: ['high', '-', 'through', '##put', 'genetic', 'screens', 'identify', 'a', 'large', 'and', 'diverse', 'collection', 'of', 'new', 'sp', '##or', '##ulation', 'genes', 'in', 'ba', '##ci', '##llus', 'sub', '##ti', '##lis', 'the', 'differentiation', 'of', 'the', 'bacterium', 'ba', '##ci', '##llus', 'sub', '##ti', '##lis', 'into', 'a', 'dormant', 'sp', '##ore', 'is', 'among', 'the', 'most', 'well', '-', 'characterized', 'developmental', 'pathways', 'in', 'biology', '.', 'classical', 'genetic', 'screens', 'performed', 'over', 'the', 'past', 'half', 'century', 'identified', 'scores', 'of', 'factors', 'involved', 'in', 'every', 'step', 'of', 'this', 'morphological', 'process', '.', 'more', 'recently', ',', 'transcription', '##al', 'prof', '##iling', 'uncovered', 'additional', 'sp', '##or', '##ulation', '-', 'induced', 'genes', 'required', 'for', 'successful', 'sp', '##ore', 'development', '.', 'here', ',', 'we', 'used', 'trans', '##po', '##son', '-', 'sequencing', '(', 'tn', '-', 'se', '##q', ')', 'to', 'assess', 'whether', 'there', 'were', 'any', 'sp', '##or', '##ulation', 'genes', 'left', 'to', 'be', 'discovered', '.', 'our', 'screen', 'identified', '133', 'out', 'of', 'the', '148', 'genes', 'with', 'known', 'sp', '##or', '##ulation', 'defects', '.', 'surprisingly', ',', 'we', 'discovered', '24', 'additional', 'genes', 'that', 'had', 'not', 'been', 'previously', 'implicated', 'in', 'sp', '##ore', 'formation', '.', 'to', 'investigate', 'their', 'functions', ',', 'we', 'used', 'flu', '##orescence', 'microscopy', 'to', 'survey', 'early', ',', 'middle', ',', 'and', 'late', 'stages', 'of', 'differentiation', 'of', 'null', 'mutants', 'from', 'the', 'b', '.', 'sub', '##ti', '##lis', 'ordered', 'knockout', 'collection', '.', 'this', 'analysis', 'identified', 'mutants', 'that', 'are', 'delayed', 'in', 'the', 'initiation', 'of', 'sp', '##or', '##ulation', ',', 'defective', 'in', 'membrane', 're', '##mo', '##del', '##ing', ',', 'and', 'impaired', 'in', 'sp', '##ore', 'mat', '##uration', '.', 'several', 'mutants', 'had', 'novel', 'sp', '##or', '##ulation', 'ph', '##eno', '##type', '##s', '.', 'we', 'performed', 'in', '-', 'depth', 'characterization', 'of', 'two', 'new', 'factors', 'that', 'participate', 'in', 'cell', '-', 'cell', 'signaling', 'pathways', 'during', 'sp', '##or', '##ulation', '.', 'one', '(', 'sp', '##oi', '##it', ')', 'functions', 'in', 'the', 'activation', 'of', 'σ', '##e', 'in', 'the', 'mother', 'cell', ';', 'the', 'other', '(', 'sp', '##oi', '##ii', '##l', ')', 'is', 'required', 'for', 'σ', '##g', 'activity', 'in', 'the', 'fore', '##sp', '##ore', '.', 'our', 'analysis', 'also', 'revealed', 'that', 'as', 'many', 'as', '36', 'sp', '##or', '##ulation', '-', 'induced', 'genes', 'with', 'no', 'previously', 'reported', 'mutant', 'ph', '##eno', '##type', '##s', 'are', 'required', 'for', 'timely', 'sp', '##ore', 'mat', '##uration', '.', 'finally', ',', 'we', 'discovered', 'a', 'large', 'set', 'of', 'trans', '##po', '##son', 'insertion', '##s', 'that', 'trigger', 'premature', 'initiation', 'of', 'sp', '##or', '##ulation', '.', 'our', 'results', 'highlight', 'the', 'power', 'of', 'tn', '-', 'se', '##q', 'for', 'the', 'discovery', 'of', 'new', 'genes', 'and', 'novel', 'pathways', 'in', 'sp', '##or', '##ulation', 'and', ',', 'combined', 'with', 'the', 'recently', 'completed', 'null', 'mutant', 'collection', ',', 'open', 'the', 'door', 'for', 'similar', 'screens', 'in', 'other', ',', 'less', 'well', '-', 'characterized', 'processes', '.']\n",
      "cbm25: False q-bm25: cells: 1.02, lacking: 0.0, cl: 5.68, ##pc: 6.61, have: 0.0, a: 0.1, defect: 0.0, in: 0.03, sp: 0.0, ##or: 0.0, ##ulation: 0.0, efficiency: 0.0, in: 0.03, ba: 5.21, ##ci: 4.01, ##llus: 7.37, sub: 3.59, ##ti: 4.26, ##lis: 7.74, .: 0.0\n",
      "cos-sims: cells: 0.56, lacking: 0.0, cl: 0.57, ##pc: 0.57, have: 0.0, a: 0.55, defect: 0.0, in: 0.58, sp: 0.0, ##or: 0.0, ##ulation: 0.0, efficiency: 0.0, ba: 0.6, ##ci: 0.62, ##llus: 0.64, sub: 0.65, ##ti: 0.64, ##lis: 0.63, .: 0.62\n",
      "t_doc: ['fine', '-', 'tuning', 'in', 'regulation', 'of', 'cl', '##p', 'protein', 'content', 'in', 'ba', '##ci', '##llus', 'sub', '##ti', '##lis', '.', 'cl', '##p', '-', 'controlled', 'pro', '##te', '##ol', '##ysis', 'in', 'ba', '##ci', '##llus', 'sub', '##ti', '##lis', 'seems', 'to', 'play', 'a', 'substantial', 'role', ',', 'particularly', 'under', 'stress', 'conditions', '.', 'cal', '##ib', '##rated', 'western', 'b', '##lot', 'analyses', 'were', 'used', 'to', 'estimate', 'the', 'approximate', 'numbers', 'of', 'heat', '-', 'ind', '##ucible', 'cl', '##p', 'molecules', 'within', 'a', 'single', 'cell', '.', 'according', 'to', 'these', 'numbers', ',', 'the', 'different', 'cl', '##p', 'atp', '##ase', '##s', 'do', 'not', 'seem', 'to', 'compete', 'for', 'the', 'pro', '##te', '##ol', '##ytic', 'subunit', 'cl', '##pp', '.', 'co', '##im', '##mun', '##op', '##re', '##ci', '##pit', '##ation', 'experiments', 'revealed', 'the', 'predicted', 'specific', 'cl', '##p', '##x', '-', 'cl', '##pp', ',', 'cl', '##pc', '-', 'cl', '##pp', ',', 'and', 'cl', '##pe', '-', 'cl', '##pp', 'interactions', '.', 'cl', '##pe', 'and', 'cl', '##p', '##x', 'are', 'rapidly', 'degraded', 'in', 'wild', '-', 'type', 'cells', 'during', 'permanent', 'heat', 'stress', 'but', 'remained', 'almost', 'stable', 'in', 'a', 'cl', '##pp', 'mutant', ',', 'suggesting', 'cl', '##pp', '-', 'dependent', 'degradation', '.', 'in', 'particular', ',', 'cl', '##pc', '##p', 'appeared', 'to', 'be', 'involved', 'in', 'the', 'degradation', 'of', 'the', 'short', '-', 'lived', 'cl', '##pe', 'atp', '##ase', ',', 'indicating', 'a', 'negative', '\"', 'auto', '##re', '##gul', '##atory', '\"', 'circuit', 'for', 'this', 'particular', 'cl', '##p', 'atp', '##ase', 'at', 'the', 'post', '##tra', '##ns', '##lation', '##al', 'level', '.', 'analysis', 'of', 'the', 'half', '-', 'life', 'of', 'stress', '-', 'ind', '##ucible', 'cl', '##p', 'mrna', '##s', 'during', 'exponential', 'growth', 'and', 'heat', 'shock', 'revealed', 'precise', 'regulation', 'of', 'the', 'synthesis', 'of', 'each', 'cl', '##p', 'protein', 'at', 'the', 'post', '##tra', '##ns', '##cript', '##ional', 'level', 'as', 'well', 'to', 'meet', 'the', 'needs', 'of', 'b', '.', 'sub', '##ti', '##lis', '.']\n",
      "------\n",
      "skip qid 513\n"
     ]
    }
   ],
   "source": [
    "for qid in worse_query.index:\n",
    "    show_result_top1_analysis(qid, false_condition)"
   ]
  },
  {
   "cell_type": "markdown",
   "metadata": {},
   "source": [
    "# BM25-HF-tokenizer"
   ]
  },
  {
   "cell_type": "code",
   "execution_count": 49,
   "metadata": {},
   "outputs": [
    {
     "name": "stdout",
     "output_type": "stream",
     "text": [
      "cid: 21598000, score: 14.453\n",
      "cid: 35231675, score: 26.209\n",
      "{'text': 'CLIP-170 is a \"cytoplasmic linker protein\" implicated in endosome-microtubule interactions and in control of microtubule dynamics. CLIP-170 localizes dynamically to growing microtubule plus ends, colocalizing with the dynein activator dynactin and the APC-binding protein EB1. This shared \"plus-end tracking\" behavior suggests that CLIP-170 might interact with dynactin and/or EB1. We have used site-specific mutagenesis of CLIP-170 and a transfection/colocalization assay to address this question in mammalian tissue culture cells. Our results indicate that CLIP-170 interacts, directly or indirectly, with both dynactin and EB1. We find that the CLIP-170/dynactin interaction is mediated by the second metal binding motif of the CLIP-170 tail. In contrast, the CLIP-170/EB1 interaction requires neither metal binding motif. In addition, our experiments suggest that the CLIP-170/dynactin interaction occurs via the shoulder/sidearm subcomplex of dynactin and can occur in the cytosol (i.e., it does not require microtubule binding). These results have implications for the targeting of both dynactin and EB1 to microtubule plus ends. Our data suggest that the CLIP-170/dynactin interaction can target dynactin complex to microtubule plus ends, although dynactin likely also targets MT plus ends directly via the microtubule binding motif of the p150(Glued) subunit. We find that CLIP-170 mutants alter p150(Glued) localization without affecting EB1, indicating that EB1 can target microtubule plus ends independently of dynactin.', 'title': 'CLIP-170 interacts with dynactin complex and the APC-binding protein EB1 by different mechanisms.'}\n",
      "cid: 21598000, score: 25.339\n",
      "{'text': 'Plus-end tracking proteins, such as EB1 and the dynein/dynactin complex, regulate microtubule dynamics. These proteins are thought to stabilize microtubules by forming a plus-end complex at microtubule growing ends with ill-defined mechanisms. Here we report the crystal structure of two plus-end complex components, the carboxy-terminal dimerization domain of EB1 and the microtubule binding (CAP-Gly) domain of the dynactin subunit p150Glued. Each molecule of the EB1 dimer contains two helices forming a conserved four-helix bundle, while also providing p150Glued binding sites in its flexible tail region. Combining crystallography, NMR, and mutational analyses, our studies reveal the critical interacting elements of both EB1 and p150Glued, whose mutation alters microtubule polymerization activity. Moreover, removal of the key flexible tail from EB1 activates microtubule assembly by EB1 alone, suggesting that the flexible tail negatively regulates EB1 activity. We, therefore, propose that EB1 possesses an auto-inhibited conformation, which is relieved by p150Glued as an allosteric activator.', 'title': 'Structural basis for the activation of microtubule assembly by the EB1 and p150Glued complex.'}\n",
      "cid: 10423989, score: 22.105\n",
      "{'text': 'The nuclear matrix antigen recognized by the monoclonal antibody (mAb) B1C8 is a novel serine (S) and arginine (R)-rich protein associated with splicing complexes and is named here SRm160 (SR-related matrix protein of 160 kD). SRm160 contains multiple SR repeats, but unlike proteins of the SR family of splicing factors, lacks an RNA recognition motif. SRm160 and a related protein SRm300 (the 300-kD nuclear matrix antigen recognized by mAb B4A11) form a complex that is required for the splicing of specific pre-mRNAs. The SRm160/300 complex associates with splicing complexes and promotes splicing through interactions with SR family proteins. Binding of SRm160/300 to pre-mRNA is normally also dependent on U1 snRNP and is stabilized by U2 snRNP. Thus, SRm160/300 forms multiple interactions with components bound directly to important sites within pre-mRNA. The results suggest that a complex of the nuclear matrix proteins SRm160 and SRm300 functions as a coactivator of pre-mRNA splicing.', 'title': 'A coactivator of pre-mRNA splicing.'}\n"
     ]
    }
   ],
   "source": [
    "qid = \"127\"\n",
    "cid_cbm25_top1, score = sorted(cbm25_result[func_name][qid].items(), key=lambda x: -x[1])[0]\n",
    "print(f\"cid: {cid_cbm25_top1}, score: {round(score,3)}\")\n",
    "\n",
    "search_result = search_bm25(queries[qid], hf_token_bm25_score, hf_tokenizer.tokenize)\n",
    "for cid, score in sorted(search_result.items(), key=lambda x: -x[1])[:3]:\n",
    "    print(f\"cid: {cid}, score: {round(score,3)}\")\n",
    "    bm25_val = get_bm25_val(cid, queries[qid], hf_token_bm25_score, hf_tokenizer.tokenize)\n",
    "    print(corpus[cid])"
   ]
  },
  {
   "cell_type": "code",
   "execution_count": 37,
   "metadata": {},
   "outputs": [
    {
     "data": {
      "text/plain": [
       "('<dbpedia:CatalunyaCaixa>', 14.438369397728444)"
      ]
     },
     "execution_count": 37,
     "metadata": {},
     "output_type": "execute_result"
    }
   ],
   "source": [
    "sorted(cbm25_result[func_name][\"INEX_XER-141\"].items(), key=lambda x: -x[1])[0]"
   ]
  },
  {
   "cell_type": "code",
   "execution_count": 38,
   "metadata": {},
   "outputs": [
    {
     "name": "stdout",
     "output_type": "stream",
     "text": [
      "Give me all movies directed by Francis Ford Coppola.\n",
      "bm25\n",
      "give: 0.0, me: 5.83, all: 0.0, movies: 0.0, directed: 0.0, by: 0.0, francis: 5.66, ford: 6.38, cop: 6.81, ##pol: 5.96, ##a: 2.4, .: 0.01\n",
      "give: 0.0, me: 0.49, all: 0.0, movies: 0.0, directed: 0.0, by: 0.0, francis: 0.6, ford: 0.61, cop: 0.61, ##pol: 0.61, ##a: 0.58, .: 0.46\n",
      "cmb25\n",
      "give: 0.0, me: 0.0, all: 0.0, movies: 0.0, directed: 4.38, by: 1.91, francis: 6.6, ford: 7.44, cop: 9.88, ##pol: 8.64, ##a: 3.48, .: 0.01\n",
      "give: 0.0, me: 0.0, all: 0.0, movies: 0.0, directed: 0.65, by: 0.69, francis: 0.71, ford: 0.72, cop: 0.71, ##pol: 0.68, ##a: 0.66, .: 0.61\n"
     ]
    },
    {
     "name": "stderr",
     "output_type": "stream",
     "text": [
      "/tmp/ipykernel_1552515/1542452337.py:3: RuntimeWarning: invalid value encountered in true_divide\n",
      "  reps /= np.linalg.norm(reps, axis=2)[:, :, np.newaxis]\n"
     ]
    }
   ],
   "source": [
    "qid = \"QALD2_te-28\"\n",
    "cid = \"<dbpedia:Don't_Box_Me_In>\"\n",
    "query = queries[qid]\n",
    "print(query)\n",
    "print(\"bm25\")\n",
    "print(get_bm25_val(cid, query, hf_token_bm25_score, hf_tokenizer.tokenize))\n",
    "print(max_cos_sims(query, corpus[cid], hf_model, hf_tokenizer))\n",
    "print(\"cmb25\")\n",
    "cid = \"<dbpedia:The_Godfather>\"\n",
    "print(get_bm25_val(cid, query, hf_token_bm25_score, hf_tokenizer.tokenize))\n",
    "print(max_cos_sims(query, corpus[cid], hf_model, hf_tokenizer))"
   ]
  },
  {
   "cell_type": "code",
   "execution_count": null,
   "metadata": {},
   "outputs": [],
   "source": [
    "qid = \"INEX_LD-20120512\"\n",
    "cid = '<dbpedia:GP_Basic>'\n",
    "query = queries[qid]\n",
    "print(query)\n",
    "print(get_bm25_val(cid, query, hf_token_bm25_score, hf_tokenizer.tokenize))\n",
    "print(max_cos_sims(query, corpus[cid], hf_model, hf_tokenizer))"
   ]
  },
  {
   "cell_type": "code",
   "execution_count": null,
   "metadata": {},
   "outputs": [],
   "source": [
    "qid = \"INEX_XER-141\"\n",
    "cid = '<dbpedia:Open_University_of_Catalonia>'\n",
    "query = queries[qid]\n",
    "print('dense')\n",
    "print(query)\n",
    "print(get_bm25_val(cid, query, hf_token_bm25_score, hf_tokenizer.tokenize))\n",
    "print(max_cos_sims(query, corpus[cid], hf_model, hf_tokenizer))\n",
    "print(\"cbm25\")\n",
    "cid = '<dbpedia:CatalunyaCaixa>'\n",
    "print(get_bm25_val(cid, query, hf_token_bm25_score, hf_tokenizer.tokenize))\n",
    "print(max_cos_sims(query, corpus[cid], hf_model, hf_tokenizer))"
   ]
  },
  {
   "cell_type": "code",
   "execution_count": null,
   "metadata": {},
   "outputs": [],
   "source": [
    "qid = \"INEX_LD-20120121\"\n",
    "cid = \"<dbpedia:Raw_Food_Made_Easy_for_1_or_2_People>\"\n",
    "query = queries[qid]\n",
    "print(query)\n",
    "print(\"bm25\")\n",
    "print(get_bm25_val(cid, query, hf_token_bm25_score, hf_tokenizer.tokenize))\n",
    "print(max_cos_sims(query, corpus[cid], hf_model, hf_tokenizer))\n",
    "print(tokenizer_doc(cid, hf_tokenizer.tokenize))\n",
    "print(\"cbm25\")\n",
    "cid = \"<dbpedia:Luke_Nguyen's_Vietnam>\"\n",
    "print(get_bm25_val(cid, query, hf_token_bm25_score, hf_tokenizer.tokenize))\n",
    "print(max_cos_sims(query, corpus[cid], hf_model, hf_tokenizer))"
   ]
  },
  {
   "cell_type": "code",
   "execution_count": null,
   "metadata": {},
   "outputs": [],
   "source": [
    "for i in sorted(cbm25_result[func_name][\"INEX_LD-20120121\"].items(), key=lambda x: -x[1]):\n",
    "    print(i, corpus[i[0]])"
   ]
  },
  {
   "cell_type": "code",
   "execution_count": null,
   "metadata": {},
   "outputs": [],
   "source": [
    "lm_tokenizer.analyze(\"Vietnamese\")"
   ]
  },
  {
   "cell_type": "code",
   "execution_count": null,
   "metadata": {},
   "outputs": [],
   "source": [
    "def show_result_top1_comp_wdense(qid, show_condition):\n",
    "    def extract_top1(result):\n",
    "        return sorted(result[qid].items(), key=lambda x: -x[1])[0]\n",
    "    \n",
    "    bm25_top1 = extract_top1(bm25_result)\n",
    "    dense_top1 = extract_top1(dense_result)\n",
    "    wdense_top1 = extract_top1(weighted_dense_result)\n",
    "    cbm25_top1 = extract_top1(cbm25_result[func_name])\n",
    "    \n",
    "    correct = qrels[qid]\n",
    "    # if show_condition(cbm25_top1[0], wdense_top1[0], correct) and wdense_top1[0] != dense_top1[0]:\n",
    "    if wdense_top1[0] != dense_top1[0]:\n",
    "        print(\"------\")\n",
    "        print(f\"qid: {qid}, query: {queries[qid]}\")\n",
    "        print(bm25_top1[0] in correct, f\"bm25: {corpus[bm25_top1[0]]}\")\n",
    "        print(dense_top1[0] in correct, f\"dense: {corpus[dense_top1[0]]}\")\n",
    "        print(wdense_top1[0] in correct, f\"wdense: {corpus[wdense_top1[0]]}\")\n",
    "        print(cbm25_top1[0] in correct, f\"cbm25: {corpus[cbm25_top1[0]]}\")\n",
    "    else:\n",
    "        print(\"------\")\n",
    "        print(f\"skip qid {qid}\")"
   ]
  },
  {
   "cell_type": "code",
   "execution_count": null,
   "metadata": {},
   "outputs": [],
   "source": [
    "target_qid = []\n",
    "for qid, sup in diff_scores_wdense.items():\n",
    "    if sup < 0:\n",
    "        continue\n",
    "    diff = wdense_scores[qid][\"ndcg_cut_10\"] - dense_scores[qid][\"ndcg_cut_10\"]\n",
    "    if diff > 0:\n",
    "        target_qid.append(qid)\n",
    "        \n",
    "for qid in target_qid:\n",
    "    show_result_top1_comp_wdense(qid, correct_condition)"
   ]
  },
  {
   "cell_type": "code",
   "execution_count": null,
   "metadata": {},
   "outputs": [],
   "source": [
    "for i in pd.Series(pd.Series(diff_scores_wdense) > 0).index:\n",
    "    show_result_top1_comp_wdense(i, correct_condition)"
   ]
  },
  {
   "cell_type": "code",
   "execution_count": null,
   "metadata": {},
   "outputs": [],
   "source": [
    "sorted(cbm25_result[func_name][\"QALD2_te-28\"].items(), key=lambda x: -x[1])[0]"
   ]
  },
  {
   "cell_type": "code",
   "execution_count": null,
   "metadata": {},
   "outputs": [],
   "source": [
    "hf_token_bm25_score['<dbpedia:All_of_Me_(1984_film)>']"
   ]
  },
  {
   "cell_type": "code",
   "execution_count": null,
   "metadata": {},
   "outputs": [],
   "source": [
    "hf_token_bm25_score['<dbpedia:The_Godfather>']"
   ]
  },
  {
   "cell_type": "code",
   "execution_count": null,
   "metadata": {},
   "outputs": [],
   "source": [
    "qid = \"QALD2_te-64\"\n",
    "cid = \"<dbpedia:Launch_Control_Center>\"\n",
    "query = queries[qid]\n",
    "print(query)\n",
    "print(\"bm25\")\n",
    "print(get_bm25_val(cid, query, hf_token_bm25_score, hf_tokenizer.tokenize))\n",
    "print(max_cos_sims(query, corpus[cid], hf_model, hf_tokenizer))\n",
    "print(\"cmb25\")\n",
    "cid = \"<dbpedia:Vandenberg_AFB_Space_Launch_Complex_4>\"\n",
    "print(get_bm25_val(cid, query, hf_token_bm25_score, hf_tokenizer.tokenize))\n",
    "print(max_cos_sims(query, corpus[cid], hf_model, hf_tokenizer))"
   ]
  },
  {
   "cell_type": "code",
   "execution_count": null,
   "metadata": {},
   "outputs": [],
   "source": [
    "hf_token_bm25_score[\"<dbpedia:Launch_Control_Center>\"]"
   ]
  },
  {
   "cell_type": "code",
   "execution_count": null,
   "metadata": {},
   "outputs": [],
   "source": [
    "hf_token_bm25_score[\"<dbpedia:Vandenberg_AFB_Space_Launch_Complex_4>\"]"
   ]
  },
  {
   "cell_type": "code",
   "execution_count": null,
   "metadata": {},
   "outputs": [],
   "source": [
    "names = [\"Carl Reiner\", \"Steve Martin\", \"Lily Tomlin \"]\n",
    "for name in names:\n",
    "    print(\", \".join([f\"{tn}: {round(hf_idf[tn], 2)}\" for tn in hf_tokenizer.tokenize(name)]))"
   ]
  },
  {
   "cell_type": "code",
   "execution_count": null,
   "metadata": {},
   "outputs": [],
   "source": []
  }
 ],
 "metadata": {
  "kernelspec": {
   "display_name": "Python 3",
   "language": "python",
   "name": "python3"
  },
  "language_info": {
   "codemirror_mode": {
    "name": "ipython",
    "version": 3
   },
   "file_extension": ".py",
   "mimetype": "text/x-python",
   "name": "python",
   "nbconvert_exporter": "python",
   "pygments_lexer": "ipython3",
   "version": "3.8.3"
  }
 },
 "nbformat": 4,
 "nbformat_minor": 5
}
