{
 "cells": [
  {
   "cell_type": "code",
   "execution_count": 1,
   "id": "e2d75d9c",
   "metadata": {},
   "outputs": [
    {
     "name": "stderr",
     "output_type": "stream",
     "text": [
      "/home/iida.h/work/IR/LSS_FUNC/analysis/.venv/lib/python3.9/site-packages/beir/datasets/data_loader.py:2: TqdmExperimentalWarning: Using `tqdm.autonotebook.tqdm` in notebook mode. Use `tqdm.tqdm` instead to force console mode (e.g. in jupyter console)\n",
      "  from tqdm.autonotebook import tqdm\n"
     ]
    }
   ],
   "source": [
    "import json\n",
    "import os\n",
    "from collections import defaultdict\n",
    "import numpy as np\n",
    "import pytrec_eval\n",
    "from scipy.stats import ttest_rel\n",
    "from tqdm.notebook import tqdm\n",
    "\n",
    "from common import QrelDataLoader, weight_add_result"
   ]
  },
  {
   "cell_type": "code",
   "execution_count": null,
   "id": "d6739130",
   "metadata": {},
   "outputs": [],
   "source": []
  },
  {
   "cell_type": "code",
   "execution_count": 2,
   "id": "c95b11e9",
   "metadata": {},
   "outputs": [],
   "source": [
    "def each_q_evaluate(qrels, results, k_values=[1, 10, 100]):\n",
    "    map_string = \"map_cut.\" + \",\".join([str(k) for k in k_values])\n",
    "    recall_string = \"recall.\" + \",\".join([str(k) for k in k_values])\n",
    "    precision_string = \"P.\" + \",\".join([str(k) for k in k_values])\n",
    "    ndcg_string = \"ndcg_cut.\" + \",\".join([str(k) for k in k_values])\n",
    "    evaluator = pytrec_eval.RelevanceEvaluator(qrels, {map_string, ndcg_string, recall_string, precision_string})\n",
    "    # evaluator = pytrec_eval.RelevanceEvaluator(qrels, {ndcg_string})\n",
    "    scores = evaluator.evaluate(results)\n",
    "    return scores"
   ]
  },
  {
   "cell_type": "code",
   "execution_count": 3,
   "id": "a0c6e0e9",
   "metadata": {},
   "outputs": [],
   "source": [
    "def pair_t_test(qrels, results1, results2, metric=\"ndcg_cut_10\"):\n",
    "    evaluate_result1 = each_q_evaluate(qrels, results1)\n",
    "    evaluate_result2 = each_q_evaluate(qrels, results2)\n",
    "    result1_scores = [evaluate_result1[qid][metric] if qid in evaluate_result1 else 0 for qid in qrels.keys()]\n",
    "    result2_scores = [evaluate_result2[qid][metric] if qid in evaluate_result2 else 0 for qid in qrels.keys()]\n",
    "    test_result = ttest_rel(result1_scores, result2_scores)\n",
    "    return test_result"
   ]
  },
  {
   "cell_type": "code",
   "execution_count": 32,
   "id": "8922f805",
   "metadata": {},
   "outputs": [],
   "source": [
    "def test_per_dataset_w_bm25_dense(source_result, dataset, data_dir_root, result_dir_root):\n",
    "    data_dir = os.path.join(data_dir_root, dataset)\n",
    "    queries, qrels = QrelDataLoader(data_folder=data_dir).load(split=\"test\")\n",
    "    qids = list(qrels.keys())\n",
    "\n",
    "    bm25_result_path = os.path.join(result_dir_root, dataset, \"result/bm25/analysis.json\")\n",
    "    dense_result_path = os.path.join(result_dir_root, dataset, \"result/dot/mpnet-v3-mse-beir-dot/analysis.json\")\n",
    "\n",
    "    with open(bm25_result_path) as f:\n",
    "        bm25_result = json.load(f)\n",
    "    \n",
    "    with open(dense_result_path) as f:\n",
    "        dense_result = json.load(f)\n",
    "        \n",
    "    each_result = {\"bm25\": bm25_result, \"dense\": dense_result}\n",
    "    test_results = {}\n",
    "    for key, target_result in each_result.items():\n",
    "        test_result = pair_t_test(qrels, source_result, target_result)\n",
    "        test_results[key] = test_result\n",
    "        \n",
    "    return test_results"
   ]
  },
  {
   "cell_type": "code",
   "execution_count": 33,
   "id": "a21f8510",
   "metadata": {},
   "outputs": [],
   "source": [
    "def test_per_dataset_w_splade(source_result, dataset, data_dir_root, result_dir_root):\n",
    "    data_dir = os.path.join(data_dir_root, dataset)\n",
    "    queries, qrels = QrelDataLoader(data_folder=data_dir).load(split=\"test\")\n",
    "    qids = list(qrels.keys())\n",
    "\n",
    "    splade_result_path = os.path.join(result_dir_root, dataset, \"result/dot/distil-splade/analysis.json\")\n",
    "\n",
    "    result_pathes = {\"splade\": splade_result_path }\n",
    "    test_results = {}\n",
    "    for key, result_path in result_pathes.items():\n",
    "        with open(result_path) as f:\n",
    "            target_result = json.load(f)\n",
    "        test_result = pair_t_test(qrels, source_result, target_result)\n",
    "        test_results[key] = test_result\n",
    "    return test_results"
   ]
  },
  {
   "cell_type": "code",
   "execution_count": 34,
   "id": "d58bfbc0",
   "metadata": {},
   "outputs": [],
   "source": [
    "# def multiple_test(test_pvalues, alpha):\n",
    "#     rejects = defaultdict(list)\n",
    "#     for algo, pvalues in test_pvalues.items():\n",
    "#         sorted_pvalues = sorted(pvalues.items(), key=lambda x: x[1])\n",
    "#         sorted_pvalues = [(ds, pvalue) for ds, pvalue in sorted_pvalues if ds not in {\"msmarco\", \"trec-robust04-title\"}]\n",
    "#         M = len(sorted_pvalues)\n",
    "#         for i, (ds, pvalue) in enumerate(sorted_pvalues):\n",
    "#             fixed_pvalue = pvalue * M / (i+1) * sum([1/j for j in range(1,i+2)])\n",
    "#             if fixed_pvalue > alpha:\n",
    "#                 break\n",
    "#             rejects[algo].append(ds)\n",
    "#     return rejects\n",
    "    "
   ]
  },
  {
   "cell_type": "code",
   "execution_count": 72,
   "id": "52204a6f",
   "metadata": {},
   "outputs": [],
   "source": [
    "def multiple_test(test_pvalues, alpha):\n",
    "    rejects = {}\n",
    "    for algo, pvalues in test_pvalues.items():\n",
    "        not_rejects = list()\n",
    "        all_ds = {ds for ds in pvalues.keys() if ds not in {\"msmarco\", \"trec-robust04-title\"}}\n",
    "        sorted_pvalues = sorted(pvalues.items(), key=lambda x: -x[1])\n",
    "        sorted_pvalues = [(ds, pvalue) for ds, pvalue in sorted_pvalues if ds not in {\"msmarco\", \"trec-robust04-title\"}]\n",
    "        M = len(sorted_pvalues)\n",
    "        q = sorted_pvalues[0][1]\n",
    "        for i, (ds, pvalue) in enumerate(sorted_pvalues):\n",
    "            # fixed_pvalue = pvalue * M / ((M-i) * sum([1/j for j in range(1,(M-i+1))]))\n",
    "            fixed_pvalue = pvalue * M / (M-i)\n",
    "            q = min(fixed_pvalue, q)\n",
    "            print(algo, ds, pvalue, fixed_pvalue)\n",
    "            if fixed_pvalue < alpha:\n",
    "                break\n",
    "            not_rejects.append(ds)\n",
    "        rejects[algo] = all_ds - set(not_rejects)\n",
    "    return rejects"
   ]
  },
  {
   "cell_type": "code",
   "execution_count": 52,
   "id": "b4cf10df",
   "metadata": {},
   "outputs": [],
   "source": [
    "data_dir_root = \"/home/gaia_data/iida.h/BEIR/datasets/\"\n",
    "result_dir_root = \"/home/gaia_data/iida.h/BEIR/C-BM25/results/\"\n",
    "    \n",
    "cbm25_test_pvalues = defaultdict(dict)\n",
    "cbm25_test_results = defaultdict(dict)\n",
    "datasets = [\"arguana\", \"climate-fever\", \"dbpedia-entity\", \"fever\", \"fiqa\", \"hotpotqa\", \"msmarco\", \"nfcorpus\", \"nq\",\n",
    "      \"quora\", \"scidocs\", \"scifact\", \"trec-covid\", \"trec-robust04-title\", \"trec-robust04-desc\", \"webis-touche2020\"]\n",
    "for dataset in datasets:\n",
    "    cbm25_result_path = os.path.join(result_dir_root, dataset, \"result/lss/mpnet-tod/analysis.json\")\n",
    "    with open(cbm25_result_path) as f:\n",
    "        source_result = list(json.load(f).values())[0]\n",
    "    test_dataset_results = test_per_dataset_w_bm25_dense(source_result, dataset, data_dir_root, result_dir_root)\n",
    "    cbm25_test_results[dataset] = test_dataset_results\n",
    "    for algo, test_dataset_result in test_dataset_results.items():\n",
    "        if test_dataset_result.statistic > 0:\n",
    "            cbm25_test_pvalues[algo][dataset] = test_dataset_result.pvalue"
   ]
  },
  {
   "cell_type": "code",
   "execution_count": 53,
   "id": "7de5eff9",
   "metadata": {},
   "outputs": [
    {
     "data": {
      "text/plain": [
       "defaultdict(dict,\n",
       "            {'bm25': {'arguana': 2.464945516201108e-40,\n",
       "              'climate-fever': 4.933654838352857e-62,\n",
       "              'dbpedia-entity': 1.4446514667235053e-16,\n",
       "              'fever': 0.0,\n",
       "              'fiqa': 8.201073482955002e-22,\n",
       "              'hotpotqa': 1.1579499482805089e-245,\n",
       "              'msmarco': 2.9292923269298105e-06,\n",
       "              'nfcorpus': 5.2136776178102795e-06,\n",
       "              'nq': 5.233053743559298e-183,\n",
       "              'quora': 1.6705795409597773e-106,\n",
       "              'scidocs': 3.7572179679093955e-07,\n",
       "              'scifact': 0.00013028857098378187,\n",
       "              'trec-covid': 1.2479070705800925e-07,\n",
       "              'trec-robust04-title': 0.0005139565923109141,\n",
       "              'trec-robust04-desc': 1.0558573144856432e-05},\n",
       "             'dense': {'climate-fever': 2.2949247509158473e-12,\n",
       "              'dbpedia-entity': 0.48272237799948015,\n",
       "              'fever': 3.8020274747604186e-34,\n",
       "              'fiqa': 0.5110611664728221,\n",
       "              'hotpotqa': 9.69867730632712e-203,\n",
       "              'nfcorpus': 1.0316574546982503e-05,\n",
       "              'quora': 0.00242901532897886,\n",
       "              'scidocs': 7.247991959010593e-06,\n",
       "              'scifact': 6.259015852140619e-12,\n",
       "              'trec-covid': 9.519905220751728e-06,\n",
       "              'trec-robust04-title': 1.0168557296733272e-07,\n",
       "              'trec-robust04-desc': 0.01013176065757653,\n",
       "              'webis-touche2020': 1.0365139708074771e-07}})"
      ]
     },
     "execution_count": 53,
     "metadata": {},
     "output_type": "execute_result"
    }
   ],
   "source": [
    "cbm25_test_pvalues"
   ]
  },
  {
   "cell_type": "code",
   "execution_count": 76,
   "id": "84ecb777",
   "metadata": {},
   "outputs": [
    {
     "name": "stdout",
     "output_type": "stream",
     "text": [
      "bm25 scifact 0.00013028857098378187 0.00013028857098378187\n",
      "dense fiqa 0.5110611664728221 0.5110611664728221\n",
      "dense dbpedia-entity 0.48272237799948015 0.5266062305448874\n",
      "dense trec-robust04-desc 0.01013176065757653 0.012158112789091836\n"
     ]
    },
    {
     "data": {
      "text/plain": [
       "{'bm25': {'arguana',\n",
       "  'climate-fever',\n",
       "  'dbpedia-entity',\n",
       "  'fever',\n",
       "  'fiqa',\n",
       "  'hotpotqa',\n",
       "  'nfcorpus',\n",
       "  'nq',\n",
       "  'quora',\n",
       "  'scidocs',\n",
       "  'scifact',\n",
       "  'trec-covid',\n",
       "  'trec-robust04-desc'},\n",
       " 'dense': {'climate-fever',\n",
       "  'fever',\n",
       "  'hotpotqa',\n",
       "  'nfcorpus',\n",
       "  'quora',\n",
       "  'scidocs',\n",
       "  'scifact',\n",
       "  'trec-covid',\n",
       "  'trec-robust04-desc',\n",
       "  'webis-touche2020'}}"
      ]
     },
     "execution_count": 76,
     "metadata": {},
     "output_type": "execute_result"
    }
   ],
   "source": [
    "multiple_test(cbm25_test_pvalues, 0.05)"
   ]
  },
  {
   "cell_type": "code",
   "execution_count": 37,
   "id": "befecc80",
   "metadata": {},
   "outputs": [],
   "source": [
    "def load_dataset_and_cbm25_dense_bm25_result(dataset, data_dir_root, result_dir_root):\n",
    "    data_dir = os.path.join(data_dir_root, dataset)\n",
    "    queries, qrels = QrelDataLoader(data_folder=data_dir).load(split=\"test\")\n",
    "    bm25_result_path = os.path.join(result_dir_root, dataset, \"result/bm25/analysis.json\")\n",
    "    cbm25_result_path = os.path.join(result_dir_root, dataset, \"result/lss/mpnet-tod/analysis.json\")\n",
    "    dense_result_path = os.path.join(result_dir_root, dataset, \"result/dot/mpnet-v3-mse-beir-dot/analysis.json\")\n",
    "\n",
    "    with open(cbm25_result_path) as f:\n",
    "        cbm25_result = list(json.load(f).values())[0]\n",
    "\n",
    "    with open(bm25_result_path) as f:\n",
    "        bm25_result = json.load(f)\n",
    "        \n",
    "    with open(dense_result_path) as f:\n",
    "        dense_result = json.load(f)\n",
    "            \n",
    "    all_qids = qrels.keys()\n",
    "    return (all_qids, qrels, cbm25_result, dense_result, bm25_result)"
   ]
  },
  {
   "cell_type": "code",
   "execution_count": 55,
   "id": "bee4be63",
   "metadata": {},
   "outputs": [
    {
     "data": {
      "application/json": {
       "ascii": false,
       "bar_format": null,
       "colour": null,
       "elapsed": 0.003820180892944336,
       "initial": 0,
       "n": 0,
       "ncols": null,
       "nrows": 38,
       "postfix": null,
       "prefix": "",
       "rate": null,
       "total": 16,
       "unit": "it",
       "unit_divisor": 1000,
       "unit_scale": false
      },
      "application/vnd.jupyter.widget-view+json": {
       "model_id": "a0497c281e4b4b988504d67de7d09b8d",
       "version_major": 2,
       "version_minor": 0
      },
      "text/plain": [
       "  0%|          | 0/16 [00:00<?, ?it/s]"
      ]
     },
     "metadata": {},
     "output_type": "display_data"
    }
   ],
   "source": [
    "data_dir_root = \"/home/gaia_data/iida.h/BEIR/datasets/\"\n",
    "result_dir_root = \"/home/gaia_data/iida.h/BEIR/C-BM25/results/\"\n",
    "    \n",
    "datasets = [\"arguana\", \"climate-fever\", \"dbpedia-entity\", \"fever\", \"fiqa\", \"hotpotqa\", \"msmarco\", \"nfcorpus\", \"nq\",\n",
    "      \"quora\", \"scidocs\", \"scifact\", \"trec-covid\", \"trec-robust04-title\", \"trec-robust04-desc\", \"webis-touche2020\"]\n",
    "\n",
    "hcbm25_test_pvalues = defaultdict(dict)\n",
    "hcbm25_test_results = defaultdict(dict)\n",
    "for dataset in tqdm(datasets):\n",
    "    all_qids, qrels, cbm25_result, dense_result, bm25_result = load_dataset_and_cbm25_dense_bm25_result(dataset, data_dir_root, result_dir_root)\n",
    "    hbm25_result = weight_add_result(bm25_result, dense_result, all_qids, 0.5)\n",
    "    hcbm25_result = weight_add_result(cbm25_result, dense_result, all_qids, 0.5)\n",
    "    hbm25_test_dataset_results = {\"hbm25\": pair_t_test(qrels, hcbm25_result, hbm25_result)}\n",
    "    sp_test_dataset_results = test_per_dataset_w_splade(hcbm25_result, dataset, data_dir_root, result_dir_root)\n",
    "    test_dataset_results = {**hbm25_test_dataset_results, **sp_test_dataset_results}\n",
    "    hcbm25_test_results[dataset] = test_dataset_results\n",
    "    for algo, test_dataset_result in test_dataset_results.items():\n",
    "        if test_dataset_result.statistic > 0:\n",
    "            hcbm25_test_pvalues[algo][dataset] = test_dataset_result.pvalue\n",
    "                                                                   "
   ]
  },
  {
   "cell_type": "code",
   "execution_count": 56,
   "id": "9f94f513",
   "metadata": {},
   "outputs": [
    {
     "data": {
      "text/plain": [
       "defaultdict(dict,\n",
       "            {'arguana': {'hbm25': Ttest_relResult(statistic=7.6224058309373035, pvalue=4.5583093241402896e-14),\n",
       "              'splade': Ttest_relResult(statistic=-3.1576434612552964, pvalue=0.0016243289360790471)},\n",
       "             'climate-fever': {'hbm25': Ttest_relResult(statistic=5.8161653065573, pvalue=7.314597323453154e-09),\n",
       "              'splade': Ttest_relResult(statistic=5.211544751216174, pvalue=2.1273486714276232e-07)},\n",
       "             'dbpedia-entity': {'hbm25': Ttest_relResult(statistic=-0.3199438251015226, pvalue=0.7491783822684387),\n",
       "              'splade': Ttest_relResult(statistic=-4.537767687587477, pvalue=7.534238479434832e-06)},\n",
       "             'fever': {'hbm25': Ttest_relResult(statistic=2.8377193750063374, pvalue=0.004557436815083441),\n",
       "              'splade': Ttest_relResult(statistic=-3.3615659747112727, pvalue=0.0007793783757575142)},\n",
       "             'fiqa': {'hbm25': Ttest_relResult(statistic=0.1908144019112572, pvalue=0.8487308634256152),\n",
       "              'splade': Ttest_relResult(statistic=1.9026690228315137, pvalue=0.05752742333854616)},\n",
       "             'hotpotqa': {'hbm25': Ttest_relResult(statistic=-0.4791283868500216, pvalue=0.6318614463454983),\n",
       "              'splade': Ttest_relResult(statistic=-6.6942075348767585, pvalue=2.326879602304469e-11)},\n",
       "             'msmarco': {'hbm25': Ttest_relResult(statistic=-2.50789994157832, pvalue=0.01609576250783916),\n",
       "              'splade': Ttest_relResult(statistic=-1.171967085542169, pvalue=0.24781554806750272)},\n",
       "             'nfcorpus': {'hbm25': Ttest_relResult(statistic=0.795791732795734, pvalue=0.42673935264084695),\n",
       "              'splade': Ttest_relResult(statistic=-0.4052338826417677, pvalue=0.6855746995748234)},\n",
       "             'nq': {'hbm25': Ttest_relResult(statistic=-6.986225290167213, pvalue=3.373682989811699e-12),\n",
       "              'splade': Ttest_relResult(statistic=-9.334149642968429, pvalue=1.7702487697241637e-20)},\n",
       "             'quora': {'hbm25': Ttest_relResult(statistic=-6.551429240897746, pvalue=5.979414388003311e-11),\n",
       "              'splade': Ttest_relResult(statistic=15.76756220126878, pvalue=2.408375867943711e-55)},\n",
       "             'scidocs': {'hbm25': Ttest_relResult(statistic=0.4083733632838562, pvalue=0.6830871007461452),\n",
       "              'splade': Ttest_relResult(statistic=2.097624232310192, pvalue=0.036189138053583675)},\n",
       "             'scifact': {'hbm25': Ttest_relResult(statistic=0.8447806564816261, pvalue=0.39890875877594256),\n",
       "              'splade': Ttest_relResult(statistic=2.1519499101500648, pvalue=0.032201734792060024)},\n",
       "             'trec-covid': {'hbm25': Ttest_relResult(statistic=4.855005862598018, pvalue=1.2696341895143044e-05),\n",
       "              'splade': Ttest_relResult(statistic=1.906137334405086, pvalue=0.06250663936426228)},\n",
       "             'trec-robust04-title': {'hbm25': Ttest_relResult(statistic=1.9722134933546045, pvalue=0.0496963162295799),\n",
       "              'splade': Ttest_relResult(statistic=2.2493911729644696, pvalue=0.025365403406381788)},\n",
       "             'trec-robust04-desc': {'hbm25': Ttest_relResult(statistic=-0.8477719422960409, pvalue=0.397382434873391),\n",
       "              'splade': Ttest_relResult(statistic=2.3285300991037947, pvalue=0.020688456214385968)},\n",
       "             'webis-touche2020': {'hbm25': Ttest_relResult(statistic=2.0046359794735036, pvalue=0.050660407219942166),\n",
       "              'splade': Ttest_relResult(statistic=4.006550074671652, pvalue=0.00021353971037997772)}})"
      ]
     },
     "execution_count": 56,
     "metadata": {},
     "output_type": "execute_result"
    }
   ],
   "source": [
    "hcbm25_test_results"
   ]
  },
  {
   "cell_type": "code",
   "execution_count": 57,
   "id": "90d34983",
   "metadata": {},
   "outputs": [
    {
     "data": {
      "text/plain": [
       "defaultdict(dict,\n",
       "            {'hbm25': {'arguana': 4.5583093241402896e-14,\n",
       "              'climate-fever': 7.314597323453154e-09,\n",
       "              'fever': 0.004557436815083441,\n",
       "              'fiqa': 0.8487308634256152,\n",
       "              'nfcorpus': 0.42673935264084695,\n",
       "              'scidocs': 0.6830871007461452,\n",
       "              'scifact': 0.39890875877594256,\n",
       "              'trec-covid': 1.2696341895143044e-05,\n",
       "              'trec-robust04-title': 0.0496963162295799,\n",
       "              'webis-touche2020': 0.050660407219942166},\n",
       "             'splade': {'climate-fever': 2.1273486714276232e-07,\n",
       "              'fiqa': 0.05752742333854616,\n",
       "              'quora': 2.408375867943711e-55,\n",
       "              'scidocs': 0.036189138053583675,\n",
       "              'scifact': 0.032201734792060024,\n",
       "              'trec-covid': 0.06250663936426228,\n",
       "              'trec-robust04-title': 0.025365403406381788,\n",
       "              'trec-robust04-desc': 0.020688456214385968,\n",
       "              'webis-touche2020': 0.00021353971037997772}})"
      ]
     },
     "execution_count": 57,
     "metadata": {},
     "output_type": "execute_result"
    }
   ],
   "source": [
    "hcbm25_test_pvalues"
   ]
  },
  {
   "cell_type": "code",
   "execution_count": 79,
   "id": "43bcf366",
   "metadata": {},
   "outputs": [
    {
     "name": "stdout",
     "output_type": "stream",
     "text": [
      "hbm25 fiqa 0.8487308634256152 0.8487308634256152\n",
      "hbm25 scidocs 0.6830871007461452 0.7684729883394134\n",
      "hbm25 nfcorpus 0.42673935264084695 0.5486648819668032\n",
      "hbm25 scifact 0.39890875877594256 0.5983631381639138\n",
      "hbm25 webis-touche2020 0.050660407219942166 0.09118873299589589\n",
      "hbm25 fever 0.004557436815083441 0.010254232833937742\n",
      "splade trec-covid 0.06250663936426228 0.06250663936426228\n",
      "splade fiqa 0.05752742333854616 0.06574562667262418\n",
      "splade scidocs 0.036189138053583675 0.0482521840714449\n"
     ]
    },
    {
     "data": {
      "text/plain": [
       "{'hbm25': {'arguana', 'climate-fever', 'fever', 'trec-covid'},\n",
       " 'splade': {'climate-fever',\n",
       "  'quora',\n",
       "  'scidocs',\n",
       "  'scifact',\n",
       "  'trec-robust04-desc',\n",
       "  'webis-touche2020'}}"
      ]
     },
     "execution_count": 79,
     "metadata": {},
     "output_type": "execute_result"
    }
   ],
   "source": [
    "multiple_test(hcbm25_test_pvalues, 0.05)"
   ]
  },
  {
   "cell_type": "code",
   "execution_count": null,
   "id": "f7a5387f",
   "metadata": {},
   "outputs": [],
   "source": []
  }
 ],
 "metadata": {
  "kernelspec": {
   "display_name": "Python 3 (ipykernel)",
   "language": "python",
   "name": "python3"
  },
  "language_info": {
   "codemirror_mode": {
    "name": "ipython",
    "version": 3
   },
   "file_extension": ".py",
   "mimetype": "text/x-python",
   "name": "python",
   "nbconvert_exporter": "python",
   "pygments_lexer": "ipython3",
   "version": "3.9.6"
  }
 },
 "nbformat": 4,
 "nbformat_minor": 5
}
