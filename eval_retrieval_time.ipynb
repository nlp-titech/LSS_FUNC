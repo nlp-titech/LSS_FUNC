{
 "cells": [
  {
   "cell_type": "code",
   "execution_count": 2,
   "id": "96c7724b",
   "metadata": {},
   "outputs": [],
   "source": [
    "import json\n",
    "import numpy as np\n",
    "from pathlib import Path\n",
    "from dataclasses import dataclass\n",
    "from lss_func.coil import Coil\n",
    "from beir.reranking.models import CrossEncoder\n",
    "from beir.retrieval.search.dense import DenseRetrievalExactSearch as DRES\n",
    "from beir.retrieval import models"
   ]
  },
  {
   "cell_type": "code",
   "execution_count": null,
   "id": "0056a5a8",
   "metadata": {},
   "outputs": [],
   "source": [
    "@dataclass\n",
    "class ModelArg:\n",
    "    token_dim: int = 768\n",
    "    cls_dim: int = 768\n",
    "    pooler_mode: str =\"ave\"\n",
    "    window_size: int = 5\n",
    "    cls_norm_after: bool = False\n",
    "    token_norm_after: bool = False\n",
    "    token_rep_relu: bool = False"
   ]
  },
  {
   "cell_type": "code",
   "execution_count": null,
   "id": "2e8f0746",
   "metadata": {},
   "outputs": [],
   "source": [
    "query_path = \"\"\n",
    "queries = []\n",
    "\n",
    "with open(query_path) as f:\n",
    "    for line in f:\n",
    "        jquery = json.loads(line)[\"text\"]\n",
    "        queries.append(jquery)\n",
    "        \n",
    "sample_query = queries[0]"
   ]
  },
  {
   "cell_type": "code",
   "execution_count": null,
   "id": "9c8dea84",
   "metadata": {},
   "outputs": [],
   "source": [
    "model_name_or_path = \"\""
   ]
  },
  {
   "cell_type": "code",
   "execution_count": null,
   "id": "95e4030c",
   "metadata": {},
   "outputs": [],
   "source": [
    "model_args = ModelArg()\n",
    "model = Coil(model_name_or_path, model_args)\n",
    "model.eval()"
   ]
  },
  {
   "cell_type": "code",
   "execution_count": null,
   "id": "8d7597a5",
   "metadata": {},
   "outputs": [],
   "source": [
    "shards_dir = Path(\"\").glob(\"**/\")\n",
    "shards_ivl = []\n",
    "shards_shard_map = []\n",
    "shards_tok_id_2_reps = []\n",
    "shards_cls_ex_ids = []\n",
    "for doc_shard in shards_dir:\n",
    "    all_ivl_scatter_maps = torch.load(os.path.join(doc_shard, \"ivl_scatter_maps.pt\"))\n",
    "    all_shard_scatter_maps = torch.load(os.path.join(doc_shard, \"shard_scatter_maps.pt\"))\n",
    "    tok_id_2_reps = torch.load(os.path.join(doc_shard, \"tok_reps.pt\"))\n",
    "    cls_ex_ids = torch.load(os.path.join(doc_shard, \"cls_ex_ids.pt\"))\n",
    "    tok_id_2_reps = dict_2_float(tok_id_2_reps)\n",
    "    shards_ivl.append(all_ivl_scatter_maps)\n",
    "    shards_shard_map.append(all_shard_scatter_maps)\n",
    "    shards_tok_id_2_reps.append(tok_id_2_reps)\n",
    "    shards_cls_ex_ids.append(cls_ex_ids)\n"
   ]
  },
  {
   "cell_type": "code",
   "execution_count": null,
   "id": "485cc573",
   "metadata": {},
   "outputs": [],
   "source": [
    "top_k = 100\n",
    "all_query_match_scores = defaultdict(float)"
   ]
  },
  {
   "cell_type": "code",
   "execution_count": null,
   "id": "04f8d36d",
   "metadata": {},
   "outputs": [],
   "source": [
    "%time\n",
    "\n",
    "q_input = model.tokenizer(sample_query, retern_tensor=\"pt\")\n",
    "qtok_ids = q_input[\"input_ids\"]\n",
    "q_tok_reps = model.encode_corpus_raw(q_input)\n",
    "\n",
    "for all_ivl_scatter_maps, all_shard_scatter_maps, tok_id_2_reps, cls_ex_ids in zip(shards_ivl, shards_shard_map, shards_tok_id_2_reps, shards_cls_ex_ids):\n",
    "    match_scores = torch.zeros(len(cls_ex_ids))\n",
    "    batched_tok_scores = []\n",
    "    for q_tok_id, q_tok_rep in zip(qtok_ids, q_tok_reps):\n",
    "        tok_reps = tok_id_2_reps[q_tok_id]\n",
    "        tok_scores = torch.matmul(q_tok_rep, tok_reps.transpose(0, 1)).relu_()  # Bt * Ds\n",
    "        batched_tok_scores.append(tok_scores)\n",
    "\n",
    "    for i, q_tok_id in enumerate(qtok_ids):\n",
    "        ivl_scatter_map = all_ivl_scatter_maps[q_tok_id]\n",
    "        shard_scatter_map = all_shard_scatter_maps[q_tok_id]\n",
    "\n",
    "        tok_scores = batched_tok_scores[i]\n",
    "        ivl_maxed_scores = torch.empty(len(shard_scatter_map))\n",
    "\n",
    "        for j in range(tok_scores.size(0)):\n",
    "            ivl_maxed_scores.zero_()\n",
    "            c_scatter.scatter_max(tok_scores[j].numpy(), ivl_scatter_map.numpy(), ivl_maxed_scores.numpy())\n",
    "            match_scores.scatter_add_(0, shard_scatter_map, ivl_maxed_scores)\n",
    "\n",
    "        top_scores, top_iids = match_scores.topk(top_k)\n",
    "        for iid, score in zip(top_iids, top_scores):\n",
    "            all_query_match_scores[iid] += score        \n",
    "\n",
    "top_result = sorted(all_query_match_scores.items(), key=lambda x: -x[1])"
   ]
  },
  {
   "cell_type": "code",
   "execution_count": null,
   "id": "e39fa0c8",
   "metadata": {},
   "outputs": [],
   "source": [
    "del shards_ivl\n",
    "del shards_shard_map\n",
    "del shards_tok_id_2_reps\n",
    "del shards_cls_ex_ids"
   ]
  },
  {
   "cell_type": "code",
   "execution_count": null,
   "id": "66c5a16c",
   "metadata": {},
   "outputs": [],
   "source": [
    "dense_index_path = \"\"\n",
    "dense_index = np.load(dense_index_path)"
   ]
  },
  {
   "cell_type": "code",
   "execution_count": null,
   "id": "97241eaf",
   "metadata": {},
   "outputs": [],
   "source": [
    "dense_model_path = \"\"\n",
    "model = models.SentenceBERT(dense_model_path)"
   ]
  },
  {
   "cell_type": "code",
   "execution_count": null,
   "id": "b8aef903",
   "metadata": {},
   "outputs": [],
   "source": [
    "%time\n",
    "\n",
    "q_input = model.tokenizer(sample_query, retern_tensor=\"pt\")\n",
    "qtok_ids = q_input[\"input_ids\"]\n",
    "q_rep = model.encode_queries(q_input)\n",
    "\n",
    "scores = np.dot(dense_indes, q_rep)\n",
    "top_iids = np.argsort(-scores)[:top_k]"
   ]
  },
  {
   "cell_type": "code",
   "execution_count": null,
   "id": "9dd11f45",
   "metadata": {},
   "outputs": [],
   "source": [
    "del dense_index"
   ]
  },
  {
   "cell_type": "code",
   "execution_count": null,
   "id": "5351491c",
   "metadata": {},
   "outputs": [],
   "source": [
    "ce_model = CrossEncoder('cross-encoder/ms-marco-electra-base')"
   ]
  },
  {
   "cell_type": "code",
   "execution_count": null,
   "id": "05a93e27",
   "metadata": {},
   "outputs": [],
   "source": [
    "corpus_path = \"\"\n",
    "corpus = []\n",
    "all_ids = []\n",
    "with open(corpus_path) as f:\n",
    "    for line in f:\n",
    "        jline = json.loads(line)\n",
    "        corpus.append(\" \".join(jline[\"title\"], jline[\"text\"]))\n",
    "        all_ids.append(jline[\"_iod\"])"
   ]
  },
  {
   "cell_type": "code",
   "execution_count": null,
   "id": "cebe7beb",
   "metadata": {},
   "outputs": [],
   "source": [
    "% time\n",
    "\n",
    "input_ce = []\n",
    "for c in corpus:\n",
    "    input_ce.append((sample_query, c))\n",
    "    \n",
    "scores = ce_model.predict(inpput_ce)\n",
    "top_iids = np.argsort(-scores)[:top_k]"
   ]
  }
 ],
 "metadata": {
  "kernelspec": {
   "display_name": "Python 3 (ipykernel)",
   "language": "python",
   "name": "python3"
  },
  "language_info": {
   "codemirror_mode": {
    "name": "ipython",
    "version": 3
   },
   "file_extension": ".py",
   "mimetype": "text/x-python",
   "name": "python",
   "nbconvert_exporter": "python",
   "pygments_lexer": "ipython3",
   "version": "3.8.10"
  }
 },
 "nbformat": 4,
 "nbformat_minor": 5
}
